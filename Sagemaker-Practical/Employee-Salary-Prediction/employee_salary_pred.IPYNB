{
 "cells": [
  {
   "cell_type": "markdown",
   "metadata": {
    "colab_type": "text",
    "id": "M27qF7CTrBqc"
   },
   "source": [
    "# TASK #1: UNDERSTAND THE PROBLEM STATEMENT "
   ]
  },
  {
   "cell_type": "markdown",
   "metadata": {
    "colab_type": "text",
    "id": "xNl52nl3qiyL"
   },
   "source": [
    "- The objective of this case study is to predict the employee salary based on the number of years of experience. \n",
    "- In simple linear regression, we predict the value of one variable Y based on another variable X.\n",
    "- X is called the independent variable and Y is called the dependant variable.\n",
    "- Why simple? Because it examines relationship between two variables only.\n",
    "- Why linear? when the independent variable increases (or decreases), the dependent variable increases (or decreases) in a linear fashion.\n"
   ]
  },
  {
   "cell_type": "markdown",
   "metadata": {
    "colab_type": "text",
    "id": "zKmFmyaGunc7"
   },
   "source": [
    "# TASK #2: IMPORT LIBRARIES AND DATASETS"
   ]
  },
  {
   "cell_type": "code",
   "execution_count": 3,
   "metadata": {
    "tags": []
   },
   "outputs": [
    {
     "name": "stderr",
     "output_type": "stream",
     "text": [
      "2023-04-17 13:25:31.252497: I tensorflow/tsl/cuda/cudart_stub.cc:28] Could not find cuda drivers on your machine, GPU will not be used.\n",
      "2023-04-17 13:25:31.308904: I tensorflow/tsl/cuda/cudart_stub.cc:28] Could not find cuda drivers on your machine, GPU will not be used.\n",
      "2023-04-17 13:25:31.310446: I tensorflow/core/platform/cpu_feature_guard.cc:182] This TensorFlow binary is optimized to use available CPU instructions in performance-critical operations.\n",
      "To enable the following instructions: AVX2 AVX512F FMA, in other operations, rebuild TensorFlow with the appropriate compiler flags.\n",
      "2023-04-17 13:25:32.410623: W tensorflow/compiler/tf2tensorrt/utils/py_utils.cc:38] TF-TRT Warning: Could not find TensorRT\n"
     ]
    }
   ],
   "source": [
    "# !pip install seaborn library\n",
    "# !pip install seaborn\n",
    "# !pip install tensorflow\n",
    "# !pip install pandas\n",
    "# !pip install np\n",
    "# !pip install matplotlib\n",
    "\n",
    "import tensorflow as tf\n",
    "import pandas as pd\n",
    "import numpy as np\n",
    "import seaborn as sns\n",
    "import matplotlib.pyplot as plt\n"
   ]
  },
  {
   "cell_type": "code",
   "execution_count": 4,
   "metadata": {
    "colab": {},
    "colab_type": "code",
    "id": "tjIiJdM4u1IE",
    "tags": []
   },
   "outputs": [],
   "source": [
    "# read the csv file \n",
    "salary_df = pd.read_csv('salary.csv')"
   ]
  },
  {
   "cell_type": "code",
   "execution_count": 5,
   "metadata": {
    "colab": {
     "base_uri": "https://localhost:8080/",
     "height": 204
    },
    "colab_type": "code",
    "id": "q4_wPDKCu5Uc",
    "outputId": "886d2aaf-0205-4f46-96a7-629d0f367d2f",
    "tags": []
   },
   "outputs": [
    {
     "data": {
      "text/html": [
       "<div>\n",
       "<style scoped>\n",
       "    .dataframe tbody tr th:only-of-type {\n",
       "        vertical-align: middle;\n",
       "    }\n",
       "\n",
       "    .dataframe tbody tr th {\n",
       "        vertical-align: top;\n",
       "    }\n",
       "\n",
       "    .dataframe thead th {\n",
       "        text-align: right;\n",
       "    }\n",
       "</style>\n",
       "<table border=\"1\" class=\"dataframe\">\n",
       "  <thead>\n",
       "    <tr style=\"text-align: right;\">\n",
       "      <th></th>\n",
       "      <th>YearsExperience</th>\n",
       "      <th>Salary</th>\n",
       "    </tr>\n",
       "  </thead>\n",
       "  <tbody>\n",
       "    <tr>\n",
       "      <th>0</th>\n",
       "      <td>1.1</td>\n",
       "      <td>39343</td>\n",
       "    </tr>\n",
       "    <tr>\n",
       "      <th>1</th>\n",
       "      <td>1.3</td>\n",
       "      <td>46205</td>\n",
       "    </tr>\n",
       "    <tr>\n",
       "      <th>2</th>\n",
       "      <td>1.5</td>\n",
       "      <td>37731</td>\n",
       "    </tr>\n",
       "    <tr>\n",
       "      <th>3</th>\n",
       "      <td>2.0</td>\n",
       "      <td>43525</td>\n",
       "    </tr>\n",
       "    <tr>\n",
       "      <th>4</th>\n",
       "      <td>2.2</td>\n",
       "      <td>39891</td>\n",
       "    </tr>\n",
       "    <tr>\n",
       "      <th>5</th>\n",
       "      <td>2.9</td>\n",
       "      <td>56642</td>\n",
       "    </tr>\n",
       "    <tr>\n",
       "      <th>6</th>\n",
       "      <td>3.0</td>\n",
       "      <td>60150</td>\n",
       "    </tr>\n",
       "    <tr>\n",
       "      <th>7</th>\n",
       "      <td>3.2</td>\n",
       "      <td>54445</td>\n",
       "    </tr>\n",
       "    <tr>\n",
       "      <th>8</th>\n",
       "      <td>3.2</td>\n",
       "      <td>64445</td>\n",
       "    </tr>\n",
       "    <tr>\n",
       "      <th>9</th>\n",
       "      <td>3.7</td>\n",
       "      <td>57189</td>\n",
       "    </tr>\n",
       "    <tr>\n",
       "      <th>10</th>\n",
       "      <td>3.9</td>\n",
       "      <td>63218</td>\n",
       "    </tr>\n",
       "    <tr>\n",
       "      <th>11</th>\n",
       "      <td>4.0</td>\n",
       "      <td>55794</td>\n",
       "    </tr>\n",
       "    <tr>\n",
       "      <th>12</th>\n",
       "      <td>4.0</td>\n",
       "      <td>56957</td>\n",
       "    </tr>\n",
       "    <tr>\n",
       "      <th>13</th>\n",
       "      <td>4.1</td>\n",
       "      <td>57081</td>\n",
       "    </tr>\n",
       "    <tr>\n",
       "      <th>14</th>\n",
       "      <td>4.5</td>\n",
       "      <td>61111</td>\n",
       "    </tr>\n",
       "    <tr>\n",
       "      <th>15</th>\n",
       "      <td>4.9</td>\n",
       "      <td>67938</td>\n",
       "    </tr>\n",
       "    <tr>\n",
       "      <th>16</th>\n",
       "      <td>5.1</td>\n",
       "      <td>66029</td>\n",
       "    </tr>\n",
       "    <tr>\n",
       "      <th>17</th>\n",
       "      <td>5.3</td>\n",
       "      <td>83088</td>\n",
       "    </tr>\n",
       "    <tr>\n",
       "      <th>18</th>\n",
       "      <td>5.9</td>\n",
       "      <td>81363</td>\n",
       "    </tr>\n",
       "    <tr>\n",
       "      <th>19</th>\n",
       "      <td>6.0</td>\n",
       "      <td>93940</td>\n",
       "    </tr>\n",
       "    <tr>\n",
       "      <th>20</th>\n",
       "      <td>6.8</td>\n",
       "      <td>91738</td>\n",
       "    </tr>\n",
       "    <tr>\n",
       "      <th>21</th>\n",
       "      <td>7.1</td>\n",
       "      <td>98273</td>\n",
       "    </tr>\n",
       "    <tr>\n",
       "      <th>22</th>\n",
       "      <td>7.9</td>\n",
       "      <td>101302</td>\n",
       "    </tr>\n",
       "    <tr>\n",
       "      <th>23</th>\n",
       "      <td>8.2</td>\n",
       "      <td>113812</td>\n",
       "    </tr>\n",
       "    <tr>\n",
       "      <th>24</th>\n",
       "      <td>8.7</td>\n",
       "      <td>109431</td>\n",
       "    </tr>\n",
       "    <tr>\n",
       "      <th>25</th>\n",
       "      <td>9.0</td>\n",
       "      <td>105582</td>\n",
       "    </tr>\n",
       "    <tr>\n",
       "      <th>26</th>\n",
       "      <td>9.5</td>\n",
       "      <td>116969</td>\n",
       "    </tr>\n",
       "    <tr>\n",
       "      <th>27</th>\n",
       "      <td>9.6</td>\n",
       "      <td>112635</td>\n",
       "    </tr>\n",
       "    <tr>\n",
       "      <th>28</th>\n",
       "      <td>10.3</td>\n",
       "      <td>122391</td>\n",
       "    </tr>\n",
       "    <tr>\n",
       "      <th>29</th>\n",
       "      <td>10.5</td>\n",
       "      <td>121872</td>\n",
       "    </tr>\n",
       "    <tr>\n",
       "      <th>30</th>\n",
       "      <td>11.2</td>\n",
       "      <td>127345</td>\n",
       "    </tr>\n",
       "    <tr>\n",
       "      <th>31</th>\n",
       "      <td>11.5</td>\n",
       "      <td>126756</td>\n",
       "    </tr>\n",
       "    <tr>\n",
       "      <th>32</th>\n",
       "      <td>12.3</td>\n",
       "      <td>128765</td>\n",
       "    </tr>\n",
       "    <tr>\n",
       "      <th>33</th>\n",
       "      <td>12.9</td>\n",
       "      <td>135675</td>\n",
       "    </tr>\n",
       "    <tr>\n",
       "      <th>34</th>\n",
       "      <td>13.5</td>\n",
       "      <td>139465</td>\n",
       "    </tr>\n",
       "  </tbody>\n",
       "</table>\n",
       "</div>"
      ],
      "text/plain": [
       "    YearsExperience  Salary\n",
       "0               1.1   39343\n",
       "1               1.3   46205\n",
       "2               1.5   37731\n",
       "3               2.0   43525\n",
       "4               2.2   39891\n",
       "5               2.9   56642\n",
       "6               3.0   60150\n",
       "7               3.2   54445\n",
       "8               3.2   64445\n",
       "9               3.7   57189\n",
       "10              3.9   63218\n",
       "11              4.0   55794\n",
       "12              4.0   56957\n",
       "13              4.1   57081\n",
       "14              4.5   61111\n",
       "15              4.9   67938\n",
       "16              5.1   66029\n",
       "17              5.3   83088\n",
       "18              5.9   81363\n",
       "19              6.0   93940\n",
       "20              6.8   91738\n",
       "21              7.1   98273\n",
       "22              7.9  101302\n",
       "23              8.2  113812\n",
       "24              8.7  109431\n",
       "25              9.0  105582\n",
       "26              9.5  116969\n",
       "27              9.6  112635\n",
       "28             10.3  122391\n",
       "29             10.5  121872\n",
       "30             11.2  127345\n",
       "31             11.5  126756\n",
       "32             12.3  128765\n",
       "33             12.9  135675\n",
       "34             13.5  139465"
      ]
     },
     "execution_count": 5,
     "metadata": {},
     "output_type": "execute_result"
    }
   ],
   "source": [
    "salary_df"
   ]
  },
  {
   "cell_type": "markdown",
   "metadata": {},
   "source": [
    "MINI CHALLENGE\n",
    " - Use head and tail methods to print the first and last 7 rows of the dataframe\n",
    " - Try to find the maximum salary value in the dataframe "
   ]
  },
  {
   "cell_type": "code",
   "execution_count": 6,
   "metadata": {
    "tags": []
   },
   "outputs": [
    {
     "data": {
      "text/html": [
       "<div>\n",
       "<style scoped>\n",
       "    .dataframe tbody tr th:only-of-type {\n",
       "        vertical-align: middle;\n",
       "    }\n",
       "\n",
       "    .dataframe tbody tr th {\n",
       "        vertical-align: top;\n",
       "    }\n",
       "\n",
       "    .dataframe thead th {\n",
       "        text-align: right;\n",
       "    }\n",
       "</style>\n",
       "<table border=\"1\" class=\"dataframe\">\n",
       "  <thead>\n",
       "    <tr style=\"text-align: right;\">\n",
       "      <th></th>\n",
       "      <th>YearsExperience</th>\n",
       "      <th>Salary</th>\n",
       "    </tr>\n",
       "  </thead>\n",
       "  <tbody>\n",
       "    <tr>\n",
       "      <th>0</th>\n",
       "      <td>1.1</td>\n",
       "      <td>39343</td>\n",
       "    </tr>\n",
       "    <tr>\n",
       "      <th>1</th>\n",
       "      <td>1.3</td>\n",
       "      <td>46205</td>\n",
       "    </tr>\n",
       "    <tr>\n",
       "      <th>2</th>\n",
       "      <td>1.5</td>\n",
       "      <td>37731</td>\n",
       "    </tr>\n",
       "    <tr>\n",
       "      <th>3</th>\n",
       "      <td>2.0</td>\n",
       "      <td>43525</td>\n",
       "    </tr>\n",
       "    <tr>\n",
       "      <th>4</th>\n",
       "      <td>2.2</td>\n",
       "      <td>39891</td>\n",
       "    </tr>\n",
       "    <tr>\n",
       "      <th>5</th>\n",
       "      <td>2.9</td>\n",
       "      <td>56642</td>\n",
       "    </tr>\n",
       "    <tr>\n",
       "      <th>6</th>\n",
       "      <td>3.0</td>\n",
       "      <td>60150</td>\n",
       "    </tr>\n",
       "  </tbody>\n",
       "</table>\n",
       "</div>"
      ],
      "text/plain": [
       "   YearsExperience  Salary\n",
       "0              1.1   39343\n",
       "1              1.3   46205\n",
       "2              1.5   37731\n",
       "3              2.0   43525\n",
       "4              2.2   39891\n",
       "5              2.9   56642\n",
       "6              3.0   60150"
      ]
     },
     "execution_count": 6,
     "metadata": {},
     "output_type": "execute_result"
    }
   ],
   "source": [
    "# Print first 7 rows of data in dataframe\n",
    "salary_df.head(7)"
   ]
  },
  {
   "cell_type": "code",
   "execution_count": 7,
   "metadata": {
    "tags": []
   },
   "outputs": [
    {
     "data": {
      "text/html": [
       "<div>\n",
       "<style scoped>\n",
       "    .dataframe tbody tr th:only-of-type {\n",
       "        vertical-align: middle;\n",
       "    }\n",
       "\n",
       "    .dataframe tbody tr th {\n",
       "        vertical-align: top;\n",
       "    }\n",
       "\n",
       "    .dataframe thead th {\n",
       "        text-align: right;\n",
       "    }\n",
       "</style>\n",
       "<table border=\"1\" class=\"dataframe\">\n",
       "  <thead>\n",
       "    <tr style=\"text-align: right;\">\n",
       "      <th></th>\n",
       "      <th>YearsExperience</th>\n",
       "      <th>Salary</th>\n",
       "    </tr>\n",
       "  </thead>\n",
       "  <tbody>\n",
       "    <tr>\n",
       "      <th>28</th>\n",
       "      <td>10.3</td>\n",
       "      <td>122391</td>\n",
       "    </tr>\n",
       "    <tr>\n",
       "      <th>29</th>\n",
       "      <td>10.5</td>\n",
       "      <td>121872</td>\n",
       "    </tr>\n",
       "    <tr>\n",
       "      <th>30</th>\n",
       "      <td>11.2</td>\n",
       "      <td>127345</td>\n",
       "    </tr>\n",
       "    <tr>\n",
       "      <th>31</th>\n",
       "      <td>11.5</td>\n",
       "      <td>126756</td>\n",
       "    </tr>\n",
       "    <tr>\n",
       "      <th>32</th>\n",
       "      <td>12.3</td>\n",
       "      <td>128765</td>\n",
       "    </tr>\n",
       "    <tr>\n",
       "      <th>33</th>\n",
       "      <td>12.9</td>\n",
       "      <td>135675</td>\n",
       "    </tr>\n",
       "    <tr>\n",
       "      <th>34</th>\n",
       "      <td>13.5</td>\n",
       "      <td>139465</td>\n",
       "    </tr>\n",
       "  </tbody>\n",
       "</table>\n",
       "</div>"
      ],
      "text/plain": [
       "    YearsExperience  Salary\n",
       "28             10.3  122391\n",
       "29             10.5  121872\n",
       "30             11.2  127345\n",
       "31             11.5  126756\n",
       "32             12.3  128765\n",
       "33             12.9  135675\n",
       "34             13.5  139465"
      ]
     },
     "execution_count": 7,
     "metadata": {},
     "output_type": "execute_result"
    }
   ],
   "source": [
    "# Print last 7 rows of data in dataframe\n",
    "salary_df.tail(7)"
   ]
  },
  {
   "cell_type": "code",
   "execution_count": 8,
   "metadata": {
    "tags": []
   },
   "outputs": [
    {
     "data": {
      "text/plain": [
       "139465"
      ]
     },
     "execution_count": 8,
     "metadata": {},
     "output_type": "execute_result"
    }
   ],
   "source": [
    "# Find max salary value in df \n",
    "salary_df['Salary'].max()"
   ]
  },
  {
   "cell_type": "markdown",
   "metadata": {
    "colab_type": "text",
    "id": "tMcr7xqMQre2"
   },
   "source": [
    "# TASK #3: PERFORM EXPLORATORY DATA ANALYSIS AND VISUALIZATION"
   ]
  },
  {
   "cell_type": "code",
   "execution_count": 9,
   "metadata": {
    "tags": []
   },
   "outputs": [
    {
     "data": {
      "text/plain": [
       "<Axes: >"
      ]
     },
     "execution_count": 9,
     "metadata": {},
     "output_type": "execute_result"
    },
    {
     "data": {
      "image/png": "[encoded data removed]",
      "text/plain": [
       "<Figure size 640x480 with 1 Axes>"
      ]
     },
     "metadata": {},
     "output_type": "display_data"
    }
   ],
   "source": [
    "# check if there are any Null values\n",
    "sns.heatmap(salary_df.isnull(), yticklabels = False, cbar = False, cmap=\"Blues\")\n"
   ]
  },
  {
   "cell_type": "markdown",
   "metadata": {},
   "source": [
    "There are no null values in our dataset"
   ]
  },
  {
   "cell_type": "code",
   "execution_count": 10,
   "metadata": {
    "colab": {
     "base_uri": "https://localhost:8080/",
     "height": 272
    },
    "colab_type": "code",
    "id": "hMq3-KWOx0e1",
    "outputId": "22a5b184-1f07-46ef-dfc1-f8377fd7042f",
    "scrolled": true,
    "tags": []
   },
   "outputs": [
    {
     "name": "stdout",
     "output_type": "stream",
     "text": [
      "<class 'pandas.core.frame.DataFrame'>\n",
      "RangeIndex: 35 entries, 0 to 34\n",
      "Data columns (total 2 columns):\n",
      " #   Column           Non-Null Count  Dtype  \n",
      "---  ------           --------------  -----  \n",
      " 0   YearsExperience  35 non-null     float64\n",
      " 1   Salary           35 non-null     int64  \n",
      "dtypes: float64(1), int64(1)\n",
      "memory usage: 688.0 bytes\n"
     ]
    }
   ],
   "source": [
    "# Check the dataframe info\n",
    "\n",
    "salary_df.info()"
   ]
  },
  {
   "cell_type": "code",
   "execution_count": 11,
   "metadata": {
    "colab": {
     "base_uri": "https://localhost:8080/",
     "height": 297
    },
    "colab_type": "code",
    "id": "Nn1Oxk2SzPX3",
    "outputId": "95f0265a-5e75-4a32-d771-4b3d15850c3c",
    "tags": []
   },
   "outputs": [
    {
     "data": {
      "text/html": [
       "<div>\n",
       "<style scoped>\n",
       "    .dataframe tbody tr th:only-of-type {\n",
       "        vertical-align: middle;\n",
       "    }\n",
       "\n",
       "    .dataframe tbody tr th {\n",
       "        vertical-align: top;\n",
       "    }\n",
       "\n",
       "    .dataframe thead th {\n",
       "        text-align: right;\n",
       "    }\n",
       "</style>\n",
       "<table border=\"1\" class=\"dataframe\">\n",
       "  <thead>\n",
       "    <tr style=\"text-align: right;\">\n",
       "      <th></th>\n",
       "      <th>YearsExperience</th>\n",
       "      <th>Salary</th>\n",
       "    </tr>\n",
       "  </thead>\n",
       "  <tbody>\n",
       "    <tr>\n",
       "      <th>count</th>\n",
       "      <td>35.000000</td>\n",
       "      <td>35.000000</td>\n",
       "    </tr>\n",
       "    <tr>\n",
       "      <th>mean</th>\n",
       "      <td>6.308571</td>\n",
       "      <td>83945.600000</td>\n",
       "    </tr>\n",
       "    <tr>\n",
       "      <th>std</th>\n",
       "      <td>3.618610</td>\n",
       "      <td>32162.673003</td>\n",
       "    </tr>\n",
       "    <tr>\n",
       "      <th>min</th>\n",
       "      <td>1.100000</td>\n",
       "      <td>37731.000000</td>\n",
       "    </tr>\n",
       "    <tr>\n",
       "      <th>25%</th>\n",
       "      <td>3.450000</td>\n",
       "      <td>57019.000000</td>\n",
       "    </tr>\n",
       "    <tr>\n",
       "      <th>50%</th>\n",
       "      <td>5.300000</td>\n",
       "      <td>81363.000000</td>\n",
       "    </tr>\n",
       "    <tr>\n",
       "      <th>75%</th>\n",
       "      <td>9.250000</td>\n",
       "      <td>113223.500000</td>\n",
       "    </tr>\n",
       "    <tr>\n",
       "      <th>max</th>\n",
       "      <td>13.500000</td>\n",
       "      <td>139465.000000</td>\n",
       "    </tr>\n",
       "  </tbody>\n",
       "</table>\n",
       "</div>"
      ],
      "text/plain": [
       "       YearsExperience         Salary\n",
       "count        35.000000      35.000000\n",
       "mean          6.308571   83945.600000\n",
       "std           3.618610   32162.673003\n",
       "min           1.100000   37731.000000\n",
       "25%           3.450000   57019.000000\n",
       "50%           5.300000   81363.000000\n",
       "75%           9.250000  113223.500000\n",
       "max          13.500000  139465.000000"
      ]
     },
     "execution_count": 11,
     "metadata": {},
     "output_type": "execute_result"
    }
   ],
   "source": [
    "# Statistical summary of the dataframe\n",
    "\n",
    "salary_df.describe()"
   ]
  },
  {
   "cell_type": "markdown",
   "metadata": {},
   "source": [
    "MINI CHALLENGE\n",
    " - What are the number of years of experience corresponding to employees with minimum and maximim salaries?"
   ]
  },
  {
   "cell_type": "code",
   "execution_count": 12,
   "metadata": {
    "tags": []
   },
   "outputs": [
    {
     "name": "stdout",
     "output_type": "stream",
     "text": [
      "    YearsExperience  Salary\n",
      "34             13.5  139465\n",
      "   YearsExperience  Salary\n",
      "2              1.5   37731\n"
     ]
    }
   ],
   "source": [
    "# Find # years corresponding to employees with minimum salary\n",
    "max = salary_df[ salary_df['Salary'] == salary_df['Salary'].max()]\n",
    "min = salary_df[ salary_df['Salary'] == salary_df['Salary'].min()]\n",
    "\n",
    "print(max)\n",
    "print(min)"
   ]
  },
  {
   "cell_type": "code",
   "execution_count": 13,
   "metadata": {
    "tags": []
   },
   "outputs": [
    {
     "data": {
      "text/plain": [
       "array([[<Axes: title={'center': 'YearsExperience'}>,\n",
       "        <Axes: title={'center': 'Salary'}>]], dtype=object)"
      ]
     },
     "execution_count": 13,
     "metadata": {},
     "output_type": "execute_result"
    },
    {
     "data": {
      "image/png": "[encoded data removed]",
      "text/plain": [
       "<Figure size 2000x1000 with 2 Axes>"
      ]
     },
     "metadata": {},
     "output_type": "display_data"
    }
   ],
   "source": [
    "salary_df.hist(bins = 30, figsize = (20,10), color = 'r')\n"
   ]
  },
  {
   "cell_type": "code",
   "execution_count": 14,
   "metadata": {
    "colab": {
     "base_uri": "https://localhost:8080/",
     "height": 1000
    },
    "colab_type": "code",
    "id": "Ka9uFRXSkWHw",
    "outputId": "f42a681e-93d4-4b1f-a29c-f58fc8a6f974",
    "tags": []
   },
   "outputs": [
    {
     "data": {
      "text/plain": [
       "<seaborn.axisgrid.PairGrid at 0x7fcad9fb4850>"
      ]
     },
     "execution_count": 14,
     "metadata": {},
     "output_type": "execute_result"
    },
    {
     "data": {
      "image/png": "[encoded data removed]",
      "text/plain": [
       "<Figure size 500x500 with 6 Axes>"
      ]
     },
     "metadata": {},
     "output_type": "display_data"
    }
   ],
   "source": [
    "# plot pairplot\n",
    "\n",
    "sns.pairplot(salary_df)"
   ]
  },
  {
   "cell_type": "code",
   "execution_count": 15,
   "metadata": {
    "colab": {
     "base_uri": "https://localhost:8080/",
     "height": 297
    },
    "colab_type": "code",
    "id": "9q-tFxvskWDa",
    "outputId": "8834e9ec-7676-4e86-c5e7-20f4e9eccbcb",
    "tags": []
   },
   "outputs": [
    {
     "data": {
      "image/png": "[encoded data removed]",
      "text/plain": [
       "<Figure size 640x480 with 2 Axes>"
      ]
     },
     "metadata": {},
     "output_type": "display_data"
    }
   ],
   "source": [
    "corr_matrix = salary_df.corr()\n",
    "sns.heatmap(corr_matrix, annot = True)\n",
    "plt.show()"
   ]
  },
  {
   "cell_type": "markdown",
   "metadata": {},
   "source": [
    "MINI CHALLENGE\n",
    "- Use regplot in Seaborn to obtain a straight line fit between \"salary\" and \"years of experience\""
   ]
  },
  {
   "cell_type": "code",
   "execution_count": 16,
   "metadata": {
    "tags": []
   },
   "outputs": [
    {
     "data": {
      "text/plain": [
       "<Axes: xlabel='YearsExperience', ylabel='Salary'>"
      ]
     },
     "execution_count": 16,
     "metadata": {},
     "output_type": "execute_result"
    },
    {
     "data": {
      "image/png": "[encoded data removed]",
      "text/plain": [
       "<Figure size 640x480 with 1 Axes>"
      ]
     },
     "metadata": {},
     "output_type": "display_data"
    }
   ],
   "source": [
    "sns.regplot(salary_df, y=\"Salary\", x=\"YearsExperience\")"
   ]
  },
  {
   "cell_type": "markdown",
   "metadata": {
    "colab_type": "text",
    "id": "53qDZFRn3-S1"
   },
   "source": [
    "# TASK #4: CREATE TRAINING AND TESTING DATASET"
   ]
  },
  {
   "cell_type": "markdown",
   "metadata": {},
   "source": [
    "Separate the independent variable (YearsExperience) from the dependent variable (Salary)"
   ]
  },
  {
   "cell_type": "code",
   "execution_count": 17,
   "metadata": {
    "colab": {},
    "colab_type": "code",
    "id": "4OXZB2F21e4H",
    "tags": []
   },
   "outputs": [],
   "source": [
    "X = salary_df[['YearsExperience']]\n",
    "y = salary_df[['Salary']]\n"
   ]
  },
  {
   "cell_type": "code",
   "execution_count": 18,
   "metadata": {
    "scrolled": true,
    "tags": []
   },
   "outputs": [
    {
     "data": {
      "text/html": [
       "<div>\n",
       "<style scoped>\n",
       "    .dataframe tbody tr th:only-of-type {\n",
       "        vertical-align: middle;\n",
       "    }\n",
       "\n",
       "    .dataframe tbody tr th {\n",
       "        vertical-align: top;\n",
       "    }\n",
       "\n",
       "    .dataframe thead th {\n",
       "        text-align: right;\n",
       "    }\n",
       "</style>\n",
       "<table border=\"1\" class=\"dataframe\">\n",
       "  <thead>\n",
       "    <tr style=\"text-align: right;\">\n",
       "      <th></th>\n",
       "      <th>YearsExperience</th>\n",
       "    </tr>\n",
       "  </thead>\n",
       "  <tbody>\n",
       "    <tr>\n",
       "      <th>0</th>\n",
       "      <td>1.1</td>\n",
       "    </tr>\n",
       "    <tr>\n",
       "      <th>1</th>\n",
       "      <td>1.3</td>\n",
       "    </tr>\n",
       "    <tr>\n",
       "      <th>2</th>\n",
       "      <td>1.5</td>\n",
       "    </tr>\n",
       "    <tr>\n",
       "      <th>3</th>\n",
       "      <td>2.0</td>\n",
       "    </tr>\n",
       "    <tr>\n",
       "      <th>4</th>\n",
       "      <td>2.2</td>\n",
       "    </tr>\n",
       "    <tr>\n",
       "      <th>5</th>\n",
       "      <td>2.9</td>\n",
       "    </tr>\n",
       "    <tr>\n",
       "      <th>6</th>\n",
       "      <td>3.0</td>\n",
       "    </tr>\n",
       "    <tr>\n",
       "      <th>7</th>\n",
       "      <td>3.2</td>\n",
       "    </tr>\n",
       "    <tr>\n",
       "      <th>8</th>\n",
       "      <td>3.2</td>\n",
       "    </tr>\n",
       "    <tr>\n",
       "      <th>9</th>\n",
       "      <td>3.7</td>\n",
       "    </tr>\n",
       "    <tr>\n",
       "      <th>10</th>\n",
       "      <td>3.9</td>\n",
       "    </tr>\n",
       "    <tr>\n",
       "      <th>11</th>\n",
       "      <td>4.0</td>\n",
       "    </tr>\n",
       "    <tr>\n",
       "      <th>12</th>\n",
       "      <td>4.0</td>\n",
       "    </tr>\n",
       "    <tr>\n",
       "      <th>13</th>\n",
       "      <td>4.1</td>\n",
       "    </tr>\n",
       "    <tr>\n",
       "      <th>14</th>\n",
       "      <td>4.5</td>\n",
       "    </tr>\n",
       "    <tr>\n",
       "      <th>15</th>\n",
       "      <td>4.9</td>\n",
       "    </tr>\n",
       "    <tr>\n",
       "      <th>16</th>\n",
       "      <td>5.1</td>\n",
       "    </tr>\n",
       "    <tr>\n",
       "      <th>17</th>\n",
       "      <td>5.3</td>\n",
       "    </tr>\n",
       "    <tr>\n",
       "      <th>18</th>\n",
       "      <td>5.9</td>\n",
       "    </tr>\n",
       "    <tr>\n",
       "      <th>19</th>\n",
       "      <td>6.0</td>\n",
       "    </tr>\n",
       "    <tr>\n",
       "      <th>20</th>\n",
       "      <td>6.8</td>\n",
       "    </tr>\n",
       "    <tr>\n",
       "      <th>21</th>\n",
       "      <td>7.1</td>\n",
       "    </tr>\n",
       "    <tr>\n",
       "      <th>22</th>\n",
       "      <td>7.9</td>\n",
       "    </tr>\n",
       "    <tr>\n",
       "      <th>23</th>\n",
       "      <td>8.2</td>\n",
       "    </tr>\n",
       "    <tr>\n",
       "      <th>24</th>\n",
       "      <td>8.7</td>\n",
       "    </tr>\n",
       "    <tr>\n",
       "      <th>25</th>\n",
       "      <td>9.0</td>\n",
       "    </tr>\n",
       "    <tr>\n",
       "      <th>26</th>\n",
       "      <td>9.5</td>\n",
       "    </tr>\n",
       "    <tr>\n",
       "      <th>27</th>\n",
       "      <td>9.6</td>\n",
       "    </tr>\n",
       "    <tr>\n",
       "      <th>28</th>\n",
       "      <td>10.3</td>\n",
       "    </tr>\n",
       "    <tr>\n",
       "      <th>29</th>\n",
       "      <td>10.5</td>\n",
       "    </tr>\n",
       "    <tr>\n",
       "      <th>30</th>\n",
       "      <td>11.2</td>\n",
       "    </tr>\n",
       "    <tr>\n",
       "      <th>31</th>\n",
       "      <td>11.5</td>\n",
       "    </tr>\n",
       "    <tr>\n",
       "      <th>32</th>\n",
       "      <td>12.3</td>\n",
       "    </tr>\n",
       "    <tr>\n",
       "      <th>33</th>\n",
       "      <td>12.9</td>\n",
       "    </tr>\n",
       "    <tr>\n",
       "      <th>34</th>\n",
       "      <td>13.5</td>\n",
       "    </tr>\n",
       "  </tbody>\n",
       "</table>\n",
       "</div>"
      ],
      "text/plain": [
       "    YearsExperience\n",
       "0               1.1\n",
       "1               1.3\n",
       "2               1.5\n",
       "3               2.0\n",
       "4               2.2\n",
       "5               2.9\n",
       "6               3.0\n",
       "7               3.2\n",
       "8               3.2\n",
       "9               3.7\n",
       "10              3.9\n",
       "11              4.0\n",
       "12              4.0\n",
       "13              4.1\n",
       "14              4.5\n",
       "15              4.9\n",
       "16              5.1\n",
       "17              5.3\n",
       "18              5.9\n",
       "19              6.0\n",
       "20              6.8\n",
       "21              7.1\n",
       "22              7.9\n",
       "23              8.2\n",
       "24              8.7\n",
       "25              9.0\n",
       "26              9.5\n",
       "27              9.6\n",
       "28             10.3\n",
       "29             10.5\n",
       "30             11.2\n",
       "31             11.5\n",
       "32             12.3\n",
       "33             12.9\n",
       "34             13.5"
      ]
     },
     "execution_count": 18,
     "metadata": {},
     "output_type": "execute_result"
    }
   ],
   "source": [
    "X"
   ]
  },
  {
   "cell_type": "code",
   "execution_count": 19,
   "metadata": {
    "tags": []
   },
   "outputs": [
    {
     "data": {
      "text/html": [
       "<div>\n",
       "<style scoped>\n",
       "    .dataframe tbody tr th:only-of-type {\n",
       "        vertical-align: middle;\n",
       "    }\n",
       "\n",
       "    .dataframe tbody tr th {\n",
       "        vertical-align: top;\n",
       "    }\n",
       "\n",
       "    .dataframe thead th {\n",
       "        text-align: right;\n",
       "    }\n",
       "</style>\n",
       "<table border=\"1\" class=\"dataframe\">\n",
       "  <thead>\n",
       "    <tr style=\"text-align: right;\">\n",
       "      <th></th>\n",
       "      <th>Salary</th>\n",
       "    </tr>\n",
       "  </thead>\n",
       "  <tbody>\n",
       "    <tr>\n",
       "      <th>0</th>\n",
       "      <td>39343</td>\n",
       "    </tr>\n",
       "    <tr>\n",
       "      <th>1</th>\n",
       "      <td>46205</td>\n",
       "    </tr>\n",
       "    <tr>\n",
       "      <th>2</th>\n",
       "      <td>37731</td>\n",
       "    </tr>\n",
       "    <tr>\n",
       "      <th>3</th>\n",
       "      <td>43525</td>\n",
       "    </tr>\n",
       "    <tr>\n",
       "      <th>4</th>\n",
       "      <td>39891</td>\n",
       "    </tr>\n",
       "    <tr>\n",
       "      <th>5</th>\n",
       "      <td>56642</td>\n",
       "    </tr>\n",
       "    <tr>\n",
       "      <th>6</th>\n",
       "      <td>60150</td>\n",
       "    </tr>\n",
       "    <tr>\n",
       "      <th>7</th>\n",
       "      <td>54445</td>\n",
       "    </tr>\n",
       "    <tr>\n",
       "      <th>8</th>\n",
       "      <td>64445</td>\n",
       "    </tr>\n",
       "    <tr>\n",
       "      <th>9</th>\n",
       "      <td>57189</td>\n",
       "    </tr>\n",
       "    <tr>\n",
       "      <th>10</th>\n",
       "      <td>63218</td>\n",
       "    </tr>\n",
       "    <tr>\n",
       "      <th>11</th>\n",
       "      <td>55794</td>\n",
       "    </tr>\n",
       "    <tr>\n",
       "      <th>12</th>\n",
       "      <td>56957</td>\n",
       "    </tr>\n",
       "    <tr>\n",
       "      <th>13</th>\n",
       "      <td>57081</td>\n",
       "    </tr>\n",
       "    <tr>\n",
       "      <th>14</th>\n",
       "      <td>61111</td>\n",
       "    </tr>\n",
       "    <tr>\n",
       "      <th>15</th>\n",
       "      <td>67938</td>\n",
       "    </tr>\n",
       "    <tr>\n",
       "      <th>16</th>\n",
       "      <td>66029</td>\n",
       "    </tr>\n",
       "    <tr>\n",
       "      <th>17</th>\n",
       "      <td>83088</td>\n",
       "    </tr>\n",
       "    <tr>\n",
       "      <th>18</th>\n",
       "      <td>81363</td>\n",
       "    </tr>\n",
       "    <tr>\n",
       "      <th>19</th>\n",
       "      <td>93940</td>\n",
       "    </tr>\n",
       "    <tr>\n",
       "      <th>20</th>\n",
       "      <td>91738</td>\n",
       "    </tr>\n",
       "    <tr>\n",
       "      <th>21</th>\n",
       "      <td>98273</td>\n",
       "    </tr>\n",
       "    <tr>\n",
       "      <th>22</th>\n",
       "      <td>101302</td>\n",
       "    </tr>\n",
       "    <tr>\n",
       "      <th>23</th>\n",
       "      <td>113812</td>\n",
       "    </tr>\n",
       "    <tr>\n",
       "      <th>24</th>\n",
       "      <td>109431</td>\n",
       "    </tr>\n",
       "    <tr>\n",
       "      <th>25</th>\n",
       "      <td>105582</td>\n",
       "    </tr>\n",
       "    <tr>\n",
       "      <th>26</th>\n",
       "      <td>116969</td>\n",
       "    </tr>\n",
       "    <tr>\n",
       "      <th>27</th>\n",
       "      <td>112635</td>\n",
       "    </tr>\n",
       "    <tr>\n",
       "      <th>28</th>\n",
       "      <td>122391</td>\n",
       "    </tr>\n",
       "    <tr>\n",
       "      <th>29</th>\n",
       "      <td>121872</td>\n",
       "    </tr>\n",
       "    <tr>\n",
       "      <th>30</th>\n",
       "      <td>127345</td>\n",
       "    </tr>\n",
       "    <tr>\n",
       "      <th>31</th>\n",
       "      <td>126756</td>\n",
       "    </tr>\n",
       "    <tr>\n",
       "      <th>32</th>\n",
       "      <td>128765</td>\n",
       "    </tr>\n",
       "    <tr>\n",
       "      <th>33</th>\n",
       "      <td>135675</td>\n",
       "    </tr>\n",
       "    <tr>\n",
       "      <th>34</th>\n",
       "      <td>139465</td>\n",
       "    </tr>\n",
       "  </tbody>\n",
       "</table>\n",
       "</div>"
      ],
      "text/plain": [
       "    Salary\n",
       "0    39343\n",
       "1    46205\n",
       "2    37731\n",
       "3    43525\n",
       "4    39891\n",
       "5    56642\n",
       "6    60150\n",
       "7    54445\n",
       "8    64445\n",
       "9    57189\n",
       "10   63218\n",
       "11   55794\n",
       "12   56957\n",
       "13   57081\n",
       "14   61111\n",
       "15   67938\n",
       "16   66029\n",
       "17   83088\n",
       "18   81363\n",
       "19   93940\n",
       "20   91738\n",
       "21   98273\n",
       "22  101302\n",
       "23  113812\n",
       "24  109431\n",
       "25  105582\n",
       "26  116969\n",
       "27  112635\n",
       "28  122391\n",
       "29  121872\n",
       "30  127345\n",
       "31  126756\n",
       "32  128765\n",
       "33  135675\n",
       "34  139465"
      ]
     },
     "execution_count": 19,
     "metadata": {},
     "output_type": "execute_result"
    }
   ],
   "source": [
    "y"
   ]
  },
  {
   "cell_type": "code",
   "execution_count": 20,
   "metadata": {
    "colab": {
     "base_uri": "https://localhost:8080/",
     "height": 34
    },
    "colab_type": "code",
    "id": "XpGU63Ne1e9P",
    "outputId": "e16c74ca-dc1c-416c-dc44-7f927bb99bc6",
    "tags": []
   },
   "outputs": [
    {
     "data": {
      "text/plain": [
       "(35, 1)"
      ]
     },
     "execution_count": 20,
     "metadata": {},
     "output_type": "execute_result"
    }
   ],
   "source": [
    "X.shape"
   ]
  },
  {
   "cell_type": "code",
   "execution_count": 21,
   "metadata": {
    "colab": {
     "base_uri": "https://localhost:8080/",
     "height": 34
    },
    "colab_type": "code",
    "id": "OjGj0RALA0qZ",
    "outputId": "26559a6c-880b-45b4-a1e8-3c4b92bea889",
    "tags": []
   },
   "outputs": [
    {
     "data": {
      "text/plain": [
       "(35, 1)"
      ]
     },
     "execution_count": 21,
     "metadata": {},
     "output_type": "execute_result"
    }
   ],
   "source": [
    "y.shape"
   ]
  },
  {
   "cell_type": "code",
   "execution_count": 22,
   "metadata": {
    "colab": {},
    "colab_type": "code",
    "id": "jIeiK1maA6mm"
   },
   "outputs": [],
   "source": [
    "X = np.array(X).astype('float32')\n",
    "y = np.array(y).astype('float32')"
   ]
  },
  {
   "cell_type": "code",
   "execution_count": 23,
   "metadata": {},
   "outputs": [
    {
     "data": {
      "text/plain": [
       "array([[ 1.1],\n",
       "       [ 1.3],\n",
       "       [ 1.5],\n",
       "       [ 2. ],\n",
       "       [ 2.2],\n",
       "       [ 2.9],\n",
       "       [ 3. ],\n",
       "       [ 3.2],\n",
       "       [ 3.2],\n",
       "       [ 3.7],\n",
       "       [ 3.9],\n",
       "       [ 4. ],\n",
       "       [ 4. ],\n",
       "       [ 4.1],\n",
       "       [ 4.5],\n",
       "       [ 4.9],\n",
       "       [ 5.1],\n",
       "       [ 5.3],\n",
       "       [ 5.9],\n",
       "       [ 6. ],\n",
       "       [ 6.8],\n",
       "       [ 7.1],\n",
       "       [ 7.9],\n",
       "       [ 8.2],\n",
       "       [ 8.7],\n",
       "       [ 9. ],\n",
       "       [ 9.5],\n",
       "       [ 9.6],\n",
       "       [10.3],\n",
       "       [10.5],\n",
       "       [11.2],\n",
       "       [11.5],\n",
       "       [12.3],\n",
       "       [12.9],\n",
       "       [13.5]], dtype=float32)"
      ]
     },
     "execution_count": 23,
     "metadata": {},
     "output_type": "execute_result"
    }
   ],
   "source": [
    "# Only take the numerical variables and scale them\n",
    "X "
   ]
  },
  {
   "cell_type": "code",
   "execution_count": 24,
   "metadata": {
    "tags": []
   },
   "outputs": [
    {
     "name": "stdout",
     "output_type": "stream",
     "text": [
      "Requirement already satisfied: scikit-learn in /usr/local/lib/python3.10/site-packages (1.2.2)\n",
      "Requirement already satisfied: joblib>=1.1.1 in /usr/local/lib/python3.10/site-packages (from scikit-learn) (1.2.0)\n",
      "Requirement already satisfied: scipy>=1.3.2 in /usr/local/lib/python3.10/site-packages (from scikit-learn) (1.10.1)\n",
      "Requirement already satisfied: numpy>=1.17.3 in /usr/local/lib/python3.10/site-packages (from scikit-learn) (1.23.5)\n",
      "Requirement already satisfied: threadpoolctl>=2.0.0 in /usr/local/lib/python3.10/site-packages (from scikit-learn) (3.1.0)\n",
      "\u001b[33mWARNING: Running pip as the 'root' user can result in broken permissions and conflicting behaviour with the system package manager. It is recommended to use a virtual environment instead: https://pip.pypa.io/warnings/venv\u001b[0m\u001b[33m\n",
      "\u001b[0m"
     ]
    }
   ],
   "source": [
    "!pip install scikit-learn"
   ]
  },
  {
   "cell_type": "code",
   "execution_count": 25,
   "metadata": {
    "colab": {},
    "colab_type": "code",
    "id": "GoReLFfnA6uF",
    "tags": []
   },
   "outputs": [],
   "source": [
    "# split the data into test and train sets\n",
    "from sklearn.model_selection import train_test_split\n",
    "\n",
    "X_train, X_test, y_train, y_test = train_test_split(X, y, test_size = 0.2)\n"
   ]
  },
  {
   "cell_type": "code",
   "execution_count": 26,
   "metadata": {
    "tags": []
   },
   "outputs": [
    {
     "data": {
      "text/plain": [
       "(28, 1)"
      ]
     },
     "execution_count": 26,
     "metadata": {},
     "output_type": "execute_result"
    }
   ],
   "source": [
    "X_train.shape"
   ]
  },
  {
   "cell_type": "code",
   "execution_count": 27,
   "metadata": {
    "tags": []
   },
   "outputs": [
    {
     "data": {
      "text/plain": [
       "(7, 1)"
      ]
     },
     "execution_count": 27,
     "metadata": {},
     "output_type": "execute_result"
    }
   ],
   "source": [
    "X_test.shape"
   ]
  },
  {
   "cell_type": "markdown",
   "metadata": {},
   "source": [
    "MINI CHALLENGE\n",
    " - Try splitting the data into 75% for training and the rest for testing\n",
    " - Verify that the split was successful by obtaining the shape of both X_train and X_test\n",
    " - Did you notice any change in the order of the data? why?"
   ]
  },
  {
   "cell_type": "code",
   "execution_count": 28,
   "metadata": {
    "tags": []
   },
   "outputs": [],
   "source": [
    "X_train, X_test, y_train, y_test = train_test_split(X,y, test_size=0.25)"
   ]
  },
  {
   "cell_type": "code",
   "execution_count": 29,
   "metadata": {
    "tags": []
   },
   "outputs": [
    {
     "data": {
      "text/plain": [
       "(26, 1)"
      ]
     },
     "execution_count": 29,
     "metadata": {},
     "output_type": "execute_result"
    }
   ],
   "source": [
    "X_train.shape"
   ]
  },
  {
   "cell_type": "code",
   "execution_count": 30,
   "metadata": {
    "tags": []
   },
   "outputs": [
    {
     "data": {
      "text/plain": [
       "(9, 1)"
      ]
     },
     "execution_count": 30,
     "metadata": {},
     "output_type": "execute_result"
    }
   ],
   "source": [
    "X_test.shape"
   ]
  },
  {
   "cell_type": "code",
   "execution_count": 31,
   "metadata": {
    "tags": []
   },
   "outputs": [
    {
     "data": {
      "text/plain": [
       "array([[ 9.5],\n",
       "       [ 8.7],\n",
       "       [ 1.3],\n",
       "       [ 2.9],\n",
       "       [ 7.9],\n",
       "       [11.5],\n",
       "       [ 3.2],\n",
       "       [ 9. ],\n",
       "       [12.3],\n",
       "       [10.3],\n",
       "       [ 1.1],\n",
       "       [ 6.8],\n",
       "       [ 3. ],\n",
       "       [ 3.7],\n",
       "       [11.2],\n",
       "       [ 5.9],\n",
       "       [ 6. ],\n",
       "       [ 3.2],\n",
       "       [ 7.1],\n",
       "       [12.9],\n",
       "       [ 4. ],\n",
       "       [13.5],\n",
       "       [ 8.2],\n",
       "       [ 1.5],\n",
       "       [10.5],\n",
       "       [ 5.1]], dtype=float32)"
      ]
     },
     "execution_count": 31,
     "metadata": {},
     "output_type": "execute_result"
    }
   ],
   "source": [
    "X_train"
   ]
  },
  {
   "cell_type": "code",
   "execution_count": 32,
   "metadata": {
    "tags": []
   },
   "outputs": [
    {
     "data": {
      "text/plain": [
       "array([[4.1],\n",
       "       [2.2],\n",
       "       [5.3],\n",
       "       [3.9],\n",
       "       [4.5],\n",
       "       [4.9],\n",
       "       [9.6],\n",
       "       [2. ],\n",
       "       [4. ]], dtype=float32)"
      ]
     },
     "execution_count": 32,
     "metadata": {},
     "output_type": "execute_result"
    }
   ],
   "source": [
    "X_test"
   ]
  },
  {
   "cell_type": "markdown",
   "metadata": {},
   "source": [
    "Train test split method shuffled the data order as well so it is a randomized sample."
   ]
  },
  {
   "cell_type": "markdown",
   "metadata": {
    "colab_type": "text",
    "id": "idWHLv5alF4C"
   },
   "source": [
    "# TASK #5: TRAIN A LINEAR REGRESSION MODEL IN SK-LEARN (NOTE THAT SAGEMAKER BUILT-IN ALGORITHMS ARE NOT USED HERE)"
   ]
  },
  {
   "cell_type": "code",
   "execution_count": 33,
   "metadata": {
    "colab": {
     "base_uri": "https://localhost:8080/",
     "height": 34
    },
    "colab_type": "code",
    "id": "yHL-6mKwBURs",
    "outputId": "10d71b6d-9c2b-4bab-8b27-d3c5883e6a25",
    "tags": []
   },
   "outputs": [
    {
     "data": {
      "text/html": [
       "<style>#sk-container-id-1 {color: black;background-color: white;}#sk-container-id-1 pre{padding: 0;}#sk-container-id-1 div.sk-toggleable {background-color: white;}#sk-container-id-1 label.sk-toggleable__label {cursor: pointer;display: block;width: 100%;margin-bottom: 0;padding: 0.3em;box-sizing: border-box;text-align: center;}#sk-container-id-1 label.sk-toggleable__label-arrow:before {content: \"▸\";float: left;margin-right: 0.25em;color: #696969;}#sk-container-id-1 label.sk-toggleable__label-arrow:hover:before {color: black;}#sk-container-id-1 div.sk-estimator:hover label.sk-toggleable__label-arrow:before {color: black;}#sk-container-id-1 div.sk-toggleable__content {max-height: 0;max-width: 0;overflow: hidden;text-align: left;background-color: #f0f8ff;}#sk-container-id-1 div.sk-toggleable__content pre {margin: 0.2em;color: black;border-radius: 0.25em;background-color: #f0f8ff;}#sk-container-id-1 input.sk-toggleable__control:checked~div.sk-toggleable__content {max-height: 200px;max-width: 100%;overflow: auto;}#sk-container-id-1 input.sk-toggleable__control:checked~label.sk-toggleable__label-arrow:before {content: \"▾\";}#sk-container-id-1 div.sk-estimator input.sk-toggleable__control:checked~label.sk-toggleable__label {background-color: #d4ebff;}#sk-container-id-1 div.sk-label input.sk-toggleable__control:checked~label.sk-toggleable__label {background-color: #d4ebff;}#sk-container-id-1 input.sk-hidden--visually {border: 0;clip: rect(1px 1px 1px 1px);clip: rect(1px, 1px, 1px, 1px);height: 1px;margin: -1px;overflow: hidden;padding: 0;position: absolute;width: 1px;}#sk-container-id-1 div.sk-estimator {font-family: monospace;background-color: #f0f8ff;border: 1px dotted black;border-radius: 0.25em;box-sizing: border-box;margin-bottom: 0.5em;}#sk-container-id-1 div.sk-estimator:hover {background-color: #d4ebff;}#sk-container-id-1 div.sk-parallel-item::after {content: \"\";width: 100%;border-bottom: 1px solid gray;flex-grow: 1;}#sk-container-id-1 div.sk-label:hover label.sk-toggleable__label {background-color: #d4ebff;}#sk-container-id-1 div.sk-serial::before {content: \"\";position: absolute;border-left: 1px solid gray;box-sizing: border-box;top: 0;bottom: 0;left: 50%;z-index: 0;}#sk-container-id-1 div.sk-serial {display: flex;flex-direction: column;align-items: center;background-color: white;padding-right: 0.2em;padding-left: 0.2em;position: relative;}#sk-container-id-1 div.sk-item {position: relative;z-index: 1;}#sk-container-id-1 div.sk-parallel {display: flex;align-items: stretch;justify-content: center;background-color: white;position: relative;}#sk-container-id-1 div.sk-item::before, #sk-container-id-1 div.sk-parallel-item::before {content: \"\";position: absolute;border-left: 1px solid gray;box-sizing: border-box;top: 0;bottom: 0;left: 50%;z-index: -1;}#sk-container-id-1 div.sk-parallel-item {display: flex;flex-direction: column;z-index: 1;position: relative;background-color: white;}#sk-container-id-1 div.sk-parallel-item:first-child::after {align-self: flex-end;width: 50%;}#sk-container-id-1 div.sk-parallel-item:last-child::after {align-self: flex-start;width: 50%;}#sk-container-id-1 div.sk-parallel-item:only-child::after {width: 0;}#sk-container-id-1 div.sk-dashed-wrapped {border: 1px dashed gray;margin: 0 0.4em 0.5em 0.4em;box-sizing: border-box;padding-bottom: 0.4em;background-color: white;}#sk-container-id-1 div.sk-label label {font-family: monospace;font-weight: bold;display: inline-block;line-height: 1.2em;}#sk-container-id-1 div.sk-label-container {text-align: center;}#sk-container-id-1 div.sk-container {/* jupyter's `normalize.less` sets `[hidden] { display: none; }` but bootstrap.min.css set `[hidden] { display: none !important; }` so we also need the `!important` here to be able to override the default hidden behavior on the sphinx rendered scikit-learn.org. See: https://github.com/scikit-learn/scikit-learn/issues/21755 */display: inline-block !important;position: relative;}#sk-container-id-1 div.sk-text-repr-fallback {display: none;}</style><div id=\"sk-container-id-1\" class=\"sk-top-container\"><div class=\"sk-text-repr-fallback\"><pre>LinearRegression()</pre><b>In a Jupyter environment, please rerun this cell to show the HTML representation or trust the notebook. <br />On GitHub, the HTML representation is unable to render, please try loading this page with nbviewer.org.</b></div><div class=\"sk-container\" hidden><div class=\"sk-item\"><div class=\"sk-estimator sk-toggleable\"><input class=\"sk-toggleable__control sk-hidden--visually\" id=\"sk-estimator-id-1\" type=\"checkbox\" checked><label for=\"sk-estimator-id-1\" class=\"sk-toggleable__label sk-toggleable__label-arrow\">LinearRegression</label><div class=\"sk-toggleable__content\"><pre>LinearRegression()</pre></div></div></div></div></div>"
      ],
      "text/plain": [
       "LinearRegression()"
      ]
     },
     "execution_count": 33,
     "metadata": {},
     "output_type": "execute_result"
    }
   ],
   "source": [
    "# using linear regression model\n",
    "from sklearn.linear_model import LinearRegression\n",
    "from sklearn.metrics import mean_squared_error, accuracy_score\n",
    "\n",
    "regresssion_model_sklearn = LinearRegression(fit_intercept = True)\n",
    "regresssion_model_sklearn.fit(X_train, y_train)\n"
   ]
  },
  {
   "cell_type": "code",
   "execution_count": 34,
   "metadata": {
    "colab": {
     "base_uri": "https://localhost:8080/",
     "height": 34
    },
    "colab_type": "code",
    "id": "elD8m5N0BgEY",
    "outputId": "16a1813d-a0f1-4d1f-dc02-d7ad5a445417",
    "tags": []
   },
   "outputs": [
    {
     "data": {
      "text/plain": [
       "0.881136800802257"
      ]
     },
     "execution_count": 34,
     "metadata": {},
     "output_type": "execute_result"
    }
   ],
   "source": [
    "regresssion_model_sklearn_accuracy = regresssion_model_sklearn.score(X_test, y_test)\n",
    "regresssion_model_sklearn_accuracy"
   ]
  },
  {
   "cell_type": "code",
   "execution_count": 35,
   "metadata": {
    "tags": []
   },
   "outputs": [
    {
     "name": "stdout",
     "output_type": "stream",
     "text": [
      "Linear Model Coefficient (m):  [[8446.236]]\n",
      "Linear Model Coefficient (b):  [31915.215]\n"
     ]
    }
   ],
   "source": [
    "print('Linear Model Coefficient (m): ', regresssion_model_sklearn.coef_)\n",
    "print('Linear Model Coefficient (b): ', regresssion_model_sklearn.intercept_)"
   ]
  },
  {
   "cell_type": "markdown",
   "metadata": {},
   "source": [
    "MINI CHALLENGE\n",
    "- Retrain the model while setting the fit_intercept = False, what do you notice?"
   ]
  },
  {
   "cell_type": "code",
   "execution_count": 36,
   "metadata": {
    "tags": []
   },
   "outputs": [
    {
     "data": {
      "text/html": [
       "<style>#sk-container-id-2 {color: black;background-color: white;}#sk-container-id-2 pre{padding: 0;}#sk-container-id-2 div.sk-toggleable {background-color: white;}#sk-container-id-2 label.sk-toggleable__label {cursor: pointer;display: block;width: 100%;margin-bottom: 0;padding: 0.3em;box-sizing: border-box;text-align: center;}#sk-container-id-2 label.sk-toggleable__label-arrow:before {content: \"▸\";float: left;margin-right: 0.25em;color: #696969;}#sk-container-id-2 label.sk-toggleable__label-arrow:hover:before {color: black;}#sk-container-id-2 div.sk-estimator:hover label.sk-toggleable__label-arrow:before {color: black;}#sk-container-id-2 div.sk-toggleable__content {max-height: 0;max-width: 0;overflow: hidden;text-align: left;background-color: #f0f8ff;}#sk-container-id-2 div.sk-toggleable__content pre {margin: 0.2em;color: black;border-radius: 0.25em;background-color: #f0f8ff;}#sk-container-id-2 input.sk-toggleable__control:checked~div.sk-toggleable__content {max-height: 200px;max-width: 100%;overflow: auto;}#sk-container-id-2 input.sk-toggleable__control:checked~label.sk-toggleable__label-arrow:before {content: \"▾\";}#sk-container-id-2 div.sk-estimator input.sk-toggleable__control:checked~label.sk-toggleable__label {background-color: #d4ebff;}#sk-container-id-2 div.sk-label input.sk-toggleable__control:checked~label.sk-toggleable__label {background-color: #d4ebff;}#sk-container-id-2 input.sk-hidden--visually {border: 0;clip: rect(1px 1px 1px 1px);clip: rect(1px, 1px, 1px, 1px);height: 1px;margin: -1px;overflow: hidden;padding: 0;position: absolute;width: 1px;}#sk-container-id-2 div.sk-estimator {font-family: monospace;background-color: #f0f8ff;border: 1px dotted black;border-radius: 0.25em;box-sizing: border-box;margin-bottom: 0.5em;}#sk-container-id-2 div.sk-estimator:hover {background-color: #d4ebff;}#sk-container-id-2 div.sk-parallel-item::after {content: \"\";width: 100%;border-bottom: 1px solid gray;flex-grow: 1;}#sk-container-id-2 div.sk-label:hover label.sk-toggleable__label {background-color: #d4ebff;}#sk-container-id-2 div.sk-serial::before {content: \"\";position: absolute;border-left: 1px solid gray;box-sizing: border-box;top: 0;bottom: 0;left: 50%;z-index: 0;}#sk-container-id-2 div.sk-serial {display: flex;flex-direction: column;align-items: center;background-color: white;padding-right: 0.2em;padding-left: 0.2em;position: relative;}#sk-container-id-2 div.sk-item {position: relative;z-index: 1;}#sk-container-id-2 div.sk-parallel {display: flex;align-items: stretch;justify-content: center;background-color: white;position: relative;}#sk-container-id-2 div.sk-item::before, #sk-container-id-2 div.sk-parallel-item::before {content: \"\";position: absolute;border-left: 1px solid gray;box-sizing: border-box;top: 0;bottom: 0;left: 50%;z-index: -1;}#sk-container-id-2 div.sk-parallel-item {display: flex;flex-direction: column;z-index: 1;position: relative;background-color: white;}#sk-container-id-2 div.sk-parallel-item:first-child::after {align-self: flex-end;width: 50%;}#sk-container-id-2 div.sk-parallel-item:last-child::after {align-self: flex-start;width: 50%;}#sk-container-id-2 div.sk-parallel-item:only-child::after {width: 0;}#sk-container-id-2 div.sk-dashed-wrapped {border: 1px dashed gray;margin: 0 0.4em 0.5em 0.4em;box-sizing: border-box;padding-bottom: 0.4em;background-color: white;}#sk-container-id-2 div.sk-label label {font-family: monospace;font-weight: bold;display: inline-block;line-height: 1.2em;}#sk-container-id-2 div.sk-label-container {text-align: center;}#sk-container-id-2 div.sk-container {/* jupyter's `normalize.less` sets `[hidden] { display: none; }` but bootstrap.min.css set `[hidden] { display: none !important; }` so we also need the `!important` here to be able to override the default hidden behavior on the sphinx rendered scikit-learn.org. See: https://github.com/scikit-learn/scikit-learn/issues/21755 */display: inline-block !important;position: relative;}#sk-container-id-2 div.sk-text-repr-fallback {display: none;}</style><div id=\"sk-container-id-2\" class=\"sk-top-container\"><div class=\"sk-text-repr-fallback\"><pre>LinearRegression(fit_intercept=False)</pre><b>In a Jupyter environment, please rerun this cell to show the HTML representation or trust the notebook. <br />On GitHub, the HTML representation is unable to render, please try loading this page with nbviewer.org.</b></div><div class=\"sk-container\" hidden><div class=\"sk-item\"><div class=\"sk-estimator sk-toggleable\"><input class=\"sk-toggleable__control sk-hidden--visually\" id=\"sk-estimator-id-2\" type=\"checkbox\" checked><label for=\"sk-estimator-id-2\" class=\"sk-toggleable__label sk-toggleable__label-arrow\">LinearRegression</label><div class=\"sk-toggleable__content\"><pre>LinearRegression(fit_intercept=False)</pre></div></div></div></div></div>"
      ],
      "text/plain": [
       "LinearRegression(fit_intercept=False)"
      ]
     },
     "execution_count": 36,
     "metadata": {},
     "output_type": "execute_result"
    }
   ],
   "source": [
    "regresssion_model_sklearn = LinearRegression(fit_intercept = False)\n",
    "regresssion_model_sklearn.fit(X_train, y_train)\n"
   ]
  },
  {
   "cell_type": "code",
   "execution_count": 37,
   "metadata": {
    "tags": []
   },
   "outputs": [
    {
     "data": {
      "text/plain": [
       "0.6117540766091558"
      ]
     },
     "execution_count": 37,
     "metadata": {},
     "output_type": "execute_result"
    }
   ],
   "source": [
    "regresssion_model_sklearn_accuracy = regresssion_model_sklearn.score(X_test, y_test)\n",
    "regresssion_model_sklearn_accuracy"
   ]
  },
  {
   "cell_type": "code",
   "execution_count": 38,
   "metadata": {
    "tags": []
   },
   "outputs": [
    {
     "name": "stdout",
     "output_type": "stream",
     "text": [
      "Linear Model Coefficient (m):  [[12005.379]]\n",
      "Linear Model Coefficient (b):  0.0\n"
     ]
    }
   ],
   "source": [
    "print('Linear Model Coefficient (m): ', regresssion_model_sklearn.coef_)\n",
    "print('Linear Model Coefficient (b): ', regresssion_model_sklearn.intercept_)"
   ]
  },
  {
   "cell_type": "markdown",
   "metadata": {},
   "source": [
    "Model regression line will intercept at the origin. This forces the model to go through (0,0)"
   ]
  },
  {
   "cell_type": "markdown",
   "metadata": {},
   "source": [
    "# TASK #6: EVALUATE TRAINED MODEL PERFORMANCE (NOTE THAT SAGEMAKER BUILT-IN ALGORITHMS ARE NOT USED HERE)"
   ]
  },
  {
   "cell_type": "code",
   "execution_count": 39,
   "metadata": {
    "tags": []
   },
   "outputs": [],
   "source": [
    "y_predict = regresssion_model_sklearn.predict(X_test)"
   ]
  },
  {
   "cell_type": "code",
   "execution_count": 40,
   "metadata": {
    "scrolled": true,
    "tags": []
   },
   "outputs": [
    {
     "data": {
      "text/plain": [
       "array([[ 49222.05 ],\n",
       "       [ 26411.834],\n",
       "       [ 63628.51 ],\n",
       "       [ 46820.98 ],\n",
       "       [ 54024.203],\n",
       "       [ 58826.36 ],\n",
       "       [115251.64 ],\n",
       "       [ 24010.758],\n",
       "       [ 48021.516]], dtype=float32)"
      ]
     },
     "execution_count": 40,
     "metadata": {},
     "output_type": "execute_result"
    }
   ],
   "source": [
    "y_predict"
   ]
  },
  {
   "cell_type": "code",
   "execution_count": 41,
   "metadata": {
    "tags": []
   },
   "outputs": [
    {
     "data": {
      "text/plain": [
       "Text(0.5, 1.0, 'Salary vs. Years of Experience')"
      ]
     },
     "execution_count": 41,
     "metadata": {},
     "output_type": "execute_result"
    },
    {
     "data": {
      "image/png": "[encoded data removed]",
      "text/plain": [
       "<Figure size 640x480 with 1 Axes>"
      ]
     },
     "metadata": {},
     "output_type": "display_data"
    }
   ],
   "source": [
    "plt.scatter(X_train, y_train, color = 'gray')\n",
    "plt.plot(X_train, regresssion_model_sklearn.predict(X_train), color = 'red')\n",
    "plt.ylabel('Salary')\n",
    "plt.xlabel('Number of Years of Experience')\n",
    "plt.title('Salary vs. Years of Experience')"
   ]
  },
  {
   "cell_type": "markdown",
   "metadata": {},
   "source": [
    "MINI CHALLENGE\n",
    " - Use the trained model, obtain the salary corresponding to eployees who have years of experience = 5"
   ]
  },
  {
   "cell_type": "code",
   "execution_count": 42,
   "metadata": {
    "tags": []
   },
   "outputs": [],
   "source": [
    "num_years_exp = [[5]]"
   ]
  },
  {
   "cell_type": "code",
   "execution_count": 43,
   "metadata": {
    "tags": []
   },
   "outputs": [],
   "source": [
    "salary = regresssion_model_sklearn.predict(num_years_exp)"
   ]
  },
  {
   "cell_type": "code",
   "execution_count": 44,
   "metadata": {
    "tags": []
   },
   "outputs": [
    {
     "data": {
      "text/plain": [
       "array([[60026.89]])"
      ]
     },
     "execution_count": 44,
     "metadata": {},
     "output_type": "execute_result"
    }
   ],
   "source": [
    "salary.round(2)"
   ]
  },
  {
   "cell_type": "markdown",
   "metadata": {},
   "source": [
    "# TASK #7: TRAIN A LINEAR LEARNER MODEL USING SAGEMAKER"
   ]
  },
  {
   "cell_type": "code",
   "execution_count": 45,
   "metadata": {
    "tags": []
   },
   "outputs": [
    {
     "name": "stdout",
     "output_type": "stream",
     "text": [
      "Requirement already satisfied: sagemaker in /usr/local/lib/python3.10/site-packages (2.146.0)\n",
      "Requirement already satisfied: pandas in /usr/local/lib/python3.10/site-packages (from sagemaker) (2.0.0)\n",
      "Requirement already satisfied: importlib-metadata<5.0,>=1.4.0 in /usr/local/lib/python3.10/site-packages (from sagemaker) (4.13.0)\n",
      "Requirement already satisfied: pathos in /usr/local/lib/python3.10/site-packages (from sagemaker) (0.3.0)\n",
      "Requirement already satisfied: schema in /usr/local/lib/python3.10/site-packages (from sagemaker) (0.7.5)\n",
      "Requirement already satisfied: numpy<2.0,>=1.9.0 in /usr/local/lib/python3.10/site-packages (from sagemaker) (1.23.5)\n",
      "Requirement already satisfied: platformdirs in /usr/local/lib/python3.10/site-packages (from sagemaker) (3.2.0)\n",
      "Requirement already satisfied: packaging>=20.0 in /usr/local/lib/python3.10/site-packages (from sagemaker) (21.3)\n",
      "Requirement already satisfied: smdebug-rulesconfig==1.0.1 in /usr/local/lib/python3.10/site-packages (from sagemaker) (1.0.1)\n",
      "Requirement already satisfied: protobuf<4.0,>=3.1 in /usr/local/lib/python3.10/site-packages (from sagemaker) (3.20.1)\n",
      "Requirement already satisfied: jsonschema in /usr/local/lib/python3.10/site-packages (from sagemaker) (4.17.3)\n",
      "Requirement already satisfied: google-pasta in /usr/local/lib/python3.10/site-packages (from sagemaker) (0.2.0)\n",
      "Requirement already satisfied: protobuf3-to-dict<1.0,>=0.1.5 in /usr/local/lib/python3.10/site-packages (from sagemaker) (0.1.5)\n",
      "Requirement already satisfied: boto3<2.0,>=1.26.28 in /usr/local/lib/python3.10/site-packages (from sagemaker) (1.26.110)\n",
      "Requirement already satisfied: attrs<23,>=20.3.0 in /usr/local/lib/python3.10/site-packages (from sagemaker) (22.2.0)\n",
      "Requirement already satisfied: PyYAML==5.4.1 in /usr/local/lib/python3.10/site-packages (from sagemaker) (5.4.1)\n",
      "Requirement already satisfied: s3transfer<0.7.0,>=0.6.0 in /usr/local/lib/python3.10/site-packages (from boto3<2.0,>=1.26.28->sagemaker) (0.6.0)\n",
      "Requirement already satisfied: botocore<1.30.0,>=1.29.110 in /usr/local/lib/python3.10/site-packages (from boto3<2.0,>=1.26.28->sagemaker) (1.29.110)\n",
      "Requirement already satisfied: jmespath<2.0.0,>=0.7.1 in /usr/local/lib/python3.10/site-packages (from boto3<2.0,>=1.26.28->sagemaker) (1.0.1)\n",
      "Requirement already satisfied: zipp>=0.5 in /usr/local/lib/python3.10/site-packages (from importlib-metadata<5.0,>=1.4.0->sagemaker) (3.15.0)\n",
      "Requirement already satisfied: pyparsing!=3.0.5,>=2.0.2 in /usr/local/lib/python3.10/site-packages (from packaging>=20.0->sagemaker) (3.0.9)\n",
      "Requirement already satisfied: six in /usr/local/lib/python3.10/site-packages (from protobuf3-to-dict<1.0,>=0.1.5->sagemaker) (1.16.0)\n",
      "Requirement already satisfied: pyrsistent!=0.17.0,!=0.17.1,!=0.17.2,>=0.14.0 in /usr/local/lib/python3.10/site-packages (from jsonschema->sagemaker) (0.19.3)\n",
      "Requirement already satisfied: python-dateutil>=2.8.2 in /usr/local/lib/python3.10/site-packages (from pandas->sagemaker) (2.8.2)\n",
      "Requirement already satisfied: tzdata>=2022.1 in /usr/local/lib/python3.10/site-packages (from pandas->sagemaker) (2023.3)\n",
      "Requirement already satisfied: pytz>=2020.1 in /usr/local/lib/python3.10/site-packages (from pandas->sagemaker) (2023.3)\n",
      "Requirement already satisfied: dill>=0.3.6 in /usr/local/lib/python3.10/site-packages (from pathos->sagemaker) (0.3.6)\n",
      "Requirement already satisfied: ppft>=1.7.6.6 in /usr/local/lib/python3.10/site-packages (from pathos->sagemaker) (1.7.6.6)\n",
      "Requirement already satisfied: pox>=0.3.2 in /usr/local/lib/python3.10/site-packages (from pathos->sagemaker) (0.3.2)\n",
      "Requirement already satisfied: multiprocess>=0.70.14 in /usr/local/lib/python3.10/site-packages (from pathos->sagemaker) (0.70.14)\n",
      "Requirement already satisfied: contextlib2>=0.5.5 in /usr/local/lib/python3.10/site-packages (from schema->sagemaker) (21.6.0)\n",
      "Requirement already satisfied: urllib3<1.27,>=1.25.4 in /usr/local/lib/python3.10/site-packages (from botocore<1.30.0,>=1.29.110->boto3<2.0,>=1.26.28->sagemaker) (1.26.15)\n",
      "\u001b[33mWARNING: Running pip as the 'root' user can result in broken permissions and conflicting behaviour with the system package manager. It is recommended to use a virtual environment instead: https://pip.pypa.io/warnings/venv\u001b[0m\u001b[33m\n",
      "\u001b[0mRequirement already satisfied: boto3 in /usr/local/lib/python3.10/site-packages (1.26.110)\n",
      "Requirement already satisfied: botocore<1.30.0,>=1.29.110 in /usr/local/lib/python3.10/site-packages (from boto3) (1.29.110)\n",
      "Requirement already satisfied: s3transfer<0.7.0,>=0.6.0 in /usr/local/lib/python3.10/site-packages (from boto3) (0.6.0)\n",
      "Requirement already satisfied: jmespath<2.0.0,>=0.7.1 in /usr/local/lib/python3.10/site-packages (from boto3) (1.0.1)\n",
      "Requirement already satisfied: urllib3<1.27,>=1.25.4 in /usr/local/lib/python3.10/site-packages (from botocore<1.30.0,>=1.29.110->boto3) (1.26.15)\n",
      "Requirement already satisfied: python-dateutil<3.0.0,>=2.1 in /usr/local/lib/python3.10/site-packages (from botocore<1.30.0,>=1.29.110->boto3) (2.8.2)\n",
      "Requirement already satisfied: six>=1.5 in /usr/local/lib/python3.10/site-packages (from python-dateutil<3.0.0,>=2.1->botocore<1.30.0,>=1.29.110->boto3) (1.16.0)\n",
      "\u001b[33mWARNING: Running pip as the 'root' user can result in broken permissions and conflicting behaviour with the system package manager. It is recommended to use a virtual environment instead: https://pip.pypa.io/warnings/venv\u001b[0m\u001b[33m\n",
      "\u001b[0m"
     ]
    }
   ],
   "source": [
    "# # Install needed libraries\n",
    "# !pip install sagemaker\n",
    "# !pip install boto3"
   ]
  },
  {
   "cell_type": "code",
   "execution_count": 46,
   "metadata": {
    "tags": []
   },
   "outputs": [
    {
     "name": "stdout",
     "output_type": "stream",
     "text": [
      "Requirement already satisfied: protobuf==3.20.* in /usr/local/lib/python3.10/site-packages (3.20.1)\n",
      "\u001b[33mWARNING: Running pip as the 'root' user can result in broken permissions and conflicting behaviour with the system package manager. It is recommended to use a virtual environment instead: https://pip.pypa.io/warnings/venv\u001b[0m\u001b[33m\n",
      "\u001b[0m"
     ]
    }
   ],
   "source": [
    "# import sagemaker\n",
    "!pip install protobuf==3.20.*\n"
   ]
  },
  {
   "cell_type": "code",
   "execution_count": 47,
   "metadata": {
    "tags": []
   },
   "outputs": [],
   "source": [
    "!export PROTOCOL_BUFFERS_PYTHON_IMPLEMENTATION=python"
   ]
  },
  {
   "cell_type": "code",
   "execution_count": 48,
   "metadata": {
    "tags": []
   },
   "outputs": [
    {
     "name": "stdout",
     "output_type": "stream",
     "text": [
      "arn:aws:iam::408887849877:role/service-role/AmazonSageMaker-ExecutionRole-20230414T083626\n"
     ]
    }
   ],
   "source": [
    "# Boto3 is the Amazon Web Services (AWS) Software Development Kit (SDK) for Python\n",
    "# Boto3 allows Python developer to write software that makes use of services like Amazon S3 and Amazon EC2\n",
    "\n",
    "import sagemaker\n",
    "import boto3\n",
    "from sagemaker import Session\n",
    "\n",
    "# Let's create a Sagemaker session\n",
    "sagemaker_session = sagemaker.Session()\n",
    "# bucket = Session().default_bucket()\n",
    "# Let's define the S3 bucket and prefix that we want to use in this session\n",
    "bucket = 'sagemaker-practical-my2' # bucket named 'sagemaker-practical' was created beforehand\n",
    "prefix = 'linear_learner' # prefix is the subfolder within the bucket.\n",
    "\n",
    "# Let's get the execution role for the notebook instance. \n",
    "# This is the IAM role that you created when you created your notebook instance. You pass the role to the training job.\n",
    "# Note that AWS Identity and Access Management (IAM) role that Amazon SageMaker can assume to perform tasks on your behalf (for example, reading training results, called model artifacts, from the S3 bucket and writing training results to Amazon S3). \n",
    "role = sagemaker.get_execution_role()\n",
    "print(role)"
   ]
  },
  {
   "cell_type": "code",
   "execution_count": 49,
   "metadata": {},
   "outputs": [
    {
     "data": {
      "text/plain": [
       "(26, 1)"
      ]
     },
     "execution_count": 49,
     "metadata": {},
     "output_type": "execute_result"
    }
   ],
   "source": [
    "X_train.shape"
   ]
  },
  {
   "cell_type": "code",
   "execution_count": 50,
   "metadata": {
    "tags": []
   },
   "outputs": [
    {
     "data": {
      "text/plain": [
       "(26,)"
      ]
     },
     "execution_count": 50,
     "metadata": {},
     "output_type": "execute_result"
    }
   ],
   "source": [
    "y_train[:,0].shape"
   ]
  },
  {
   "cell_type": "code",
   "execution_count": 51,
   "metadata": {},
   "outputs": [],
   "source": [
    "y_train = y_train[:,0]"
   ]
  },
  {
   "cell_type": "code",
   "execution_count": 52,
   "metadata": {
    "tags": []
   },
   "outputs": [
    {
     "data": {
      "text/plain": [
       "(26,)"
      ]
     },
     "execution_count": 52,
     "metadata": {},
     "output_type": "execute_result"
    }
   ],
   "source": [
    "y_train.shape"
   ]
  },
  {
   "cell_type": "code",
   "execution_count": 53,
   "metadata": {
    "tags": []
   },
   "outputs": [
    {
     "data": {
      "text/plain": [
       "0"
      ]
     },
     "execution_count": 53,
     "metadata": {},
     "output_type": "execute_result"
    }
   ],
   "source": [
    "import io # The io module allows for dealing with various types of I/O (text I/O, binary I/O and raw I/O). \n",
    "import numpy as np\n",
    "import sagemaker.amazon.common as smac # sagemaker common libary\n",
    "\n",
    "# Code below converts the data in numpy array format to RecordIO format\n",
    "# This is the format required by Sagemaker Linear Learner \n",
    "\n",
    "buf = io.BytesIO() # create an in-memory byte array (buf is a buffer I will be writing to)\n",
    "smac.write_numpy_to_dense_tensor(buf, X_train, y_train)\n",
    "buf.seek(0) \n",
    "# When you write to in-memory byte arrays, it increments 1 every time you write to it\n",
    "# Let's reset that back to zero \n"
   ]
  },
  {
   "cell_type": "code",
   "execution_count": 54,
   "metadata": {
    "tags": []
   },
   "outputs": [
    {
     "name": "stdout",
     "output_type": "stream",
     "text": [
      "uploaded training data location: s3://sagemaker-practical-my2/linear_learner/train/linear-train-data\n"
     ]
    }
   ],
   "source": [
    "import os\n",
    "\n",
    "# Code to upload RecordIO data to S3\n",
    " \n",
    "# Key refers to the name of the file    \n",
    "key = 'linear-train-data'\n",
    "\n",
    "# The following code uploads the data in record-io format to S3 bucket to be accessed later for training\n",
    "boto3.resource('s3').Bucket(bucket).Object(os.path.join(prefix, 'train', key)).upload_fileobj(buf)\n",
    "\n",
    "# Let's print out the training data location in s3\n",
    "s3_train_data = 's3://{}/{}/train/{}'.format(bucket, prefix, key)\n",
    "print('uploaded training data location: {}'.format(s3_train_data))"
   ]
  },
  {
   "cell_type": "code",
   "execution_count": 55,
   "metadata": {
    "tags": []
   },
   "outputs": [
    {
     "data": {
      "text/plain": [
       "'s3://sagemaker-practical-my2/linear_learner/train/linear-train-data'"
      ]
     },
     "execution_count": 55,
     "metadata": {},
     "output_type": "execute_result"
    }
   ],
   "source": [
    "s3_train_data"
   ]
  },
  {
   "cell_type": "code",
   "execution_count": 56,
   "metadata": {
    "tags": []
   },
   "outputs": [
    {
     "data": {
      "text/plain": [
       "(9, 1)"
      ]
     },
     "execution_count": 56,
     "metadata": {},
     "output_type": "execute_result"
    }
   ],
   "source": [
    "X_test.shape"
   ]
  },
  {
   "cell_type": "code",
   "execution_count": 57,
   "metadata": {
    "tags": []
   },
   "outputs": [
    {
     "data": {
      "text/plain": [
       "(9, 1)"
      ]
     },
     "execution_count": 57,
     "metadata": {},
     "output_type": "execute_result"
    }
   ],
   "source": [
    "y_test.shape"
   ]
  },
  {
   "cell_type": "code",
   "execution_count": 58,
   "metadata": {
    "tags": []
   },
   "outputs": [],
   "source": [
    "# Make sure that the target label is a vector\n",
    "y_test = y_test[:,0]\n"
   ]
  },
  {
   "cell_type": "code",
   "execution_count": 59,
   "metadata": {
    "tags": []
   },
   "outputs": [
    {
     "data": {
      "text/plain": [
       "0"
      ]
     },
     "execution_count": 59,
     "metadata": {},
     "output_type": "execute_result"
    }
   ],
   "source": [
    "# Code to upload RecordIO data to S3\n",
    "\n",
    "buf = io.BytesIO() # create an in-memory byte array (buf is a buffer I will be writing to)\n",
    "smac.write_numpy_to_dense_tensor(buf, X_test, y_test)\n",
    "buf.seek(0) \n",
    "# When you write to in-memory byte arrays, it increments 1 every time you write to it\n",
    "# Let's reset that back to zero \n"
   ]
  },
  {
   "cell_type": "code",
   "execution_count": 60,
   "metadata": {
    "tags": []
   },
   "outputs": [
    {
     "name": "stdout",
     "output_type": "stream",
     "text": [
      "uploaded training data location: s3://sagemaker-practical-my2/linear_learner/test/linear-test-data\n"
     ]
    }
   ],
   "source": [
    "# Key refers to the name of the file    \n",
    "key = 'linear-test-data'\n",
    "\n",
    "# The following code uploads the data in record-io format to S3 bucket to be accessed later for training\n",
    "boto3.resource('s3').Bucket(bucket).Object(os.path.join(prefix, 'test', key)).upload_fileobj(buf)\n",
    "\n",
    "# Let's print out the testing data location in s3\n",
    "s3_test_data = 's3://{}/{}/test/{}'.format(bucket, prefix, key)\n",
    "print('uploaded training data location: {}'.format(s3_test_data))"
   ]
  },
  {
   "cell_type": "code",
   "execution_count": 61,
   "metadata": {
    "tags": []
   },
   "outputs": [
    {
     "name": "stdout",
     "output_type": "stream",
     "text": [
      "Training artifacts will be uploaded to: s3://sagemaker-practical-my2/linear_learner/output\n"
     ]
    }
   ],
   "source": [
    "# create an output placeholder in S3 bucket to store the linear learner output\n",
    "\n",
    "output_location = 's3://{}/{}/output'.format(bucket, prefix)\n",
    "print('Training artifacts will be uploaded to: {}'.format(output_location))"
   ]
  },
  {
   "cell_type": "code",
   "execution_count": 62,
   "metadata": {
    "tags": []
   },
   "outputs": [],
   "source": [
    "# This code is used to get the training container of sagemaker built-in algorithms\n",
    "# all we have to do is to specify the name of the algorithm, that we want to use\n",
    "\n",
    "# Let's obtain a reference to the linearLearner container image\n",
    "# Note that all regression models are named estimators\n",
    "# You don't have to specify (hardcode) the region, get_image_uri will get the current region name using boto3.Session\n",
    "\n",
    "from sagemaker.amazon.amazon_estimator import get_image_uri\n",
    "from sagemaker import image_uris\n",
    "container = sagemaker.image_uris.retrieve(\"linear-learner\", 'us-east-1')\n",
    "\n",
    "# container = ImageURIProvider(boto3.Session().region_name, 'linear-learner')"
   ]
  },
  {
   "cell_type": "code",
   "execution_count": 63,
   "metadata": {
    "tags": []
   },
   "outputs": [
    {
     "data": {
      "text/plain": [
       "'382416733822.dkr.ecr.us-east-1.amazonaws.com/linear-learner:1'"
      ]
     },
     "execution_count": 63,
     "metadata": {},
     "output_type": "execute_result"
    }
   ],
   "source": [
    "container\n"
   ]
  },
  {
   "cell_type": "code",
   "execution_count": 64,
   "metadata": {
    "tags": []
   },
   "outputs": [
    {
     "name": "stderr",
     "output_type": "stream",
     "text": [
      "INFO:sagemaker:Creating training-job with name: linear-learner-2023-04-17-13-25-47-316\n"
     ]
    },
    {
     "name": "stdout",
     "output_type": "stream",
     "text": [
      "2023-04-17 13:25:48 Starting - Starting the training job...\n",
      "2023-04-17 13:26:13 Starting - Preparing the instances for training......\n",
      "2023-04-17 13:27:03 Downloading - Downloading input data...\n",
      "2023-04-17 13:27:28 Training - Downloading the training image......\n",
      "2023-04-17 13:28:49 Training - Training image download completed. Training in progress..\u001b[34mDocker entrypoint called with argument(s): train\u001b[0m\n",
      "\u001b[34mRunning default environment configuration script\u001b[0m\n",
      "\u001b[34m[04/17/2023 13:28:58 INFO 140221592430400] Reading default configuration from /opt/amazon/lib/python3.7/site-packages/algorithm/resources/default-input.json: {'mini_batch_size': '1000', 'epochs': '15', 'feature_dim': 'auto', 'use_bias': 'true', 'binary_classifier_model_selection_criteria': 'accuracy', 'f_beta': '1.0', 'target_recall': '0.8', 'target_precision': '0.8', 'num_models': 'auto', 'num_calibration_samples': '10000000', 'init_method': 'uniform', 'init_scale': '0.07', 'init_sigma': '0.01', 'init_bias': '0.0', 'optimizer': 'auto', 'loss': 'auto', 'margin': '1.0', 'quantile': '0.5', 'loss_insensitivity': '0.01', 'huber_delta': '1.0', 'num_classes': '1', 'accuracy_top_k': '3', 'wd': 'auto', 'l1': 'auto', 'momentum': 'auto', 'learning_rate': 'auto', 'beta_1': 'auto', 'beta_2': 'auto', 'bias_lr_mult': 'auto', 'bias_wd_mult': 'auto', 'use_lr_scheduler': 'true', 'lr_scheduler_step': 'auto', 'lr_scheduler_factor': 'auto', 'lr_scheduler_minimum_lr': 'auto', 'positive_example_weight_mult': '1.0', 'balance_multiclass_weights': 'false', 'normalize_data': 'true', 'normalize_label': 'auto', 'unbias_data': 'auto', 'unbias_label': 'auto', 'num_point_for_scaler': '10000', '_kvstore': 'auto', '_num_gpus': 'auto', '_num_kv_servers': 'auto', '_log_level': 'info', '_tuning_objective_metric': '', 'early_stopping_patience': '3', 'early_stopping_tolerance': '0.001', '_enable_profiler': 'false'}\u001b[0m\n",
      "\u001b[34m[04/17/2023 13:28:58 INFO 140221592430400] Merging with provided configuration from /opt/ml/input/config/hyperparameters.json: {'epochs': '5', 'feature_dim': '1', 'loss': 'absolute_loss', 'mini_batch_size': '5', 'num_models': '32', 'predictor_type': 'regressor'}\u001b[0m\n",
      "\u001b[34m[04/17/2023 13:28:58 INFO 140221592430400] Final configuration: {'mini_batch_size': '5', 'epochs': '5', 'feature_dim': '1', 'use_bias': 'true', 'binary_classifier_model_selection_criteria': 'accuracy', 'f_beta': '1.0', 'target_recall': '0.8', 'target_precision': '0.8', 'num_models': '32', 'num_calibration_samples': '10000000', 'init_method': 'uniform', 'init_scale': '0.07', 'init_sigma': '0.01', 'init_bias': '0.0', 'optimizer': 'auto', 'loss': 'absolute_loss', 'margin': '1.0', 'quantile': '0.5', 'loss_insensitivity': '0.01', 'huber_delta': '1.0', 'num_classes': '1', 'accuracy_top_k': '3', 'wd': 'auto', 'l1': 'auto', 'momentum': 'auto', 'learning_rate': 'auto', 'beta_1': 'auto', 'beta_2': 'auto', 'bias_lr_mult': 'auto', 'bias_wd_mult': 'auto', 'use_lr_scheduler': 'true', 'lr_scheduler_step': 'auto', 'lr_scheduler_factor': 'auto', 'lr_scheduler_minimum_lr': 'auto', 'positive_example_weight_mult': '1.0', 'balance_multiclass_weights': 'false', 'normalize_data': 'true', 'normalize_label': 'auto', 'unbias_data': 'auto', 'unbias_label': 'auto', 'num_point_for_scaler': '10000', '_kvstore': 'auto', '_num_gpus': 'auto', '_num_kv_servers': 'auto', '_log_level': 'info', '_tuning_objective_metric': '', 'early_stopping_patience': '3', 'early_stopping_tolerance': '0.001', '_enable_profiler': 'false', 'predictor_type': 'regressor'}\u001b[0m\n",
      "\u001b[34m[04/17/2023 13:29:01 WARNING 140221592430400] Loggers have already been setup.\u001b[0m\n",
      "\u001b[34m[04/17/2023 13:29:01 INFO 140221592430400] Final configuration: {'mini_batch_size': '5', 'epochs': '5', 'feature_dim': '1', 'use_bias': 'true', 'binary_classifier_model_selection_criteria': 'accuracy', 'f_beta': '1.0', 'target_recall': '0.8', 'target_precision': '0.8', 'num_models': '32', 'num_calibration_samples': '10000000', 'init_method': 'uniform', 'init_scale': '0.07', 'init_sigma': '0.01', 'init_bias': '0.0', 'optimizer': 'auto', 'loss': 'absolute_loss', 'margin': '1.0', 'quantile': '0.5', 'loss_insensitivity': '0.01', 'huber_delta': '1.0', 'num_classes': '1', 'accuracy_top_k': '3', 'wd': 'auto', 'l1': 'auto', 'momentum': 'auto', 'learning_rate': 'auto', 'beta_1': 'auto', 'beta_2': 'auto', 'bias_lr_mult': 'auto', 'bias_wd_mult': 'auto', 'use_lr_scheduler': 'true', 'lr_scheduler_step': 'auto', 'lr_scheduler_factor': 'auto', 'lr_scheduler_minimum_lr': 'auto', 'positive_example_weight_mult': '1.0', 'balance_multiclass_weights': 'false', 'normalize_data': 'true', 'normalize_label': 'auto', 'unbias_data': 'auto', 'unbias_label': 'auto', 'num_point_for_scaler': '10000', '_kvstore': 'auto', '_num_gpus': 'auto', '_num_kv_servers': 'auto', '_log_level': 'info', '_tuning_objective_metric': '', 'early_stopping_patience': '3', 'early_stopping_tolerance': '0.001', '_enable_profiler': 'false', 'predictor_type': 'regressor'}\u001b[0m\n",
      "\u001b[34m[04/17/2023 13:29:01 WARNING 140221592430400] Loggers have already been setup.\u001b[0m\n",
      "\u001b[34mProcess 7 is a worker.\u001b[0m\n",
      "\u001b[34m[04/17/2023 13:29:01 INFO 140221592430400] Using default worker.\u001b[0m\n",
      "\u001b[34m[04/17/2023 13:29:01 INFO 140221592430400] Checkpoint loading and saving are disabled.\u001b[0m\n",
      "\u001b[34m[2023-04-17 13:29:01.801] [tensorio] [info] epoch_stats={\"data_pipeline\": \"/opt/ml/input/data/train\", \"epoch\": 0, \"duration\": 14, \"num_examples\": 1, \"num_bytes\": 240}\u001b[0m\n",
      "\u001b[34m[04/17/2023 13:29:01 INFO 140221592430400] Create Store: local\u001b[0m\n",
      "\u001b[34m[2023-04-17 13:29:01.851] [tensorio] [info] epoch_stats={\"data_pipeline\": \"/opt/ml/input/data/train\", \"epoch\": 1, \"duration\": 49, \"num_examples\": 6, \"num_bytes\": 1248}\u001b[0m\n",
      "\u001b[34m[04/17/2023 13:29:01 INFO 140221592430400] Scaler algorithm parameters\n",
      " <algorithm.scaler.ScalerAlgorithmStable object at 0x7f87547b8090>\u001b[0m\n",
      "\u001b[34m[04/17/2023 13:29:01 INFO 140221592430400] Scaling model computed with parameters:\n",
      " {'stdev_label': \u001b[0m\n",
      "\u001b[34m[32484.17]\u001b[0m\n",
      "\u001b[34m<NDArray 1 @cpu(0)>, 'stdev_weight': \u001b[0m\n",
      "\u001b[34m[3.8102937]\u001b[0m\n",
      "\u001b[34m<NDArray 1 @cpu(0)>, 'mean_label': \u001b[0m\n",
      "\u001b[34m[91464.92]\u001b[0m\n",
      "\u001b[34m<NDArray 1 @cpu(0)>, 'mean_weight': \u001b[0m\n",
      "\u001b[34m[7.008]\u001b[0m\n",
      "\u001b[34m<NDArray 1 @cpu(0)>}\u001b[0m\n",
      "\u001b[34m[04/17/2023 13:29:01 INFO 140221592430400] nvidia-smi: took 0.034 seconds to run.\u001b[0m\n",
      "\u001b[34m[04/17/2023 13:29:01 INFO 140221592430400] nvidia-smi identified 0 GPUs.\u001b[0m\n",
      "\u001b[34m[04/17/2023 13:29:01 INFO 140221592430400] Number of GPUs being used: 0\u001b[0m\n",
      "\u001b[34m#metrics {\"StartTime\": 1681738141.9638007, \"EndTime\": 1681738141.963836, \"Dimensions\": {\"Algorithm\": \"Linear Learner\", \"Host\": \"algo-1\", \"Operation\": \"training\", \"Meta\": \"init_train_data_iter\"}, \"Metrics\": {\"Total Records Seen\": {\"sum\": 31.0, \"count\": 1, \"min\": 31, \"max\": 31}, \"Total Batches Seen\": {\"sum\": 7.0, \"count\": 1, \"min\": 7, \"max\": 7}, \"Max Records Seen Between Resets\": {\"sum\": 26.0, \"count\": 1, \"min\": 26, \"max\": 26}, \"Max Batches Seen Between Resets\": {\"sum\": 6.0, \"count\": 1, \"min\": 6, \"max\": 6}, \"Reset Count\": {\"sum\": 2.0, \"count\": 1, \"min\": 2, \"max\": 2}, \"Number of Records Since Last Reset\": {\"sum\": 0.0, \"count\": 1, \"min\": 0, \"max\": 0}, \"Number of Batches Since Last Reset\": {\"sum\": 0.0, \"count\": 1, \"min\": 0, \"max\": 0}}}\u001b[0m\n",
      "\u001b[34m[2023-04-17 13:29:02.093] [tensorio] [info] epoch_stats={\"data_pipeline\": \"/opt/ml/input/data/train\", \"epoch\": 4, \"duration\": 128, \"num_examples\": 6, \"num_bytes\": 1248}\u001b[0m\n",
      "\u001b[34m#metrics {\"StartTime\": 1681738142.0932949, \"EndTime\": 1681738142.0933928, \"Dimensions\": {\"Algorithm\": \"Linear Learner\", \"Host\": \"algo-1\", \"Operation\": \"training\", \"epoch\": 0, \"model\": 0}, \"Metrics\": {\"train_absolute_loss_objective\": {\"sum\": 0.8739909172058106, \"count\": 1, \"min\": 0.8739909172058106, \"max\": 0.8739909172058106}}}\u001b[0m\n",
      "\u001b[34m#metrics {\"StartTime\": 1681738142.093503, \"EndTime\": 1681738142.0935268, \"Dimensions\": {\"Algorithm\": \"Linear Learner\", \"Host\": \"algo-1\", \"Operation\": \"training\", \"epoch\": 0, \"model\": 1}, \"Metrics\": {\"train_absolute_loss_objective\": {\"sum\": 0.8940472602844238, \"count\": 1, \"min\": 0.8940472602844238, \"max\": 0.8940472602844238}}}\u001b[0m\n",
      "\u001b[34m#metrics {\"StartTime\": 1681738142.0935962, \"EndTime\": 1681738142.093613, \"Dimensions\": {\"Algorithm\": \"Linear Learner\", \"Host\": \"algo-1\", \"Operation\": \"training\", \"epoch\": 0, \"model\": 2}, \"Metrics\": {\"train_absolute_loss_objective\": {\"sum\": 0.8764204692840576, \"count\": 1, \"min\": 0.8764204692840576, \"max\": 0.8764204692840576}}}\u001b[0m\n",
      "\u001b[34m#metrics {\"StartTime\": 1681738142.0936697, \"EndTime\": 1681738142.0936837, \"Dimensions\": {\"Algorithm\": \"Linear Learner\", \"Host\": \"algo-1\", \"Operation\": \"training\", \"epoch\": 0, \"model\": 3}, \"Metrics\": {\"train_absolute_loss_objective\": {\"sum\": 0.8930222988128662, \"count\": 1, \"min\": 0.8930222988128662, \"max\": 0.8930222988128662}}}\u001b[0m\n",
      "\u001b[34m#metrics {\"StartTime\": 1681738142.0937366, \"EndTime\": 1681738142.09375, \"Dimensions\": {\"Algorithm\": \"Linear Learner\", \"Host\": \"algo-1\", \"Operation\": \"training\", \"epoch\": 0, \"model\": 4}, \"Metrics\": {\"train_absolute_loss_objective\": {\"sum\": 0.7896101093292236, \"count\": 1, \"min\": 0.7896101093292236, \"max\": 0.7896101093292236}}}\u001b[0m\n",
      "\u001b[34m#metrics {\"StartTime\": 1681738142.0938067, \"EndTime\": 1681738142.0938206, \"Dimensions\": {\"Algorithm\": \"Linear Learner\", \"Host\": \"algo-1\", \"Operation\": \"training\", \"epoch\": 0, \"model\": 5}, \"Metrics\": {\"train_absolute_loss_objective\": {\"sum\": 0.7960071754455567, \"count\": 1, \"min\": 0.7960071754455567, \"max\": 0.7960071754455567}}}\u001b[0m\n",
      "\u001b[34m#metrics {\"StartTime\": 1681738142.0938725, \"EndTime\": 1681738142.093885, \"Dimensions\": {\"Algorithm\": \"Linear Learner\", \"Host\": \"algo-1\", \"Operation\": \"training\", \"epoch\": 0, \"model\": 6}, \"Metrics\": {\"train_absolute_loss_objective\": {\"sum\": 0.8519681739807129, \"count\": 1, \"min\": 0.8519681739807129, \"max\": 0.8519681739807129}}}\u001b[0m\n",
      "\u001b[34m#metrics {\"StartTime\": 1681738142.0939343, \"EndTime\": 1681738142.0939467, \"Dimensions\": {\"Algorithm\": \"Linear Learner\", \"Host\": \"algo-1\", \"Operation\": \"training\", \"epoch\": 0, \"model\": 7}, \"Metrics\": {\"train_absolute_loss_objective\": {\"sum\": 0.7987132167816162, \"count\": 1, \"min\": 0.7987132167816162, \"max\": 0.7987132167816162}}}\u001b[0m\n",
      "\u001b[34m#metrics {\"StartTime\": 1681738142.0939949, \"EndTime\": 1681738142.0940065, \"Dimensions\": {\"Algorithm\": \"Linear Learner\", \"Host\": \"algo-1\", \"Operation\": \"training\", \"epoch\": 0, \"model\": 8}, \"Metrics\": {\"train_absolute_loss_objective\": {\"sum\": 0.930304183959961, \"count\": 1, \"min\": 0.930304183959961, \"max\": 0.930304183959961}}}\u001b[0m\n",
      "\u001b[34m#metrics {\"StartTime\": 1681738142.0940542, \"EndTime\": 1681738142.0940666, \"Dimensions\": {\"Algorithm\": \"Linear Learner\", \"Host\": \"algo-1\", \"Operation\": \"training\", \"epoch\": 0, \"model\": 9}, \"Metrics\": {\"train_absolute_loss_objective\": {\"sum\": 0.861871862411499, \"count\": 1, \"min\": 0.861871862411499, \"max\": 0.861871862411499}}}\u001b[0m\n",
      "\u001b[34m#metrics {\"StartTime\": 1681738142.0941281, \"EndTime\": 1681738142.0941458, \"Dimensions\": {\"Algorithm\": \"Linear Learner\", \"Host\": \"algo-1\", \"Operation\": \"training\", \"epoch\": 0, \"model\": 10}, \"Metrics\": {\"train_absolute_loss_objective\": {\"sum\": 0.8686203002929688, \"count\": 1, \"min\": 0.8686203002929688, \"max\": 0.8686203002929688}}}\u001b[0m\n",
      "\u001b[34m#metrics {\"StartTime\": 1681738142.0942068, \"EndTime\": 1681738142.0942216, \"Dimensions\": {\"Algorithm\": \"Linear Learner\", \"Host\": \"algo-1\", \"Operation\": \"training\", \"epoch\": 0, \"model\": 11}, \"Metrics\": {\"train_absolute_loss_objective\": {\"sum\": 0.8536974811553955, \"count\": 1, \"min\": 0.8536974811553955, \"max\": 0.8536974811553955}}}\u001b[0m\n",
      "\u001b[34m#metrics {\"StartTime\": 1681738142.0942736, \"EndTime\": 1681738142.0942867, \"Dimensions\": {\"Algorithm\": \"Linear Learner\", \"Host\": \"algo-1\", \"Operation\": \"training\", \"epoch\": 0, \"model\": 12}, \"Metrics\": {\"train_absolute_loss_objective\": {\"sum\": 0.7955617713928222, \"count\": 1, \"min\": 0.7955617713928222, \"max\": 0.7955617713928222}}}\u001b[0m\n",
      "\u001b[34m#metrics {\"StartTime\": 1681738142.094336, \"EndTime\": 1681738142.0943484, \"Dimensions\": {\"Algorithm\": \"Linear Learner\", \"Host\": \"algo-1\", \"Operation\": \"training\", \"epoch\": 0, \"model\": 13}, \"Metrics\": {\"train_absolute_loss_objective\": {\"sum\": 0.8127808284759521, \"count\": 1, \"min\": 0.8127808284759521, \"max\": 0.8127808284759521}}}\u001b[0m\n",
      "\u001b[34m#metrics {\"StartTime\": 1681738142.0943966, \"EndTime\": 1681738142.0944085, \"Dimensions\": {\"Algorithm\": \"Linear Learner\", \"Host\": \"algo-1\", \"Operation\": \"training\", \"epoch\": 0, \"model\": 14}, \"Metrics\": {\"train_absolute_loss_objective\": {\"sum\": 0.7945864009857178, \"count\": 1, \"min\": 0.7945864009857178, \"max\": 0.7945864009857178}}}\u001b[0m\n",
      "\u001b[34m#metrics {\"StartTime\": 1681738142.0944564, \"EndTime\": 1681738142.0944684, \"Dimensions\": {\"Algorithm\": \"Linear Learner\", \"Host\": \"algo-1\", \"Operation\": \"training\", \"epoch\": 0, \"model\": 15}, \"Metrics\": {\"train_absolute_loss_objective\": {\"sum\": 0.7800677299499512, \"count\": 1, \"min\": 0.7800677299499512, \"max\": 0.7800677299499512}}}\u001b[0m\n",
      "\u001b[34m#metrics {\"StartTime\": 1681738142.094525, \"EndTime\": 1681738142.0945435, \"Dimensions\": {\"Algorithm\": \"Linear Learner\", \"Host\": \"algo-1\", \"Operation\": \"training\", \"epoch\": 0, \"model\": 16}, \"Metrics\": {\"train_absolute_loss_objective\": {\"sum\": 0.8375948619842529, \"count\": 1, \"min\": 0.8375948619842529, \"max\": 0.8375948619842529}}}\u001b[0m\n",
      "\u001b[34m#metrics {\"StartTime\": 1681738142.0946345, \"EndTime\": 1681738142.094651, \"Dimensions\": {\"Algorithm\": \"Linear Learner\", \"Host\": \"algo-1\", \"Operation\": \"training\", \"epoch\": 0, \"model\": 17}, \"Metrics\": {\"train_absolute_loss_objective\": {\"sum\": 0.8892576217651367, \"count\": 1, \"min\": 0.8892576217651367, \"max\": 0.8892576217651367}}}\u001b[0m\n",
      "\u001b[34m#metrics {\"StartTime\": 1681738142.0947087, \"EndTime\": 1681738142.0947232, \"Dimensions\": {\"Algorithm\": \"Linear Learner\", \"Host\": \"algo-1\", \"Operation\": \"training\", \"epoch\": 0, \"model\": 18}, \"Metrics\": {\"train_absolute_loss_objective\": {\"sum\": 0.864876184463501, \"count\": 1, \"min\": 0.864876184463501, \"max\": 0.864876184463501}}}\u001b[0m\n",
      "\u001b[34m#metrics {\"StartTime\": 1681738142.0947692, \"EndTime\": 1681738142.094781, \"Dimensions\": {\"Algorithm\": \"Linear Learner\", \"Host\": \"algo-1\", \"Operation\": \"training\", \"epoch\": 0, \"model\": 19}, \"Metrics\": {\"train_absolute_loss_objective\": {\"sum\": 0.8621527099609375, \"count\": 1, \"min\": 0.8621527099609375, \"max\": 0.8621527099609375}}}\u001b[0m\n",
      "\u001b[34m#metrics {\"StartTime\": 1681738142.0948293, \"EndTime\": 1681738142.0948422, \"Dimensions\": {\"Algorithm\": \"Linear Learner\", \"Host\": \"algo-1\", \"Operation\": \"training\", \"epoch\": 0, \"model\": 20}, \"Metrics\": {\"train_absolute_loss_objective\": {\"sum\": 0.7979691219329834, \"count\": 1, \"min\": 0.7979691219329834, \"max\": 0.7979691219329834}}}\u001b[0m\n",
      "\u001b[34m#metrics {\"StartTime\": 1681738142.0948899, \"EndTime\": 1681738142.094902, \"Dimensions\": {\"Algorithm\": \"Linear Learner\", \"Host\": \"algo-1\", \"Operation\": \"training\", \"epoch\": 0, \"model\": 21}, \"Metrics\": {\"train_absolute_loss_objective\": {\"sum\": 0.8327019309997559, \"count\": 1, \"min\": 0.8327019309997559, \"max\": 0.8327019309997559}}}\u001b[0m\n",
      "\u001b[34m#metrics {\"StartTime\": 1681738142.0949502, \"EndTime\": 1681738142.0949621, \"Dimensions\": {\"Algorithm\": \"Linear Learner\", \"Host\": \"algo-1\", \"Operation\": \"training\", \"epoch\": 0, \"model\": 22}, \"Metrics\": {\"train_absolute_loss_objective\": {\"sum\": 0.8069567108154296, \"count\": 1, \"min\": 0.8069567108154296, \"max\": 0.8069567108154296}}}\u001b[0m\n",
      "\u001b[34m#metrics {\"StartTime\": 1681738142.0950158, \"EndTime\": 1681738142.0950315, \"Dimensions\": {\"Algorithm\": \"Linear Learner\", \"Host\": \"algo-1\", \"Operation\": \"training\", \"epoch\": 0, \"model\": 23}, \"Metrics\": {\"train_absolute_loss_objective\": {\"sum\": 0.8559690570831299, \"count\": 1, \"min\": 0.8559690570831299, \"max\": 0.8559690570831299}}}\u001b[0m\n",
      "\u001b[34m#metrics {\"StartTime\": 1681738142.095098, \"EndTime\": 1681738142.095115, \"Dimensions\": {\"Algorithm\": \"Linear Learner\", \"Host\": \"algo-1\", \"Operation\": \"training\", \"epoch\": 0, \"model\": 24}, \"Metrics\": {\"train_absolute_loss_objective\": {\"sum\": 0.8410147476196289, \"count\": 1, \"min\": 0.8410147476196289, \"max\": 0.8410147476196289}}}\u001b[0m\n",
      "\u001b[34m#metrics {\"StartTime\": 1681738142.0951734, \"EndTime\": 1681738142.095187, \"Dimensions\": {\"Algorithm\": \"Linear Learner\", \"Host\": \"algo-1\", \"Operation\": \"training\", \"epoch\": 0, \"model\": 25}, \"Metrics\": {\"train_absolute_loss_objective\": {\"sum\": 0.907719898223877, \"count\": 1, \"min\": 0.907719898223877, \"max\": 0.907719898223877}}}\u001b[0m\n",
      "\u001b[34m#metrics {\"StartTime\": 1681738142.0952377, \"EndTime\": 1681738142.0952506, \"Dimensions\": {\"Algorithm\": \"Linear Learner\", \"Host\": \"algo-1\", \"Operation\": \"training\", \"epoch\": 0, \"model\": 26}, \"Metrics\": {\"train_absolute_loss_objective\": {\"sum\": 0.8943027305603027, \"count\": 1, \"min\": 0.8943027305603027, \"max\": 0.8943027305603027}}}\u001b[0m\n",
      "\u001b[34m#metrics {\"StartTime\": 1681738142.095301, \"EndTime\": 1681738142.0953133, \"Dimensions\": {\"Algorithm\": \"Linear Learner\", \"Host\": \"algo-1\", \"Operation\": \"training\", \"epoch\": 0, \"model\": 27}, \"Metrics\": {\"train_absolute_loss_objective\": {\"sum\": 0.8834709072113037, \"count\": 1, \"min\": 0.8834709072113037, \"max\": 0.8834709072113037}}}\u001b[0m\n",
      "\u001b[34m#metrics {\"StartTime\": 1681738142.0953631, \"EndTime\": 1681738142.095376, \"Dimensions\": {\"Algorithm\": \"Linear Learner\", \"Host\": \"algo-1\", \"Operation\": \"training\", \"epoch\": 0, \"model\": 28}, \"Metrics\": {\"train_absolute_loss_objective\": {\"sum\": 1.2980309772491454, \"count\": 1, \"min\": 1.2980309772491454, \"max\": 1.2980309772491454}}}\u001b[0m\n",
      "\u001b[34m#metrics {\"StartTime\": 1681738142.0954258, \"EndTime\": 1681738142.0954382, \"Dimensions\": {\"Algorithm\": \"Linear Learner\", \"Host\": \"algo-1\", \"Operation\": \"training\", \"epoch\": 0, \"model\": 29}, \"Metrics\": {\"train_absolute_loss_objective\": {\"sum\": 1.2976172828674317, \"count\": 1, \"min\": 1.2976172828674317, \"max\": 1.2976172828674317}}}\u001b[0m\n",
      "\u001b[34m#metrics {\"StartTime\": 1681738142.0954883, \"EndTime\": 1681738142.0955002, \"Dimensions\": {\"Algorithm\": \"Linear Learner\", \"Host\": \"algo-1\", \"Operation\": \"training\", \"epoch\": 0, \"model\": 30}, \"Metrics\": {\"train_absolute_loss_objective\": {\"sum\": 0.9183114910125733, \"count\": 1, \"min\": 0.9183114910125733, \"max\": 0.9183114910125733}}}\u001b[0m\n",
      "\u001b[34m#metrics {\"StartTime\": 1681738142.0955505, \"EndTime\": 1681738142.0955627, \"Dimensions\": {\"Algorithm\": \"Linear Learner\", \"Host\": \"algo-1\", \"Operation\": \"training\", \"epoch\": 0, \"model\": 31}, \"Metrics\": {\"train_absolute_loss_objective\": {\"sum\": 1.3041401290893555, \"count\": 1, \"min\": 1.3041401290893555, \"max\": 1.3041401290893555}}}\u001b[0m\n",
      "\u001b[34m[04/17/2023 13:29:02 INFO 140221592430400] #quality_metric: host=algo-1, epoch=0, train absolute_loss_objective <loss>=0.8739909172058106\u001b[0m\n",
      "\u001b[34m[04/17/2023 13:29:02 INFO 140221592430400] #early_stopping_criteria_metric: host=algo-1, epoch=0, criteria=absolute_loss_objective, value=0.7800677299499512\u001b[0m\n",
      "\u001b[34m[04/17/2023 13:29:02 INFO 140221592430400] Epoch 0: Loss improved. Updating best model\u001b[0m\n",
      "\u001b[34m[04/17/2023 13:29:02 INFO 140221592430400] Saving model for epoch: 0\u001b[0m\n",
      "\u001b[34m[04/17/2023 13:29:02 INFO 140221592430400] Saved checkpoint to \"/tmp/tmpo08ujhc1/mx-mod-0000.params\"\u001b[0m\n",
      "\u001b[34m[04/17/2023 13:29:02 INFO 140221592430400] #progress_metric: host=algo-1, completed 20.0 % of epochs\u001b[0m\n",
      "\u001b[34m#metrics {\"StartTime\": 1681738141.964128, \"EndTime\": 1681738142.1082618, \"Dimensions\": {\"Algorithm\": \"Linear Learner\", \"Host\": \"algo-1\", \"Operation\": \"training\", \"epoch\": 0, \"Meta\": \"training_data_iter\"}, \"Metrics\": {\"Total Records Seen\": {\"sum\": 57.0, \"count\": 1, \"min\": 57, \"max\": 57}, \"Total Batches Seen\": {\"sum\": 13.0, \"count\": 1, \"min\": 13, \"max\": 13}, \"Max Records Seen Between Resets\": {\"sum\": 26.0, \"count\": 1, \"min\": 26, \"max\": 26}, \"Max Batches Seen Between Resets\": {\"sum\": 6.0, \"count\": 1, \"min\": 6, \"max\": 6}, \"Reset Count\": {\"sum\": 3.0, \"count\": 1, \"min\": 3, \"max\": 3}, \"Number of Records Since Last Reset\": {\"sum\": 26.0, \"count\": 1, \"min\": 26, \"max\": 26}, \"Number of Batches Since Last Reset\": {\"sum\": 6.0, \"count\": 1, \"min\": 6, \"max\": 6}}}\u001b[0m\n",
      "\u001b[34m[04/17/2023 13:29:02 INFO 140221592430400] #throughput_metric: host=algo-1, train throughput=180.22665357753164 records/second\u001b[0m\n",
      "\u001b[34m[2023-04-17 13:29:02.227] [tensorio] [info] epoch_stats={\"data_pipeline\": \"/opt/ml/input/data/train\", \"epoch\": 6, \"duration\": 118, \"num_examples\": 6, \"num_bytes\": 1248}\u001b[0m\n",
      "\u001b[34m#metrics {\"StartTime\": 1681738142.2275717, \"EndTime\": 1681738142.2276556, \"Dimensions\": {\"Algorithm\": \"Linear Learner\", \"Host\": \"algo-1\", \"Operation\": \"training\", \"epoch\": 1, \"model\": 0}, \"Metrics\": {\"train_absolute_loss_objective\": {\"sum\": 0.8452106952667237, \"count\": 1, \"min\": 0.8452106952667237, \"max\": 0.8452106952667237}}}\u001b[0m\n",
      "\u001b[34m#metrics {\"StartTime\": 1681738142.2277622, \"EndTime\": 1681738142.2279565, \"Dimensions\": {\"Algorithm\": \"Linear Learner\", \"Host\": \"algo-1\", \"Operation\": \"training\", \"epoch\": 1, \"model\": 1}, \"Metrics\": {\"train_absolute_loss_objective\": {\"sum\": 0.8652670478820801, \"count\": 1, \"min\": 0.8652670478820801, \"max\": 0.8652670478820801}}}\u001b[0m\n",
      "\u001b[34m#metrics {\"StartTime\": 1681738142.228024, \"EndTime\": 1681738142.2280395, \"Dimensions\": {\"Algorithm\": \"Linear Learner\", \"Host\": \"algo-1\", \"Operation\": \"training\", \"epoch\": 1, \"model\": 2}, \"Metrics\": {\"train_absolute_loss_objective\": {\"sum\": 0.8476402473449707, \"count\": 1, \"min\": 0.8476402473449707, \"max\": 0.8476402473449707}}}\u001b[0m\n",
      "\u001b[34m#metrics {\"StartTime\": 1681738142.2280915, \"EndTime\": 1681738142.2281075, \"Dimensions\": {\"Algorithm\": \"Linear Learner\", \"Host\": \"algo-1\", \"Operation\": \"training\", \"epoch\": 1, \"model\": 3}, \"Metrics\": {\"train_absolute_loss_objective\": {\"sum\": 0.8642420673370361, \"count\": 1, \"min\": 0.8642420673370361, \"max\": 0.8642420673370361}}}\u001b[0m\n",
      "\u001b[34m#metrics {\"StartTime\": 1681738142.2281597, \"EndTime\": 1681738142.2283003, \"Dimensions\": {\"Algorithm\": \"Linear Learner\", \"Host\": \"algo-1\", \"Operation\": \"training\", \"epoch\": 1, \"model\": 4}, \"Metrics\": {\"train_absolute_loss_objective\": {\"sum\": 0.5673251342773438, \"count\": 1, \"min\": 0.5673251342773438, \"max\": 0.5673251342773438}}}\u001b[0m\n",
      "\u001b[34m#metrics {\"StartTime\": 1681738142.2284265, \"EndTime\": 1681738142.228441, \"Dimensions\": {\"Algorithm\": \"Linear Learner\", \"Host\": \"algo-1\", \"Operation\": \"training\", \"epoch\": 1, \"model\": 5}, \"Metrics\": {\"train_absolute_loss_objective\": {\"sum\": 0.576551022529602, \"count\": 1, \"min\": 0.576551022529602, \"max\": 0.576551022529602}}}\u001b[0m\n",
      "\u001b[34m#metrics {\"StartTime\": 1681738142.228496, \"EndTime\": 1681738142.2285128, \"Dimensions\": {\"Algorithm\": \"Linear Learner\", \"Host\": \"algo-1\", \"Operation\": \"training\", \"epoch\": 1, \"model\": 6}, \"Metrics\": {\"train_absolute_loss_objective\": {\"sum\": 0.5713122510910034, \"count\": 1, \"min\": 0.5713122510910034, \"max\": 0.5713122510910034}}}\u001b[0m\n",
      "\u001b[34m#metrics {\"StartTime\": 1681738142.2286763, \"EndTime\": 1681738142.228693, \"Dimensions\": {\"Algorithm\": \"Linear Learner\", \"Host\": \"algo-1\", \"Operation\": \"training\", \"epoch\": 1, \"model\": 7}, \"Metrics\": {\"train_absolute_loss_objective\": {\"sum\": 0.5552438831329346, \"count\": 1, \"min\": 0.5552438831329346, \"max\": 0.5552438831329346}}}\u001b[0m\n",
      "\u001b[34m#metrics {\"StartTime\": 1681738142.2287517, \"EndTime\": 1681738142.2287652, \"Dimensions\": {\"Algorithm\": \"Linear Learner\", \"Host\": \"algo-1\", \"Operation\": \"training\", \"epoch\": 1, \"model\": 8}, \"Metrics\": {\"train_absolute_loss_objective\": {\"sum\": 0.9015239810943604, \"count\": 1, \"min\": 0.9015239810943604, \"max\": 0.9015239810943604}}}\u001b[0m\n",
      "\u001b[34m#metrics {\"StartTime\": 1681738142.228816, \"EndTime\": 1681738142.2288287, \"Dimensions\": {\"Algorithm\": \"Linear Learner\", \"Host\": \"algo-1\", \"Operation\": \"training\", \"epoch\": 1, \"model\": 9}, \"Metrics\": {\"train_absolute_loss_objective\": {\"sum\": 0.833092098236084, \"count\": 1, \"min\": 0.833092098236084, \"max\": 0.833092098236084}}}\u001b[0m\n",
      "\u001b[34m#metrics {\"StartTime\": 1681738142.228956, \"EndTime\": 1681738142.2290723, \"Dimensions\": {\"Algorithm\": \"Linear Learner\", \"Host\": \"algo-1\", \"Operation\": \"training\", \"epoch\": 1, \"model\": 10}, \"Metrics\": {\"train_absolute_loss_objective\": {\"sum\": 0.8398405170440674, \"count\": 1, \"min\": 0.8398405170440674, \"max\": 0.8398405170440674}}}\u001b[0m\n",
      "\u001b[34m#metrics {\"StartTime\": 1681738142.2291377, \"EndTime\": 1681738142.2291522, \"Dimensions\": {\"Algorithm\": \"Linear Learner\", \"Host\": \"algo-1\", \"Operation\": \"training\", \"epoch\": 1, \"model\": 11}, \"Metrics\": {\"train_absolute_loss_objective\": {\"sum\": 0.8249178123474121, \"count\": 1, \"min\": 0.8249178123474121, \"max\": 0.8249178123474121}}}\u001b[0m\n",
      "\u001b[34m#metrics {\"StartTime\": 1681738142.2292008, \"EndTime\": 1681738142.2292125, \"Dimensions\": {\"Algorithm\": \"Linear Learner\", \"Host\": \"algo-1\", \"Operation\": \"training\", \"epoch\": 1, \"model\": 12}, \"Metrics\": {\"train_absolute_loss_objective\": {\"sum\": 0.5763605880737305, \"count\": 1, \"min\": 0.5763605880737305, \"max\": 0.5763605880737305}}}\u001b[0m\n",
      "\u001b[34m#metrics {\"StartTime\": 1681738142.2292624, \"EndTime\": 1681738142.2292745, \"Dimensions\": {\"Algorithm\": \"Linear Learner\", \"Host\": \"algo-1\", \"Operation\": \"training\", \"epoch\": 1, \"model\": 13}, \"Metrics\": {\"train_absolute_loss_objective\": {\"sum\": 0.650654935836792, \"count\": 1, \"min\": 0.650654935836792, \"max\": 0.650654935836792}}}\u001b[0m\n",
      "\u001b[34m#metrics {\"StartTime\": 1681738142.229328, \"EndTime\": 1681738142.2293413, \"Dimensions\": {\"Algorithm\": \"Linear Learner\", \"Host\": \"algo-1\", \"Operation\": \"training\", \"epoch\": 1, \"model\": 14}, \"Metrics\": {\"train_absolute_loss_objective\": {\"sum\": 0.5749583721160889, \"count\": 1, \"min\": 0.5749583721160889, \"max\": 0.5749583721160889}}}\u001b[0m\n",
      "\u001b[34m#metrics {\"StartTime\": 1681738142.229397, \"EndTime\": 1681738142.229474, \"Dimensions\": {\"Algorithm\": \"Linear Learner\", \"Host\": \"algo-1\", \"Operation\": \"training\", \"epoch\": 1, \"model\": 15}, \"Metrics\": {\"train_absolute_loss_objective\": {\"sum\": 0.5723717832565307, \"count\": 1, \"min\": 0.5723717832565307, \"max\": 0.5723717832565307}}}\u001b[0m\n",
      "\u001b[34m#metrics {\"StartTime\": 1681738142.2295334, \"EndTime\": 1681738142.2295465, \"Dimensions\": {\"Algorithm\": \"Linear Learner\", \"Host\": \"algo-1\", \"Operation\": \"training\", \"epoch\": 1, \"model\": 16}, \"Metrics\": {\"train_absolute_loss_objective\": {\"sum\": 0.8088825511932373, \"count\": 1, \"min\": 0.8088825511932373, \"max\": 0.8088825511932373}}}\u001b[0m\n",
      "\u001b[34m#metrics {\"StartTime\": 1681738142.2296038, \"EndTime\": 1681738142.2296174, \"Dimensions\": {\"Algorithm\": \"Linear Learner\", \"Host\": \"algo-1\", \"Operation\": \"training\", \"epoch\": 1, \"model\": 17}, \"Metrics\": {\"train_absolute_loss_objective\": {\"sum\": 0.8605075740814209, \"count\": 1, \"min\": 0.8605075740814209, \"max\": 0.8605075740814209}}}\u001b[0m\n",
      "\u001b[34m#metrics {\"StartTime\": 1681738142.2296717, \"EndTime\": 1681738142.229685, \"Dimensions\": {\"Algorithm\": \"Linear Learner\", \"Host\": \"algo-1\", \"Operation\": \"training\", \"epoch\": 1, \"model\": 18}, \"Metrics\": {\"train_absolute_loss_objective\": {\"sum\": 0.8361429691314697, \"count\": 1, \"min\": 0.8361429691314697, \"max\": 0.8361429691314697}}}\u001b[0m\n",
      "\u001b[34m#metrics {\"StartTime\": 1681738142.2297313, \"EndTime\": 1681738142.2297423, \"Dimensions\": {\"Algorithm\": \"Linear Learner\", \"Host\": \"algo-1\", \"Operation\": \"training\", \"epoch\": 1, \"model\": 19}, \"Metrics\": {\"train_absolute_loss_objective\": {\"sum\": 0.8334214973449707, \"count\": 1, \"min\": 0.8334214973449707, \"max\": 0.8334214973449707}}}\u001b[0m\n",
      "\u001b[34m#metrics {\"StartTime\": 1681738142.2297997, \"EndTime\": 1681738142.2298138, \"Dimensions\": {\"Algorithm\": \"Linear Learner\", \"Host\": \"algo-1\", \"Operation\": \"training\", \"epoch\": 1, \"model\": 20}, \"Metrics\": {\"train_absolute_loss_objective\": {\"sum\": 0.6016482353210449, \"count\": 1, \"min\": 0.6016482353210449, \"max\": 0.6016482353210449}}}\u001b[0m\n",
      "\u001b[34m#metrics {\"StartTime\": 1681738142.2298667, \"EndTime\": 1681738142.2298796, \"Dimensions\": {\"Algorithm\": \"Linear Learner\", \"Host\": \"algo-1\", \"Operation\": \"training\", \"epoch\": 1, \"model\": 21}, \"Metrics\": {\"train_absolute_loss_objective\": {\"sum\": 0.7036464595794678, \"count\": 1, \"min\": 0.7036464595794678, \"max\": 0.7036464595794678}}}\u001b[0m\n",
      "\u001b[34m#metrics {\"StartTime\": 1681738142.2299292, \"EndTime\": 1681738142.2299392, \"Dimensions\": {\"Algorithm\": \"Linear Learner\", \"Host\": \"algo-1\", \"Operation\": \"training\", \"epoch\": 1, \"model\": 22}, \"Metrics\": {\"train_absolute_loss_objective\": {\"sum\": 0.685665979385376, \"count\": 1, \"min\": 0.685665979385376, \"max\": 0.685665979385376}}}\u001b[0m\n",
      "\u001b[34m#metrics {\"StartTime\": 1681738142.2299767, \"EndTime\": 1681738142.2299907, \"Dimensions\": {\"Algorithm\": \"Linear Learner\", \"Host\": \"algo-1\", \"Operation\": \"training\", \"epoch\": 1, \"model\": 23}, \"Metrics\": {\"train_absolute_loss_objective\": {\"sum\": 0.6066415929794311, \"count\": 1, \"min\": 0.6066415929794311, \"max\": 0.6066415929794311}}}\u001b[0m\n",
      "\u001b[34m#metrics {\"StartTime\": 1681738142.2300398, \"EndTime\": 1681738142.2300549, \"Dimensions\": {\"Algorithm\": \"Linear Learner\", \"Host\": \"algo-1\", \"Operation\": \"training\", \"epoch\": 1, \"model\": 24}, \"Metrics\": {\"train_absolute_loss_objective\": {\"sum\": 0.8546194171905518, \"count\": 1, \"min\": 0.8546194171905518, \"max\": 0.8546194171905518}}}\u001b[0m\n",
      "\u001b[34m#metrics {\"StartTime\": 1681738142.2301025, \"EndTime\": 1681738142.230118, \"Dimensions\": {\"Algorithm\": \"Linear Learner\", \"Host\": \"algo-1\", \"Operation\": \"training\", \"epoch\": 1, \"model\": 25}, \"Metrics\": {\"train_absolute_loss_objective\": {\"sum\": 0.8804075336456298, \"count\": 1, \"min\": 0.8804075336456298, \"max\": 0.8804075336456298}}}\u001b[0m\n",
      "\u001b[34m#metrics {\"StartTime\": 1681738142.2301526, \"EndTime\": 1681738142.2301664, \"Dimensions\": {\"Algorithm\": \"Linear Learner\", \"Host\": \"algo-1\", \"Operation\": \"training\", \"epoch\": 1, \"model\": 26}, \"Metrics\": {\"train_absolute_loss_objective\": {\"sum\": 0.8698037147521973, \"count\": 1, \"min\": 0.8698037147521973, \"max\": 0.8698037147521973}}}\u001b[0m\n",
      "\u001b[34m#metrics {\"StartTime\": 1681738142.2302153, \"EndTime\": 1681738142.2302313, \"Dimensions\": {\"Algorithm\": \"Linear Learner\", \"Host\": \"algo-1\", \"Operation\": \"training\", \"epoch\": 1, \"model\": 27}, \"Metrics\": {\"train_absolute_loss_objective\": {\"sum\": 0.8698599433898926, \"count\": 1, \"min\": 0.8698599433898926, \"max\": 0.8698599433898926}}}\u001b[0m\n",
      "\u001b[34m#metrics {\"StartTime\": 1681738142.2302787, \"EndTime\": 1681738142.2302938, \"Dimensions\": {\"Algorithm\": \"Linear Learner\", \"Host\": \"algo-1\", \"Operation\": \"training\", \"epoch\": 1, \"model\": 28}, \"Metrics\": {\"train_absolute_loss_objective\": {\"sum\": 1.0050016689300536, \"count\": 1, \"min\": 1.0050016689300536, \"max\": 1.0050016689300536}}}\u001b[0m\n",
      "\u001b[34m#metrics {\"StartTime\": 1681738142.2303498, \"EndTime\": 1681738142.2303674, \"Dimensions\": {\"Algorithm\": \"Linear Learner\", \"Host\": \"algo-1\", \"Operation\": \"training\", \"epoch\": 1, \"model\": 29}, \"Metrics\": {\"train_absolute_loss_objective\": {\"sum\": 1.0041256332397461, \"count\": 1, \"min\": 1.0041256332397461, \"max\": 1.0041256332397461}}}\u001b[0m\n",
      "\u001b[34m#metrics {\"StartTime\": 1681738142.2304173, \"EndTime\": 1681738142.2304292, \"Dimensions\": {\"Algorithm\": \"Linear Learner\", \"Host\": \"algo-1\", \"Operation\": \"training\", \"epoch\": 1, \"model\": 30}, \"Metrics\": {\"train_absolute_loss_objective\": {\"sum\": 1.0829012489318848, \"count\": 1, \"min\": 1.0829012489318848, \"max\": 1.0829012489318848}}}\u001b[0m\n",
      "\u001b[34m#metrics {\"StartTime\": 1681738142.2304583, \"EndTime\": 1681738142.2304707, \"Dimensions\": {\"Algorithm\": \"Linear Learner\", \"Host\": \"algo-1\", \"Operation\": \"training\", \"epoch\": 1, \"model\": 31}, \"Metrics\": {\"train_absolute_loss_objective\": {\"sum\": 1.0004902935028077, \"count\": 1, \"min\": 1.0004902935028077, \"max\": 1.0004902935028077}}}\u001b[0m\n",
      "\u001b[34m[04/17/2023 13:29:02 INFO 140221592430400] #quality_metric: host=algo-1, epoch=1, train absolute_loss_objective <loss>=0.8452106952667237\u001b[0m\n",
      "\u001b[34m[04/17/2023 13:29:02 INFO 140221592430400] #early_stopping_criteria_metric: host=algo-1, epoch=1, criteria=absolute_loss_objective, value=0.5552438831329346\u001b[0m\n",
      "\u001b[34m[04/17/2023 13:29:02 INFO 140221592430400] Epoch 1: Loss improved. Updating best model\u001b[0m\n",
      "\u001b[34m[04/17/2023 13:29:02 INFO 140221592430400] Saving model for epoch: 1\u001b[0m\n",
      "\u001b[34m[04/17/2023 13:29:02 INFO 140221592430400] Saved checkpoint to \"/tmp/tmp3_sptfyf/mx-mod-0000.params\"\u001b[0m\n",
      "\u001b[34m[04/17/2023 13:29:02 INFO 140221592430400] #progress_metric: host=algo-1, completed 40.0 % of epochs\u001b[0m\n",
      "\u001b[34m#metrics {\"StartTime\": 1681738142.10855, \"EndTime\": 1681738142.239297, \"Dimensions\": {\"Algorithm\": \"Linear Learner\", \"Host\": \"algo-1\", \"Operation\": \"training\", \"epoch\": 1, \"Meta\": \"training_data_iter\"}, \"Metrics\": {\"Total Records Seen\": {\"sum\": 83.0, \"count\": 1, \"min\": 83, \"max\": 83}, \"Total Batches Seen\": {\"sum\": 19.0, \"count\": 1, \"min\": 19, \"max\": 19}, \"Max Records Seen Between Resets\": {\"sum\": 26.0, \"count\": 1, \"min\": 26, \"max\": 26}, \"Max Batches Seen Between Resets\": {\"sum\": 6.0, \"count\": 1, \"min\": 6, \"max\": 6}, \"Reset Count\": {\"sum\": 4.0, \"count\": 1, \"min\": 4, \"max\": 4}, \"Number of Records Since Last Reset\": {\"sum\": 26.0, \"count\": 1, \"min\": 26, \"max\": 26}, \"Number of Batches Since Last Reset\": {\"sum\": 6.0, \"count\": 1, \"min\": 6, \"max\": 6}}}\u001b[0m\n",
      "\u001b[34m[04/17/2023 13:29:02 INFO 140221592430400] #throughput_metric: host=algo-1, train throughput=198.6641259477598 records/second\u001b[0m\n",
      "\u001b[34m[2023-04-17 13:29:02.357] [tensorio] [info] epoch_stats={\"data_pipeline\": \"/opt/ml/input/data/train\", \"epoch\": 8, \"duration\": 117, \"num_examples\": 6, \"num_bytes\": 1248}\u001b[0m\n",
      "\u001b[34m#metrics {\"StartTime\": 1681738142.3573637, \"EndTime\": 1681738142.3574462, \"Dimensions\": {\"Algorithm\": \"Linear Learner\", \"Host\": \"algo-1\", \"Operation\": \"training\", \"epoch\": 2, \"model\": 0}, \"Metrics\": {\"train_absolute_loss_objective\": {\"sum\": 0.8218663215637207, \"count\": 1, \"min\": 0.8218663215637207, \"max\": 0.8218663215637207}}}\u001b[0m\n",
      "\u001b[34m#metrics {\"StartTime\": 1681738142.3575318, \"EndTime\": 1681738142.3575485, \"Dimensions\": {\"Algorithm\": \"Linear Learner\", \"Host\": \"algo-1\", \"Operation\": \"training\", \"epoch\": 2, \"model\": 1}, \"Metrics\": {\"train_absolute_loss_objective\": {\"sum\": 0.8418535900115967, \"count\": 1, \"min\": 0.8418535900115967, \"max\": 0.8418535900115967}}}\u001b[0m\n",
      "\u001b[34m#metrics {\"StartTime\": 1681738142.357602, \"EndTime\": 1681738142.3576205, \"Dimensions\": {\"Algorithm\": \"Linear Learner\", \"Host\": \"algo-1\", \"Operation\": \"training\", \"epoch\": 2, \"model\": 2}, \"Metrics\": {\"train_absolute_loss_objective\": {\"sum\": 0.8242959117889405, \"count\": 1, \"min\": 0.8242959117889405, \"max\": 0.8242959117889405}}}\u001b[0m\n",
      "\u001b[34m#metrics {\"StartTime\": 1681738142.3576865, \"EndTime\": 1681738142.3577046, \"Dimensions\": {\"Algorithm\": \"Linear Learner\", \"Host\": \"algo-1\", \"Operation\": \"training\", \"epoch\": 2, \"model\": 3}, \"Metrics\": {\"train_absolute_loss_objective\": {\"sum\": 0.8408286380767822, \"count\": 1, \"min\": 0.8408286380767822, \"max\": 0.8408286380767822}}}\u001b[0m\n",
      "\u001b[34m#metrics {\"StartTime\": 1681738142.3577702, \"EndTime\": 1681738142.3577878, \"Dimensions\": {\"Algorithm\": \"Linear Learner\", \"Host\": \"algo-1\", \"Operation\": \"training\", \"epoch\": 2, \"model\": 4}, \"Metrics\": {\"train_absolute_loss_objective\": {\"sum\": 0.3468326568603516, \"count\": 1, \"min\": 0.3468326568603516, \"max\": 0.3468326568603516}}}\u001b[0m\n",
      "\u001b[34m#metrics {\"StartTime\": 1681738142.3578417, \"EndTime\": 1681738142.357859, \"Dimensions\": {\"Algorithm\": \"Linear Learner\", \"Host\": \"algo-1\", \"Operation\": \"training\", \"epoch\": 2, \"model\": 5}, \"Metrics\": {\"train_absolute_loss_objective\": {\"sum\": 0.34799925088882444, \"count\": 1, \"min\": 0.34799925088882444, \"max\": 0.34799925088882444}}}\u001b[0m\n",
      "\u001b[34m#metrics {\"StartTime\": 1681738142.357909, \"EndTime\": 1681738142.3579252, \"Dimensions\": {\"Algorithm\": \"Linear Learner\", \"Host\": \"algo-1\", \"Operation\": \"training\", \"epoch\": 2, \"model\": 6}, \"Metrics\": {\"train_absolute_loss_objective\": {\"sum\": 0.37858210802078246, \"count\": 1, \"min\": 0.37858210802078246, \"max\": 0.37858210802078246}}}\u001b[0m\n",
      "\u001b[34m#metrics {\"StartTime\": 1681738142.3579836, \"EndTime\": 1681738142.3579996, \"Dimensions\": {\"Algorithm\": \"Linear Learner\", \"Host\": \"algo-1\", \"Operation\": \"training\", \"epoch\": 2, \"model\": 7}, \"Metrics\": {\"train_absolute_loss_objective\": {\"sum\": 0.3467637848854065, \"count\": 1, \"min\": 0.3467637848854065, \"max\": 0.3467637848854065}}}\u001b[0m\n",
      "\u001b[34m#metrics {\"StartTime\": 1681738142.3580627, \"EndTime\": 1681738142.3580763, \"Dimensions\": {\"Algorithm\": \"Linear Learner\", \"Host\": \"algo-1\", \"Operation\": \"training\", \"epoch\": 2, \"model\": 8}, \"Metrics\": {\"train_absolute_loss_objective\": {\"sum\": 0.8781804656982422, \"count\": 1, \"min\": 0.8781804656982422, \"max\": 0.8781804656982422}}}\u001b[0m\n",
      "\u001b[34m#metrics {\"StartTime\": 1681738142.3581135, \"EndTime\": 1681738142.358128, \"Dimensions\": {\"Algorithm\": \"Linear Learner\", \"Host\": \"algo-1\", \"Operation\": \"training\", \"epoch\": 2, \"model\": 9}, \"Metrics\": {\"train_absolute_loss_objective\": {\"sum\": 0.8096799755096435, \"count\": 1, \"min\": 0.8096799755096435, \"max\": 0.8096799755096435}}}\u001b[0m\n",
      "\u001b[34m#metrics {\"StartTime\": 1681738142.3581927, \"EndTime\": 1681738142.3582098, \"Dimensions\": {\"Algorithm\": \"Linear Learner\", \"Host\": \"algo-1\", \"Operation\": \"training\", \"epoch\": 2, \"model\": 10}, \"Metrics\": {\"train_absolute_loss_objective\": {\"sum\": 0.8164974021911621, \"count\": 1, \"min\": 0.8164974021911621, \"max\": 0.8164974021911621}}}\u001b[0m\n",
      "\u001b[34m#metrics {\"StartTime\": 1681738142.3582668, \"EndTime\": 1681738142.358284, \"Dimensions\": {\"Algorithm\": \"Linear Learner\", \"Host\": \"algo-1\", \"Operation\": \"training\", \"epoch\": 2, \"model\": 11}, \"Metrics\": {\"train_absolute_loss_objective\": {\"sum\": 0.8015057277679444, \"count\": 1, \"min\": 0.8015057277679444, \"max\": 0.8015057277679444}}}\u001b[0m\n",
      "\u001b[34m#metrics {\"StartTime\": 1681738142.3583405, \"EndTime\": 1681738142.358351, \"Dimensions\": {\"Algorithm\": \"Linear Learner\", \"Host\": \"algo-1\", \"Operation\": \"training\", \"epoch\": 2, \"model\": 12}, \"Metrics\": {\"train_absolute_loss_objective\": {\"sum\": 0.3479122090339661, \"count\": 1, \"min\": 0.3479122090339661, \"max\": 0.3479122090339661}}}\u001b[0m\n",
      "\u001b[34m#metrics {\"StartTime\": 1681738142.3584075, \"EndTime\": 1681738142.3584263, \"Dimensions\": {\"Algorithm\": \"Linear Learner\", \"Host\": \"algo-1\", \"Operation\": \"training\", \"epoch\": 2, \"model\": 13}, \"Metrics\": {\"train_absolute_loss_objective\": {\"sum\": 0.3980332064628601, \"count\": 1, \"min\": 0.3980332064628601, \"max\": 0.3980332064628601}}}\u001b[0m\n",
      "\u001b[34m#metrics {\"StartTime\": 1681738142.3584785, \"EndTime\": 1681738142.3584888, \"Dimensions\": {\"Algorithm\": \"Linear Learner\", \"Host\": \"algo-1\", \"Operation\": \"training\", \"epoch\": 2, \"model\": 14}, \"Metrics\": {\"train_absolute_loss_objective\": {\"sum\": 0.34769967555999753, \"count\": 1, \"min\": 0.34769967555999753, \"max\": 0.34769967555999753}}}\u001b[0m\n",
      "\u001b[34m#metrics {\"StartTime\": 1681738142.3585458, \"EndTime\": 1681738142.3585632, \"Dimensions\": {\"Algorithm\": \"Linear Learner\", \"Host\": \"algo-1\", \"Operation\": \"training\", \"epoch\": 2, \"model\": 15}, \"Metrics\": {\"train_absolute_loss_objective\": {\"sum\": 0.3713681983947754, \"count\": 1, \"min\": 0.3713681983947754, \"max\": 0.3713681983947754}}}\u001b[0m\n",
      "\u001b[34m#metrics {\"StartTime\": 1681738142.3586411, \"EndTime\": 1681738142.3586586, \"Dimensions\": {\"Algorithm\": \"Linear Learner\", \"Host\": \"algo-1\", \"Operation\": \"training\", \"epoch\": 2, \"model\": 16}, \"Metrics\": {\"train_absolute_loss_objective\": {\"sum\": 0.7857072353363037, \"count\": 1, \"min\": 0.7857072353363037, \"max\": 0.7857072353363037}}}\u001b[0m\n",
      "\u001b[34m#metrics {\"StartTime\": 1681738142.3587115, \"EndTime\": 1681738142.3587277, \"Dimensions\": {\"Algorithm\": \"Linear Learner\", \"Host\": \"algo-1\", \"Operation\": \"training\", \"epoch\": 2, \"model\": 17}, \"Metrics\": {\"train_absolute_loss_objective\": {\"sum\": 0.8372127628326416, \"count\": 1, \"min\": 0.8372127628326416, \"max\": 0.8372127628326416}}}\u001b[0m\n",
      "\u001b[34m#metrics {\"StartTime\": 1681738142.358791, \"EndTime\": 1681738142.3588083, \"Dimensions\": {\"Algorithm\": \"Linear Learner\", \"Host\": \"algo-1\", \"Operation\": \"training\", \"epoch\": 2, \"model\": 18}, \"Metrics\": {\"train_absolute_loss_objective\": {\"sum\": 0.8129393768310547, \"count\": 1, \"min\": 0.8129393768310547, \"max\": 0.8129393768310547}}}\u001b[0m\n",
      "\u001b[34m#metrics {\"StartTime\": 1681738142.358851, \"EndTime\": 1681738142.3588655, \"Dimensions\": {\"Algorithm\": \"Linear Learner\", \"Host\": \"algo-1\", \"Operation\": \"training\", \"epoch\": 2, \"model\": 19}, \"Metrics\": {\"train_absolute_loss_objective\": {\"sum\": 0.8101523208618164, \"count\": 1, \"min\": 0.8101523208618164, \"max\": 0.8101523208618164}}}\u001b[0m\n",
      "\u001b[34m#metrics {\"StartTime\": 1681738142.3589017, \"EndTime\": 1681738142.3589103, \"Dimensions\": {\"Algorithm\": \"Linear Learner\", \"Host\": \"algo-1\", \"Operation\": \"training\", \"epoch\": 2, \"model\": 20}, \"Metrics\": {\"train_absolute_loss_objective\": {\"sum\": 0.5199974822998047, \"count\": 1, \"min\": 0.5199974822998047, \"max\": 0.5199974822998047}}}\u001b[0m\n",
      "\u001b[34m#metrics {\"StartTime\": 1681738142.3589509, \"EndTime\": 1681738142.358966, \"Dimensions\": {\"Algorithm\": \"Linear Learner\", \"Host\": \"algo-1\", \"Operation\": \"training\", \"epoch\": 2, \"model\": 21}, \"Metrics\": {\"train_absolute_loss_objective\": {\"sum\": 0.760307846069336, \"count\": 1, \"min\": 0.760307846069336, \"max\": 0.760307846069336}}}\u001b[0m\n",
      "\u001b[34m#metrics {\"StartTime\": 1681738142.3589983, \"EndTime\": 1681738142.3590062, \"Dimensions\": {\"Algorithm\": \"Linear Learner\", \"Host\": \"algo-1\", \"Operation\": \"training\", \"epoch\": 2, \"model\": 22}, \"Metrics\": {\"train_absolute_loss_objective\": {\"sum\": 0.4859248352050781, \"count\": 1, \"min\": 0.4859248352050781, \"max\": 0.4859248352050781}}}\u001b[0m\n",
      "\u001b[34m#metrics {\"StartTime\": 1681738142.3590407, \"EndTime\": 1681738142.3590498, \"Dimensions\": {\"Algorithm\": \"Linear Learner\", \"Host\": \"algo-1\", \"Operation\": \"training\", \"epoch\": 2, \"model\": 23}, \"Metrics\": {\"train_absolute_loss_objective\": {\"sum\": 0.606665563583374, \"count\": 1, \"min\": 0.606665563583374, \"max\": 0.606665563583374}}}\u001b[0m\n",
      "\u001b[34m#metrics {\"StartTime\": 1681738142.3590972, \"EndTime\": 1681738142.3591118, \"Dimensions\": {\"Algorithm\": \"Linear Learner\", \"Host\": \"algo-1\", \"Operation\": \"training\", \"epoch\": 2, \"model\": 24}, \"Metrics\": {\"train_absolute_loss_objective\": {\"sum\": 0.870132703781128, \"count\": 1, \"min\": 0.870132703781128, \"max\": 0.870132703781128}}}\u001b[0m\n",
      "\u001b[34m#metrics {\"StartTime\": 1681738142.3591614, \"EndTime\": 1681738142.3591714, \"Dimensions\": {\"Algorithm\": \"Linear Learner\", \"Host\": \"algo-1\", \"Operation\": \"training\", \"epoch\": 2, \"model\": 25}, \"Metrics\": {\"train_absolute_loss_objective\": {\"sum\": 0.8647700881958008, \"count\": 1, \"min\": 0.8647700881958008, \"max\": 0.8647700881958008}}}\u001b[0m\n",
      "\u001b[34m#metrics {\"StartTime\": 1681738142.3592136, \"EndTime\": 1681738142.3592293, \"Dimensions\": {\"Algorithm\": \"Linear Learner\", \"Host\": \"algo-1\", \"Operation\": \"training\", \"epoch\": 2, \"model\": 26}, \"Metrics\": {\"train_absolute_loss_objective\": {\"sum\": 0.8640354347229003, \"count\": 1, \"min\": 0.8640354347229003, \"max\": 0.8640354347229003}}}\u001b[0m\n",
      "\u001b[34m#metrics {\"StartTime\": 1681738142.3592806, \"EndTime\": 1681738142.3592973, \"Dimensions\": {\"Algorithm\": \"Linear Learner\", \"Host\": \"algo-1\", \"Operation\": \"training\", \"epoch\": 2, \"model\": 27}, \"Metrics\": {\"train_absolute_loss_objective\": {\"sum\": 0.8739835739135742, \"count\": 1, \"min\": 0.8739835739135742, \"max\": 0.8739835739135742}}}\u001b[0m\n",
      "\u001b[34m#metrics {\"StartTime\": 1681738142.3593502, \"EndTime\": 1681738142.3593678, \"Dimensions\": {\"Algorithm\": \"Linear Learner\", \"Host\": \"algo-1\", \"Operation\": \"training\", \"epoch\": 2, \"model\": 28}, \"Metrics\": {\"train_absolute_loss_objective\": {\"sum\": 1.0528014183044434, \"count\": 1, \"min\": 1.0528014183044434, \"max\": 1.0528014183044434}}}\u001b[0m\n",
      "\u001b[34m#metrics {\"StartTime\": 1681738142.3594282, \"EndTime\": 1681738142.3594468, \"Dimensions\": {\"Algorithm\": \"Linear Learner\", \"Host\": \"algo-1\", \"Operation\": \"training\", \"epoch\": 2, \"model\": 29}, \"Metrics\": {\"train_absolute_loss_objective\": {\"sum\": 1.0526725959777832, \"count\": 1, \"min\": 1.0526725959777832, \"max\": 1.0526725959777832}}}\u001b[0m\n",
      "\u001b[34m#metrics {\"StartTime\": 1681738142.3594952, \"EndTime\": 1681738142.3595111, \"Dimensions\": {\"Algorithm\": \"Linear Learner\", \"Host\": \"algo-1\", \"Operation\": \"training\", \"epoch\": 2, \"model\": 30}, \"Metrics\": {\"train_absolute_loss_objective\": {\"sum\": 1.0365124034881592, \"count\": 1, \"min\": 1.0365124034881592, \"max\": 1.0365124034881592}}}\u001b[0m\n",
      "\u001b[34m#metrics {\"StartTime\": 1681738142.3595715, \"EndTime\": 1681738142.3595896, \"Dimensions\": {\"Algorithm\": \"Linear Learner\", \"Host\": \"algo-1\", \"Operation\": \"training\", \"epoch\": 2, \"model\": 31}, \"Metrics\": {\"train_absolute_loss_objective\": {\"sum\": 1.0655863189697266, \"count\": 1, \"min\": 1.0655863189697266, \"max\": 1.0655863189697266}}}\u001b[0m\n",
      "\u001b[34m[04/17/2023 13:29:02 INFO 140221592430400] #quality_metric: host=algo-1, epoch=2, train absolute_loss_objective <loss>=0.8218663215637207\u001b[0m\n",
      "\u001b[34m[04/17/2023 13:29:02 INFO 140221592430400] #early_stopping_criteria_metric: host=algo-1, epoch=2, criteria=absolute_loss_objective, value=0.3467637848854065\u001b[0m\n",
      "\u001b[34m[04/17/2023 13:29:02 INFO 140221592430400] Epoch 2: Loss improved. Updating best model\u001b[0m\n",
      "\u001b[34m[04/17/2023 13:29:02 INFO 140221592430400] Saving model for epoch: 2\u001b[0m\n",
      "\u001b[34m[04/17/2023 13:29:02 INFO 140221592430400] Saved checkpoint to \"/tmp/tmp8uw3n_0v/mx-mod-0000.params\"\u001b[0m\n",
      "\u001b[34m[04/17/2023 13:29:02 INFO 140221592430400] #progress_metric: host=algo-1, completed 60.0 % of epochs\u001b[0m\n",
      "\u001b[34m#metrics {\"StartTime\": 1681738142.2395802, \"EndTime\": 1681738142.370497, \"Dimensions\": {\"Algorithm\": \"Linear Learner\", \"Host\": \"algo-1\", \"Operation\": \"training\", \"epoch\": 2, \"Meta\": \"training_data_iter\"}, \"Metrics\": {\"Total Records Seen\": {\"sum\": 109.0, \"count\": 1, \"min\": 109, \"max\": 109}, \"Total Batches Seen\": {\"sum\": 25.0, \"count\": 1, \"min\": 25, \"max\": 25}, \"Max Records Seen Between Resets\": {\"sum\": 26.0, \"count\": 1, \"min\": 26, \"max\": 26}, \"Max Batches Seen Between Resets\": {\"sum\": 6.0, \"count\": 1, \"min\": 6, \"max\": 6}, \"Reset Count\": {\"sum\": 5.0, \"count\": 1, \"min\": 5, \"max\": 5}, \"Number of Records Since Last Reset\": {\"sum\": 26.0, \"count\": 1, \"min\": 26, \"max\": 26}, \"Number of Batches Since Last Reset\": {\"sum\": 6.0, \"count\": 1, \"min\": 6, \"max\": 6}}}\u001b[0m\n",
      "\u001b[34m[04/17/2023 13:29:02 INFO 140221592430400] #throughput_metric: host=algo-1, train throughput=198.35589209482356 records/second\u001b[0m\n",
      "\u001b[34m[2023-04-17 13:29:02.499] [tensorio] [info] epoch_stats={\"data_pipeline\": \"/opt/ml/input/data/train\", \"epoch\": 10, \"duration\": 128, \"num_examples\": 6, \"num_bytes\": 1248}\u001b[0m\n",
      "\u001b[34m#metrics {\"StartTime\": 1681738142.499065, \"EndTime\": 1681738142.4991539, \"Dimensions\": {\"Algorithm\": \"Linear Learner\", \"Host\": \"algo-1\", \"Operation\": \"training\", \"epoch\": 3, \"model\": 0}, \"Metrics\": {\"train_absolute_loss_objective\": {\"sum\": 0.7992551898956299, \"count\": 1, \"min\": 0.7992551898956299, \"max\": 0.7992551898956299}}}\u001b[0m\n",
      "\u001b[34m#metrics {\"StartTime\": 1681738142.4992614, \"EndTime\": 1681738142.49928, \"Dimensions\": {\"Algorithm\": \"Linear Learner\", \"Host\": \"algo-1\", \"Operation\": \"training\", \"epoch\": 3, \"model\": 1}, \"Metrics\": {\"train_absolute_loss_objective\": {\"sum\": 0.8190140438079834, \"count\": 1, \"min\": 0.8190140438079834, \"max\": 0.8190140438079834}}}\u001b[0m\n",
      "\u001b[34m#metrics {\"StartTime\": 1681738142.4993405, \"EndTime\": 1681738142.4993558, \"Dimensions\": {\"Algorithm\": \"Linear Learner\", \"Host\": \"algo-1\", \"Operation\": \"training\", \"epoch\": 3, \"model\": 2}, \"Metrics\": {\"train_absolute_loss_objective\": {\"sum\": 0.8016847515106201, \"count\": 1, \"min\": 0.8016847515106201, \"max\": 0.8016847515106201}}}\u001b[0m\n",
      "\u001b[34m#metrics {\"StartTime\": 1681738142.499406, \"EndTime\": 1681738142.4994216, \"Dimensions\": {\"Algorithm\": \"Linear Learner\", \"Host\": \"algo-1\", \"Operation\": \"training\", \"epoch\": 3, \"model\": 3}, \"Metrics\": {\"train_absolute_loss_objective\": {\"sum\": 0.8179890918731689, \"count\": 1, \"min\": 0.8179890918731689, \"max\": 0.8179890918731689}}}\u001b[0m\n",
      "\u001b[34m#metrics {\"StartTime\": 1681738142.4994783, \"EndTime\": 1681738142.4994924, \"Dimensions\": {\"Algorithm\": \"Linear Learner\", \"Host\": \"algo-1\", \"Operation\": \"training\", \"epoch\": 3, \"model\": 4}, \"Metrics\": {\"train_absolute_loss_objective\": {\"sum\": 0.26869877099990847, \"count\": 1, \"min\": 0.26869877099990847, \"max\": 0.26869877099990847}}}\u001b[0m\n",
      "\u001b[34m#metrics {\"StartTime\": 1681738142.4995444, \"EndTime\": 1681738142.4995604, \"Dimensions\": {\"Algorithm\": \"Linear Learner\", \"Host\": \"algo-1\", \"Operation\": \"training\", \"epoch\": 3, \"model\": 5}, \"Metrics\": {\"train_absolute_loss_objective\": {\"sum\": 0.26852739810943604, \"count\": 1, \"min\": 0.26852739810943604, \"max\": 0.26852739810943604}}}\u001b[0m\n",
      "\u001b[34m#metrics {\"StartTime\": 1681738142.4996204, \"EndTime\": 1681738142.4996347, \"Dimensions\": {\"Algorithm\": \"Linear Learner\", \"Host\": \"algo-1\", \"Operation\": \"training\", \"epoch\": 3, \"model\": 6}, \"Metrics\": {\"train_absolute_loss_objective\": {\"sum\": 0.3501150584220886, \"count\": 1, \"min\": 0.3501150584220886, \"max\": 0.3501150584220886}}}\u001b[0m\n",
      "\u001b[34m#metrics {\"StartTime\": 1681738142.4996862, \"EndTime\": 1681738142.4997022, \"Dimensions\": {\"Algorithm\": \"Linear Learner\", \"Host\": \"algo-1\", \"Operation\": \"training\", \"epoch\": 3, \"model\": 7}, \"Metrics\": {\"train_absolute_loss_objective\": {\"sum\": 0.25292635202407837, \"count\": 1, \"min\": 0.25292635202407837, \"max\": 0.25292635202407837}}}\u001b[0m\n",
      "\u001b[34m#metrics {\"StartTime\": 1681738142.4997592, \"EndTime\": 1681738142.4997737, \"Dimensions\": {\"Algorithm\": \"Linear Learner\", \"Host\": \"algo-1\", \"Operation\": \"training\", \"epoch\": 3, \"model\": 8}, \"Metrics\": {\"train_absolute_loss_objective\": {\"sum\": 0.8555714225769043, \"count\": 1, \"min\": 0.8555714225769043, \"max\": 0.8555714225769043}}}\u001b[0m\n",
      "\u001b[34m#metrics {\"StartTime\": 1681738142.499825, \"EndTime\": 1681738142.49984, \"Dimensions\": {\"Algorithm\": \"Linear Learner\", \"Host\": \"algo-1\", \"Operation\": \"training\", \"epoch\": 3, \"model\": 9}, \"Metrics\": {\"train_absolute_loss_objective\": {\"sum\": 0.7868430423736572, \"count\": 1, \"min\": 0.7868430423736572, \"max\": 0.7868430423736572}}}\u001b[0m\n",
      "\u001b[34m#metrics {\"StartTime\": 1681738142.499897, \"EndTime\": 1681738142.4999104, \"Dimensions\": {\"Algorithm\": \"Linear Learner\", \"Host\": \"algo-1\", \"Operation\": \"training\", \"epoch\": 3, \"model\": 10}, \"Metrics\": {\"train_absolute_loss_objective\": {\"sum\": 0.7938888359069824, \"count\": 1, \"min\": 0.7938888359069824, \"max\": 0.7938888359069824}}}\u001b[0m\n",
      "\u001b[34m#metrics {\"StartTime\": 1681738142.500012, \"EndTime\": 1681738142.5000298, \"Dimensions\": {\"Algorithm\": \"Linear Learner\", \"Host\": \"algo-1\", \"Operation\": \"training\", \"epoch\": 3, \"model\": 11}, \"Metrics\": {\"train_absolute_loss_objective\": {\"sum\": 0.778668909072876, \"count\": 1, \"min\": 0.778668909072876, \"max\": 0.778668909072876}}}\u001b[0m\n",
      "\u001b[34m#metrics {\"StartTime\": 1681738142.5000834, \"EndTime\": 1681738142.5000987, \"Dimensions\": {\"Algorithm\": \"Linear Learner\", \"Host\": \"algo-1\", \"Operation\": \"training\", \"epoch\": 3, \"model\": 12}, \"Metrics\": {\"train_absolute_loss_objective\": {\"sum\": 0.32424901485443114, \"count\": 1, \"min\": 0.32424901485443114, \"max\": 0.32424901485443114}}}\u001b[0m\n",
      "\u001b[34m#metrics {\"StartTime\": 1681738142.5001574, \"EndTime\": 1681738142.500173, \"Dimensions\": {\"Algorithm\": \"Linear Learner\", \"Host\": \"algo-1\", \"Operation\": \"training\", \"epoch\": 3, \"model\": 13}, \"Metrics\": {\"train_absolute_loss_objective\": {\"sum\": 0.32783442974090576, \"count\": 1, \"min\": 0.32783442974090576, \"max\": 0.32783442974090576}}}\u001b[0m\n",
      "\u001b[34m#metrics {\"StartTime\": 1681738142.500227, \"EndTime\": 1681738142.5002403, \"Dimensions\": {\"Algorithm\": \"Linear Learner\", \"Host\": \"algo-1\", \"Operation\": \"training\", \"epoch\": 3, \"model\": 14}, \"Metrics\": {\"train_absolute_loss_objective\": {\"sum\": 0.32475425243377687, \"count\": 1, \"min\": 0.32475425243377687, \"max\": 0.32475425243377687}}}\u001b[0m\n",
      "\u001b[34m#metrics {\"StartTime\": 1681738142.5002897, \"EndTime\": 1681738142.500307, \"Dimensions\": {\"Algorithm\": \"Linear Learner\", \"Host\": \"algo-1\", \"Operation\": \"training\", \"epoch\": 3, \"model\": 15}, \"Metrics\": {\"train_absolute_loss_objective\": {\"sum\": 0.27079138994216917, \"count\": 1, \"min\": 0.27079138994216917, \"max\": 0.27079138994216917}}}\u001b[0m\n",
      "\u001b[34m#metrics {\"StartTime\": 1681738142.500367, \"EndTime\": 1681738142.500383, \"Dimensions\": {\"Algorithm\": \"Linear Learner\", \"Host\": \"algo-1\", \"Operation\": \"training\", \"epoch\": 3, \"model\": 16}, \"Metrics\": {\"train_absolute_loss_objective\": {\"sum\": 0.7634163093566895, \"count\": 1, \"min\": 0.7634163093566895, \"max\": 0.7634163093566895}}}\u001b[0m\n",
      "\u001b[34m#metrics {\"StartTime\": 1681738142.500436, \"EndTime\": 1681738142.5004542, \"Dimensions\": {\"Algorithm\": \"Linear Learner\", \"Host\": \"algo-1\", \"Operation\": \"training\", \"epoch\": 3, \"model\": 17}, \"Metrics\": {\"train_absolute_loss_objective\": {\"sum\": 0.8146331882476807, \"count\": 1, \"min\": 0.8146331882476807, \"max\": 0.8146331882476807}}}\u001b[0m\n",
      "\u001b[34m#metrics {\"StartTime\": 1681738142.5005107, \"EndTime\": 1681738142.5005248, \"Dimensions\": {\"Algorithm\": \"Linear Learner\", \"Host\": \"algo-1\", \"Operation\": \"training\", \"epoch\": 3, \"model\": 18}, \"Metrics\": {\"train_absolute_loss_objective\": {\"sum\": 0.790613374710083, \"count\": 1, \"min\": 0.790613374710083, \"max\": 0.790613374710083}}}\u001b[0m\n",
      "\u001b[34m#metrics {\"StartTime\": 1681738142.500575, \"EndTime\": 1681738142.5005891, \"Dimensions\": {\"Algorithm\": \"Linear Learner\", \"Host\": \"algo-1\", \"Operation\": \"training\", \"epoch\": 3, \"model\": 19}, \"Metrics\": {\"train_absolute_loss_objective\": {\"sum\": 0.7876049423217774, \"count\": 1, \"min\": 0.7876049423217774, \"max\": 0.7876049423217774}}}\u001b[0m\n",
      "\u001b[34m#metrics {\"StartTime\": 1681738142.500645, \"EndTime\": 1681738142.5006623, \"Dimensions\": {\"Algorithm\": \"Linear Learner\", \"Host\": \"algo-1\", \"Operation\": \"training\", \"epoch\": 3, \"model\": 20}, \"Metrics\": {\"train_absolute_loss_objective\": {\"sum\": 0.4733405876159668, \"count\": 1, \"min\": 0.4733405876159668, \"max\": 0.4733405876159668}}}\u001b[0m\n",
      "\u001b[34m#metrics {\"StartTime\": 1681738142.5007155, \"EndTime\": 1681738142.500729, \"Dimensions\": {\"Algorithm\": \"Linear Learner\", \"Host\": \"algo-1\", \"Operation\": \"training\", \"epoch\": 3, \"model\": 21}, \"Metrics\": {\"train_absolute_loss_objective\": {\"sum\": 0.5026095485687256, \"count\": 1, \"min\": 0.5026095485687256, \"max\": 0.5026095485687256}}}\u001b[0m\n",
      "\u001b[34m#metrics {\"StartTime\": 1681738142.5007784, \"EndTime\": 1681738142.500795, \"Dimensions\": {\"Algorithm\": \"Linear Learner\", \"Host\": \"algo-1\", \"Operation\": \"training\", \"epoch\": 3, \"model\": 22}, \"Metrics\": {\"train_absolute_loss_objective\": {\"sum\": 0.43895472526550294, \"count\": 1, \"min\": 0.43895472526550294, \"max\": 0.43895472526550294}}}\u001b[0m\n",
      "\u001b[34m#metrics {\"StartTime\": 1681738142.5008516, \"EndTime\": 1681738142.5008664, \"Dimensions\": {\"Algorithm\": \"Linear Learner\", \"Host\": \"algo-1\", \"Operation\": \"training\", \"epoch\": 3, \"model\": 23}, \"Metrics\": {\"train_absolute_loss_objective\": {\"sum\": 0.5318176746368408, \"count\": 1, \"min\": 0.5318176746368408, \"max\": 0.5318176746368408}}}\u001b[0m\n",
      "\u001b[34m#metrics {\"StartTime\": 1681738142.500918, \"EndTime\": 1681738142.5009325, \"Dimensions\": {\"Algorithm\": \"Linear Learner\", \"Host\": \"algo-1\", \"Operation\": \"training\", \"epoch\": 3, \"model\": 24}, \"Metrics\": {\"train_absolute_loss_objective\": {\"sum\": 0.8796207237243653, \"count\": 1, \"min\": 0.8796207237243653, \"max\": 0.8796207237243653}}}\u001b[0m\n",
      "\u001b[34m#metrics {\"StartTime\": 1681738142.500988, \"EndTime\": 1681738142.5010023, \"Dimensions\": {\"Algorithm\": \"Linear Learner\", \"Host\": \"algo-1\", \"Operation\": \"training\", \"epoch\": 3, \"model\": 25}, \"Metrics\": {\"train_absolute_loss_objective\": {\"sum\": 0.8600721168518066, \"count\": 1, \"min\": 0.8600721168518066, \"max\": 0.8600721168518066}}}\u001b[0m\n",
      "\u001b[34m#metrics {\"StartTime\": 1681738142.501052, \"EndTime\": 1681738142.5010662, \"Dimensions\": {\"Algorithm\": \"Linear Learner\", \"Host\": \"algo-1\", \"Operation\": \"training\", \"epoch\": 3, \"model\": 26}, \"Metrics\": {\"train_absolute_loss_objective\": {\"sum\": 0.8687710571289062, \"count\": 1, \"min\": 0.8687710571289062, \"max\": 0.8687710571289062}}}\u001b[0m\n",
      "\u001b[34m#metrics {\"StartTime\": 1681738142.501124, \"EndTime\": 1681738142.5011399, \"Dimensions\": {\"Algorithm\": \"Linear Learner\", \"Host\": \"algo-1\", \"Operation\": \"training\", \"epoch\": 3, \"model\": 27}, \"Metrics\": {\"train_absolute_loss_objective\": {\"sum\": 0.8724534034729003, \"count\": 1, \"min\": 0.8724534034729003, \"max\": 0.8724534034729003}}}\u001b[0m\n",
      "\u001b[34m#metrics {\"StartTime\": 1681738142.5011928, \"EndTime\": 1681738142.501206, \"Dimensions\": {\"Algorithm\": \"Linear Learner\", \"Host\": \"algo-1\", \"Operation\": \"training\", \"epoch\": 3, \"model\": 28}, \"Metrics\": {\"train_absolute_loss_objective\": {\"sum\": 0.9910449028015137, \"count\": 1, \"min\": 0.9910449028015137, \"max\": 0.9910449028015137}}}\u001b[0m\n",
      "\u001b[34m#metrics {\"StartTime\": 1681738142.5012553, \"EndTime\": 1681738142.5012712, \"Dimensions\": {\"Algorithm\": \"Linear Learner\", \"Host\": \"algo-1\", \"Operation\": \"training\", \"epoch\": 3, \"model\": 29}, \"Metrics\": {\"train_absolute_loss_objective\": {\"sum\": 0.9936561965942383, \"count\": 1, \"min\": 0.9936561965942383, \"max\": 0.9936561965942383}}}\u001b[0m\n",
      "\u001b[34m#metrics {\"StartTime\": 1681738142.5013278, \"EndTime\": 1681738142.501342, \"Dimensions\": {\"Algorithm\": \"Linear Learner\", \"Host\": \"algo-1\", \"Operation\": \"training\", \"epoch\": 3, \"model\": 30}, \"Metrics\": {\"train_absolute_loss_objective\": {\"sum\": 0.9407832431793213, \"count\": 1, \"min\": 0.9407832431793213, \"max\": 0.9407832431793213}}}\u001b[0m\n",
      "\u001b[34m#metrics {\"StartTime\": 1681738142.5013928, \"EndTime\": 1681738142.501408, \"Dimensions\": {\"Algorithm\": \"Linear Learner\", \"Host\": \"algo-1\", \"Operation\": \"training\", \"epoch\": 3, \"model\": 31}, \"Metrics\": {\"train_absolute_loss_objective\": {\"sum\": 0.9747333145141601, \"count\": 1, \"min\": 0.9747333145141601, \"max\": 0.9747333145141601}}}\u001b[0m\n",
      "\u001b[34m[04/17/2023 13:29:02 INFO 140221592430400] #quality_metric: host=algo-1, epoch=3, train absolute_loss_objective <loss>=0.7992551898956299\u001b[0m\n",
      "\u001b[34m[04/17/2023 13:29:02 INFO 140221592430400] #early_stopping_criteria_metric: host=algo-1, epoch=3, criteria=absolute_loss_objective, value=0.25292635202407837\u001b[0m\n",
      "\u001b[34m[04/17/2023 13:29:02 INFO 140221592430400] Epoch 3: Loss improved. Updating best model\u001b[0m\n",
      "\u001b[34m[04/17/2023 13:29:02 INFO 140221592430400] Saving model for epoch: 3\u001b[0m\n",
      "\u001b[34m[04/17/2023 13:29:02 INFO 140221592430400] Saved checkpoint to \"/tmp/tmp_9cb1udw/mx-mod-0000.params\"\u001b[0m\n",
      "\u001b[34m[04/17/2023 13:29:02 INFO 140221592430400] #progress_metric: host=algo-1, completed 80.0 % of epochs\u001b[0m\n",
      "\u001b[34m#metrics {\"StartTime\": 1681738142.3708081, \"EndTime\": 1681738142.5106742, \"Dimensions\": {\"Algorithm\": \"Linear Learner\", \"Host\": \"algo-1\", \"Operation\": \"training\", \"epoch\": 3, \"Meta\": \"training_data_iter\"}, \"Metrics\": {\"Total Records Seen\": {\"sum\": 135.0, \"count\": 1, \"min\": 135, \"max\": 135}, \"Total Batches Seen\": {\"sum\": 31.0, \"count\": 1, \"min\": 31, \"max\": 31}, \"Max Records Seen Between Resets\": {\"sum\": 26.0, \"count\": 1, \"min\": 26, \"max\": 26}, \"Max Batches Seen Between Resets\": {\"sum\": 6.0, \"count\": 1, \"min\": 6, \"max\": 6}, \"Reset Count\": {\"sum\": 6.0, \"count\": 1, \"min\": 6, \"max\": 6}, \"Number of Records Since Last Reset\": {\"sum\": 26.0, \"count\": 1, \"min\": 26, \"max\": 26}, \"Number of Batches Since Last Reset\": {\"sum\": 6.0, \"count\": 1, \"min\": 6, \"max\": 6}}}\u001b[0m\n",
      "\u001b[34m[04/17/2023 13:29:02 INFO 140221592430400] #throughput_metric: host=algo-1, train throughput=185.72490032682242 records/second\u001b[0m\n",
      "\u001b[34m[2023-04-17 13:29:02.654] [tensorio] [info] epoch_stats={\"data_pipeline\": \"/opt/ml/input/data/train\", \"epoch\": 12, \"duration\": 143, \"num_examples\": 6, \"num_bytes\": 1248}\u001b[0m\n",
      "\u001b[34m#metrics {\"StartTime\": 1681738142.6548464, \"EndTime\": 1681738142.6549318, \"Dimensions\": {\"Algorithm\": \"Linear Learner\", \"Host\": \"algo-1\", \"Operation\": \"training\", \"epoch\": 4, \"model\": 0}, \"Metrics\": {\"train_absolute_loss_objective\": {\"sum\": 0.7772013664245605, \"count\": 1, \"min\": 0.7772013664245605, \"max\": 0.7772013664245605}}}\u001b[0m\n",
      "\u001b[34m#metrics {\"StartTime\": 1681738142.655029, \"EndTime\": 1681738142.655052, \"Dimensions\": {\"Algorithm\": \"Linear Learner\", \"Host\": \"algo-1\", \"Operation\": \"training\", \"epoch\": 4, \"model\": 1}, \"Metrics\": {\"train_absolute_loss_objective\": {\"sum\": 0.7967016410827636, \"count\": 1, \"min\": 0.7967016410827636, \"max\": 0.7967016410827636}}}\u001b[0m\n",
      "\u001b[34m#metrics {\"StartTime\": 1681738142.6551883, \"EndTime\": 1681738142.6552062, \"Dimensions\": {\"Algorithm\": \"Linear Learner\", \"Host\": \"algo-1\", \"Operation\": \"training\", \"epoch\": 4, \"model\": 2}, \"Metrics\": {\"train_absolute_loss_objective\": {\"sum\": 0.7796255493164063, \"count\": 1, \"min\": 0.7796255493164063, \"max\": 0.7796255493164063}}}\u001b[0m\n",
      "\u001b[34m#metrics {\"StartTime\": 1681738142.6553109, \"EndTime\": 1681738142.6553278, \"Dimensions\": {\"Algorithm\": \"Linear Learner\", \"Host\": \"algo-1\", \"Operation\": \"training\", \"epoch\": 4, \"model\": 3}, \"Metrics\": {\"train_absolute_loss_objective\": {\"sum\": 0.7956789588928223, \"count\": 1, \"min\": 0.7956789588928223, \"max\": 0.7956789588928223}}}\u001b[0m\n",
      "\u001b[34m#metrics {\"StartTime\": 1681738142.6553807, \"EndTime\": 1681738142.6553936, \"Dimensions\": {\"Algorithm\": \"Linear Learner\", \"Host\": \"algo-1\", \"Operation\": \"training\", \"epoch\": 4, \"model\": 4}, \"Metrics\": {\"train_absolute_loss_objective\": {\"sum\": 0.3077921462059021, \"count\": 1, \"min\": 0.3077921462059021, \"max\": 0.3077921462059021}}}\u001b[0m\n",
      "\u001b[34m#metrics {\"StartTime\": 1681738142.655468, \"EndTime\": 1681738142.6554832, \"Dimensions\": {\"Algorithm\": \"Linear Learner\", \"Host\": \"algo-1\", \"Operation\": \"training\", \"epoch\": 4, \"model\": 5}, \"Metrics\": {\"train_absolute_loss_objective\": {\"sum\": 0.30747145652770996, \"count\": 1, \"min\": 0.30747145652770996, \"max\": 0.30747145652770996}}}\u001b[0m\n",
      "\u001b[34m#metrics {\"StartTime\": 1681738142.6555393, \"EndTime\": 1681738142.6555526, \"Dimensions\": {\"Algorithm\": \"Linear Learner\", \"Host\": \"algo-1\", \"Operation\": \"training\", \"epoch\": 4, \"model\": 6}, \"Metrics\": {\"train_absolute_loss_objective\": {\"sum\": 0.3713561248779297, \"count\": 1, \"min\": 0.3713561248779297, \"max\": 0.3713561248779297}}}\u001b[0m\n",
      "\u001b[34m#metrics {\"StartTime\": 1681738142.6556025, \"EndTime\": 1681738142.6556144, \"Dimensions\": {\"Algorithm\": \"Linear Learner\", \"Host\": \"algo-1\", \"Operation\": \"training\", \"epoch\": 4, \"model\": 7}, \"Metrics\": {\"train_absolute_loss_objective\": {\"sum\": 0.22574896812438966, \"count\": 1, \"min\": 0.22574896812438966, \"max\": 0.22574896812438966}}}\u001b[0m\n",
      "\u001b[34m#metrics {\"StartTime\": 1681738142.6556587, \"EndTime\": 1681738142.6556723, \"Dimensions\": {\"Algorithm\": \"Linear Learner\", \"Host\": \"algo-1\", \"Operation\": \"training\", \"epoch\": 4, \"model\": 8}, \"Metrics\": {\"train_absolute_loss_objective\": {\"sum\": 0.833226146697998, \"count\": 1, \"min\": 0.833226146697998, \"max\": 0.833226146697998}}}\u001b[0m\n",
      "\u001b[34m#metrics {\"StartTime\": 1681738142.6557155, \"EndTime\": 1681738142.655727, \"Dimensions\": {\"Algorithm\": \"Linear Learner\", \"Host\": \"algo-1\", \"Operation\": \"training\", \"epoch\": 4, \"model\": 9}, \"Metrics\": {\"train_absolute_loss_objective\": {\"sum\": 0.7646063709259033, \"count\": 1, \"min\": 0.7646063709259033, \"max\": 0.7646063709259033}}}\u001b[0m\n",
      "\u001b[34m#metrics {\"StartTime\": 1681738142.655816, \"EndTime\": 1681738142.6558318, \"Dimensions\": {\"Algorithm\": \"Linear Learner\", \"Host\": \"algo-1\", \"Operation\": \"training\", \"epoch\": 4, \"model\": 10}, \"Metrics\": {\"train_absolute_loss_objective\": {\"sum\": 0.771851167678833, \"count\": 1, \"min\": 0.771851167678833, \"max\": 0.771851167678833}}}\u001b[0m\n",
      "\u001b[34m#metrics {\"StartTime\": 1681738142.6558833, \"EndTime\": 1681738142.6558957, \"Dimensions\": {\"Algorithm\": \"Linear Learner\", \"Host\": \"algo-1\", \"Operation\": \"training\", \"epoch\": 4, \"model\": 11}, \"Metrics\": {\"train_absolute_loss_objective\": {\"sum\": 0.7564504146575928, \"count\": 1, \"min\": 0.7564504146575928, \"max\": 0.7564504146575928}}}\u001b[0m\n",
      "\u001b[34m#metrics {\"StartTime\": 1681738142.6559386, \"EndTime\": 1681738142.6559498, \"Dimensions\": {\"Algorithm\": \"Linear Learner\", \"Host\": \"algo-1\", \"Operation\": \"training\", \"epoch\": 4, \"model\": 12}, \"Metrics\": {\"train_absolute_loss_objective\": {\"sum\": 0.3789591455459595, \"count\": 1, \"min\": 0.3789591455459595, \"max\": 0.3789591455459595}}}\u001b[0m\n",
      "\u001b[34m#metrics {\"StartTime\": 1681738142.6559973, \"EndTime\": 1681738142.6560097, \"Dimensions\": {\"Algorithm\": \"Linear Learner\", \"Host\": \"algo-1\", \"Operation\": \"training\", \"epoch\": 4, \"model\": 13}, \"Metrics\": {\"train_absolute_loss_objective\": {\"sum\": 0.34268324375152587, \"count\": 1, \"min\": 0.34268324375152587, \"max\": 0.34268324375152587}}}\u001b[0m\n",
      "\u001b[34m#metrics {\"StartTime\": 1681738142.6560848, \"EndTime\": 1681738142.6561012, \"Dimensions\": {\"Algorithm\": \"Linear Learner\", \"Host\": \"algo-1\", \"Operation\": \"training\", \"epoch\": 4, \"model\": 14}, \"Metrics\": {\"train_absolute_loss_objective\": {\"sum\": 0.37933907985687254, \"count\": 1, \"min\": 0.37933907985687254, \"max\": 0.37933907985687254}}}\u001b[0m\n",
      "\u001b[34m#metrics {\"StartTime\": 1681738142.6561568, \"EndTime\": 1681738142.6561692, \"Dimensions\": {\"Algorithm\": \"Linear Learner\", \"Host\": \"algo-1\", \"Operation\": \"training\", \"epoch\": 4, \"model\": 15}, \"Metrics\": {\"train_absolute_loss_objective\": {\"sum\": 0.27064999341964724, \"count\": 1, \"min\": 0.27064999341964724, \"max\": 0.27064999341964724}}}\u001b[0m\n",
      "\u001b[34m#metrics {\"StartTime\": 1681738142.6562517, \"EndTime\": 1681738142.6562655, \"Dimensions\": {\"Algorithm\": \"Linear Learner\", \"Host\": \"algo-1\", \"Operation\": \"training\", \"epoch\": 4, \"model\": 16}, \"Metrics\": {\"train_absolute_loss_objective\": {\"sum\": 0.7419594860076905, \"count\": 1, \"min\": 0.7419594860076905, \"max\": 0.7419594860076905}}}\u001b[0m\n",
      "\u001b[34m#metrics {\"StartTime\": 1681738142.6563208, \"EndTime\": 1681738142.6563332, \"Dimensions\": {\"Algorithm\": \"Linear Learner\", \"Host\": \"algo-1\", \"Operation\": \"training\", \"epoch\": 4, \"model\": 17}, \"Metrics\": {\"train_absolute_loss_objective\": {\"sum\": 0.7927781295776367, \"count\": 1, \"min\": 0.7927781295776367, \"max\": 0.7927781295776367}}}\u001b[0m\n",
      "\u001b[34m#metrics {\"StartTime\": 1681738142.6563835, \"EndTime\": 1681738142.6563957, \"Dimensions\": {\"Algorithm\": \"Linear Learner\", \"Host\": \"algo-1\", \"Operation\": \"training\", \"epoch\": 4, \"model\": 18}, \"Metrics\": {\"train_absolute_loss_objective\": {\"sum\": 0.7690527439117432, \"count\": 1, \"min\": 0.7690527439117432, \"max\": 0.7690527439117432}}}\u001b[0m\n",
      "\u001b[34m#metrics {\"StartTime\": 1681738142.6564453, \"EndTime\": 1681738142.6564572, \"Dimensions\": {\"Algorithm\": \"Linear Learner\", \"Host\": \"algo-1\", \"Operation\": \"training\", \"epoch\": 4, \"model\": 19}, \"Metrics\": {\"train_absolute_loss_objective\": {\"sum\": 0.7658501052856446, \"count\": 1, \"min\": 0.7658501052856446, \"max\": 0.7658501052856446}}}\u001b[0m\n",
      "\u001b[34m#metrics {\"StartTime\": 1681738142.656551, \"EndTime\": 1681738142.6565676, \"Dimensions\": {\"Algorithm\": \"Linear Learner\", \"Host\": \"algo-1\", \"Operation\": \"training\", \"epoch\": 4, \"model\": 20}, \"Metrics\": {\"train_absolute_loss_objective\": {\"sum\": 0.48641003608703615, \"count\": 1, \"min\": 0.48641003608703615, \"max\": 0.48641003608703615}}}\u001b[0m\n",
      "\u001b[34m#metrics {\"StartTime\": 1681738142.6566591, \"EndTime\": 1681738142.656674, \"Dimensions\": {\"Algorithm\": \"Linear Learner\", \"Host\": \"algo-1\", \"Operation\": \"training\", \"epoch\": 4, \"model\": 21}, \"Metrics\": {\"train_absolute_loss_objective\": {\"sum\": 0.4143341827392578, \"count\": 1, \"min\": 0.4143341827392578, \"max\": 0.4143341827392578}}}\u001b[0m\n",
      "\u001b[34m#metrics {\"StartTime\": 1681738142.656863, \"EndTime\": 1681738142.6568806, \"Dimensions\": {\"Algorithm\": \"Linear Learner\", \"Host\": \"algo-1\", \"Operation\": \"training\", \"epoch\": 4, \"model\": 22}, \"Metrics\": {\"train_absolute_loss_objective\": {\"sum\": 0.3423953723907471, \"count\": 1, \"min\": 0.3423953723907471, \"max\": 0.3423953723907471}}}\u001b[0m\n",
      "\u001b[34m#metrics {\"StartTime\": 1681738142.6570196, \"EndTime\": 1681738142.657036, \"Dimensions\": {\"Algorithm\": \"Linear Learner\", \"Host\": \"algo-1\", \"Operation\": \"training\", \"epoch\": 4, \"model\": 23}, \"Metrics\": {\"train_absolute_loss_objective\": {\"sum\": 0.5515204000473023, \"count\": 1, \"min\": 0.5515204000473023, \"max\": 0.5515204000473023}}}\u001b[0m\n",
      "\u001b[34m#metrics {\"StartTime\": 1681738142.6572092, \"EndTime\": 1681738142.6572268, \"Dimensions\": {\"Algorithm\": \"Linear Learner\", \"Host\": \"algo-1\", \"Operation\": \"training\", \"epoch\": 4, \"model\": 24}, \"Metrics\": {\"train_absolute_loss_objective\": {\"sum\": 0.8813095569610596, \"count\": 1, \"min\": 0.8813095569610596, \"max\": 0.8813095569610596}}}\u001b[0m\n",
      "\u001b[34m#metrics {\"StartTime\": 1681738142.657419, \"EndTime\": 1681738142.6574795, \"Dimensions\": {\"Algorithm\": \"Linear Learner\", \"Host\": \"algo-1\", \"Operation\": \"training\", \"epoch\": 4, \"model\": 25}, \"Metrics\": {\"train_absolute_loss_objective\": {\"sum\": 0.8634628582000733, \"count\": 1, \"min\": 0.8634628582000733, \"max\": 0.8634628582000733}}}\u001b[0m\n",
      "\u001b[34m#metrics {\"StartTime\": 1681738142.6576626, \"EndTime\": 1681738142.6576822, \"Dimensions\": {\"Algorithm\": \"Linear Learner\", \"Host\": \"algo-1\", \"Operation\": \"training\", \"epoch\": 4, \"model\": 26}, \"Metrics\": {\"train_absolute_loss_objective\": {\"sum\": 0.8731788349151611, \"count\": 1, \"min\": 0.8731788349151611, \"max\": 0.8731788349151611}}}\u001b[0m\n",
      "\u001b[34m#metrics {\"StartTime\": 1681738142.6578212, \"EndTime\": 1681738142.6578372, \"Dimensions\": {\"Algorithm\": \"Linear Learner\", \"Host\": \"algo-1\", \"Operation\": \"training\", \"epoch\": 4, \"model\": 27}, \"Metrics\": {\"train_absolute_loss_objective\": {\"sum\": 0.8678983497619629, \"count\": 1, \"min\": 0.8678983497619629, \"max\": 0.8678983497619629}}}\u001b[0m\n",
      "\u001b[34m#metrics {\"StartTime\": 1681738142.657988, \"EndTime\": 1681738142.6580474, \"Dimensions\": {\"Algorithm\": \"Linear Learner\", \"Host\": \"algo-1\", \"Operation\": \"training\", \"epoch\": 4, \"model\": 28}, \"Metrics\": {\"train_absolute_loss_objective\": {\"sum\": 0.9253230094909668, \"count\": 1, \"min\": 0.9253230094909668, \"max\": 0.9253230094909668}}}\u001b[0m\n",
      "\u001b[34m#metrics {\"StartTime\": 1681738142.6581836, \"EndTime\": 1681738142.6582334, \"Dimensions\": {\"Algorithm\": \"Linear Learner\", \"Host\": \"algo-1\", \"Operation\": \"training\", \"epoch\": 4, \"model\": 29}, \"Metrics\": {\"train_absolute_loss_objective\": {\"sum\": 0.9313173770904541, \"count\": 1, \"min\": 0.9313173770904541, \"max\": 0.9313173770904541}}}\u001b[0m\n",
      "\u001b[34m#metrics {\"StartTime\": 1681738142.6583645, \"EndTime\": 1681738142.6584156, \"Dimensions\": {\"Algorithm\": \"Linear Learner\", \"Host\": \"algo-1\", \"Operation\": \"training\", \"epoch\": 4, \"model\": 30}, \"Metrics\": {\"train_absolute_loss_objective\": {\"sum\": 1.0431179046630858, \"count\": 1, \"min\": 1.0431179046630858, \"max\": 1.0431179046630858}}}\u001b[0m\n",
      "\u001b[34m#metrics {\"StartTime\": 1681738142.6585407, \"EndTime\": 1681738142.6586053, \"Dimensions\": {\"Algorithm\": \"Linear Learner\", \"Host\": \"algo-1\", \"Operation\": \"training\", \"epoch\": 4, \"model\": 31}, \"Metrics\": {\"train_absolute_loss_objective\": {\"sum\": 0.9445767688751221, \"count\": 1, \"min\": 0.9445767688751221, \"max\": 0.9445767688751221}}}\u001b[0m\n",
      "\u001b[34m[04/17/2023 13:29:02 INFO 140221592430400] #quality_metric: host=algo-1, epoch=4, train absolute_loss_objective <loss>=0.7772013664245605\u001b[0m\n",
      "\u001b[34m[04/17/2023 13:29:02 INFO 140221592430400] #early_stopping_criteria_metric: host=algo-1, epoch=4, criteria=absolute_loss_objective, value=0.22574896812438966\u001b[0m\n",
      "\u001b[34m[04/17/2023 13:29:02 INFO 140221592430400] Epoch 4: Loss improved. Updating best model\u001b[0m\n",
      "\u001b[34m[04/17/2023 13:29:02 INFO 140221592430400] Saving model for epoch: 4\u001b[0m\n",
      "\u001b[34m[04/17/2023 13:29:02 INFO 140221592430400] Saved checkpoint to \"/tmp/tmpctcj63d_/mx-mod-0000.params\"\u001b[0m\n",
      "\u001b[34m[04/17/2023 13:29:02 INFO 140221592430400] #progress_metric: host=algo-1, completed 100.0 % of epochs\u001b[0m\n",
      "\u001b[34m#metrics {\"StartTime\": 1681738142.5109966, \"EndTime\": 1681738142.6709063, \"Dimensions\": {\"Algorithm\": \"Linear Learner\", \"Host\": \"algo-1\", \"Operation\": \"training\", \"epoch\": 4, \"Meta\": \"training_data_iter\"}, \"Metrics\": {\"Total Records Seen\": {\"sum\": 161.0, \"count\": 1, \"min\": 161, \"max\": 161}, \"Total Batches Seen\": {\"sum\": 37.0, \"count\": 1, \"min\": 37, \"max\": 37}, \"Max Records Seen Between Resets\": {\"sum\": 26.0, \"count\": 1, \"min\": 26, \"max\": 26}, \"Max Batches Seen Between Resets\": {\"sum\": 6.0, \"count\": 1, \"min\": 6, \"max\": 6}, \"Reset Count\": {\"sum\": 7.0, \"count\": 1, \"min\": 7, \"max\": 7}, \"Number of Records Since Last Reset\": {\"sum\": 26.0, \"count\": 1, \"min\": 26, \"max\": 26}, \"Number of Batches Since Last Reset\": {\"sum\": 6.0, \"count\": 1, \"min\": 6, \"max\": 6}}}\u001b[0m\n",
      "\u001b[34m[04/17/2023 13:29:02 INFO 140221592430400] #throughput_metric: host=algo-1, train throughput=162.1442575468991 records/second\u001b[0m\n",
      "\u001b[34m[04/17/2023 13:29:02 WARNING 140221592430400] wait_for_all_workers will not sync workers since the kv store is not running distributed\u001b[0m\n",
      "\u001b[34m[04/17/2023 13:29:02 WARNING 140221592430400] wait_for_all_workers will not sync workers since the kv store is not running distributed\u001b[0m\n",
      "\u001b[34m[2023-04-17 13:29:02.672] [tensorio] [info] epoch_stats={\"data_pipeline\": \"/opt/ml/input/data/train\", \"epoch\": 14, \"duration\": 0, \"num_examples\": 1, \"num_bytes\": 240}\u001b[0m\n",
      "\u001b[34m[2023-04-17 13:29:02.690] [tensorio] [info] epoch_stats={\"data_pipeline\": \"/opt/ml/input/data/train\", \"epoch\": 16, \"duration\": 12, \"num_examples\": 6, \"num_bytes\": 1248}\u001b[0m\n",
      "\u001b[34m[04/17/2023 13:29:02 INFO 140221592430400] #train_score (algo-1) : ('absolute_loss_objective', 4987.489633413462)\u001b[0m\n",
      "\u001b[34m[04/17/2023 13:29:02 INFO 140221592430400] #train_score (algo-1) : ('mse', 35405523.84615385)\u001b[0m\n",
      "\u001b[34m[04/17/2023 13:29:02 INFO 140221592430400] #train_score (algo-1) : ('absolute_loss', 4987.489633413462)\u001b[0m\n",
      "\u001b[34m[04/17/2023 13:29:02 INFO 140221592430400] #train_score (algo-1) : ('rmse', 5950.254099293059)\u001b[0m\n",
      "\u001b[34m[04/17/2023 13:29:02 INFO 140221592430400] #train_score (algo-1) : ('r2', 0.9659091160765595)\u001b[0m\n",
      "\u001b[34m[04/17/2023 13:29:02 INFO 140221592430400] #train_score (algo-1) : ('mae', 4987.489633413462)\u001b[0m\n",
      "\u001b[34m[04/17/2023 13:29:02 INFO 140221592430400] #quality_metric: host=algo-1, train absolute_loss_objective <loss>=4987.489633413462\u001b[0m\n",
      "\u001b[34m[04/17/2023 13:29:02 INFO 140221592430400] #quality_metric: host=algo-1, train mse <loss>=35405523.84615385\u001b[0m\n",
      "\u001b[34m[04/17/2023 13:29:02 INFO 140221592430400] #quality_metric: host=algo-1, train absolute_loss <loss>=4987.489633413462\u001b[0m\n",
      "\u001b[34m[04/17/2023 13:29:02 INFO 140221592430400] #quality_metric: host=algo-1, train rmse <loss>=5950.254099293059\u001b[0m\n",
      "\u001b[34m[04/17/2023 13:29:02 INFO 140221592430400] #quality_metric: host=algo-1, train r2 <loss>=0.9659091160765595\u001b[0m\n",
      "\u001b[34m[04/17/2023 13:29:02 INFO 140221592430400] #quality_metric: host=algo-1, train mae <loss>=4987.489633413462\u001b[0m\n",
      "\u001b[34m[04/17/2023 13:29:02 INFO 140221592430400] Best model found for hyperparameters: {\"optimizer\": \"adam\", \"learning_rate\": 0.1, \"wd\": 0.0001, \"l1\": 0.0, \"lr_scheduler_step\": 100, \"lr_scheduler_factor\": 0.99, \"lr_scheduler_minimum_lr\": 0.0001}\u001b[0m\n",
      "\u001b[34m[04/17/2023 13:29:02 INFO 140221592430400] Saved checkpoint to \"/tmp/tmphr2y48tt/mx-mod-0000.params\"\u001b[0m\n",
      "\u001b[34m[04/17/2023 13:29:02 INFO 140221592430400] Test data is not provided.\u001b[0m\n",
      "\u001b[34m#metrics {\"StartTime\": 1681738141.7870612, \"EndTime\": 1681738142.7006435, \"Dimensions\": {\"Algorithm\": \"Linear Learner\", \"Host\": \"algo-1\", \"Operation\": \"training\"}, \"Metrics\": {\"initialize.time\": {\"sum\": 175.78601837158203, \"count\": 1, \"min\": 175.78601837158203, \"max\": 175.78601837158203}, \"epochs\": {\"sum\": 5.0, \"count\": 1, \"min\": 5, \"max\": 5}, \"check_early_stopping.time\": {\"sum\": 6.55817985534668, \"count\": 5, \"min\": 1.1539459228515625, \"max\": 1.4758110046386719}, \"update.time\": {\"sum\": 688.0772113800049, \"count\": 5, \"min\": 127.54631042480469, \"max\": 155.3032398223877}, \"finalize.time\": {\"sum\": 21.92521095275879, \"count\": 1, \"min\": 21.92521095275879, \"max\": 21.92521095275879}, \"setuptime\": {\"sum\": 2.408742904663086, \"count\": 1, \"min\": 2.408742904663086, \"max\": 2.408742904663086}, \"totaltime\": {\"sum\": 1028.5403728485107, \"count\": 1, \"min\": 1028.5403728485107, \"max\": 1028.5403728485107}}}\u001b[0m\n",
      "\n",
      "2023-04-17 13:29:21 Uploading - Uploading generated training model\n",
      "2023-04-17 13:29:21 Completed - Training job completed\n",
      "Training seconds: 137\n",
      "Billable seconds: 137\n"
     ]
    }
   ],
   "source": [
    "# We have pass in the container, the type of instance that we would like to use for training \n",
    "# output path and sagemaker session into the Estimator. \n",
    "# We can also specify how many instances we would like to use for training\n",
    "# sagemaker_session = sagemaker.Session()\n",
    "\n",
    "linear = sagemaker.estimator.Estimator(container,\n",
    "                                       role, \n",
    "                                       instance_count = 1, \n",
    "                                       instance_type = 'ml.c4.xlarge',\n",
    "                                       output_path = output_location,\n",
    "                                       sagemaker_session = sagemaker_session)\n",
    "\n",
    "\n",
    "# We can tune parameters like the number of features \n",
    "# that we are passing in, type of predictor like 'regressor' or 'classifier', mini batch size, epochs\n",
    "# Train 32 different versions of the model and will get the best out of them (built-in parameters optimization!)\n",
    "\n",
    "linear.set_hyperparameters(feature_dim = 1,\n",
    "                           predictor_type = 'regressor',\n",
    "                           mini_batch_size = 5,\n",
    "                           epochs = 5,\n",
    "                           num_models = 32,\n",
    "                           loss = 'absolute_loss')\n",
    "\n",
    "# Now we are ready to pass in the training data from S3 to train the linear learner model\n",
    "\n",
    "linear.fit({'train': s3_train_data})\n",
    "\n",
    "# Let's see the progress using cloudwatch logs"
   ]
  },
  {
   "cell_type": "markdown",
   "metadata": {},
   "source": [
    "MINI CHALLENGE\n",
    "- Try to train the model with more epochs and additional number of models\n",
    "- Can you try to reduce the cost of billable seconds?"
   ]
  },
  {
   "cell_type": "code",
   "execution_count": 65,
   "metadata": {
    "tags": []
   },
   "outputs": [
    {
     "name": "stderr",
     "output_type": "stream",
     "text": [
      "WARNING:sagemaker.deprecations:train_max_run has been renamed in sagemaker>=2.\n",
      "See: https://sagemaker.readthedocs.io/en/stable/v2.html for details.\n",
      "WARNING:sagemaker.deprecations:train_use_spot_instances has been renamed in sagemaker>=2.\n",
      "See: https://sagemaker.readthedocs.io/en/stable/v2.html for details.\n",
      "WARNING:sagemaker.deprecations:train_max_wait has been renamed in sagemaker>=2.\n",
      "See: https://sagemaker.readthedocs.io/en/stable/v2.html for details.\n",
      "INFO:sagemaker:Creating training-job with name: linear-learner-2023-04-17-13-29-40-209\n"
     ]
    },
    {
     "name": "stdout",
     "output_type": "stream",
     "text": [
      "2023-04-17 13:29:45 Starting - Starting the training job...\n",
      "2023-04-17 13:30:02 Starting - Preparing the instances for training.........\n",
      "2023-04-17 13:31:43 Downloading - Downloading input data...\n",
      "2023-04-17 13:32:09 Training - Downloading the training image.........\n",
      "2023-04-17 13:33:50 Uploading - Uploading generated training model\u001b[34mDocker entrypoint called with argument(s): train\u001b[0m\n",
      "\u001b[34mRunning default environment configuration script\u001b[0m\n",
      "\u001b[34m[04/17/2023 13:33:36 INFO 139915702728512] Reading default configuration from /opt/amazon/lib/python3.7/site-packages/algorithm/resources/default-input.json: {'mini_batch_size': '1000', 'epochs': '15', 'feature_dim': 'auto', 'use_bias': 'true', 'binary_classifier_model_selection_criteria': 'accuracy', 'f_beta': '1.0', 'target_recall': '0.8', 'target_precision': '0.8', 'num_models': 'auto', 'num_calibration_samples': '10000000', 'init_method': 'uniform', 'init_scale': '0.07', 'init_sigma': '0.01', 'init_bias': '0.0', 'optimizer': 'auto', 'loss': 'auto', 'margin': '1.0', 'quantile': '0.5', 'loss_insensitivity': '0.01', 'huber_delta': '1.0', 'num_classes': '1', 'accuracy_top_k': '3', 'wd': 'auto', 'l1': 'auto', 'momentum': 'auto', 'learning_rate': 'auto', 'beta_1': 'auto', 'beta_2': 'auto', 'bias_lr_mult': 'auto', 'bias_wd_mult': 'auto', 'use_lr_scheduler': 'true', 'lr_scheduler_step': 'auto', 'lr_scheduler_factor': 'auto', 'lr_scheduler_minimum_lr': 'auto', 'positive_example_weight_mult': '1.0', 'balance_multiclass_weights': 'false', 'normalize_data': 'true', 'normalize_label': 'auto', 'unbias_data': 'auto', 'unbias_label': 'auto', 'num_point_for_scaler': '10000', '_kvstore': 'auto', '_num_gpus': 'auto', '_num_kv_servers': 'auto', '_log_level': 'info', '_tuning_objective_metric': '', 'early_stopping_patience': '3', 'early_stopping_tolerance': '0.001', '_enable_profiler': 'false'}\u001b[0m\n",
      "\u001b[34m[04/17/2023 13:33:36 INFO 139915702728512] Merging with provided configuration from /opt/ml/input/config/hyperparameters.json: {'epochs': '50', 'feature_dim': '1', 'loss': 'absolute_loss', 'mini_batch_size': '5', 'num_models': '35', 'predictor_type': 'regressor'}\u001b[0m\n",
      "\u001b[34m[04/17/2023 13:33:36 INFO 139915702728512] Final configuration: {'mini_batch_size': '5', 'epochs': '50', 'feature_dim': '1', 'use_bias': 'true', 'binary_classifier_model_selection_criteria': 'accuracy', 'f_beta': '1.0', 'target_recall': '0.8', 'target_precision': '0.8', 'num_models': '35', 'num_calibration_samples': '10000000', 'init_method': 'uniform', 'init_scale': '0.07', 'init_sigma': '0.01', 'init_bias': '0.0', 'optimizer': 'auto', 'loss': 'absolute_loss', 'margin': '1.0', 'quantile': '0.5', 'loss_insensitivity': '0.01', 'huber_delta': '1.0', 'num_classes': '1', 'accuracy_top_k': '3', 'wd': 'auto', 'l1': 'auto', 'momentum': 'auto', 'learning_rate': 'auto', 'beta_1': 'auto', 'beta_2': 'auto', 'bias_lr_mult': 'auto', 'bias_wd_mult': 'auto', 'use_lr_scheduler': 'true', 'lr_scheduler_step': 'auto', 'lr_scheduler_factor': 'auto', 'lr_scheduler_minimum_lr': 'auto', 'positive_example_weight_mult': '1.0', 'balance_multiclass_weights': 'false', 'normalize_data': 'true', 'normalize_label': 'auto', 'unbias_data': 'auto', 'unbias_label': 'auto', 'num_point_for_scaler': '10000', '_kvstore': 'auto', '_num_gpus': 'auto', '_num_kv_servers': 'auto', '_log_level': 'info', '_tuning_objective_metric': '', 'early_stopping_patience': '3', 'early_stopping_tolerance': '0.001', '_enable_profiler': 'false', 'predictor_type': 'regressor'}\u001b[0m\n",
      "\u001b[34m[04/17/2023 13:33:39 WARNING 139915702728512] Loggers have already been setup.\u001b[0m\n",
      "\u001b[34m[04/17/2023 13:33:39 INFO 139915702728512] Final configuration: {'mini_batch_size': '5', 'epochs': '50', 'feature_dim': '1', 'use_bias': 'true', 'binary_classifier_model_selection_criteria': 'accuracy', 'f_beta': '1.0', 'target_recall': '0.8', 'target_precision': '0.8', 'num_models': '35', 'num_calibration_samples': '10000000', 'init_method': 'uniform', 'init_scale': '0.07', 'init_sigma': '0.01', 'init_bias': '0.0', 'optimizer': 'auto', 'loss': 'absolute_loss', 'margin': '1.0', 'quantile': '0.5', 'loss_insensitivity': '0.01', 'huber_delta': '1.0', 'num_classes': '1', 'accuracy_top_k': '3', 'wd': 'auto', 'l1': 'auto', 'momentum': 'auto', 'learning_rate': 'auto', 'beta_1': 'auto', 'beta_2': 'auto', 'bias_lr_mult': 'auto', 'bias_wd_mult': 'auto', 'use_lr_scheduler': 'true', 'lr_scheduler_step': 'auto', 'lr_scheduler_factor': 'auto', 'lr_scheduler_minimum_lr': 'auto', 'positive_example_weight_mult': '1.0', 'balance_multiclass_weights': 'false', 'normalize_data': 'true', 'normalize_label': 'auto', 'unbias_data': 'auto', 'unbias_label': 'auto', 'num_point_for_scaler': '10000', '_kvstore': 'auto', '_num_gpus': 'auto', '_num_kv_servers': 'auto', '_log_level': 'info', '_tuning_objective_metric': '', 'early_stopping_patience': '3', 'early_stopping_tolerance': '0.001', '_enable_profiler': 'false', 'predictor_type': 'regressor'}\u001b[0m\n",
      "\u001b[34m[04/17/2023 13:33:39 WARNING 139915702728512] Loggers have already been setup.\u001b[0m\n",
      "\u001b[34mProcess 7 is a worker.\u001b[0m\n",
      "\u001b[34m[04/17/2023 13:33:39 INFO 139915702728512] Using default worker.\u001b[0m\n",
      "\u001b[34m[04/17/2023 13:33:39 INFO 139915702728512] Checkpoint loading and saving are disabled.\u001b[0m\n",
      "\u001b[34m[2023-04-17 13:33:39.646] [tensorio] [info] epoch_stats={\"data_pipeline\": \"/opt/ml/input/data/train\", \"epoch\": 0, \"duration\": 13, \"num_examples\": 1, \"num_bytes\": 240}\u001b[0m\n",
      "\u001b[34m[04/17/2023 13:33:39 INFO 139915702728512] Create Store: local\u001b[0m\n",
      "\u001b[34m[2023-04-17 13:33:39.688] [tensorio] [info] epoch_stats={\"data_pipeline\": \"/opt/ml/input/data/train\", \"epoch\": 1, \"duration\": 41, \"num_examples\": 6, \"num_bytes\": 1248}\u001b[0m\n",
      "\u001b[34m[04/17/2023 13:33:39 INFO 139915702728512] Scaler algorithm parameters\n",
      " <algorithm.scaler.ScalerAlgorithmStable object at 0x7f4018b1c1d0>\u001b[0m\n",
      "\u001b[34m[04/17/2023 13:33:39 INFO 139915702728512] Scaling model computed with parameters:\n",
      " {'stdev_label': \u001b[0m\n",
      "\u001b[34m[32484.17]\u001b[0m\n",
      "\u001b[34m<NDArray 1 @cpu(0)>, 'stdev_weight': \u001b[0m\n",
      "\u001b[34m[3.8102937]\u001b[0m\n",
      "\u001b[34m<NDArray 1 @cpu(0)>, 'mean_label': \u001b[0m\n",
      "\u001b[34m[91464.92]\u001b[0m\n",
      "\u001b[34m<NDArray 1 @cpu(0)>, 'mean_weight': \u001b[0m\n",
      "\u001b[34m[7.008]\u001b[0m\n",
      "\u001b[34m<NDArray 1 @cpu(0)>}\u001b[0m\n",
      "\u001b[34m[04/17/2023 13:33:39 INFO 139915702728512] nvidia-smi: took 0.031 seconds to run.\u001b[0m\n",
      "\u001b[34m[04/17/2023 13:33:39 INFO 139915702728512] nvidia-smi identified 0 GPUs.\u001b[0m\n",
      "\u001b[34m[04/17/2023 13:33:39 INFO 139915702728512] Number of GPUs being used: 0\u001b[0m\n",
      "\u001b[34m[04/17/2023 13:33:39 WARNING 139915702728512] Setting num_models to 32.\u001b[0m\n",
      "\u001b[34m[04/17/2023 13:33:39 WARNING 139915702728512] Setting num_models to 32.\u001b[0m\n",
      "\u001b[34m[04/17/2023 13:33:39 WARNING 139915702728512] Setting num_models to 32.\u001b[0m\n",
      "\u001b[34m[04/17/2023 13:33:39 WARNING 139915702728512] Setting num_models to 32.\u001b[0m\n",
      "\u001b[34m[04/17/2023 13:33:39 WARNING 139915702728512] Setting num_models to 32.\u001b[0m\n",
      "\u001b[34m[04/17/2023 13:33:39 WARNING 139915702728512] Setting num_models to 32.\u001b[0m\n",
      "\u001b[34m[04/17/2023 13:33:39 WARNING 139915702728512] Setting num_models to 32.\u001b[0m\n",
      "\u001b[34m[04/17/2023 13:33:39 WARNING 139915702728512] Setting num_models to 32.\u001b[0m\n",
      "\u001b[34m[04/17/2023 13:33:39 WARNING 139915702728512] Setting num_models to 32.\u001b[0m\n",
      "\u001b[34m[04/17/2023 13:33:39 WARNING 139915702728512] Setting num_models to 32.\u001b[0m\n",
      "\u001b[34m[04/17/2023 13:33:39 WARNING 139915702728512] Setting num_models to 32.\u001b[0m\n",
      "\u001b[34m[04/17/2023 13:33:39 WARNING 139915702728512] Setting num_models to 32.\u001b[0m\n",
      "\u001b[34m[04/17/2023 13:33:39 WARNING 139915702728512] Setting num_models to 32.\u001b[0m\n",
      "\u001b[34m[04/17/2023 13:33:39 WARNING 139915702728512] Setting num_models to 32.\u001b[0m\n",
      "\u001b[34m[04/17/2023 13:33:39 WARNING 139915702728512] Setting num_models to 32.\u001b[0m\n",
      "\u001b[34m#metrics {\"StartTime\": 1681738419.7954118, \"EndTime\": 1681738419.795445, \"Dimensions\": {\"Algorithm\": \"Linear Learner\", \"Host\": \"algo-1\", \"Operation\": \"training\", \"Meta\": \"init_train_data_iter\"}, \"Metrics\": {\"Total Records Seen\": {\"sum\": 31.0, \"count\": 1, \"min\": 31, \"max\": 31}, \"Total Batches Seen\": {\"sum\": 7.0, \"count\": 1, \"min\": 7, \"max\": 7}, \"Max Records Seen Between Resets\": {\"sum\": 26.0, \"count\": 1, \"min\": 26, \"max\": 26}, \"Max Batches Seen Between Resets\": {\"sum\": 6.0, \"count\": 1, \"min\": 6, \"max\": 6}, \"Reset Count\": {\"sum\": 2.0, \"count\": 1, \"min\": 2, \"max\": 2}, \"Number of Records Since Last Reset\": {\"sum\": 0.0, \"count\": 1, \"min\": 0, \"max\": 0}, \"Number of Batches Since Last Reset\": {\"sum\": 0.0, \"count\": 1, \"min\": 0, \"max\": 0}}}\u001b[0m\n",
      "\u001b[34m[2023-04-17 13:33:39.903] [tensorio] [info] epoch_stats={\"data_pipeline\": \"/opt/ml/input/data/train\", \"epoch\": 4, \"duration\": 108, \"num_examples\": 6, \"num_bytes\": 1248}\u001b[0m\n",
      "\u001b[34m#metrics {\"StartTime\": 1681738419.9038873, \"EndTime\": 1681738419.903963, \"Dimensions\": {\"Algorithm\": \"Linear Learner\", \"Host\": \"algo-1\", \"Operation\": \"training\", \"epoch\": 0, \"model\": 0}, \"Metrics\": {\"train_absolute_loss_objective\": {\"sum\": 0.8739909172058106, \"count\": 1, \"min\": 0.8739909172058106, \"max\": 0.8739909172058106}}}\u001b[0m\n",
      "\u001b[34m#metrics {\"StartTime\": 1681738419.9040396, \"EndTime\": 1681738419.9040582, \"Dimensions\": {\"Algorithm\": \"Linear Learner\", \"Host\": \"algo-1\", \"Operation\": \"training\", \"epoch\": 0, \"model\": 1}, \"Metrics\": {\"train_absolute_loss_objective\": {\"sum\": 0.8940472602844238, \"count\": 1, \"min\": 0.8940472602844238, \"max\": 0.8940472602844238}}}\u001b[0m\n",
      "\u001b[34m#metrics {\"StartTime\": 1681738419.904126, \"EndTime\": 1681738419.9041438, \"Dimensions\": {\"Algorithm\": \"Linear Learner\", \"Host\": \"algo-1\", \"Operation\": \"training\", \"epoch\": 0, \"model\": 2}, \"Metrics\": {\"train_absolute_loss_objective\": {\"sum\": 0.8764204692840576, \"count\": 1, \"min\": 0.8764204692840576, \"max\": 0.8764204692840576}}}\u001b[0m\n",
      "\u001b[34m#metrics {\"StartTime\": 1681738419.904204, \"EndTime\": 1681738419.904219, \"Dimensions\": {\"Algorithm\": \"Linear Learner\", \"Host\": \"algo-1\", \"Operation\": \"training\", \"epoch\": 0, \"model\": 3}, \"Metrics\": {\"train_absolute_loss_objective\": {\"sum\": 0.8930222988128662, \"count\": 1, \"min\": 0.8930222988128662, \"max\": 0.8930222988128662}}}\u001b[0m\n",
      "\u001b[34m#metrics {\"StartTime\": 1681738419.9042578, \"EndTime\": 1681738419.9042668, \"Dimensions\": {\"Algorithm\": \"Linear Learner\", \"Host\": \"algo-1\", \"Operation\": \"training\", \"epoch\": 0, \"model\": 4}, \"Metrics\": {\"train_absolute_loss_objective\": {\"sum\": 0.7896101093292236, \"count\": 1, \"min\": 0.7896101093292236, \"max\": 0.7896101093292236}}}\u001b[0m\n",
      "\u001b[34m#metrics {\"StartTime\": 1681738419.904296, \"EndTime\": 1681738419.904308, \"Dimensions\": {\"Algorithm\": \"Linear Learner\", \"Host\": \"algo-1\", \"Operation\": \"training\", \"epoch\": 0, \"model\": 5}, \"Metrics\": {\"train_absolute_loss_objective\": {\"sum\": 0.7960071754455567, \"count\": 1, \"min\": 0.7960071754455567, \"max\": 0.7960071754455567}}}\u001b[0m\n",
      "\u001b[34m#metrics {\"StartTime\": 1681738419.9043646, \"EndTime\": 1681738419.9043825, \"Dimensions\": {\"Algorithm\": \"Linear Learner\", \"Host\": \"algo-1\", \"Operation\": \"training\", \"epoch\": 0, \"model\": 6}, \"Metrics\": {\"train_absolute_loss_objective\": {\"sum\": 0.8519681739807129, \"count\": 1, \"min\": 0.8519681739807129, \"max\": 0.8519681739807129}}}\u001b[0m\n",
      "\u001b[34m#metrics {\"StartTime\": 1681738419.9044428, \"EndTime\": 1681738419.9044576, \"Dimensions\": {\"Algorithm\": \"Linear Learner\", \"Host\": \"algo-1\", \"Operation\": \"training\", \"epoch\": 0, \"model\": 7}, \"Metrics\": {\"train_absolute_loss_objective\": {\"sum\": 0.7987132167816162, \"count\": 1, \"min\": 0.7987132167816162, \"max\": 0.7987132167816162}}}\u001b[0m\n",
      "\u001b[34m#metrics {\"StartTime\": 1681738419.904489, \"EndTime\": 1681738419.9044971, \"Dimensions\": {\"Algorithm\": \"Linear Learner\", \"Host\": \"algo-1\", \"Operation\": \"training\", \"epoch\": 0, \"model\": 8}, \"Metrics\": {\"train_absolute_loss_objective\": {\"sum\": 0.930304183959961, \"count\": 1, \"min\": 0.930304183959961, \"max\": 0.930304183959961}}}\u001b[0m\n",
      "\u001b[34m#metrics {\"StartTime\": 1681738419.9045413, \"EndTime\": 1681738419.904556, \"Dimensions\": {\"Algorithm\": \"Linear Learner\", \"Host\": \"algo-1\", \"Operation\": \"training\", \"epoch\": 0, \"model\": 9}, \"Metrics\": {\"train_absolute_loss_objective\": {\"sum\": 0.861871862411499, \"count\": 1, \"min\": 0.861871862411499, \"max\": 0.861871862411499}}}\u001b[0m\n",
      "\u001b[34m#metrics {\"StartTime\": 1681738419.9045944, \"EndTime\": 1681738419.9046085, \"Dimensions\": {\"Algorithm\": \"Linear Learner\", \"Host\": \"algo-1\", \"Operation\": \"training\", \"epoch\": 0, \"model\": 10}, \"Metrics\": {\"train_absolute_loss_objective\": {\"sum\": 0.8686203002929688, \"count\": 1, \"min\": 0.8686203002929688, \"max\": 0.8686203002929688}}}\u001b[0m\n",
      "\u001b[34m#metrics {\"StartTime\": 1681738419.9046686, \"EndTime\": 1681738419.9046855, \"Dimensions\": {\"Algorithm\": \"Linear Learner\", \"Host\": \"algo-1\", \"Operation\": \"training\", \"epoch\": 0, \"model\": 11}, \"Metrics\": {\"train_absolute_loss_objective\": {\"sum\": 0.8536974811553955, \"count\": 1, \"min\": 0.8536974811553955, \"max\": 0.8536974811553955}}}\u001b[0m\n",
      "\u001b[34m#metrics {\"StartTime\": 1681738419.904747, \"EndTime\": 1681738419.9047642, \"Dimensions\": {\"Algorithm\": \"Linear Learner\", \"Host\": \"algo-1\", \"Operation\": \"training\", \"epoch\": 0, \"model\": 12}, \"Metrics\": {\"train_absolute_loss_objective\": {\"sum\": 0.7955617713928222, \"count\": 1, \"min\": 0.7955617713928222, \"max\": 0.7955617713928222}}}\u001b[0m\n",
      "\u001b[34m#metrics {\"StartTime\": 1681738419.9048045, \"EndTime\": 1681738419.9048138, \"Dimensions\": {\"Algorithm\": \"Linear Learner\", \"Host\": \"algo-1\", \"Operation\": \"training\", \"epoch\": 0, \"model\": 13}, \"Metrics\": {\"train_absolute_loss_objective\": {\"sum\": 0.8127808284759521, \"count\": 1, \"min\": 0.8127808284759521, \"max\": 0.8127808284759521}}}\u001b[0m\n",
      "\u001b[34m#metrics {\"StartTime\": 1681738419.9048688, \"EndTime\": 1681738419.9048867, \"Dimensions\": {\"Algorithm\": \"Linear Learner\", \"Host\": \"algo-1\", \"Operation\": \"training\", \"epoch\": 0, \"model\": 14}, \"Metrics\": {\"train_absolute_loss_objective\": {\"sum\": 0.7945864009857178, \"count\": 1, \"min\": 0.7945864009857178, \"max\": 0.7945864009857178}}}\u001b[0m\n",
      "\u001b[34m#metrics {\"StartTime\": 1681738419.9049468, \"EndTime\": 1681738419.904965, \"Dimensions\": {\"Algorithm\": \"Linear Learner\", \"Host\": \"algo-1\", \"Operation\": \"training\", \"epoch\": 0, \"model\": 15}, \"Metrics\": {\"train_absolute_loss_objective\": {\"sum\": 0.7800677299499512, \"count\": 1, \"min\": 0.7800677299499512, \"max\": 0.7800677299499512}}}\u001b[0m\n",
      "\u001b[34m#metrics {\"StartTime\": 1681738419.905001, \"EndTime\": 1681738419.9050133, \"Dimensions\": {\"Algorithm\": \"Linear Learner\", \"Host\": \"algo-1\", \"Operation\": \"training\", \"epoch\": 0, \"model\": 16}, \"Metrics\": {\"train_absolute_loss_objective\": {\"sum\": 0.8375948619842529, \"count\": 1, \"min\": 0.8375948619842529, \"max\": 0.8375948619842529}}}\u001b[0m\n",
      "\u001b[34m#metrics {\"StartTime\": 1681738419.905066, \"EndTime\": 1681738419.9050767, \"Dimensions\": {\"Algorithm\": \"Linear Learner\", \"Host\": \"algo-1\", \"Operation\": \"training\", \"epoch\": 0, \"model\": 17}, \"Metrics\": {\"train_absolute_loss_objective\": {\"sum\": 0.8892576217651367, \"count\": 1, \"min\": 0.8892576217651367, \"max\": 0.8892576217651367}}}\u001b[0m\n",
      "\u001b[34m#metrics {\"StartTime\": 1681738419.905119, \"EndTime\": 1681738419.9051344, \"Dimensions\": {\"Algorithm\": \"Linear Learner\", \"Host\": \"algo-1\", \"Operation\": \"training\", \"epoch\": 0, \"model\": 18}, \"Metrics\": {\"train_absolute_loss_objective\": {\"sum\": 0.864876184463501, \"count\": 1, \"min\": 0.864876184463501, \"max\": 0.864876184463501}}}\u001b[0m\n",
      "\u001b[34m#metrics {\"StartTime\": 1681738419.9051883, \"EndTime\": 1681738419.9052038, \"Dimensions\": {\"Algorithm\": \"Linear Learner\", \"Host\": \"algo-1\", \"Operation\": \"training\", \"epoch\": 0, \"model\": 19}, \"Metrics\": {\"train_absolute_loss_objective\": {\"sum\": 0.8621527099609375, \"count\": 1, \"min\": 0.8621527099609375, \"max\": 0.8621527099609375}}}\u001b[0m\n",
      "\u001b[34m#metrics {\"StartTime\": 1681738419.9052582, \"EndTime\": 1681738419.905269, \"Dimensions\": {\"Algorithm\": \"Linear Learner\", \"Host\": \"algo-1\", \"Operation\": \"training\", \"epoch\": 0, \"model\": 20}, \"Metrics\": {\"train_absolute_loss_objective\": {\"sum\": 0.7979691219329834, \"count\": 1, \"min\": 0.7979691219329834, \"max\": 0.7979691219329834}}}\u001b[0m\n",
      "\u001b[34m#metrics {\"StartTime\": 1681738419.9053037, \"EndTime\": 1681738419.9053178, \"Dimensions\": {\"Algorithm\": \"Linear Learner\", \"Host\": \"algo-1\", \"Operation\": \"training\", \"epoch\": 0, \"model\": 21}, \"Metrics\": {\"train_absolute_loss_objective\": {\"sum\": 0.8327019309997559, \"count\": 1, \"min\": 0.8327019309997559, \"max\": 0.8327019309997559}}}\u001b[0m\n",
      "\u001b[34m#metrics {\"StartTime\": 1681738419.9053755, \"EndTime\": 1681738419.9053912, \"Dimensions\": {\"Algorithm\": \"Linear Learner\", \"Host\": \"algo-1\", \"Operation\": \"training\", \"epoch\": 0, \"model\": 22}, \"Metrics\": {\"train_absolute_loss_objective\": {\"sum\": 0.8069567108154296, \"count\": 1, \"min\": 0.8069567108154296, \"max\": 0.8069567108154296}}}\u001b[0m\n",
      "\u001b[34m#metrics {\"StartTime\": 1681738419.905453, \"EndTime\": 1681738419.9054704, \"Dimensions\": {\"Algorithm\": \"Linear Learner\", \"Host\": \"algo-1\", \"Operation\": \"training\", \"epoch\": 0, \"model\": 23}, \"Metrics\": {\"train_absolute_loss_objective\": {\"sum\": 0.8559690570831299, \"count\": 1, \"min\": 0.8559690570831299, \"max\": 0.8559690570831299}}}\u001b[0m\n",
      "\u001b[34m#metrics {\"StartTime\": 1681738419.9055316, \"EndTime\": 1681738419.9055452, \"Dimensions\": {\"Algorithm\": \"Linear Learner\", \"Host\": \"algo-1\", \"Operation\": \"training\", \"epoch\": 0, \"model\": 24}, \"Metrics\": {\"train_absolute_loss_objective\": {\"sum\": 0.8410147476196289, \"count\": 1, \"min\": 0.8410147476196289, \"max\": 0.8410147476196289}}}\u001b[0m\n",
      "\u001b[34m#metrics {\"StartTime\": 1681738419.9056036, \"EndTime\": 1681738419.9056199, \"Dimensions\": {\"Algorithm\": \"Linear Learner\", \"Host\": \"algo-1\", \"Operation\": \"training\", \"epoch\": 0, \"model\": 25}, \"Metrics\": {\"train_absolute_loss_objective\": {\"sum\": 0.907719898223877, \"count\": 1, \"min\": 0.907719898223877, \"max\": 0.907719898223877}}}\u001b[0m\n",
      "\u001b[34m#metrics {\"StartTime\": 1681738419.9056811, \"EndTime\": 1681738419.9056973, \"Dimensions\": {\"Algorithm\": \"Linear Learner\", \"Host\": \"algo-1\", \"Operation\": \"training\", \"epoch\": 0, \"model\": 26}, \"Metrics\": {\"train_absolute_loss_objective\": {\"sum\": 0.8943027305603027, \"count\": 1, \"min\": 0.8943027305603027, \"max\": 0.8943027305603027}}}\u001b[0m\n",
      "\u001b[34m#metrics {\"StartTime\": 1681738419.905753, \"EndTime\": 1681738419.9057658, \"Dimensions\": {\"Algorithm\": \"Linear Learner\", \"Host\": \"algo-1\", \"Operation\": \"training\", \"epoch\": 0, \"model\": 27}, \"Metrics\": {\"train_absolute_loss_objective\": {\"sum\": 0.8834709072113037, \"count\": 1, \"min\": 0.8834709072113037, \"max\": 0.8834709072113037}}}\u001b[0m\n",
      "\u001b[34m#metrics {\"StartTime\": 1681738419.9058242, \"EndTime\": 1681738419.905841, \"Dimensions\": {\"Algorithm\": \"Linear Learner\", \"Host\": \"algo-1\", \"Operation\": \"training\", \"epoch\": 0, \"model\": 28}, \"Metrics\": {\"train_absolute_loss_objective\": {\"sum\": 1.2980309772491454, \"count\": 1, \"min\": 1.2980309772491454, \"max\": 1.2980309772491454}}}\u001b[0m\n",
      "\u001b[34m#metrics {\"StartTime\": 1681738419.9059005, \"EndTime\": 1681738419.9059174, \"Dimensions\": {\"Algorithm\": \"Linear Learner\", \"Host\": \"algo-1\", \"Operation\": \"training\", \"epoch\": 0, \"model\": 29}, \"Metrics\": {\"train_absolute_loss_objective\": {\"sum\": 1.2976172828674317, \"count\": 1, \"min\": 1.2976172828674317, \"max\": 1.2976172828674317}}}\u001b[0m\n",
      "\u001b[34m#metrics {\"StartTime\": 1681738419.9059775, \"EndTime\": 1681738419.9059896, \"Dimensions\": {\"Algorithm\": \"Linear Learner\", \"Host\": \"algo-1\", \"Operation\": \"training\", \"epoch\": 0, \"model\": 30}, \"Metrics\": {\"train_absolute_loss_objective\": {\"sum\": 0.9183114910125733, \"count\": 1, \"min\": 0.9183114910125733, \"max\": 0.9183114910125733}}}\u001b[0m\n",
      "\u001b[34m#metrics {\"StartTime\": 1681738419.9060483, \"EndTime\": 1681738419.906065, \"Dimensions\": {\"Algorithm\": \"Linear Learner\", \"Host\": \"algo-1\", \"Operation\": \"training\", \"epoch\": 0, \"model\": 31}, \"Metrics\": {\"train_absolute_loss_objective\": {\"sum\": 1.3041401290893555, \"count\": 1, \"min\": 1.3041401290893555, \"max\": 1.3041401290893555}}}\u001b[0m\n",
      "\u001b[34m[04/17/2023 13:33:39 INFO 139915702728512] #quality_metric: host=algo-1, epoch=0, train absolute_loss_objective <loss>=0.8739909172058106\u001b[0m\n",
      "\u001b[34m[04/17/2023 13:33:39 INFO 139915702728512] #early_stopping_criteria_metric: host=algo-1, epoch=0, criteria=absolute_loss_objective, value=0.7800677299499512\u001b[0m\n",
      "\u001b[34m[04/17/2023 13:33:39 INFO 139915702728512] Epoch 0: Loss improved. Updating best model\u001b[0m\n",
      "\u001b[34m[04/17/2023 13:33:39 INFO 139915702728512] Saving model for epoch: 0\u001b[0m\n",
      "\u001b[34m[04/17/2023 13:33:39 INFO 139915702728512] Saved checkpoint to \"/tmp/tmp130rslce/mx-mod-0000.params\"\u001b[0m\n",
      "\u001b[34m[04/17/2023 13:33:39 INFO 139915702728512] #progress_metric: host=algo-1, completed 2.0 % of epochs\u001b[0m\n",
      "\u001b[34m#metrics {\"StartTime\": 1681738419.7956872, \"EndTime\": 1681738419.915665, \"Dimensions\": {\"Algorithm\": \"Linear Learner\", \"Host\": \"algo-1\", \"Operation\": \"training\", \"epoch\": 0, \"Meta\": \"training_data_iter\"}, \"Metrics\": {\"Total Records Seen\": {\"sum\": 57.0, \"count\": 1, \"min\": 57, \"max\": 57}, \"Total Batches Seen\": {\"sum\": 13.0, \"count\": 1, \"min\": 13, \"max\": 13}, \"Max Records Seen Between Resets\": {\"sum\": 26.0, \"count\": 1, \"min\": 26, \"max\": 26}, \"Max Batches Seen Between Resets\": {\"sum\": 6.0, \"count\": 1, \"min\": 6, \"max\": 6}, \"Reset Count\": {\"sum\": 3.0, \"count\": 1, \"min\": 3, \"max\": 3}, \"Number of Records Since Last Reset\": {\"sum\": 26.0, \"count\": 1, \"min\": 26, \"max\": 26}, \"Number of Batches Since Last Reset\": {\"sum\": 6.0, \"count\": 1, \"min\": 6, \"max\": 6}}}\u001b[0m\n",
      "\u001b[34m[04/17/2023 13:33:39 INFO 139915702728512] #throughput_metric: host=algo-1, train throughput=216.49009086270937 records/second\u001b[0m\n",
      "\u001b[34m[2023-04-17 13:33:40.010] [tensorio] [info] epoch_stats={\"data_pipeline\": \"/opt/ml/input/data/train\", \"epoch\": 6, \"duration\": 94, \"num_examples\": 6, \"num_bytes\": 1248}\u001b[0m\n",
      "\u001b[34m#metrics {\"StartTime\": 1681738420.0107675, \"EndTime\": 1681738420.010832, \"Dimensions\": {\"Algorithm\": \"Linear Learner\", \"Host\": \"algo-1\", \"Operation\": \"training\", \"epoch\": 1, \"model\": 0}, \"Metrics\": {\"train_absolute_loss_objective\": {\"sum\": 0.8452106952667237, \"count\": 1, \"min\": 0.8452106952667237, \"max\": 0.8452106952667237}}}\u001b[0m\n",
      "\u001b[34m#metrics {\"StartTime\": 1681738420.010898, \"EndTime\": 1681738420.0109525, \"Dimensions\": {\"Algorithm\": \"Linear Learner\", \"Host\": \"algo-1\", \"Operation\": \"training\", \"epoch\": 1, \"model\": 1}, \"Metrics\": {\"train_absolute_loss_objective\": {\"sum\": 0.8652670478820801, \"count\": 1, \"min\": 0.8652670478820801, \"max\": 0.8652670478820801}}}\u001b[0m\n",
      "\u001b[34m#metrics {\"StartTime\": 1681738420.0110478, \"EndTime\": 1681738420.0110645, \"Dimensions\": {\"Algorithm\": \"Linear Learner\", \"Host\": \"algo-1\", \"Operation\": \"training\", \"epoch\": 1, \"model\": 2}, \"Metrics\": {\"train_absolute_loss_objective\": {\"sum\": 0.8476402473449707, \"count\": 1, \"min\": 0.8476402473449707, \"max\": 0.8476402473449707}}}\u001b[0m\n",
      "\u001b[34m#metrics {\"StartTime\": 1681738420.0111198, \"EndTime\": 1681738420.0111356, \"Dimensions\": {\"Algorithm\": \"Linear Learner\", \"Host\": \"algo-1\", \"Operation\": \"training\", \"epoch\": 1, \"model\": 3}, \"Metrics\": {\"train_absolute_loss_objective\": {\"sum\": 0.8642420673370361, \"count\": 1, \"min\": 0.8642420673370361, \"max\": 0.8642420673370361}}}\u001b[0m\n",
      "\u001b[34m#metrics {\"StartTime\": 1681738420.0111876, \"EndTime\": 1681738420.0112033, \"Dimensions\": {\"Algorithm\": \"Linear Learner\", \"Host\": \"algo-1\", \"Operation\": \"training\", \"epoch\": 1, \"model\": 4}, \"Metrics\": {\"train_absolute_loss_objective\": {\"sum\": 0.5673251342773438, \"count\": 1, \"min\": 0.5673251342773438, \"max\": 0.5673251342773438}}}\u001b[0m\n",
      "\u001b[34m#metrics {\"StartTime\": 1681738420.0112417, \"EndTime\": 1681738420.0112555, \"Dimensions\": {\"Algorithm\": \"Linear Learner\", \"Host\": \"algo-1\", \"Operation\": \"training\", \"epoch\": 1, \"model\": 5}, \"Metrics\": {\"train_absolute_loss_objective\": {\"sum\": 0.576551022529602, \"count\": 1, \"min\": 0.576551022529602, \"max\": 0.576551022529602}}}\u001b[0m\n",
      "\u001b[34m#metrics {\"StartTime\": 1681738420.0113032, \"EndTime\": 1681738420.0113177, \"Dimensions\": {\"Algorithm\": \"Linear Learner\", \"Host\": \"algo-1\", \"Operation\": \"training\", \"epoch\": 1, \"model\": 6}, \"Metrics\": {\"train_absolute_loss_objective\": {\"sum\": 0.5713122510910034, \"count\": 1, \"min\": 0.5713122510910034, \"max\": 0.5713122510910034}}}\u001b[0m\n",
      "\u001b[34m#metrics {\"StartTime\": 1681738420.011372, \"EndTime\": 1681738420.011387, \"Dimensions\": {\"Algorithm\": \"Linear Learner\", \"Host\": \"algo-1\", \"Operation\": \"training\", \"epoch\": 1, \"model\": 7}, \"Metrics\": {\"train_absolute_loss_objective\": {\"sum\": 0.5552438831329346, \"count\": 1, \"min\": 0.5552438831329346, \"max\": 0.5552438831329346}}}\u001b[0m\n",
      "\u001b[34m#metrics {\"StartTime\": 1681738420.0114324, \"EndTime\": 1681738420.0114477, \"Dimensions\": {\"Algorithm\": \"Linear Learner\", \"Host\": \"algo-1\", \"Operation\": \"training\", \"epoch\": 1, \"model\": 8}, \"Metrics\": {\"train_absolute_loss_objective\": {\"sum\": 0.9015239810943604, \"count\": 1, \"min\": 0.9015239810943604, \"max\": 0.9015239810943604}}}\u001b[0m\n",
      "\u001b[34m#metrics {\"StartTime\": 1681738420.011499, \"EndTime\": 1681738420.0115142, \"Dimensions\": {\"Algorithm\": \"Linear Learner\", \"Host\": \"algo-1\", \"Operation\": \"training\", \"epoch\": 1, \"model\": 9}, \"Metrics\": {\"train_absolute_loss_objective\": {\"sum\": 0.833092098236084, \"count\": 1, \"min\": 0.833092098236084, \"max\": 0.833092098236084}}}\u001b[0m\n",
      "\u001b[34m#metrics {\"StartTime\": 1681738420.0115612, \"EndTime\": 1681738420.0115755, \"Dimensions\": {\"Algorithm\": \"Linear Learner\", \"Host\": \"algo-1\", \"Operation\": \"training\", \"epoch\": 1, \"model\": 10}, \"Metrics\": {\"train_absolute_loss_objective\": {\"sum\": 0.8398405170440674, \"count\": 1, \"min\": 0.8398405170440674, \"max\": 0.8398405170440674}}}\u001b[0m\n",
      "\u001b[34m#metrics {\"StartTime\": 1681738420.0116227, \"EndTime\": 1681738420.0116372, \"Dimensions\": {\"Algorithm\": \"Linear Learner\", \"Host\": \"algo-1\", \"Operation\": \"training\", \"epoch\": 1, \"model\": 11}, \"Metrics\": {\"train_absolute_loss_objective\": {\"sum\": 0.8249178123474121, \"count\": 1, \"min\": 0.8249178123474121, \"max\": 0.8249178123474121}}}\u001b[0m\n",
      "\u001b[34m#metrics {\"StartTime\": 1681738420.0116959, \"EndTime\": 1681738420.011712, \"Dimensions\": {\"Algorithm\": \"Linear Learner\", \"Host\": \"algo-1\", \"Operation\": \"training\", \"epoch\": 1, \"model\": 12}, \"Metrics\": {\"train_absolute_loss_objective\": {\"sum\": 0.5763605880737305, \"count\": 1, \"min\": 0.5763605880737305, \"max\": 0.5763605880737305}}}\u001b[0m\n",
      "\u001b[34m#metrics {\"StartTime\": 1681738420.0117683, \"EndTime\": 1681738420.011784, \"Dimensions\": {\"Algorithm\": \"Linear Learner\", \"Host\": \"algo-1\", \"Operation\": \"training\", \"epoch\": 1, \"model\": 13}, \"Metrics\": {\"train_absolute_loss_objective\": {\"sum\": 0.650654935836792, \"count\": 1, \"min\": 0.650654935836792, \"max\": 0.650654935836792}}}\u001b[0m\n",
      "\u001b[34m#metrics {\"StartTime\": 1681738420.0118377, \"EndTime\": 1681738420.011854, \"Dimensions\": {\"Algorithm\": \"Linear Learner\", \"Host\": \"algo-1\", \"Operation\": \"training\", \"epoch\": 1, \"model\": 14}, \"Metrics\": {\"train_absolute_loss_objective\": {\"sum\": 0.5749583721160889, \"count\": 1, \"min\": 0.5749583721160889, \"max\": 0.5749583721160889}}}\u001b[0m\n",
      "\u001b[34m#metrics {\"StartTime\": 1681738420.0119069, \"EndTime\": 1681738420.0119221, \"Dimensions\": {\"Algorithm\": \"Linear Learner\", \"Host\": \"algo-1\", \"Operation\": \"training\", \"epoch\": 1, \"model\": 15}, \"Metrics\": {\"train_absolute_loss_objective\": {\"sum\": 0.5723717832565307, \"count\": 1, \"min\": 0.5723717832565307, \"max\": 0.5723717832565307}}}\u001b[0m\n",
      "\u001b[34m#metrics {\"StartTime\": 1681738420.0119696, \"EndTime\": 1681738420.0119836, \"Dimensions\": {\"Algorithm\": \"Linear Learner\", \"Host\": \"algo-1\", \"Operation\": \"training\", \"epoch\": 1, \"model\": 16}, \"Metrics\": {\"train_absolute_loss_objective\": {\"sum\": 0.8088825511932373, \"count\": 1, \"min\": 0.8088825511932373, \"max\": 0.8088825511932373}}}\u001b[0m\n",
      "\u001b[34m#metrics {\"StartTime\": 1681738420.0120318, \"EndTime\": 1681738420.0120468, \"Dimensions\": {\"Algorithm\": \"Linear Learner\", \"Host\": \"algo-1\", \"Operation\": \"training\", \"epoch\": 1, \"model\": 17}, \"Metrics\": {\"train_absolute_loss_objective\": {\"sum\": 0.8605075740814209, \"count\": 1, \"min\": 0.8605075740814209, \"max\": 0.8605075740814209}}}\u001b[0m\n",
      "\u001b[34m#metrics {\"StartTime\": 1681738420.012107, \"EndTime\": 1681738420.0121238, \"Dimensions\": {\"Algorithm\": \"Linear Learner\", \"Host\": \"algo-1\", \"Operation\": \"training\", \"epoch\": 1, \"model\": 18}, \"Metrics\": {\"train_absolute_loss_objective\": {\"sum\": 0.8361429691314697, \"count\": 1, \"min\": 0.8361429691314697, \"max\": 0.8361429691314697}}}\u001b[0m\n",
      "\u001b[34m#metrics {\"StartTime\": 1681738420.0122108, \"EndTime\": 1681738420.0122294, \"Dimensions\": {\"Algorithm\": \"Linear Learner\", \"Host\": \"algo-1\", \"Operation\": \"training\", \"epoch\": 1, \"model\": 19}, \"Metrics\": {\"train_absolute_loss_objective\": {\"sum\": 0.8334214973449707, \"count\": 1, \"min\": 0.8334214973449707, \"max\": 0.8334214973449707}}}\u001b[0m\n",
      "\u001b[34m#metrics {\"StartTime\": 1681738420.0122917, \"EndTime\": 1681738420.012309, \"Dimensions\": {\"Algorithm\": \"Linear Learner\", \"Host\": \"algo-1\", \"Operation\": \"training\", \"epoch\": 1, \"model\": 20}, \"Metrics\": {\"train_absolute_loss_objective\": {\"sum\": 0.6016482353210449, \"count\": 1, \"min\": 0.6016482353210449, \"max\": 0.6016482353210449}}}\u001b[0m\n",
      "\u001b[34m#metrics {\"StartTime\": 1681738420.0123997, \"EndTime\": 1681738420.012418, \"Dimensions\": {\"Algorithm\": \"Linear Learner\", \"Host\": \"algo-1\", \"Operation\": \"training\", \"epoch\": 1, \"model\": 21}, \"Metrics\": {\"train_absolute_loss_objective\": {\"sum\": 0.7036464595794678, \"count\": 1, \"min\": 0.7036464595794678, \"max\": 0.7036464595794678}}}\u001b[0m\n",
      "\u001b[34m#metrics {\"StartTime\": 1681738420.012473, \"EndTime\": 1681738420.0124888, \"Dimensions\": {\"Algorithm\": \"Linear Learner\", \"Host\": \"algo-1\", \"Operation\": \"training\", \"epoch\": 1, \"model\": 22}, \"Metrics\": {\"train_absolute_loss_objective\": {\"sum\": 0.685665979385376, \"count\": 1, \"min\": 0.685665979385376, \"max\": 0.685665979385376}}}\u001b[0m\n",
      "\u001b[34m#metrics {\"StartTime\": 1681738420.0125434, \"EndTime\": 1681738420.0125594, \"Dimensions\": {\"Algorithm\": \"Linear Learner\", \"Host\": \"algo-1\", \"Operation\": \"training\", \"epoch\": 1, \"model\": 23}, \"Metrics\": {\"train_absolute_loss_objective\": {\"sum\": 0.6066415929794311, \"count\": 1, \"min\": 0.6066415929794311, \"max\": 0.6066415929794311}}}\u001b[0m\n",
      "\u001b[34m#metrics {\"StartTime\": 1681738420.0126195, \"EndTime\": 1681738420.012637, \"Dimensions\": {\"Algorithm\": \"Linear Learner\", \"Host\": \"algo-1\", \"Operation\": \"training\", \"epoch\": 1, \"model\": 24}, \"Metrics\": {\"train_absolute_loss_objective\": {\"sum\": 0.8546194171905518, \"count\": 1, \"min\": 0.8546194171905518, \"max\": 0.8546194171905518}}}\u001b[0m\n",
      "\u001b[34m#metrics {\"StartTime\": 1681738420.012699, \"EndTime\": 1681738420.0127156, \"Dimensions\": {\"Algorithm\": \"Linear Learner\", \"Host\": \"algo-1\", \"Operation\": \"training\", \"epoch\": 1, \"model\": 25}, \"Metrics\": {\"train_absolute_loss_objective\": {\"sum\": 0.8804075336456298, \"count\": 1, \"min\": 0.8804075336456298, \"max\": 0.8804075336456298}}}\u001b[0m\n",
      "\u001b[34m#metrics {\"StartTime\": 1681738420.0127745, \"EndTime\": 1681738420.0127914, \"Dimensions\": {\"Algorithm\": \"Linear Learner\", \"Host\": \"algo-1\", \"Operation\": \"training\", \"epoch\": 1, \"model\": 26}, \"Metrics\": {\"train_absolute_loss_objective\": {\"sum\": 0.8698037147521973, \"count\": 1, \"min\": 0.8698037147521973, \"max\": 0.8698037147521973}}}\u001b[0m\n",
      "\u001b[34m#metrics {\"StartTime\": 1681738420.0128498, \"EndTime\": 1681738420.012867, \"Dimensions\": {\"Algorithm\": \"Linear Learner\", \"Host\": \"algo-1\", \"Operation\": \"training\", \"epoch\": 1, \"model\": 27}, \"Metrics\": {\"train_absolute_loss_objective\": {\"sum\": 0.8698599433898926, \"count\": 1, \"min\": 0.8698599433898926, \"max\": 0.8698599433898926}}}\u001b[0m\n",
      "\u001b[34m#metrics {\"StartTime\": 1681738420.0129256, \"EndTime\": 1681738420.0129428, \"Dimensions\": {\"Algorithm\": \"Linear Learner\", \"Host\": \"algo-1\", \"Operation\": \"training\", \"epoch\": 1, \"model\": 28}, \"Metrics\": {\"train_absolute_loss_objective\": {\"sum\": 1.0050016689300536, \"count\": 1, \"min\": 1.0050016689300536, \"max\": 1.0050016689300536}}}\u001b[0m\n",
      "\u001b[34m#metrics {\"StartTime\": 1681738420.0130033, \"EndTime\": 1681738420.0130208, \"Dimensions\": {\"Algorithm\": \"Linear Learner\", \"Host\": \"algo-1\", \"Operation\": \"training\", \"epoch\": 1, \"model\": 29}, \"Metrics\": {\"train_absolute_loss_objective\": {\"sum\": 1.0041256332397461, \"count\": 1, \"min\": 1.0041256332397461, \"max\": 1.0041256332397461}}}\u001b[0m\n",
      "\u001b[34m#metrics {\"StartTime\": 1681738420.0130785, \"EndTime\": 1681738420.0130951, \"Dimensions\": {\"Algorithm\": \"Linear Learner\", \"Host\": \"algo-1\", \"Operation\": \"training\", \"epoch\": 1, \"model\": 30}, \"Metrics\": {\"train_absolute_loss_objective\": {\"sum\": 1.0829012489318848, \"count\": 1, \"min\": 1.0829012489318848, \"max\": 1.0829012489318848}}}\u001b[0m\n",
      "\u001b[34m#metrics {\"StartTime\": 1681738420.0131547, \"EndTime\": 1681738420.0131724, \"Dimensions\": {\"Algorithm\": \"Linear Learner\", \"Host\": \"algo-1\", \"Operation\": \"training\", \"epoch\": 1, \"model\": 31}, \"Metrics\": {\"train_absolute_loss_objective\": {\"sum\": 1.0004902935028077, \"count\": 1, \"min\": 1.0004902935028077, \"max\": 1.0004902935028077}}}\u001b[0m\n",
      "\u001b[34m[04/17/2023 13:33:40 INFO 139915702728512] #quality_metric: host=algo-1, epoch=1, train absolute_loss_objective <loss>=0.8452106952667237\u001b[0m\n",
      "\u001b[34m[04/17/2023 13:33:40 INFO 139915702728512] #early_stopping_criteria_metric: host=algo-1, epoch=1, criteria=absolute_loss_objective, value=0.5552438831329346\u001b[0m\n",
      "\u001b[34m[04/17/2023 13:33:40 INFO 139915702728512] Epoch 1: Loss improved. Updating best model\u001b[0m\n",
      "\u001b[34m[04/17/2023 13:33:40 INFO 139915702728512] Saving model for epoch: 1\u001b[0m\n",
      "\u001b[34m[04/17/2023 13:33:40 INFO 139915702728512] Saved checkpoint to \"/tmp/tmpfr_8ougr/mx-mod-0000.params\"\u001b[0m\n",
      "\u001b[34m[04/17/2023 13:33:40 INFO 139915702728512] #progress_metric: host=algo-1, completed 4.0 % of epochs\u001b[0m\n",
      "\u001b[34m#metrics {\"StartTime\": 1681738419.9159534, \"EndTime\": 1681738420.0214355, \"Dimensions\": {\"Algorithm\": \"Linear Learner\", \"Host\": \"algo-1\", \"Operation\": \"training\", \"epoch\": 1, \"Meta\": \"training_data_iter\"}, \"Metrics\": {\"Total Records Seen\": {\"sum\": 83.0, \"count\": 1, \"min\": 83, \"max\": 83}, \"Total Batches Seen\": {\"sum\": 19.0, \"count\": 1, \"min\": 19, \"max\": 19}, \"Max Records Seen Between Resets\": {\"sum\": 26.0, \"count\": 1, \"min\": 26, \"max\": 26}, \"Max Batches Seen Between Resets\": {\"sum\": 6.0, \"count\": 1, \"min\": 6, \"max\": 6}, \"Reset Count\": {\"sum\": 4.0, \"count\": 1, \"min\": 4, \"max\": 4}, \"Number of Records Since Last Reset\": {\"sum\": 26.0, \"count\": 1, \"min\": 26, \"max\": 26}, \"Number of Batches Since Last Reset\": {\"sum\": 6.0, \"count\": 1, \"min\": 6, \"max\": 6}}}\u001b[0m\n",
      "\u001b[34m[04/17/2023 13:33:40 INFO 139915702728512] #throughput_metric: host=algo-1, train throughput=246.15960253988032 records/second\u001b[0m\n",
      "\u001b[34m[2023-04-17 13:33:40.124] [tensorio] [info] epoch_stats={\"data_pipeline\": \"/opt/ml/input/data/train\", \"epoch\": 8, \"duration\": 103, \"num_examples\": 6, \"num_bytes\": 1248}\u001b[0m\n",
      "\u001b[34m#metrics {\"StartTime\": 1681738420.1250284, \"EndTime\": 1681738420.125103, \"Dimensions\": {\"Algorithm\": \"Linear Learner\", \"Host\": \"algo-1\", \"Operation\": \"training\", \"epoch\": 2, \"model\": 0}, \"Metrics\": {\"train_absolute_loss_objective\": {\"sum\": 0.8218663215637207, \"count\": 1, \"min\": 0.8218663215637207, \"max\": 0.8218663215637207}}}\u001b[0m\n",
      "\u001b[34m#metrics {\"StartTime\": 1681738420.1251729, \"EndTime\": 1681738420.1251924, \"Dimensions\": {\"Algorithm\": \"Linear Learner\", \"Host\": \"algo-1\", \"Operation\": \"training\", \"epoch\": 2, \"model\": 1}, \"Metrics\": {\"train_absolute_loss_objective\": {\"sum\": 0.8418535900115967, \"count\": 1, \"min\": 0.8418535900115967, \"max\": 0.8418535900115967}}}\u001b[0m\n",
      "\u001b[34m#metrics {\"StartTime\": 1681738420.125246, \"EndTime\": 1681738420.1252606, \"Dimensions\": {\"Algorithm\": \"Linear Learner\", \"Host\": \"algo-1\", \"Operation\": \"training\", \"epoch\": 2, \"model\": 2}, \"Metrics\": {\"train_absolute_loss_objective\": {\"sum\": 0.8242959117889405, \"count\": 1, \"min\": 0.8242959117889405, \"max\": 0.8242959117889405}}}\u001b[0m\n",
      "\u001b[34m#metrics {\"StartTime\": 1681738420.1253068, \"EndTime\": 1681738420.1253219, \"Dimensions\": {\"Algorithm\": \"Linear Learner\", \"Host\": \"algo-1\", \"Operation\": \"training\", \"epoch\": 2, \"model\": 3}, \"Metrics\": {\"train_absolute_loss_objective\": {\"sum\": 0.8408286380767822, \"count\": 1, \"min\": 0.8408286380767822, \"max\": 0.8408286380767822}}}\u001b[0m\n",
      "\u001b[34m#metrics {\"StartTime\": 1681738420.125371, \"EndTime\": 1681738420.1253867, \"Dimensions\": {\"Algorithm\": \"Linear Learner\", \"Host\": \"algo-1\", \"Operation\": \"training\", \"epoch\": 2, \"model\": 4}, \"Metrics\": {\"train_absolute_loss_objective\": {\"sum\": 0.3468326568603516, \"count\": 1, \"min\": 0.3468326568603516, \"max\": 0.3468326568603516}}}\u001b[0m\n",
      "\u001b[34m#metrics {\"StartTime\": 1681738420.1254373, \"EndTime\": 1681738420.125452, \"Dimensions\": {\"Algorithm\": \"Linear Learner\", \"Host\": \"algo-1\", \"Operation\": \"training\", \"epoch\": 2, \"model\": 5}, \"Metrics\": {\"train_absolute_loss_objective\": {\"sum\": 0.34799925088882444, \"count\": 1, \"min\": 0.34799925088882444, \"max\": 0.34799925088882444}}}\u001b[0m\n",
      "\u001b[34m#metrics {\"StartTime\": 1681738420.1255002, \"EndTime\": 1681738420.1255157, \"Dimensions\": {\"Algorithm\": \"Linear Learner\", \"Host\": \"algo-1\", \"Operation\": \"training\", \"epoch\": 2, \"model\": 6}, \"Metrics\": {\"train_absolute_loss_objective\": {\"sum\": 0.37858210802078246, \"count\": 1, \"min\": 0.37858210802078246, \"max\": 0.37858210802078246}}}\u001b[0m\n",
      "\u001b[34m#metrics {\"StartTime\": 1681738420.1255627, \"EndTime\": 1681738420.125578, \"Dimensions\": {\"Algorithm\": \"Linear Learner\", \"Host\": \"algo-1\", \"Operation\": \"training\", \"epoch\": 2, \"model\": 7}, \"Metrics\": {\"train_absolute_loss_objective\": {\"sum\": 0.3467637848854065, \"count\": 1, \"min\": 0.3467637848854065, \"max\": 0.3467637848854065}}}\u001b[0m\n",
      "\u001b[34m#metrics {\"StartTime\": 1681738420.1256297, \"EndTime\": 1681738420.1256459, \"Dimensions\": {\"Algorithm\": \"Linear Learner\", \"Host\": \"algo-1\", \"Operation\": \"training\", \"epoch\": 2, \"model\": 8}, \"Metrics\": {\"train_absolute_loss_objective\": {\"sum\": 0.8781804656982422, \"count\": 1, \"min\": 0.8781804656982422, \"max\": 0.8781804656982422}}}\u001b[0m\n",
      "\u001b[34m#metrics {\"StartTime\": 1681738420.125705, \"EndTime\": 1681738420.125722, \"Dimensions\": {\"Algorithm\": \"Linear Learner\", \"Host\": \"algo-1\", \"Operation\": \"training\", \"epoch\": 2, \"model\": 9}, \"Metrics\": {\"train_absolute_loss_objective\": {\"sum\": 0.8096799755096435, \"count\": 1, \"min\": 0.8096799755096435, \"max\": 0.8096799755096435}}}\u001b[0m\n",
      "\u001b[34m#metrics {\"StartTime\": 1681738420.1257737, \"EndTime\": 1681738420.1257894, \"Dimensions\": {\"Algorithm\": \"Linear Learner\", \"Host\": \"algo-1\", \"Operation\": \"training\", \"epoch\": 2, \"model\": 10}, \"Metrics\": {\"train_absolute_loss_objective\": {\"sum\": 0.8164974021911621, \"count\": 1, \"min\": 0.8164974021911621, \"max\": 0.8164974021911621}}}\u001b[0m\n",
      "\u001b[34m#metrics {\"StartTime\": 1681738420.1258454, \"EndTime\": 1681738420.125862, \"Dimensions\": {\"Algorithm\": \"Linear Learner\", \"Host\": \"algo-1\", \"Operation\": \"training\", \"epoch\": 2, \"model\": 11}, \"Metrics\": {\"train_absolute_loss_objective\": {\"sum\": 0.8015057277679444, \"count\": 1, \"min\": 0.8015057277679444, \"max\": 0.8015057277679444}}}\u001b[0m\n",
      "\u001b[34m#metrics {\"StartTime\": 1681738420.125914, \"EndTime\": 1681738420.1259298, \"Dimensions\": {\"Algorithm\": \"Linear Learner\", \"Host\": \"algo-1\", \"Operation\": \"training\", \"epoch\": 2, \"model\": 12}, \"Metrics\": {\"train_absolute_loss_objective\": {\"sum\": 0.3479122090339661, \"count\": 1, \"min\": 0.3479122090339661, \"max\": 0.3479122090339661}}}\u001b[0m\n",
      "\u001b[34m#metrics {\"StartTime\": 1681738420.1259797, \"EndTime\": 1681738420.1259959, \"Dimensions\": {\"Algorithm\": \"Linear Learner\", \"Host\": \"algo-1\", \"Operation\": \"training\", \"epoch\": 2, \"model\": 13}, \"Metrics\": {\"train_absolute_loss_objective\": {\"sum\": 0.3980332064628601, \"count\": 1, \"min\": 0.3980332064628601, \"max\": 0.3980332064628601}}}\u001b[0m\n",
      "\u001b[34m#metrics {\"StartTime\": 1681738420.126055, \"EndTime\": 1681738420.126071, \"Dimensions\": {\"Algorithm\": \"Linear Learner\", \"Host\": \"algo-1\", \"Operation\": \"training\", \"epoch\": 2, \"model\": 14}, \"Metrics\": {\"train_absolute_loss_objective\": {\"sum\": 0.34769967555999753, \"count\": 1, \"min\": 0.34769967555999753, \"max\": 0.34769967555999753}}}\u001b[0m\n",
      "\u001b[34m#metrics {\"StartTime\": 1681738420.1261218, \"EndTime\": 1681738420.1261384, \"Dimensions\": {\"Algorithm\": \"Linear Learner\", \"Host\": \"algo-1\", \"Operation\": \"training\", \"epoch\": 2, \"model\": 15}, \"Metrics\": {\"train_absolute_loss_objective\": {\"sum\": 0.3713681983947754, \"count\": 1, \"min\": 0.3713681983947754, \"max\": 0.3713681983947754}}}\u001b[0m\n",
      "\u001b[34m#metrics {\"StartTime\": 1681738420.1261961, \"EndTime\": 1681738420.126212, \"Dimensions\": {\"Algorithm\": \"Linear Learner\", \"Host\": \"algo-1\", \"Operation\": \"training\", \"epoch\": 2, \"model\": 16}, \"Metrics\": {\"train_absolute_loss_objective\": {\"sum\": 0.7857072353363037, \"count\": 1, \"min\": 0.7857072353363037, \"max\": 0.7857072353363037}}}\u001b[0m\n",
      "\u001b[34m#metrics {\"StartTime\": 1681738420.1262639, \"EndTime\": 1681738420.1262798, \"Dimensions\": {\"Algorithm\": \"Linear Learner\", \"Host\": \"algo-1\", \"Operation\": \"training\", \"epoch\": 2, \"model\": 17}, \"Metrics\": {\"train_absolute_loss_objective\": {\"sum\": 0.8372127628326416, \"count\": 1, \"min\": 0.8372127628326416, \"max\": 0.8372127628326416}}}\u001b[0m\n",
      "\u001b[34m#metrics {\"StartTime\": 1681738420.1263382, \"EndTime\": 1681738420.1263545, \"Dimensions\": {\"Algorithm\": \"Linear Learner\", \"Host\": \"algo-1\", \"Operation\": \"training\", \"epoch\": 2, \"model\": 18}, \"Metrics\": {\"train_absolute_loss_objective\": {\"sum\": 0.8129393768310547, \"count\": 1, \"min\": 0.8129393768310547, \"max\": 0.8129393768310547}}}\u001b[0m\n",
      "\u001b[34m#metrics {\"StartTime\": 1681738420.1264148, \"EndTime\": 1681738420.1264312, \"Dimensions\": {\"Algorithm\": \"Linear Learner\", \"Host\": \"algo-1\", \"Operation\": \"training\", \"epoch\": 2, \"model\": 19}, \"Metrics\": {\"train_absolute_loss_objective\": {\"sum\": 0.8101523208618164, \"count\": 1, \"min\": 0.8101523208618164, \"max\": 0.8101523208618164}}}\u001b[0m\n",
      "\u001b[34m#metrics {\"StartTime\": 1681738420.1264925, \"EndTime\": 1681738420.1265094, \"Dimensions\": {\"Algorithm\": \"Linear Learner\", \"Host\": \"algo-1\", \"Operation\": \"training\", \"epoch\": 2, \"model\": 20}, \"Metrics\": {\"train_absolute_loss_objective\": {\"sum\": 0.5199974822998047, \"count\": 1, \"min\": 0.5199974822998047, \"max\": 0.5199974822998047}}}\u001b[0m\n",
      "\u001b[34m#metrics {\"StartTime\": 1681738420.1265619, \"EndTime\": 1681738420.1265779, \"Dimensions\": {\"Algorithm\": \"Linear Learner\", \"Host\": \"algo-1\", \"Operation\": \"training\", \"epoch\": 2, \"model\": 21}, \"Metrics\": {\"train_absolute_loss_objective\": {\"sum\": 0.760307846069336, \"count\": 1, \"min\": 0.760307846069336, \"max\": 0.760307846069336}}}\u001b[0m\n",
      "\u001b[34m#metrics {\"StartTime\": 1681738420.1266644, \"EndTime\": 1681738420.1266813, \"Dimensions\": {\"Algorithm\": \"Linear Learner\", \"Host\": \"algo-1\", \"Operation\": \"training\", \"epoch\": 2, \"model\": 22}, \"Metrics\": {\"train_absolute_loss_objective\": {\"sum\": 0.4859248352050781, \"count\": 1, \"min\": 0.4859248352050781, \"max\": 0.4859248352050781}}}\u001b[0m\n",
      "\u001b[34m#metrics {\"StartTime\": 1681738420.1267724, \"EndTime\": 1681738420.1267915, \"Dimensions\": {\"Algorithm\": \"Linear Learner\", \"Host\": \"algo-1\", \"Operation\": \"training\", \"epoch\": 2, \"model\": 23}, \"Metrics\": {\"train_absolute_loss_objective\": {\"sum\": 0.606665563583374, \"count\": 1, \"min\": 0.606665563583374, \"max\": 0.606665563583374}}}\u001b[0m\n",
      "\u001b[34m#metrics {\"StartTime\": 1681738420.126854, \"EndTime\": 1681738420.1268706, \"Dimensions\": {\"Algorithm\": \"Linear Learner\", \"Host\": \"algo-1\", \"Operation\": \"training\", \"epoch\": 2, \"model\": 24}, \"Metrics\": {\"train_absolute_loss_objective\": {\"sum\": 0.870132703781128, \"count\": 1, \"min\": 0.870132703781128, \"max\": 0.870132703781128}}}\u001b[0m\n",
      "\u001b[34m#metrics {\"StartTime\": 1681738420.126968, \"EndTime\": 1681738420.126987, \"Dimensions\": {\"Algorithm\": \"Linear Learner\", \"Host\": \"algo-1\", \"Operation\": \"training\", \"epoch\": 2, \"model\": 25}, \"Metrics\": {\"train_absolute_loss_objective\": {\"sum\": 0.8647700881958008, \"count\": 1, \"min\": 0.8647700881958008, \"max\": 0.8647700881958008}}}\u001b[0m\n",
      "\u001b[34m#metrics {\"StartTime\": 1681738420.1270814, \"EndTime\": 1681738420.1270993, \"Dimensions\": {\"Algorithm\": \"Linear Learner\", \"Host\": \"algo-1\", \"Operation\": \"training\", \"epoch\": 2, \"model\": 26}, \"Metrics\": {\"train_absolute_loss_objective\": {\"sum\": 0.8640354347229003, \"count\": 1, \"min\": 0.8640354347229003, \"max\": 0.8640354347229003}}}\u001b[0m\n",
      "\u001b[34m#metrics {\"StartTime\": 1681738420.1272051, \"EndTime\": 1681738420.1272235, \"Dimensions\": {\"Algorithm\": \"Linear Learner\", \"Host\": \"algo-1\", \"Operation\": \"training\", \"epoch\": 2, \"model\": 27}, \"Metrics\": {\"train_absolute_loss_objective\": {\"sum\": 0.8739835739135742, \"count\": 1, \"min\": 0.8739835739135742, \"max\": 0.8739835739135742}}}\u001b[0m\n",
      "\u001b[34m#metrics {\"StartTime\": 1681738420.1273267, \"EndTime\": 1681738420.127348, \"Dimensions\": {\"Algorithm\": \"Linear Learner\", \"Host\": \"algo-1\", \"Operation\": \"training\", \"epoch\": 2, \"model\": 28}, \"Metrics\": {\"train_absolute_loss_objective\": {\"sum\": 1.0528014183044434, \"count\": 1, \"min\": 1.0528014183044434, \"max\": 1.0528014183044434}}}\u001b[0m\n",
      "\u001b[34m#metrics {\"StartTime\": 1681738420.127395, \"EndTime\": 1681738420.12741, \"Dimensions\": {\"Algorithm\": \"Linear Learner\", \"Host\": \"algo-1\", \"Operation\": \"training\", \"epoch\": 2, \"model\": 29}, \"Metrics\": {\"train_absolute_loss_objective\": {\"sum\": 1.0526725959777832, \"count\": 1, \"min\": 1.0526725959777832, \"max\": 1.0526725959777832}}}\u001b[0m\n",
      "\u001b[34m#metrics {\"StartTime\": 1681738420.1274645, \"EndTime\": 1681738420.127481, \"Dimensions\": {\"Algorithm\": \"Linear Learner\", \"Host\": \"algo-1\", \"Operation\": \"training\", \"epoch\": 2, \"model\": 30}, \"Metrics\": {\"train_absolute_loss_objective\": {\"sum\": 1.0365124034881592, \"count\": 1, \"min\": 1.0365124034881592, \"max\": 1.0365124034881592}}}\u001b[0m\n",
      "\u001b[34m#metrics {\"StartTime\": 1681738420.127541, \"EndTime\": 1681738420.1275585, \"Dimensions\": {\"Algorithm\": \"Linear Learner\", \"Host\": \"algo-1\", \"Operation\": \"training\", \"epoch\": 2, \"model\": 31}, \"Metrics\": {\"train_absolute_loss_objective\": {\"sum\": 1.0655863189697266, \"count\": 1, \"min\": 1.0655863189697266, \"max\": 1.0655863189697266}}}\u001b[0m\n",
      "\u001b[34m[04/17/2023 13:33:40 INFO 139915702728512] #quality_metric: host=algo-1, epoch=2, train absolute_loss_objective <loss>=0.8218663215637207\u001b[0m\n",
      "\u001b[34m[04/17/2023 13:33:40 INFO 139915702728512] #early_stopping_criteria_metric: host=algo-1, epoch=2, criteria=absolute_loss_objective, value=0.3467637848854065\u001b[0m\n",
      "\u001b[34m[04/17/2023 13:33:40 INFO 139915702728512] Epoch 2: Loss improved. Updating best model\u001b[0m\n",
      "\u001b[34m[04/17/2023 13:33:40 INFO 139915702728512] Saving model for epoch: 2\u001b[0m\n",
      "\u001b[34m[04/17/2023 13:33:40 INFO 139915702728512] Saved checkpoint to \"/tmp/tmpchgk4z3e/mx-mod-0000.params\"\u001b[0m\n",
      "\u001b[34m[04/17/2023 13:33:40 INFO 139915702728512] #progress_metric: host=algo-1, completed 6.0 % of epochs\u001b[0m\n",
      "\u001b[34m#metrics {\"StartTime\": 1681738420.0217283, \"EndTime\": 1681738420.1358654, \"Dimensions\": {\"Algorithm\": \"Linear Learner\", \"Host\": \"algo-1\", \"Operation\": \"training\", \"epoch\": 2, \"Meta\": \"training_data_iter\"}, \"Metrics\": {\"Total Records Seen\": {\"sum\": 109.0, \"count\": 1, \"min\": 109, \"max\": 109}, \"Total Batches Seen\": {\"sum\": 25.0, \"count\": 1, \"min\": 25, \"max\": 25}, \"Max Records Seen Between Resets\": {\"sum\": 26.0, \"count\": 1, \"min\": 26, \"max\": 26}, \"Max Batches Seen Between Resets\": {\"sum\": 6.0, \"count\": 1, \"min\": 6, \"max\": 6}, \"Reset Count\": {\"sum\": 5.0, \"count\": 1, \"min\": 5, \"max\": 5}, \"Number of Records Since Last Reset\": {\"sum\": 26.0, \"count\": 1, \"min\": 26, \"max\": 26}, \"Number of Batches Since Last Reset\": {\"sum\": 6.0, \"count\": 1, \"min\": 6, \"max\": 6}}}\u001b[0m\n",
      "\u001b[34m[04/17/2023 13:33:40 INFO 139915702728512] #throughput_metric: host=algo-1, train throughput=227.51804986741385 records/second\u001b[0m\n",
      "\u001b[34m[2023-04-17 13:33:40.217] [tensorio] [info] epoch_stats={\"data_pipeline\": \"/opt/ml/input/data/train\", \"epoch\": 10, \"duration\": 81, \"num_examples\": 6, \"num_bytes\": 1248}\u001b[0m\n",
      "\u001b[34m#metrics {\"StartTime\": 1681738420.2176354, \"EndTime\": 1681738420.2177052, \"Dimensions\": {\"Algorithm\": \"Linear Learner\", \"Host\": \"algo-1\", \"Operation\": \"training\", \"epoch\": 3, \"model\": 0}, \"Metrics\": {\"train_absolute_loss_objective\": {\"sum\": 0.7992551898956299, \"count\": 1, \"min\": 0.7992551898956299, \"max\": 0.7992551898956299}}}\u001b[0m\n",
      "\u001b[34m#metrics {\"StartTime\": 1681738420.217765, \"EndTime\": 1681738420.2177775, \"Dimensions\": {\"Algorithm\": \"Linear Learner\", \"Host\": \"algo-1\", \"Operation\": \"training\", \"epoch\": 3, \"model\": 1}, \"Metrics\": {\"train_absolute_loss_objective\": {\"sum\": 0.8190140438079834, \"count\": 1, \"min\": 0.8190140438079834, \"max\": 0.8190140438079834}}}\u001b[0m\n",
      "\u001b[34m#metrics {\"StartTime\": 1681738420.2178137, \"EndTime\": 1681738420.2178283, \"Dimensions\": {\"Algorithm\": \"Linear Learner\", \"Host\": \"algo-1\", \"Operation\": \"training\", \"epoch\": 3, \"model\": 2}, \"Metrics\": {\"train_absolute_loss_objective\": {\"sum\": 0.8016847515106201, \"count\": 1, \"min\": 0.8016847515106201, \"max\": 0.8016847515106201}}}\u001b[0m\n",
      "\u001b[34m#metrics {\"StartTime\": 1681738420.2178774, \"EndTime\": 1681738420.2178876, \"Dimensions\": {\"Algorithm\": \"Linear Learner\", \"Host\": \"algo-1\", \"Operation\": \"training\", \"epoch\": 3, \"model\": 3}, \"Metrics\": {\"train_absolute_loss_objective\": {\"sum\": 0.8179890918731689, \"count\": 1, \"min\": 0.8179890918731689, \"max\": 0.8179890918731689}}}\u001b[0m\n",
      "\u001b[34m#metrics {\"StartTime\": 1681738420.2179139, \"EndTime\": 1681738420.217921, \"Dimensions\": {\"Algorithm\": \"Linear Learner\", \"Host\": \"algo-1\", \"Operation\": \"training\", \"epoch\": 3, \"model\": 4}, \"Metrics\": {\"train_absolute_loss_objective\": {\"sum\": 0.26869877099990847, \"count\": 1, \"min\": 0.26869877099990847, \"max\": 0.26869877099990847}}}\u001b[0m\n",
      "\u001b[34m#metrics {\"StartTime\": 1681738420.2179465, \"EndTime\": 1681738420.2179542, \"Dimensions\": {\"Algorithm\": \"Linear Learner\", \"Host\": \"algo-1\", \"Operation\": \"training\", \"epoch\": 3, \"model\": 5}, \"Metrics\": {\"train_absolute_loss_objective\": {\"sum\": 0.26852739810943604, \"count\": 1, \"min\": 0.26852739810943604, \"max\": 0.26852739810943604}}}\u001b[0m\n",
      "\u001b[34m#metrics {\"StartTime\": 1681738420.2179797, \"EndTime\": 1681738420.2179909, \"Dimensions\": {\"Algorithm\": \"Linear Learner\", \"Host\": \"algo-1\", \"Operation\": \"training\", \"epoch\": 3, \"model\": 6}, \"Metrics\": {\"train_absolute_loss_objective\": {\"sum\": 0.3501150584220886, \"count\": 1, \"min\": 0.3501150584220886, \"max\": 0.3501150584220886}}}\u001b[0m\n",
      "\u001b[34m#metrics {\"StartTime\": 1681738420.2180364, \"EndTime\": 1681738420.2180524, \"Dimensions\": {\"Algorithm\": \"Linear Learner\", \"Host\": \"algo-1\", \"Operation\": \"training\", \"epoch\": 3, \"model\": 7}, \"Metrics\": {\"train_absolute_loss_objective\": {\"sum\": 0.25292635202407837, \"count\": 1, \"min\": 0.25292635202407837, \"max\": 0.25292635202407837}}}\u001b[0m\n",
      "\u001b[34m#metrics {\"StartTime\": 1681738420.2181053, \"EndTime\": 1681738420.2181177, \"Dimensions\": {\"Algorithm\": \"Linear Learner\", \"Host\": \"algo-1\", \"Operation\": \"training\", \"epoch\": 3, \"model\": 8}, \"Metrics\": {\"train_absolute_loss_objective\": {\"sum\": 0.8555714225769043, \"count\": 1, \"min\": 0.8555714225769043, \"max\": 0.8555714225769043}}}\u001b[0m\n",
      "\u001b[34m#metrics {\"StartTime\": 1681738420.2181451, \"EndTime\": 1681738420.2181525, \"Dimensions\": {\"Algorithm\": \"Linear Learner\", \"Host\": \"algo-1\", \"Operation\": \"training\", \"epoch\": 3, \"model\": 9}, \"Metrics\": {\"train_absolute_loss_objective\": {\"sum\": 0.7868430423736572, \"count\": 1, \"min\": 0.7868430423736572, \"max\": 0.7868430423736572}}}\u001b[0m\n",
      "\u001b[34m#metrics {\"StartTime\": 1681738420.218198, \"EndTime\": 1681738420.2182138, \"Dimensions\": {\"Algorithm\": \"Linear Learner\", \"Host\": \"algo-1\", \"Operation\": \"training\", \"epoch\": 3, \"model\": 10}, \"Metrics\": {\"train_absolute_loss_objective\": {\"sum\": 0.7938888359069824, \"count\": 1, \"min\": 0.7938888359069824, \"max\": 0.7938888359069824}}}\u001b[0m\n",
      "\u001b[34m#metrics {\"StartTime\": 1681738420.2182643, \"EndTime\": 1681738420.2182772, \"Dimensions\": {\"Algorithm\": \"Linear Learner\", \"Host\": \"algo-1\", \"Operation\": \"training\", \"epoch\": 3, \"model\": 11}, \"Metrics\": {\"train_absolute_loss_objective\": {\"sum\": 0.778668909072876, \"count\": 1, \"min\": 0.778668909072876, \"max\": 0.778668909072876}}}\u001b[0m\n",
      "\u001b[34m#metrics {\"StartTime\": 1681738420.2183044, \"EndTime\": 1681738420.2183118, \"Dimensions\": {\"Algorithm\": \"Linear Learner\", \"Host\": \"algo-1\", \"Operation\": \"training\", \"epoch\": 3, \"model\": 12}, \"Metrics\": {\"train_absolute_loss_objective\": {\"sum\": 0.32424901485443114, \"count\": 1, \"min\": 0.32424901485443114, \"max\": 0.32424901485443114}}}\u001b[0m\n",
      "\u001b[34m#metrics {\"StartTime\": 1681738420.2183588, \"EndTime\": 1681738420.2183733, \"Dimensions\": {\"Algorithm\": \"Linear Learner\", \"Host\": \"algo-1\", \"Operation\": \"training\", \"epoch\": 3, \"model\": 13}, \"Metrics\": {\"train_absolute_loss_objective\": {\"sum\": 0.32783442974090576, \"count\": 1, \"min\": 0.32783442974090576, \"max\": 0.32783442974090576}}}\u001b[0m\n",
      "\u001b[34m#metrics {\"StartTime\": 1681738420.2184095, \"EndTime\": 1681738420.2184181, \"Dimensions\": {\"Algorithm\": \"Linear Learner\", \"Host\": \"algo-1\", \"Operation\": \"training\", \"epoch\": 3, \"model\": 14}, \"Metrics\": {\"train_absolute_loss_objective\": {\"sum\": 0.32475425243377687, \"count\": 1, \"min\": 0.32475425243377687, \"max\": 0.32475425243377687}}}\u001b[0m\n",
      "\u001b[34m#metrics {\"StartTime\": 1681738420.218446, \"EndTime\": 1681738420.2184594, \"Dimensions\": {\"Algorithm\": \"Linear Learner\", \"Host\": \"algo-1\", \"Operation\": \"training\", \"epoch\": 3, \"model\": 15}, \"Metrics\": {\"train_absolute_loss_objective\": {\"sum\": 0.27079138994216917, \"count\": 1, \"min\": 0.27079138994216917, \"max\": 0.27079138994216917}}}\u001b[0m\n",
      "\u001b[34m#metrics {\"StartTime\": 1681738420.2184954, \"EndTime\": 1681738420.2185085, \"Dimensions\": {\"Algorithm\": \"Linear Learner\", \"Host\": \"algo-1\", \"Operation\": \"training\", \"epoch\": 3, \"model\": 16}, \"Metrics\": {\"train_absolute_loss_objective\": {\"sum\": 0.7634163093566895, \"count\": 1, \"min\": 0.7634163093566895, \"max\": 0.7634163093566895}}}\u001b[0m\n",
      "\u001b[34m#metrics {\"StartTime\": 1681738420.2185585, \"EndTime\": 1681738420.2185724, \"Dimensions\": {\"Algorithm\": \"Linear Learner\", \"Host\": \"algo-1\", \"Operation\": \"training\", \"epoch\": 3, \"model\": 17}, \"Metrics\": {\"train_absolute_loss_objective\": {\"sum\": 0.8146331882476807, \"count\": 1, \"min\": 0.8146331882476807, \"max\": 0.8146331882476807}}}\u001b[0m\n",
      "\u001b[34m#metrics {\"StartTime\": 1681738420.2186315, \"EndTime\": 1681738420.2186472, \"Dimensions\": {\"Algorithm\": \"Linear Learner\", \"Host\": \"algo-1\", \"Operation\": \"training\", \"epoch\": 3, \"model\": 18}, \"Metrics\": {\"train_absolute_loss_objective\": {\"sum\": 0.790613374710083, \"count\": 1, \"min\": 0.790613374710083, \"max\": 0.790613374710083}}}\u001b[0m\n",
      "\u001b[34m#metrics {\"StartTime\": 1681738420.2187, \"EndTime\": 1681738420.2187164, \"Dimensions\": {\"Algorithm\": \"Linear Learner\", \"Host\": \"algo-1\", \"Operation\": \"training\", \"epoch\": 3, \"model\": 19}, \"Metrics\": {\"train_absolute_loss_objective\": {\"sum\": 0.7876049423217774, \"count\": 1, \"min\": 0.7876049423217774, \"max\": 0.7876049423217774}}}\u001b[0m\n",
      "\u001b[34m#metrics {\"StartTime\": 1681738420.21877, \"EndTime\": 1681738420.218786, \"Dimensions\": {\"Algorithm\": \"Linear Learner\", \"Host\": \"algo-1\", \"Operation\": \"training\", \"epoch\": 3, \"model\": 20}, \"Metrics\": {\"train_absolute_loss_objective\": {\"sum\": 0.4733405876159668, \"count\": 1, \"min\": 0.4733405876159668, \"max\": 0.4733405876159668}}}\u001b[0m\n",
      "\u001b[34m#metrics {\"StartTime\": 1681738420.218834, \"EndTime\": 1681738420.218849, \"Dimensions\": {\"Algorithm\": \"Linear Learner\", \"Host\": \"algo-1\", \"Operation\": \"training\", \"epoch\": 3, \"model\": 21}, \"Metrics\": {\"train_absolute_loss_objective\": {\"sum\": 0.5026095485687256, \"count\": 1, \"min\": 0.5026095485687256, \"max\": 0.5026095485687256}}}\u001b[0m\n",
      "\u001b[34m#metrics {\"StartTime\": 1681738420.2189038, \"EndTime\": 1681738420.2189198, \"Dimensions\": {\"Algorithm\": \"Linear Learner\", \"Host\": \"algo-1\", \"Operation\": \"training\", \"epoch\": 3, \"model\": 22}, \"Metrics\": {\"train_absolute_loss_objective\": {\"sum\": 0.43895472526550294, \"count\": 1, \"min\": 0.43895472526550294, \"max\": 0.43895472526550294}}}\u001b[0m\n",
      "\u001b[34m#metrics {\"StartTime\": 1681738420.2189672, \"EndTime\": 1681738420.218983, \"Dimensions\": {\"Algorithm\": \"Linear Learner\", \"Host\": \"algo-1\", \"Operation\": \"training\", \"epoch\": 3, \"model\": 23}, \"Metrics\": {\"train_absolute_loss_objective\": {\"sum\": 0.5318176746368408, \"count\": 1, \"min\": 0.5318176746368408, \"max\": 0.5318176746368408}}}\u001b[0m\n",
      "\u001b[34m#metrics {\"StartTime\": 1681738420.2190318, \"EndTime\": 1681738420.2190478, \"Dimensions\": {\"Algorithm\": \"Linear Learner\", \"Host\": \"algo-1\", \"Operation\": \"training\", \"epoch\": 3, \"model\": 24}, \"Metrics\": {\"train_absolute_loss_objective\": {\"sum\": 0.8796207237243653, \"count\": 1, \"min\": 0.8796207237243653, \"max\": 0.8796207237243653}}}\u001b[0m\n",
      "\u001b[34m#metrics {\"StartTime\": 1681738420.2191105, \"EndTime\": 1681738420.2191272, \"Dimensions\": {\"Algorithm\": \"Linear Learner\", \"Host\": \"algo-1\", \"Operation\": \"training\", \"epoch\": 3, \"model\": 25}, \"Metrics\": {\"train_absolute_loss_objective\": {\"sum\": 0.8600721168518066, \"count\": 1, \"min\": 0.8600721168518066, \"max\": 0.8600721168518066}}}\u001b[0m\n",
      "\u001b[34m#metrics {\"StartTime\": 1681738420.2192261, \"EndTime\": 1681738420.2192447, \"Dimensions\": {\"Algorithm\": \"Linear Learner\", \"Host\": \"algo-1\", \"Operation\": \"training\", \"epoch\": 3, \"model\": 26}, \"Metrics\": {\"train_absolute_loss_objective\": {\"sum\": 0.8687710571289062, \"count\": 1, \"min\": 0.8687710571289062, \"max\": 0.8687710571289062}}}\u001b[0m\n",
      "\u001b[34m#metrics {\"StartTime\": 1681738420.2193735, \"EndTime\": 1681738420.2193942, \"Dimensions\": {\"Algorithm\": \"Linear Learner\", \"Host\": \"algo-1\", \"Operation\": \"training\", \"epoch\": 3, \"model\": 27}, \"Metrics\": {\"train_absolute_loss_objective\": {\"sum\": 0.8724534034729003, \"count\": 1, \"min\": 0.8724534034729003, \"max\": 0.8724534034729003}}}\u001b[0m\n",
      "\u001b[34m#metrics {\"StartTime\": 1681738420.219521, \"EndTime\": 1681738420.2195437, \"Dimensions\": {\"Algorithm\": \"Linear Learner\", \"Host\": \"algo-1\", \"Operation\": \"training\", \"epoch\": 3, \"model\": 28}, \"Metrics\": {\"train_absolute_loss_objective\": {\"sum\": 0.9910449028015137, \"count\": 1, \"min\": 0.9910449028015137, \"max\": 0.9910449028015137}}}\u001b[0m\n",
      "\u001b[34m#metrics {\"StartTime\": 1681738420.2196875, \"EndTime\": 1681738420.2197084, \"Dimensions\": {\"Algorithm\": \"Linear Learner\", \"Host\": \"algo-1\", \"Operation\": \"training\", \"epoch\": 3, \"model\": 29}, \"Metrics\": {\"train_absolute_loss_objective\": {\"sum\": 0.9936561965942383, \"count\": 1, \"min\": 0.9936561965942383, \"max\": 0.9936561965942383}}}\u001b[0m\n",
      "\u001b[34m#metrics {\"StartTime\": 1681738420.2198393, \"EndTime\": 1681738420.2198613, \"Dimensions\": {\"Algorithm\": \"Linear Learner\", \"Host\": \"algo-1\", \"Operation\": \"training\", \"epoch\": 3, \"model\": 30}, \"Metrics\": {\"train_absolute_loss_objective\": {\"sum\": 0.9407832431793213, \"count\": 1, \"min\": 0.9407832431793213, \"max\": 0.9407832431793213}}}\u001b[0m\n",
      "\u001b[34m#metrics {\"StartTime\": 1681738420.2199273, \"EndTime\": 1681738420.219945, \"Dimensions\": {\"Algorithm\": \"Linear Learner\", \"Host\": \"algo-1\", \"Operation\": \"training\", \"epoch\": 3, \"model\": 31}, \"Metrics\": {\"train_absolute_loss_objective\": {\"sum\": 0.9747333145141601, \"count\": 1, \"min\": 0.9747333145141601, \"max\": 0.9747333145141601}}}\u001b[0m\n",
      "\u001b[34m[04/17/2023 13:33:40 INFO 139915702728512] #quality_metric: host=algo-1, epoch=3, train absolute_loss_objective <loss>=0.7992551898956299\u001b[0m\n",
      "\u001b[34m[04/17/2023 13:33:40 INFO 139915702728512] #early_stopping_criteria_metric: host=algo-1, epoch=3, criteria=absolute_loss_objective, value=0.25292635202407837\u001b[0m\n",
      "\u001b[34m[04/17/2023 13:33:40 INFO 139915702728512] Epoch 3: Loss improved. Updating best model\u001b[0m\n",
      "\u001b[34m[04/17/2023 13:33:40 INFO 139915702728512] Saving model for epoch: 3\u001b[0m\n",
      "\u001b[34m[04/17/2023 13:33:40 INFO 139915702728512] Saved checkpoint to \"/tmp/tmp_iqb8_b0/mx-mod-0000.params\"\u001b[0m\n",
      "\u001b[34m[04/17/2023 13:33:40 INFO 139915702728512] #progress_metric: host=algo-1, completed 8.0 % of epochs\u001b[0m\n",
      "\u001b[34m#metrics {\"StartTime\": 1681738420.1361756, \"EndTime\": 1681738420.2313702, \"Dimensions\": {\"Algorithm\": \"Linear Learner\", \"Host\": \"algo-1\", \"Operation\": \"training\", \"epoch\": 3, \"Meta\": \"training_data_iter\"}, \"Metrics\": {\"Total Records Seen\": {\"sum\": 135.0, \"count\": 1, \"min\": 135, \"max\": 135}, \"Total Batches Seen\": {\"sum\": 31.0, \"count\": 1, \"min\": 31, \"max\": 31}, \"Max Records Seen Between Resets\": {\"sum\": 26.0, \"count\": 1, \"min\": 26, \"max\": 26}, \"Max Batches Seen Between Resets\": {\"sum\": 6.0, \"count\": 1, \"min\": 6, \"max\": 6}, \"Reset Count\": {\"sum\": 6.0, \"count\": 1, \"min\": 6, \"max\": 6}, \"Number of Records Since Last Reset\": {\"sum\": 26.0, \"count\": 1, \"min\": 26, \"max\": 26}, \"Number of Batches Since Last Reset\": {\"sum\": 6.0, \"count\": 1, \"min\": 6, \"max\": 6}}}\u001b[0m\n",
      "\u001b[34m[04/17/2023 13:33:40 INFO 139915702728512] #throughput_metric: host=algo-1, train throughput=272.73885554221687 records/second\u001b[0m\n",
      "\u001b[34m[2023-04-17 13:33:40.338] [tensorio] [info] epoch_stats={\"data_pipeline\": \"/opt/ml/input/data/train\", \"epoch\": 12, \"duration\": 107, \"num_examples\": 6, \"num_bytes\": 1248}\u001b[0m\n",
      "\u001b[34m#metrics {\"StartTime\": 1681738420.339029, \"EndTime\": 1681738420.3390722, \"Dimensions\": {\"Algorithm\": \"Linear Learner\", \"Host\": \"algo-1\", \"Operation\": \"training\", \"epoch\": 4, \"model\": 0}, \"Metrics\": {\"train_absolute_loss_objective\": {\"sum\": 0.7772013664245605, \"count\": 1, \"min\": 0.7772013664245605, \"max\": 0.7772013664245605}}}\u001b[0m\n",
      "\u001b[34m#metrics {\"StartTime\": 1681738420.3391466, \"EndTime\": 1681738420.3391597, \"Dimensions\": {\"Algorithm\": \"Linear Learner\", \"Host\": \"algo-1\", \"Operation\": \"training\", \"epoch\": 4, \"model\": 1}, \"Metrics\": {\"train_absolute_loss_objective\": {\"sum\": 0.7967016410827636, \"count\": 1, \"min\": 0.7967016410827636, \"max\": 0.7967016410827636}}}\u001b[0m\n",
      "\u001b[34m#metrics {\"StartTime\": 1681738420.3391995, \"EndTime\": 1681738420.3392134, \"Dimensions\": {\"Algorithm\": \"Linear Learner\", \"Host\": \"algo-1\", \"Operation\": \"training\", \"epoch\": 4, \"model\": 2}, \"Metrics\": {\"train_absolute_loss_objective\": {\"sum\": 0.7796255493164063, \"count\": 1, \"min\": 0.7796255493164063, \"max\": 0.7796255493164063}}}\u001b[0m\n",
      "\u001b[34m#metrics {\"StartTime\": 1681738420.3392696, \"EndTime\": 1681738420.3392866, \"Dimensions\": {\"Algorithm\": \"Linear Learner\", \"Host\": \"algo-1\", \"Operation\": \"training\", \"epoch\": 4, \"model\": 3}, \"Metrics\": {\"train_absolute_loss_objective\": {\"sum\": 0.7956789588928223, \"count\": 1, \"min\": 0.7956789588928223, \"max\": 0.7956789588928223}}}\u001b[0m\n",
      "\u001b[34m#metrics {\"StartTime\": 1681738420.3393416, \"EndTime\": 1681738420.339358, \"Dimensions\": {\"Algorithm\": \"Linear Learner\", \"Host\": \"algo-1\", \"Operation\": \"training\", \"epoch\": 4, \"model\": 4}, \"Metrics\": {\"train_absolute_loss_objective\": {\"sum\": 0.3077921462059021, \"count\": 1, \"min\": 0.3077921462059021, \"max\": 0.3077921462059021}}}\u001b[0m\n",
      "\u001b[34m#metrics {\"StartTime\": 1681738420.3394096, \"EndTime\": 1681738420.3394253, \"Dimensions\": {\"Algorithm\": \"Linear Learner\", \"Host\": \"algo-1\", \"Operation\": \"training\", \"epoch\": 4, \"model\": 5}, \"Metrics\": {\"train_absolute_loss_objective\": {\"sum\": 0.30747145652770996, \"count\": 1, \"min\": 0.30747145652770996, \"max\": 0.30747145652770996}}}\u001b[0m\n",
      "\u001b[34m#metrics {\"StartTime\": 1681738420.3394868, \"EndTime\": 1681738420.3395045, \"Dimensions\": {\"Algorithm\": \"Linear Learner\", \"Host\": \"algo-1\", \"Operation\": \"training\", \"epoch\": 4, \"model\": 6}, \"Metrics\": {\"train_absolute_loss_objective\": {\"sum\": 0.3713561248779297, \"count\": 1, \"min\": 0.3713561248779297, \"max\": 0.3713561248779297}}}\u001b[0m\n",
      "\u001b[34m#metrics {\"StartTime\": 1681738420.3395593, \"EndTime\": 1681738420.3395758, \"Dimensions\": {\"Algorithm\": \"Linear Learner\", \"Host\": \"algo-1\", \"Operation\": \"training\", \"epoch\": 4, \"model\": 7}, \"Metrics\": {\"train_absolute_loss_objective\": {\"sum\": 0.22574896812438966, \"count\": 1, \"min\": 0.22574896812438966, \"max\": 0.22574896812438966}}}\u001b[0m\n",
      "\u001b[34m#metrics {\"StartTime\": 1681738420.33963, \"EndTime\": 1681738420.339646, \"Dimensions\": {\"Algorithm\": \"Linear Learner\", \"Host\": \"algo-1\", \"Operation\": \"training\", \"epoch\": 4, \"model\": 8}, \"Metrics\": {\"train_absolute_loss_objective\": {\"sum\": 0.833226146697998, \"count\": 1, \"min\": 0.833226146697998, \"max\": 0.833226146697998}}}\u001b[0m\n",
      "\u001b[34m#metrics {\"StartTime\": 1681738420.3397052, \"EndTime\": 1681738420.339722, \"Dimensions\": {\"Algorithm\": \"Linear Learner\", \"Host\": \"algo-1\", \"Operation\": \"training\", \"epoch\": 4, \"model\": 9}, \"Metrics\": {\"train_absolute_loss_objective\": {\"sum\": 0.7646063709259033, \"count\": 1, \"min\": 0.7646063709259033, \"max\": 0.7646063709259033}}}\u001b[0m\n",
      "\u001b[34m#metrics {\"StartTime\": 1681738420.3397703, \"EndTime\": 1681738420.3397863, \"Dimensions\": {\"Algorithm\": \"Linear Learner\", \"Host\": \"algo-1\", \"Operation\": \"training\", \"epoch\": 4, \"model\": 10}, \"Metrics\": {\"train_absolute_loss_objective\": {\"sum\": 0.771851167678833, \"count\": 1, \"min\": 0.771851167678833, \"max\": 0.771851167678833}}}\u001b[0m\n",
      "\u001b[34m#metrics {\"StartTime\": 1681738420.3398395, \"EndTime\": 1681738420.3398554, \"Dimensions\": {\"Algorithm\": \"Linear Learner\", \"Host\": \"algo-1\", \"Operation\": \"training\", \"epoch\": 4, \"model\": 11}, \"Metrics\": {\"train_absolute_loss_objective\": {\"sum\": 0.7564504146575928, \"count\": 1, \"min\": 0.7564504146575928, \"max\": 0.7564504146575928}}}\u001b[0m\n",
      "\u001b[34m#metrics {\"StartTime\": 1681738420.3399165, \"EndTime\": 1681738420.3399332, \"Dimensions\": {\"Algorithm\": \"Linear Learner\", \"Host\": \"algo-1\", \"Operation\": \"training\", \"epoch\": 4, \"model\": 12}, \"Metrics\": {\"train_absolute_loss_objective\": {\"sum\": 0.3789591455459595, \"count\": 1, \"min\": 0.3789591455459595, \"max\": 0.3789591455459595}}}\u001b[0m\n",
      "\u001b[34m#metrics {\"StartTime\": 1681738420.3399923, \"EndTime\": 1681738420.3400092, \"Dimensions\": {\"Algorithm\": \"Linear Learner\", \"Host\": \"algo-1\", \"Operation\": \"training\", \"epoch\": 4, \"model\": 13}, \"Metrics\": {\"train_absolute_loss_objective\": {\"sum\": 0.34268324375152587, \"count\": 1, \"min\": 0.34268324375152587, \"max\": 0.34268324375152587}}}\u001b[0m\n",
      "\u001b[34m#metrics {\"StartTime\": 1681738420.3400633, \"EndTime\": 1681738420.3400807, \"Dimensions\": {\"Algorithm\": \"Linear Learner\", \"Host\": \"algo-1\", \"Operation\": \"training\", \"epoch\": 4, \"model\": 14}, \"Metrics\": {\"train_absolute_loss_objective\": {\"sum\": 0.37933907985687254, \"count\": 1, \"min\": 0.37933907985687254, \"max\": 0.37933907985687254}}}\u001b[0m\n",
      "\u001b[34m#metrics {\"StartTime\": 1681738420.3401399, \"EndTime\": 1681738420.340156, \"Dimensions\": {\"Algorithm\": \"Linear Learner\", \"Host\": \"algo-1\", \"Operation\": \"training\", \"epoch\": 4, \"model\": 15}, \"Metrics\": {\"train_absolute_loss_objective\": {\"sum\": 0.27064999341964724, \"count\": 1, \"min\": 0.27064999341964724, \"max\": 0.27064999341964724}}}\u001b[0m\n",
      "\u001b[34m#metrics {\"StartTime\": 1681738420.3402116, \"EndTime\": 1681738420.3402274, \"Dimensions\": {\"Algorithm\": \"Linear Learner\", \"Host\": \"algo-1\", \"Operation\": \"training\", \"epoch\": 4, \"model\": 16}, \"Metrics\": {\"train_absolute_loss_objective\": {\"sum\": 0.7419594860076905, \"count\": 1, \"min\": 0.7419594860076905, \"max\": 0.7419594860076905}}}\u001b[0m\n",
      "\u001b[34m#metrics {\"StartTime\": 1681738420.3402884, \"EndTime\": 1681738420.3403049, \"Dimensions\": {\"Algorithm\": \"Linear Learner\", \"Host\": \"algo-1\", \"Operation\": \"training\", \"epoch\": 4, \"model\": 17}, \"Metrics\": {\"train_absolute_loss_objective\": {\"sum\": 0.7927781295776367, \"count\": 1, \"min\": 0.7927781295776367, \"max\": 0.7927781295776367}}}\u001b[0m\n",
      "\u001b[34m#metrics {\"StartTime\": 1681738420.340364, \"EndTime\": 1681738420.3403811, \"Dimensions\": {\"Algorithm\": \"Linear Learner\", \"Host\": \"algo-1\", \"Operation\": \"training\", \"epoch\": 4, \"model\": 18}, \"Metrics\": {\"train_absolute_loss_objective\": {\"sum\": 0.7690527439117432, \"count\": 1, \"min\": 0.7690527439117432, \"max\": 0.7690527439117432}}}\u001b[0m\n",
      "\u001b[34m#metrics {\"StartTime\": 1681738420.3404438, \"EndTime\": 1681738420.340461, \"Dimensions\": {\"Algorithm\": \"Linear Learner\", \"Host\": \"algo-1\", \"Operation\": \"training\", \"epoch\": 4, \"model\": 19}, \"Metrics\": {\"train_absolute_loss_objective\": {\"sum\": 0.7658501052856446, \"count\": 1, \"min\": 0.7658501052856446, \"max\": 0.7658501052856446}}}\u001b[0m\n",
      "\u001b[34m#metrics {\"StartTime\": 1681738420.3405209, \"EndTime\": 1681738420.340538, \"Dimensions\": {\"Algorithm\": \"Linear Learner\", \"Host\": \"algo-1\", \"Operation\": \"training\", \"epoch\": 4, \"model\": 20}, \"Metrics\": {\"train_absolute_loss_objective\": {\"sum\": 0.48641003608703615, \"count\": 1, \"min\": 0.48641003608703615, \"max\": 0.48641003608703615}}}\u001b[0m\n",
      "\u001b[34m#metrics {\"StartTime\": 1681738420.3405879, \"EndTime\": 1681738420.340603, \"Dimensions\": {\"Algorithm\": \"Linear Learner\", \"Host\": \"algo-1\", \"Operation\": \"training\", \"epoch\": 4, \"model\": 21}, \"Metrics\": {\"train_absolute_loss_objective\": {\"sum\": 0.4143341827392578, \"count\": 1, \"min\": 0.4143341827392578, \"max\": 0.4143341827392578}}}\u001b[0m\n",
      "\u001b[34m#metrics {\"StartTime\": 1681738420.340652, \"EndTime\": 1681738420.3406625, \"Dimensions\": {\"Algorithm\": \"Linear Learner\", \"Host\": \"algo-1\", \"Operation\": \"training\", \"epoch\": 4, \"model\": 22}, \"Metrics\": {\"train_absolute_loss_objective\": {\"sum\": 0.3423953723907471, \"count\": 1, \"min\": 0.3423953723907471, \"max\": 0.3423953723907471}}}\u001b[0m\n",
      "\u001b[34m#metrics {\"StartTime\": 1681738420.3407216, \"EndTime\": 1681738420.3407378, \"Dimensions\": {\"Algorithm\": \"Linear Learner\", \"Host\": \"algo-1\", \"Operation\": \"training\", \"epoch\": 4, \"model\": 23}, \"Metrics\": {\"train_absolute_loss_objective\": {\"sum\": 0.5515204000473023, \"count\": 1, \"min\": 0.5515204000473023, \"max\": 0.5515204000473023}}}\u001b[0m\n",
      "\u001b[34m#metrics {\"StartTime\": 1681738420.3407981, \"EndTime\": 1681738420.3408144, \"Dimensions\": {\"Algorithm\": \"Linear Learner\", \"Host\": \"algo-1\", \"Operation\": \"training\", \"epoch\": 4, \"model\": 24}, \"Metrics\": {\"train_absolute_loss_objective\": {\"sum\": 0.8813095569610596, \"count\": 1, \"min\": 0.8813095569610596, \"max\": 0.8813095569610596}}}\u001b[0m\n",
      "\u001b[34m#metrics {\"StartTime\": 1681738420.340875, \"EndTime\": 1681738420.340893, \"Dimensions\": {\"Algorithm\": \"Linear Learner\", \"Host\": \"algo-1\", \"Operation\": \"training\", \"epoch\": 4, \"model\": 25}, \"Metrics\": {\"train_absolute_loss_objective\": {\"sum\": 0.8634628582000733, \"count\": 1, \"min\": 0.8634628582000733, \"max\": 0.8634628582000733}}}\u001b[0m\n",
      "\u001b[34m#metrics {\"StartTime\": 1681738420.3410008, \"EndTime\": 1681738420.3410206, \"Dimensions\": {\"Algorithm\": \"Linear Learner\", \"Host\": \"algo-1\", \"Operation\": \"training\", \"epoch\": 4, \"model\": 26}, \"Metrics\": {\"train_absolute_loss_objective\": {\"sum\": 0.8731788349151611, \"count\": 1, \"min\": 0.8731788349151611, \"max\": 0.8731788349151611}}}\u001b[0m\n",
      "\u001b[34m#metrics {\"StartTime\": 1681738420.3410785, \"EndTime\": 1681738420.3410943, \"Dimensions\": {\"Algorithm\": \"Linear Learner\", \"Host\": \"algo-1\", \"Operation\": \"training\", \"epoch\": 4, \"model\": 27}, \"Metrics\": {\"train_absolute_loss_objective\": {\"sum\": 0.8678983497619629, \"count\": 1, \"min\": 0.8678983497619629, \"max\": 0.8678983497619629}}}\u001b[0m\n",
      "\u001b[34m#metrics {\"StartTime\": 1681738420.3411498, \"EndTime\": 1681738420.3411667, \"Dimensions\": {\"Algorithm\": \"Linear Learner\", \"Host\": \"algo-1\", \"Operation\": \"training\", \"epoch\": 4, \"model\": 28}, \"Metrics\": {\"train_absolute_loss_objective\": {\"sum\": 0.9253230094909668, \"count\": 1, \"min\": 0.9253230094909668, \"max\": 0.9253230094909668}}}\u001b[0m\n",
      "\u001b[34m#metrics {\"StartTime\": 1681738420.3412094, \"EndTime\": 1681738420.341225, \"Dimensions\": {\"Algorithm\": \"Linear Learner\", \"Host\": \"algo-1\", \"Operation\": \"training\", \"epoch\": 4, \"model\": 29}, \"Metrics\": {\"train_absolute_loss_objective\": {\"sum\": 0.9313173770904541, \"count\": 1, \"min\": 0.9313173770904541, \"max\": 0.9313173770904541}}}\u001b[0m\n",
      "\u001b[34m#metrics {\"StartTime\": 1681738420.3412778, \"EndTime\": 1681738420.3412933, \"Dimensions\": {\"Algorithm\": \"Linear Learner\", \"Host\": \"algo-1\", \"Operation\": \"training\", \"epoch\": 4, \"model\": 30}, \"Metrics\": {\"train_absolute_loss_objective\": {\"sum\": 1.0431179046630858, \"count\": 1, \"min\": 1.0431179046630858, \"max\": 1.0431179046630858}}}\u001b[0m\n",
      "\u001b[34m#metrics {\"StartTime\": 1681738420.341352, \"EndTime\": 1681738420.3413684, \"Dimensions\": {\"Algorithm\": \"Linear Learner\", \"Host\": \"algo-1\", \"Operation\": \"training\", \"epoch\": 4, \"model\": 31}, \"Metrics\": {\"train_absolute_loss_objective\": {\"sum\": 0.9445767688751221, \"count\": 1, \"min\": 0.9445767688751221, \"max\": 0.9445767688751221}}}\u001b[0m\n",
      "\u001b[34m[04/17/2023 13:33:40 INFO 139915702728512] #quality_metric: host=algo-1, epoch=4, train absolute_loss_objective <loss>=0.7772013664245605\u001b[0m\n",
      "\u001b[34m[04/17/2023 13:33:40 INFO 139915702728512] #early_stopping_criteria_metric: host=algo-1, epoch=4, criteria=absolute_loss_objective, value=0.22574896812438966\u001b[0m\n",
      "\u001b[34m[04/17/2023 13:33:40 INFO 139915702728512] Epoch 4: Loss improved. Updating best model\u001b[0m\n",
      "\u001b[34m[04/17/2023 13:33:40 INFO 139915702728512] Saving model for epoch: 4\u001b[0m\n",
      "\u001b[34m[04/17/2023 13:33:40 INFO 139915702728512] Saved checkpoint to \"/tmp/tmpvn5vfscb/mx-mod-0000.params\"\u001b[0m\n",
      "\u001b[34m[04/17/2023 13:33:40 INFO 139915702728512] #progress_metric: host=algo-1, completed 10.0 % of epochs\u001b[0m\n",
      "\u001b[34m#metrics {\"StartTime\": 1681738420.2316396, \"EndTime\": 1681738420.3486674, \"Dimensions\": {\"Algorithm\": \"Linear Learner\", \"Host\": \"algo-1\", \"Operation\": \"training\", \"epoch\": 4, \"Meta\": \"training_data_iter\"}, \"Metrics\": {\"Total Records Seen\": {\"sum\": 161.0, \"count\": 1, \"min\": 161, \"max\": 161}, \"Total Batches Seen\": {\"sum\": 37.0, \"count\": 1, \"min\": 37, \"max\": 37}, \"Max Records Seen Between Resets\": {\"sum\": 26.0, \"count\": 1, \"min\": 26, \"max\": 26}, \"Max Batches Seen Between Resets\": {\"sum\": 6.0, \"count\": 1, \"min\": 6, \"max\": 6}, \"Reset Count\": {\"sum\": 7.0, \"count\": 1, \"min\": 7, \"max\": 7}, \"Number of Records Since Last Reset\": {\"sum\": 26.0, \"count\": 1, \"min\": 26, \"max\": 26}, \"Number of Batches Since Last Reset\": {\"sum\": 6.0, \"count\": 1, \"min\": 6, \"max\": 6}}}\u001b[0m\n",
      "\u001b[34m[04/17/2023 13:33:40 INFO 139915702728512] #throughput_metric: host=algo-1, train throughput=221.9520119837747 records/second\u001b[0m\n",
      "\u001b[34m[2023-04-17 13:33:40.452] [tensorio] [info] epoch_stats={\"data_pipeline\": \"/opt/ml/input/data/train\", \"epoch\": 14, \"duration\": 103, \"num_examples\": 6, \"num_bytes\": 1248}\u001b[0m\n",
      "\u001b[34m#metrics {\"StartTime\": 1681738420.4522474, \"EndTime\": 1681738420.452319, \"Dimensions\": {\"Algorithm\": \"Linear Learner\", \"Host\": \"algo-1\", \"Operation\": \"training\", \"epoch\": 5, \"model\": 0}, \"Metrics\": {\"train_absolute_loss_objective\": {\"sum\": 0.7554230690002441, \"count\": 1, \"min\": 0.7554230690002441, \"max\": 0.7554230690002441}}}\u001b[0m\n",
      "\u001b[34m#metrics {\"StartTime\": 1681738420.4523792, \"EndTime\": 1681738420.4523966, \"Dimensions\": {\"Algorithm\": \"Linear Learner\", \"Host\": \"algo-1\", \"Operation\": \"training\", \"epoch\": 5, \"model\": 1}, \"Metrics\": {\"train_absolute_loss_objective\": {\"sum\": 0.7744811344146728, \"count\": 1, \"min\": 0.7744811344146728, \"max\": 0.7744811344146728}}}\u001b[0m\n",
      "\u001b[34m#metrics {\"StartTime\": 1681738420.4524508, \"EndTime\": 1681738420.4524667, \"Dimensions\": {\"Algorithm\": \"Linear Learner\", \"Host\": \"algo-1\", \"Operation\": \"training\", \"epoch\": 5, \"model\": 2}, \"Metrics\": {\"train_absolute_loss_objective\": {\"sum\": 0.7578472232818604, \"count\": 1, \"min\": 0.7578472232818604, \"max\": 0.7578472232818604}}}\u001b[0m\n",
      "\u001b[34m#metrics {\"StartTime\": 1681738420.4525287, \"EndTime\": 1681738420.4525468, \"Dimensions\": {\"Algorithm\": \"Linear Learner\", \"Host\": \"algo-1\", \"Operation\": \"training\", \"epoch\": 5, \"model\": 3}, \"Metrics\": {\"train_absolute_loss_objective\": {\"sum\": 0.7734584331512451, \"count\": 1, \"min\": 0.7734584331512451, \"max\": 0.7734584331512451}}}\u001b[0m\n",
      "\u001b[34m#metrics {\"StartTime\": 1681738420.4526014, \"EndTime\": 1681738420.4526176, \"Dimensions\": {\"Algorithm\": \"Linear Learner\", \"Host\": \"algo-1\", \"Operation\": \"training\", \"epoch\": 5, \"model\": 4}, \"Metrics\": {\"train_absolute_loss_objective\": {\"sum\": 0.23001285791397094, \"count\": 1, \"min\": 0.23001285791397094, \"max\": 0.23001285791397094}}}\u001b[0m\n",
      "\u001b[34m#metrics {\"StartTime\": 1681738420.4526737, \"EndTime\": 1681738420.4526896, \"Dimensions\": {\"Algorithm\": \"Linear Learner\", \"Host\": \"algo-1\", \"Operation\": \"training\", \"epoch\": 5, \"model\": 5}, \"Metrics\": {\"train_absolute_loss_objective\": {\"sum\": 0.22089237928390504, \"count\": 1, \"min\": 0.22089237928390504, \"max\": 0.22089237928390504}}}\u001b[0m\n",
      "\u001b[34m#metrics {\"StartTime\": 1681738420.4527707, \"EndTime\": 1681738420.4527886, \"Dimensions\": {\"Algorithm\": \"Linear Learner\", \"Host\": \"algo-1\", \"Operation\": \"training\", \"epoch\": 5, \"model\": 6}, \"Metrics\": {\"train_absolute_loss_objective\": {\"sum\": 0.3062537956237793, \"count\": 1, \"min\": 0.3062537956237793, \"max\": 0.3062537956237793}}}\u001b[0m\n",
      "\u001b[34m#metrics {\"StartTime\": 1681738420.4528847, \"EndTime\": 1681738420.4529026, \"Dimensions\": {\"Algorithm\": \"Linear Learner\", \"Host\": \"algo-1\", \"Operation\": \"training\", \"epoch\": 5, \"model\": 7}, \"Metrics\": {\"train_absolute_loss_objective\": {\"sum\": 0.23674582004547118, \"count\": 1, \"min\": 0.23674582004547118, \"max\": 0.23674582004547118}}}\u001b[0m\n",
      "\u001b[34m#metrics {\"StartTime\": 1681738420.4530797, \"EndTime\": 1681738420.4530995, \"Dimensions\": {\"Algorithm\": \"Linear Learner\", \"Host\": \"algo-1\", \"Operation\": \"training\", \"epoch\": 5, \"model\": 8}, \"Metrics\": {\"train_absolute_loss_objective\": {\"sum\": 0.8132778358459473, \"count\": 1, \"min\": 0.8132778358459473, \"max\": 0.8132778358459473}}}\u001b[0m\n",
      "\u001b[34m#metrics {\"StartTime\": 1681738420.4531815, \"EndTime\": 1681738420.4532008, \"Dimensions\": {\"Algorithm\": \"Linear Learner\", \"Host\": \"algo-1\", \"Operation\": \"training\", \"epoch\": 5, \"model\": 9}, \"Metrics\": {\"train_absolute_loss_objective\": {\"sum\": 0.7423923110961914, \"count\": 1, \"min\": 0.7423923110961914, \"max\": 0.7423923110961914}}}\u001b[0m\n",
      "\u001b[34m#metrics {\"StartTime\": 1681738420.453293, \"EndTime\": 1681738420.4533124, \"Dimensions\": {\"Algorithm\": \"Linear Learner\", \"Host\": \"algo-1\", \"Operation\": \"training\", \"epoch\": 5, \"model\": 10}, \"Metrics\": {\"train_absolute_loss_objective\": {\"sum\": 0.7500790596008301, \"count\": 1, \"min\": 0.7500790596008301, \"max\": 0.7500790596008301}}}\u001b[0m\n",
      "\u001b[34m#metrics {\"StartTime\": 1681738420.4533672, \"EndTime\": 1681738420.453384, \"Dimensions\": {\"Algorithm\": \"Linear Learner\", \"Host\": \"algo-1\", \"Operation\": \"training\", \"epoch\": 5, \"model\": 11}, \"Metrics\": {\"train_absolute_loss_objective\": {\"sum\": 0.7342364025115967, \"count\": 1, \"min\": 0.7342364025115967, \"max\": 0.7342364025115967}}}\u001b[0m\n",
      "\u001b[34m#metrics {\"StartTime\": 1681738420.4535549, \"EndTime\": 1681738420.4535797, \"Dimensions\": {\"Algorithm\": \"Linear Learner\", \"Host\": \"algo-1\", \"Operation\": \"training\", \"epoch\": 5, \"model\": 12}, \"Metrics\": {\"train_absolute_loss_objective\": {\"sum\": 0.293857536315918, \"count\": 1, \"min\": 0.293857536315918, \"max\": 0.293857536315918}}}\u001b[0m\n",
      "\u001b[34m#metrics {\"StartTime\": 1681738420.4536345, \"EndTime\": 1681738420.4536507, \"Dimensions\": {\"Algorithm\": \"Linear Learner\", \"Host\": \"algo-1\", \"Operation\": \"training\", \"epoch\": 5, \"model\": 13}, \"Metrics\": {\"train_absolute_loss_objective\": {\"sum\": 0.24038037538528442, \"count\": 1, \"min\": 0.24038037538528442, \"max\": 0.24038037538528442}}}\u001b[0m\n",
      "\u001b[34m#metrics {\"StartTime\": 1681738420.4537072, \"EndTime\": 1681738420.4537237, \"Dimensions\": {\"Algorithm\": \"Linear Learner\", \"Host\": \"algo-1\", \"Operation\": \"training\", \"epoch\": 5, \"model\": 14}, \"Metrics\": {\"train_absolute_loss_objective\": {\"sum\": 0.29447279930114745, \"count\": 1, \"min\": 0.29447279930114745, \"max\": 0.29447279930114745}}}\u001b[0m\n",
      "\u001b[34m#metrics {\"StartTime\": 1681738420.4537845, \"EndTime\": 1681738420.4538004, \"Dimensions\": {\"Algorithm\": \"Linear Learner\", \"Host\": \"algo-1\", \"Operation\": \"training\", \"epoch\": 5, \"model\": 15}, \"Metrics\": {\"train_absolute_loss_objective\": {\"sum\": 0.21607438802719117, \"count\": 1, \"min\": 0.21607438802719117, \"max\": 0.21607438802719117}}}\u001b[0m\n",
      "\u001b[34m#metrics {\"StartTime\": 1681738420.4538608, \"EndTime\": 1681738420.4538774, \"Dimensions\": {\"Algorithm\": \"Linear Learner\", \"Host\": \"algo-1\", \"Operation\": \"training\", \"epoch\": 5, \"model\": 16}, \"Metrics\": {\"train_absolute_loss_objective\": {\"sum\": 0.7209388637542724, \"count\": 1, \"min\": 0.7209388637542724, \"max\": 0.7209388637542724}}}\u001b[0m\n",
      "\u001b[34m#metrics {\"StartTime\": 1681738420.4539387, \"EndTime\": 1681738420.4539561, \"Dimensions\": {\"Algorithm\": \"Linear Learner\", \"Host\": \"algo-1\", \"Operation\": \"training\", \"epoch\": 5, \"model\": 17}, \"Metrics\": {\"train_absolute_loss_objective\": {\"sum\": 0.77123610496521, \"count\": 1, \"min\": 0.77123610496521, \"max\": 0.77123610496521}}}\u001b[0m\n",
      "\u001b[34m#metrics {\"StartTime\": 1681738420.4540145, \"EndTime\": 1681738420.4540322, \"Dimensions\": {\"Algorithm\": \"Linear Learner\", \"Host\": \"algo-1\", \"Operation\": \"training\", \"epoch\": 5, \"model\": 18}, \"Metrics\": {\"train_absolute_loss_objective\": {\"sum\": 0.7479780101776123, \"count\": 1, \"min\": 0.7479780101776123, \"max\": 0.7479780101776123}}}\u001b[0m\n",
      "\u001b[34m#metrics {\"StartTime\": 1681738420.4540932, \"EndTime\": 1681738420.4541116, \"Dimensions\": {\"Algorithm\": \"Linear Learner\", \"Host\": \"algo-1\", \"Operation\": \"training\", \"epoch\": 5, \"model\": 19}, \"Metrics\": {\"train_absolute_loss_objective\": {\"sum\": 0.7443587017059327, \"count\": 1, \"min\": 0.7443587017059327, \"max\": 0.7443587017059327}}}\u001b[0m\n",
      "\u001b[34m#metrics {\"StartTime\": 1681738420.454172, \"EndTime\": 1681738420.4541893, \"Dimensions\": {\"Algorithm\": \"Linear Learner\", \"Host\": \"algo-1\", \"Operation\": \"training\", \"epoch\": 5, \"model\": 20}, \"Metrics\": {\"train_absolute_loss_objective\": {\"sum\": 0.4874634456634521, \"count\": 1, \"min\": 0.4874634456634521, \"max\": 0.4874634456634521}}}\u001b[0m\n",
      "\u001b[34m#metrics {\"StartTime\": 1681738420.4542823, \"EndTime\": 1681738420.4543016, \"Dimensions\": {\"Algorithm\": \"Linear Learner\", \"Host\": \"algo-1\", \"Operation\": \"training\", \"epoch\": 5, \"model\": 21}, \"Metrics\": {\"train_absolute_loss_objective\": {\"sum\": 0.2894619059562683, \"count\": 1, \"min\": 0.2894619059562683, \"max\": 0.2894619059562683}}}\u001b[0m\n",
      "\u001b[34m#metrics {\"StartTime\": 1681738420.4544425, \"EndTime\": 1681738420.454465, \"Dimensions\": {\"Algorithm\": \"Linear Learner\", \"Host\": \"algo-1\", \"Operation\": \"training\", \"epoch\": 5, \"model\": 22}, \"Metrics\": {\"train_absolute_loss_objective\": {\"sum\": 0.3611837100982666, \"count\": 1, \"min\": 0.3611837100982666, \"max\": 0.3611837100982666}}}\u001b[0m\n",
      "\u001b[34m#metrics {\"StartTime\": 1681738420.4546123, \"EndTime\": 1681738420.4546335, \"Dimensions\": {\"Algorithm\": \"Linear Learner\", \"Host\": \"algo-1\", \"Operation\": \"training\", \"epoch\": 5, \"model\": 23}, \"Metrics\": {\"train_absolute_loss_objective\": {\"sum\": 0.5168238925933838, \"count\": 1, \"min\": 0.5168238925933838, \"max\": 0.5168238925933838}}}\u001b[0m\n",
      "\u001b[34m#metrics {\"StartTime\": 1681738420.454693, \"EndTime\": 1681738420.4547107, \"Dimensions\": {\"Algorithm\": \"Linear Learner\", \"Host\": \"algo-1\", \"Operation\": \"training\", \"epoch\": 5, \"model\": 24}, \"Metrics\": {\"train_absolute_loss_objective\": {\"sum\": 0.8790396595001221, \"count\": 1, \"min\": 0.8790396595001221, \"max\": 0.8790396595001221}}}\u001b[0m\n",
      "\u001b[34m#metrics {\"StartTime\": 1681738420.454759, \"EndTime\": 1681738420.4547753, \"Dimensions\": {\"Algorithm\": \"Linear Learner\", \"Host\": \"algo-1\", \"Operation\": \"training\", \"epoch\": 5, \"model\": 25}, \"Metrics\": {\"train_absolute_loss_objective\": {\"sum\": 0.8711169815063476, \"count\": 1, \"min\": 0.8711169815063476, \"max\": 0.8711169815063476}}}\u001b[0m\n",
      "\u001b[34m#metrics {\"StartTime\": 1681738420.454827, \"EndTime\": 1681738420.4548438, \"Dimensions\": {\"Algorithm\": \"Linear Learner\", \"Host\": \"algo-1\", \"Operation\": \"training\", \"epoch\": 5, \"model\": 26}, \"Metrics\": {\"train_absolute_loss_objective\": {\"sum\": 0.8737980556488038, \"count\": 1, \"min\": 0.8737980556488038, \"max\": 0.8737980556488038}}}\u001b[0m\n",
      "\u001b[34m#metrics {\"StartTime\": 1681738420.4549043, \"EndTime\": 1681738420.4549212, \"Dimensions\": {\"Algorithm\": \"Linear Learner\", \"Host\": \"algo-1\", \"Operation\": \"training\", \"epoch\": 5, \"model\": 27}, \"Metrics\": {\"train_absolute_loss_objective\": {\"sum\": 0.8701917934417724, \"count\": 1, \"min\": 0.8701917934417724, \"max\": 0.8701917934417724}}}\u001b[0m\n",
      "\u001b[34m#metrics {\"StartTime\": 1681738420.4550633, \"EndTime\": 1681738420.4550848, \"Dimensions\": {\"Algorithm\": \"Linear Learner\", \"Host\": \"algo-1\", \"Operation\": \"training\", \"epoch\": 5, \"model\": 28}, \"Metrics\": {\"train_absolute_loss_objective\": {\"sum\": 1.0283934783935547, \"count\": 1, \"min\": 1.0283934783935547, \"max\": 1.0283934783935547}}}\u001b[0m\n",
      "\u001b[34m#metrics {\"StartTime\": 1681738420.455289, \"EndTime\": 1681738420.455311, \"Dimensions\": {\"Algorithm\": \"Linear Learner\", \"Host\": \"algo-1\", \"Operation\": \"training\", \"epoch\": 5, \"model\": 29}, \"Metrics\": {\"train_absolute_loss_objective\": {\"sum\": 1.030635814666748, \"count\": 1, \"min\": 1.030635814666748, \"max\": 1.030635814666748}}}\u001b[0m\n",
      "\u001b[34m#metrics {\"StartTime\": 1681738420.4554384, \"EndTime\": 1681738420.4554584, \"Dimensions\": {\"Algorithm\": \"Linear Learner\", \"Host\": \"algo-1\", \"Operation\": \"training\", \"epoch\": 5, \"model\": 30}, \"Metrics\": {\"train_absolute_loss_objective\": {\"sum\": 0.9439816093444824, \"count\": 1, \"min\": 0.9439816093444824, \"max\": 0.9439816093444824}}}\u001b[0m\n",
      "\u001b[34m#metrics {\"StartTime\": 1681738420.4555573, \"EndTime\": 1681738420.4555771, \"Dimensions\": {\"Algorithm\": \"Linear Learner\", \"Host\": \"algo-1\", \"Operation\": \"training\", \"epoch\": 5, \"model\": 31}, \"Metrics\": {\"train_absolute_loss_objective\": {\"sum\": 1.0169842910766602, \"count\": 1, \"min\": 1.0169842910766602, \"max\": 1.0169842910766602}}}\u001b[0m\n",
      "\u001b[34m[04/17/2023 13:33:40 INFO 139915702728512] #quality_metric: host=algo-1, epoch=5, train absolute_loss_objective <loss>=0.7554230690002441\u001b[0m\n",
      "\u001b[34m[04/17/2023 13:33:40 INFO 139915702728512] #early_stopping_criteria_metric: host=algo-1, epoch=5, criteria=absolute_loss_objective, value=0.21607438802719117\u001b[0m\n",
      "\u001b[34m[04/17/2023 13:33:40 INFO 139915702728512] Epoch 5: Loss improved. Updating best model\u001b[0m\n",
      "\u001b[34m[04/17/2023 13:33:40 INFO 139915702728512] Saving model for epoch: 5\u001b[0m\n",
      "\u001b[34m[04/17/2023 13:33:40 INFO 139915702728512] Saved checkpoint to \"/tmp/tmpl9rfuq15/mx-mod-0000.params\"\u001b[0m\n",
      "\u001b[34m[04/17/2023 13:33:40 INFO 139915702728512] #progress_metric: host=algo-1, completed 12.0 % of epochs\u001b[0m\n",
      "\u001b[34m#metrics {\"StartTime\": 1681738420.348938, \"EndTime\": 1681738420.4637554, \"Dimensions\": {\"Algorithm\": \"Linear Learner\", \"Host\": \"algo-1\", \"Operation\": \"training\", \"epoch\": 5, \"Meta\": \"training_data_iter\"}, \"Metrics\": {\"Total Records Seen\": {\"sum\": 187.0, \"count\": 1, \"min\": 187, \"max\": 187}, \"Total Batches Seen\": {\"sum\": 43.0, \"count\": 1, \"min\": 43, \"max\": 43}, \"Max Records Seen Between Resets\": {\"sum\": 26.0, \"count\": 1, \"min\": 26, \"max\": 26}, \"Max Batches Seen Between Resets\": {\"sum\": 6.0, \"count\": 1, \"min\": 6, \"max\": 6}, \"Reset Count\": {\"sum\": 8.0, \"count\": 1, \"min\": 8, \"max\": 8}, \"Number of Records Since Last Reset\": {\"sum\": 26.0, \"count\": 1, \"min\": 26, \"max\": 26}, \"Number of Batches Since Last Reset\": {\"sum\": 6.0, \"count\": 1, \"min\": 6, \"max\": 6}}}\u001b[0m\n",
      "\u001b[34m[04/17/2023 13:33:40 INFO 139915702728512] #throughput_metric: host=algo-1, train throughput=226.16805621230597 records/second\u001b[0m\n",
      "\u001b[34m[2023-04-17 13:33:40.568] [tensorio] [info] epoch_stats={\"data_pipeline\": \"/opt/ml/input/data/train\", \"epoch\": 16, \"duration\": 104, \"num_examples\": 6, \"num_bytes\": 1248}\u001b[0m\n",
      "\u001b[34m#metrics {\"StartTime\": 1681738420.5683498, \"EndTime\": 1681738420.568416, \"Dimensions\": {\"Algorithm\": \"Linear Learner\", \"Host\": \"algo-1\", \"Operation\": \"training\", \"epoch\": 6, \"model\": 0}, \"Metrics\": {\"train_absolute_loss_objective\": {\"sum\": 0.7336967086791992, \"count\": 1, \"min\": 0.7336967086791992, \"max\": 0.7336967086791992}}}\u001b[0m\n",
      "\u001b[34m#metrics {\"StartTime\": 1681738420.5684783, \"EndTime\": 1681738420.5684967, \"Dimensions\": {\"Algorithm\": \"Linear Learner\", \"Host\": \"algo-1\", \"Operation\": \"training\", \"epoch\": 6, \"model\": 1}, \"Metrics\": {\"train_absolute_loss_objective\": {\"sum\": 0.7522019386291504, \"count\": 1, \"min\": 0.7522019386291504, \"max\": 0.7522019386291504}}}\u001b[0m\n",
      "\u001b[34m#metrics {\"StartTime\": 1681738420.5685606, \"EndTime\": 1681738420.5685775, \"Dimensions\": {\"Algorithm\": \"Linear Learner\", \"Host\": \"algo-1\", \"Operation\": \"training\", \"epoch\": 6, \"model\": 2}, \"Metrics\": {\"train_absolute_loss_objective\": {\"sum\": 0.7361262607574462, \"count\": 1, \"min\": 0.7361262607574462, \"max\": 0.7361262607574462}}}\u001b[0m\n",
      "\u001b[34m#metrics {\"StartTime\": 1681738420.5686285, \"EndTime\": 1681738420.5686443, \"Dimensions\": {\"Algorithm\": \"Linear Learner\", \"Host\": \"algo-1\", \"Operation\": \"training\", \"epoch\": 6, \"model\": 3}, \"Metrics\": {\"train_absolute_loss_objective\": {\"sum\": 0.751176986694336, \"count\": 1, \"min\": 0.751176986694336, \"max\": 0.751176986694336}}}\u001b[0m\n",
      "\u001b[34m#metrics {\"StartTime\": 1681738420.5687003, \"EndTime\": 1681738420.5687165, \"Dimensions\": {\"Algorithm\": \"Linear Learner\", \"Host\": \"algo-1\", \"Operation\": \"training\", \"epoch\": 6, \"model\": 4}, \"Metrics\": {\"train_absolute_loss_objective\": {\"sum\": 0.22774507284164427, \"count\": 1, \"min\": 0.22774507284164427, \"max\": 0.22774507284164427}}}\u001b[0m\n",
      "\u001b[34m#metrics {\"StartTime\": 1681738420.5687656, \"EndTime\": 1681738420.5687816, \"Dimensions\": {\"Algorithm\": \"Linear Learner\", \"Host\": \"algo-1\", \"Operation\": \"training\", \"epoch\": 6, \"model\": 5}, \"Metrics\": {\"train_absolute_loss_objective\": {\"sum\": 0.18748432397842407, \"count\": 1, \"min\": 0.18748432397842407, \"max\": 0.18748432397842407}}}\u001b[0m\n",
      "\u001b[34m#metrics {\"StartTime\": 1681738420.5688334, \"EndTime\": 1681738420.5688486, \"Dimensions\": {\"Algorithm\": \"Linear Learner\", \"Host\": \"algo-1\", \"Operation\": \"training\", \"epoch\": 6, \"model\": 6}, \"Metrics\": {\"train_absolute_loss_objective\": {\"sum\": 0.40572680950164797, \"count\": 1, \"min\": 0.40572680950164797, \"max\": 0.40572680950164797}}}\u001b[0m\n",
      "\u001b[34m#metrics {\"StartTime\": 1681738420.568899, \"EndTime\": 1681738420.5689144, \"Dimensions\": {\"Algorithm\": \"Linear Learner\", \"Host\": \"algo-1\", \"Operation\": \"training\", \"epoch\": 6, \"model\": 7}, \"Metrics\": {\"train_absolute_loss_objective\": {\"sum\": 0.2063494062423706, \"count\": 1, \"min\": 0.2063494062423706, \"max\": 0.2063494062423706}}}\u001b[0m\n",
      "\u001b[34m#metrics {\"StartTime\": 1681738420.5689654, \"EndTime\": 1681738420.5689812, \"Dimensions\": {\"Algorithm\": \"Linear Learner\", \"Host\": \"algo-1\", \"Operation\": \"training\", \"epoch\": 6, \"model\": 8}, \"Metrics\": {\"train_absolute_loss_objective\": {\"sum\": 0.7916545486450195, \"count\": 1, \"min\": 0.7916545486450195, \"max\": 0.7916545486450195}}}\u001b[0m\n",
      "\u001b[34m#metrics {\"StartTime\": 1681738420.5690343, \"EndTime\": 1681738420.5690508, \"Dimensions\": {\"Algorithm\": \"Linear Learner\", \"Host\": \"algo-1\", \"Operation\": \"training\", \"epoch\": 6, \"model\": 9}, \"Metrics\": {\"train_absolute_loss_objective\": {\"sum\": 0.7200506401062011, \"count\": 1, \"min\": 0.7200506401062011, \"max\": 0.7200506401062011}}}\u001b[0m\n",
      "\u001b[34m#metrics {\"StartTime\": 1681738420.5691032, \"EndTime\": 1681738420.5691192, \"Dimensions\": {\"Algorithm\": \"Linear Learner\", \"Host\": \"algo-1\", \"Operation\": \"training\", \"epoch\": 6, \"model\": 10}, \"Metrics\": {\"train_absolute_loss_objective\": {\"sum\": 0.7283492946624756, \"count\": 1, \"min\": 0.7283492946624756, \"max\": 0.7283492946624756}}}\u001b[0m\n",
      "\u001b[34m#metrics {\"StartTime\": 1681738420.5691674, \"EndTime\": 1681738420.5691824, \"Dimensions\": {\"Algorithm\": \"Linear Learner\", \"Host\": \"algo-1\", \"Operation\": \"training\", \"epoch\": 6, \"model\": 11}, \"Metrics\": {\"train_absolute_loss_objective\": {\"sum\": 0.7118766689300537, \"count\": 1, \"min\": 0.7118766689300537, \"max\": 0.7118766689300537}}}\u001b[0m\n",
      "\u001b[34m#metrics {\"StartTime\": 1681738420.5692322, \"EndTime\": 1681738420.5692477, \"Dimensions\": {\"Algorithm\": \"Linear Learner\", \"Host\": \"algo-1\", \"Operation\": \"training\", \"epoch\": 6, \"model\": 12}, \"Metrics\": {\"train_absolute_loss_objective\": {\"sum\": 0.2768247890472412, \"count\": 1, \"min\": 0.2768247890472412, \"max\": 0.2768247890472412}}}\u001b[0m\n",
      "\u001b[34m#metrics {\"StartTime\": 1681738420.5693066, \"EndTime\": 1681738420.5693228, \"Dimensions\": {\"Algorithm\": \"Linear Learner\", \"Host\": \"algo-1\", \"Operation\": \"training\", \"epoch\": 6, \"model\": 13}, \"Metrics\": {\"train_absolute_loss_objective\": {\"sum\": 0.24061743259429932, \"count\": 1, \"min\": 0.24061743259429932, \"max\": 0.24061743259429932}}}\u001b[0m\n",
      "\u001b[34m#metrics {\"StartTime\": 1681738420.5693731, \"EndTime\": 1681738420.5693882, \"Dimensions\": {\"Algorithm\": \"Linear Learner\", \"Host\": \"algo-1\", \"Operation\": \"training\", \"epoch\": 6, \"model\": 14}, \"Metrics\": {\"train_absolute_loss_objective\": {\"sum\": 0.2768314123153687, \"count\": 1, \"min\": 0.2768314123153687, \"max\": 0.2768314123153687}}}\u001b[0m\n",
      "\u001b[34m#metrics {\"StartTime\": 1681738420.5694392, \"EndTime\": 1681738420.5694554, \"Dimensions\": {\"Algorithm\": \"Linear Learner\", \"Host\": \"algo-1\", \"Operation\": \"training\", \"epoch\": 6, \"model\": 15}, \"Metrics\": {\"train_absolute_loss_objective\": {\"sum\": 0.1795338797569275, \"count\": 1, \"min\": 0.1795338797569275, \"max\": 0.1795338797569275}}}\u001b[0m\n",
      "\u001b[34m#metrics {\"StartTime\": 1681738420.5695024, \"EndTime\": 1681738420.5695176, \"Dimensions\": {\"Algorithm\": \"Linear Learner\", \"Host\": \"algo-1\", \"Operation\": \"training\", \"epoch\": 6, \"model\": 16}, \"Metrics\": {\"train_absolute_loss_objective\": {\"sum\": 0.7001686763763427, \"count\": 1, \"min\": 0.7001686763763427, \"max\": 0.7001686763763427}}}\u001b[0m\n",
      "\u001b[34m#metrics {\"StartTime\": 1681738420.5695665, \"EndTime\": 1681738420.569582, \"Dimensions\": {\"Algorithm\": \"Linear Learner\", \"Host\": \"algo-1\", \"Operation\": \"training\", \"epoch\": 6, \"model\": 17}, \"Metrics\": {\"train_absolute_loss_objective\": {\"sum\": 0.7498958873748779, \"count\": 1, \"min\": 0.7498958873748779, \"max\": 0.7498958873748779}}}\u001b[0m\n",
      "\u001b[34m#metrics {\"StartTime\": 1681738420.5696347, \"EndTime\": 1681738420.5696504, \"Dimensions\": {\"Algorithm\": \"Linear Learner\", \"Host\": \"algo-1\", \"Operation\": \"training\", \"epoch\": 6, \"model\": 18}, \"Metrics\": {\"train_absolute_loss_objective\": {\"sum\": 0.7272018051147461, \"count\": 1, \"min\": 0.7272018051147461, \"max\": 0.7272018051147461}}}\u001b[0m\n",
      "\u001b[34m#metrics {\"StartTime\": 1681738420.5696979, \"EndTime\": 1681738420.5697134, \"Dimensions\": {\"Algorithm\": \"Linear Learner\", \"Host\": \"algo-1\", \"Operation\": \"training\", \"epoch\": 6, \"model\": 19}, \"Metrics\": {\"train_absolute_loss_objective\": {\"sum\": 0.723021125793457, \"count\": 1, \"min\": 0.723021125793457, \"max\": 0.723021125793457}}}\u001b[0m\n",
      "\u001b[34m#metrics {\"StartTime\": 1681738420.5697753, \"EndTime\": 1681738420.5697925, \"Dimensions\": {\"Algorithm\": \"Linear Learner\", \"Host\": \"algo-1\", \"Operation\": \"training\", \"epoch\": 6, \"model\": 20}, \"Metrics\": {\"train_absolute_loss_objective\": {\"sum\": 0.386461501121521, \"count\": 1, \"min\": 0.386461501121521, \"max\": 0.386461501121521}}}\u001b[0m\n",
      "\u001b[34m#metrics {\"StartTime\": 1681738420.5698433, \"EndTime\": 1681738420.5698588, \"Dimensions\": {\"Algorithm\": \"Linear Learner\", \"Host\": \"algo-1\", \"Operation\": \"training\", \"epoch\": 6, \"model\": 21}, \"Metrics\": {\"train_absolute_loss_objective\": {\"sum\": 0.2200925087928772, \"count\": 1, \"min\": 0.2200925087928772, \"max\": 0.2200925087928772}}}\u001b[0m\n",
      "\u001b[34m#metrics {\"StartTime\": 1681738420.5699081, \"EndTime\": 1681738420.5699244, \"Dimensions\": {\"Algorithm\": \"Linear Learner\", \"Host\": \"algo-1\", \"Operation\": \"training\", \"epoch\": 6, \"model\": 22}, \"Metrics\": {\"train_absolute_loss_objective\": {\"sum\": 0.367221794128418, \"count\": 1, \"min\": 0.367221794128418, \"max\": 0.367221794128418}}}\u001b[0m\n",
      "\u001b[34m#metrics {\"StartTime\": 1681738420.5699828, \"EndTime\": 1681738420.5699992, \"Dimensions\": {\"Algorithm\": \"Linear Learner\", \"Host\": \"algo-1\", \"Operation\": \"training\", \"epoch\": 6, \"model\": 23}, \"Metrics\": {\"train_absolute_loss_objective\": {\"sum\": 0.49084588050842287, \"count\": 1, \"min\": 0.49084588050842287, \"max\": 0.49084588050842287}}}\u001b[0m\n",
      "\u001b[34m#metrics {\"StartTime\": 1681738420.570049, \"EndTime\": 1681738420.5700645, \"Dimensions\": {\"Algorithm\": \"Linear Learner\", \"Host\": \"algo-1\", \"Operation\": \"training\", \"epoch\": 6, \"model\": 24}, \"Metrics\": {\"train_absolute_loss_objective\": {\"sum\": 0.8726646900177002, \"count\": 1, \"min\": 0.8726646900177002, \"max\": 0.8726646900177002}}}\u001b[0m\n",
      "\u001b[34m#metrics {\"StartTime\": 1681738420.5701127, \"EndTime\": 1681738420.5701287, \"Dimensions\": {\"Algorithm\": \"Linear Learner\", \"Host\": \"algo-1\", \"Operation\": \"training\", \"epoch\": 6, \"model\": 25}, \"Metrics\": {\"train_absolute_loss_objective\": {\"sum\": 0.8741668128967285, \"count\": 1, \"min\": 0.8741668128967285, \"max\": 0.8741668128967285}}}\u001b[0m\n",
      "\u001b[34m#metrics {\"StartTime\": 1681738420.5701768, \"EndTime\": 1681738420.5701923, \"Dimensions\": {\"Algorithm\": \"Linear Learner\", \"Host\": \"algo-1\", \"Operation\": \"training\", \"epoch\": 6, \"model\": 26}, \"Metrics\": {\"train_absolute_loss_objective\": {\"sum\": 0.8694529724121094, \"count\": 1, \"min\": 0.8694529724121094, \"max\": 0.8694529724121094}}}\u001b[0m\n",
      "\u001b[34m#metrics {\"StartTime\": 1681738420.570245, \"EndTime\": 1681738420.5702612, \"Dimensions\": {\"Algorithm\": \"Linear Learner\", \"Host\": \"algo-1\", \"Operation\": \"training\", \"epoch\": 6, \"model\": 27}, \"Metrics\": {\"train_absolute_loss_objective\": {\"sum\": 0.8711533546447754, \"count\": 1, \"min\": 0.8711533546447754, \"max\": 0.8711533546447754}}}\u001b[0m\n",
      "\u001b[34m#metrics {\"StartTime\": 1681738420.570319, \"EndTime\": 1681738420.5703354, \"Dimensions\": {\"Algorithm\": \"Linear Learner\", \"Host\": \"algo-1\", \"Operation\": \"training\", \"epoch\": 6, \"model\": 28}, \"Metrics\": {\"train_absolute_loss_objective\": {\"sum\": 0.9572608947753907, \"count\": 1, \"min\": 0.9572608947753907, \"max\": 0.9572608947753907}}}\u001b[0m\n",
      "\u001b[34m#metrics {\"StartTime\": 1681738420.5703752, \"EndTime\": 1681738420.5703888, \"Dimensions\": {\"Algorithm\": \"Linear Learner\", \"Host\": \"algo-1\", \"Operation\": \"training\", \"epoch\": 6, \"model\": 29}, \"Metrics\": {\"train_absolute_loss_objective\": {\"sum\": 0.9593153667449951, \"count\": 1, \"min\": 0.9593153667449951, \"max\": 0.9593153667449951}}}\u001b[0m\n",
      "\u001b[34m#metrics {\"StartTime\": 1681738420.5704377, \"EndTime\": 1681738420.5704536, \"Dimensions\": {\"Algorithm\": \"Linear Learner\", \"Host\": \"algo-1\", \"Operation\": \"training\", \"epoch\": 6, \"model\": 30}, \"Metrics\": {\"train_absolute_loss_objective\": {\"sum\": 0.9383057689666748, \"count\": 1, \"min\": 0.9383057689666748, \"max\": 0.9383057689666748}}}\u001b[0m\n",
      "\u001b[34m#metrics {\"StartTime\": 1681738420.570511, \"EndTime\": 1681738420.5705285, \"Dimensions\": {\"Algorithm\": \"Linear Learner\", \"Host\": \"algo-1\", \"Operation\": \"training\", \"epoch\": 6, \"model\": 31}, \"Metrics\": {\"train_absolute_loss_objective\": {\"sum\": 0.9688012790679932, \"count\": 1, \"min\": 0.9688012790679932, \"max\": 0.9688012790679932}}}\u001b[0m\n",
      "\u001b[34m[04/17/2023 13:33:40 INFO 139915702728512] #quality_metric: host=algo-1, epoch=6, train absolute_loss_objective <loss>=0.7336967086791992\u001b[0m\n",
      "\u001b[34m[04/17/2023 13:33:40 INFO 139915702728512] #early_stopping_criteria_metric: host=algo-1, epoch=6, criteria=absolute_loss_objective, value=0.1795338797569275\u001b[0m\n",
      "\u001b[34m[04/17/2023 13:33:40 INFO 139915702728512] Epoch 6: Loss improved. Updating best model\u001b[0m\n",
      "\u001b[34m[04/17/2023 13:33:40 INFO 139915702728512] Saving model for epoch: 6\u001b[0m\n",
      "\u001b[34m[04/17/2023 13:33:40 INFO 139915702728512] Saved checkpoint to \"/tmp/tmplr9xjzy7/mx-mod-0000.params\"\u001b[0m\n",
      "\u001b[34m[04/17/2023 13:33:40 INFO 139915702728512] #progress_metric: host=algo-1, completed 14.0 % of epochs\u001b[0m\n",
      "\u001b[34m#metrics {\"StartTime\": 1681738420.4640613, \"EndTime\": 1681738420.577966, \"Dimensions\": {\"Algorithm\": \"Linear Learner\", \"Host\": \"algo-1\", \"Operation\": \"training\", \"epoch\": 6, \"Meta\": \"training_data_iter\"}, \"Metrics\": {\"Total Records Seen\": {\"sum\": 213.0, \"count\": 1, \"min\": 213, \"max\": 213}, \"Total Batches Seen\": {\"sum\": 49.0, \"count\": 1, \"min\": 49, \"max\": 49}, \"Max Records Seen Between Resets\": {\"sum\": 26.0, \"count\": 1, \"min\": 26, \"max\": 26}, \"Max Batches Seen Between Resets\": {\"sum\": 6.0, \"count\": 1, \"min\": 6, \"max\": 6}, \"Reset Count\": {\"sum\": 9.0, \"count\": 1, \"min\": 9, \"max\": 9}, \"Number of Records Since Last Reset\": {\"sum\": 26.0, \"count\": 1, \"min\": 26, \"max\": 26}, \"Number of Batches Since Last Reset\": {\"sum\": 6.0, \"count\": 1, \"min\": 6, \"max\": 6}}}\u001b[0m\n",
      "\u001b[34m[04/17/2023 13:33:40 INFO 139915702728512] #throughput_metric: host=algo-1, train throughput=227.99038296698012 records/second\u001b[0m\n",
      "\u001b[34m[2023-04-17 13:33:40.682] [tensorio] [info] epoch_stats={\"data_pipeline\": \"/opt/ml/input/data/train\", \"epoch\": 18, \"duration\": 104, \"num_examples\": 6, \"num_bytes\": 1248}\u001b[0m\n",
      "\u001b[34m#metrics {\"StartTime\": 1681738420.6828535, \"EndTime\": 1681738420.682921, \"Dimensions\": {\"Algorithm\": \"Linear Learner\", \"Host\": \"algo-1\", \"Operation\": \"training\", \"epoch\": 7, \"model\": 0}, \"Metrics\": {\"train_absolute_loss_objective\": {\"sum\": 0.7135795974731445, \"count\": 1, \"min\": 0.7135795974731445, \"max\": 0.7135795974731445}}}\u001b[0m\n",
      "\u001b[34m#metrics {\"StartTime\": 1681738420.6830072, \"EndTime\": 1681738420.6830268, \"Dimensions\": {\"Algorithm\": \"Linear Learner\", \"Host\": \"algo-1\", \"Operation\": \"training\", \"epoch\": 7, \"model\": 1}, \"Metrics\": {\"train_absolute_loss_objective\": {\"sum\": 0.7315068244934082, \"count\": 1, \"min\": 0.7315068244934082, \"max\": 0.7315068244934082}}}\u001b[0m\n",
      "\u001b[34m#metrics {\"StartTime\": 1681738420.68309, \"EndTime\": 1681738420.6831074, \"Dimensions\": {\"Algorithm\": \"Linear Learner\", \"Host\": \"algo-1\", \"Operation\": \"training\", \"epoch\": 7, \"model\": 2}, \"Metrics\": {\"train_absolute_loss_objective\": {\"sum\": 0.7160037708282471, \"count\": 1, \"min\": 0.7160037708282471, \"max\": 0.7160037708282471}}}\u001b[0m\n",
      "\u001b[34m#metrics {\"StartTime\": 1681738420.6831555, \"EndTime\": 1681738420.6831703, \"Dimensions\": {\"Algorithm\": \"Linear Learner\", \"Host\": \"algo-1\", \"Operation\": \"training\", \"epoch\": 7, \"model\": 3}, \"Metrics\": {\"train_absolute_loss_objective\": {\"sum\": 0.7304841423034668, \"count\": 1, \"min\": 0.7304841423034668, \"max\": 0.7304841423034668}}}\u001b[0m\n",
      "\u001b[34m#metrics {\"StartTime\": 1681738420.6832192, \"EndTime\": 1681738420.6832345, \"Dimensions\": {\"Algorithm\": \"Linear Learner\", \"Host\": \"algo-1\", \"Operation\": \"training\", \"epoch\": 7, \"model\": 4}, \"Metrics\": {\"train_absolute_loss_objective\": {\"sum\": 0.2105841112136841, \"count\": 1, \"min\": 0.2105841112136841, \"max\": 0.2105841112136841}}}\u001b[0m\n",
      "\u001b[34m#metrics {\"StartTime\": 1681738420.6832862, \"EndTime\": 1681738420.6833012, \"Dimensions\": {\"Algorithm\": \"Linear Learner\", \"Host\": \"algo-1\", \"Operation\": \"training\", \"epoch\": 7, \"model\": 5}, \"Metrics\": {\"train_absolute_loss_objective\": {\"sum\": 0.2016528606414795, \"count\": 1, \"min\": 0.2016528606414795, \"max\": 0.2016528606414795}}}\u001b[0m\n",
      "\u001b[34m#metrics {\"StartTime\": 1681738420.6833484, \"EndTime\": 1681738420.6833637, \"Dimensions\": {\"Algorithm\": \"Linear Learner\", \"Host\": \"algo-1\", \"Operation\": \"training\", \"epoch\": 7, \"model\": 6}, \"Metrics\": {\"train_absolute_loss_objective\": {\"sum\": 0.34922523021698, \"count\": 1, \"min\": 0.34922523021698, \"max\": 0.34922523021698}}}\u001b[0m\n",
      "\u001b[34m#metrics {\"StartTime\": 1681738420.6834137, \"EndTime\": 1681738420.68343, \"Dimensions\": {\"Algorithm\": \"Linear Learner\", \"Host\": \"algo-1\", \"Operation\": \"training\", \"epoch\": 7, \"model\": 7}, \"Metrics\": {\"train_absolute_loss_objective\": {\"sum\": 0.1901228094100952, \"count\": 1, \"min\": 0.1901228094100952, \"max\": 0.1901228094100952}}}\u001b[0m\n",
      "\u001b[34m#metrics {\"StartTime\": 1681738420.683482, \"EndTime\": 1681738420.683498, \"Dimensions\": {\"Algorithm\": \"Linear Learner\", \"Host\": \"algo-1\", \"Operation\": \"training\", \"epoch\": 7, \"model\": 8}, \"Metrics\": {\"train_absolute_loss_objective\": {\"sum\": 0.770135498046875, \"count\": 1, \"min\": 0.770135498046875, \"max\": 0.770135498046875}}}\u001b[0m\n",
      "\u001b[34m#metrics {\"StartTime\": 1681738420.683549, \"EndTime\": 1681738420.6835656, \"Dimensions\": {\"Algorithm\": \"Linear Learner\", \"Host\": \"algo-1\", \"Operation\": \"training\", \"epoch\": 7, \"model\": 9}, \"Metrics\": {\"train_absolute_loss_objective\": {\"sum\": 0.699438123703003, \"count\": 1, \"min\": 0.699438123703003, \"max\": 0.699438123703003}}}\u001b[0m\n",
      "\u001b[34m#metrics {\"StartTime\": 1681738420.6836195, \"EndTime\": 1681738420.6836345, \"Dimensions\": {\"Algorithm\": \"Linear Learner\", \"Host\": \"algo-1\", \"Operation\": \"training\", \"epoch\": 7, \"model\": 10}, \"Metrics\": {\"train_absolute_loss_objective\": {\"sum\": 0.7082548427581787, \"count\": 1, \"min\": 0.7082548427581787, \"max\": 0.7082548427581787}}}\u001b[0m\n",
      "\u001b[34m#metrics {\"StartTime\": 1681738420.6836834, \"EndTime\": 1681738420.6836984, \"Dimensions\": {\"Algorithm\": \"Linear Learner\", \"Host\": \"algo-1\", \"Operation\": \"training\", \"epoch\": 7, \"model\": 11}, \"Metrics\": {\"train_absolute_loss_objective\": {\"sum\": 0.6912823677062988, \"count\": 1, \"min\": 0.6912823677062988, \"max\": 0.6912823677062988}}}\u001b[0m\n",
      "\u001b[34m#metrics {\"StartTime\": 1681738420.683751, \"EndTime\": 1681738420.6837673, \"Dimensions\": {\"Algorithm\": \"Linear Learner\", \"Host\": \"algo-1\", \"Operation\": \"training\", \"epoch\": 7, \"model\": 12}, \"Metrics\": {\"train_absolute_loss_objective\": {\"sum\": 0.27889922618865964, \"count\": 1, \"min\": 0.27889922618865964, \"max\": 0.27889922618865964}}}\u001b[0m\n",
      "\u001b[34m#metrics {\"StartTime\": 1681738420.683817, \"EndTime\": 1681738420.6838334, \"Dimensions\": {\"Algorithm\": \"Linear Learner\", \"Host\": \"algo-1\", \"Operation\": \"training\", \"epoch\": 7, \"model\": 13}, \"Metrics\": {\"train_absolute_loss_objective\": {\"sum\": 0.24780209064483644, \"count\": 1, \"min\": 0.24780209064483644, \"max\": 0.24780209064483644}}}\u001b[0m\n",
      "\u001b[34m#metrics {\"StartTime\": 1681738420.6838832, \"EndTime\": 1681738420.6838999, \"Dimensions\": {\"Algorithm\": \"Linear Learner\", \"Host\": \"algo-1\", \"Operation\": \"training\", \"epoch\": 7, \"model\": 14}, \"Metrics\": {\"train_absolute_loss_objective\": {\"sum\": 0.2787848711013794, \"count\": 1, \"min\": 0.2787848711013794, \"max\": 0.2787848711013794}}}\u001b[0m\n",
      "\u001b[34m#metrics {\"StartTime\": 1681738420.6839542, \"EndTime\": 1681738420.683971, \"Dimensions\": {\"Algorithm\": \"Linear Learner\", \"Host\": \"algo-1\", \"Operation\": \"training\", \"epoch\": 7, \"model\": 15}, \"Metrics\": {\"train_absolute_loss_objective\": {\"sum\": 0.174128919839859, \"count\": 1, \"min\": 0.174128919839859, \"max\": 0.174128919839859}}}\u001b[0m\n",
      "\u001b[34m#metrics {\"StartTime\": 1681738420.6840236, \"EndTime\": 1681738420.6840396, \"Dimensions\": {\"Algorithm\": \"Linear Learner\", \"Host\": \"algo-1\", \"Operation\": \"training\", \"epoch\": 7, \"model\": 16}, \"Metrics\": {\"train_absolute_loss_objective\": {\"sum\": 0.6814478874206543, \"count\": 1, \"min\": 0.6814478874206543, \"max\": 0.6814478874206543}}}\u001b[0m\n",
      "\u001b[34m#metrics {\"StartTime\": 1681738420.6840935, \"EndTime\": 1681738420.6841094, \"Dimensions\": {\"Algorithm\": \"Linear Learner\", \"Host\": \"algo-1\", \"Operation\": \"training\", \"epoch\": 7, \"model\": 17}, \"Metrics\": {\"train_absolute_loss_objective\": {\"sum\": 0.7304401969909669, \"count\": 1, \"min\": 0.7304401969909669, \"max\": 0.7304401969909669}}}\u001b[0m\n",
      "\u001b[34m#metrics {\"StartTime\": 1681738420.6841588, \"EndTime\": 1681738420.684174, \"Dimensions\": {\"Algorithm\": \"Linear Learner\", \"Host\": \"algo-1\", \"Operation\": \"training\", \"epoch\": 7, \"model\": 18}, \"Metrics\": {\"train_absolute_loss_objective\": {\"sum\": 0.7083432388305664, \"count\": 1, \"min\": 0.7083432388305664, \"max\": 0.7083432388305664}}}\u001b[0m\n",
      "\u001b[34m#metrics {\"StartTime\": 1681738420.6842225, \"EndTime\": 1681738420.6842382, \"Dimensions\": {\"Algorithm\": \"Linear Learner\", \"Host\": \"algo-1\", \"Operation\": \"training\", \"epoch\": 7, \"model\": 19}, \"Metrics\": {\"train_absolute_loss_objective\": {\"sum\": 0.7036992359161377, \"count\": 1, \"min\": 0.7036992359161377, \"max\": 0.7036992359161377}}}\u001b[0m\n",
      "\u001b[34m#metrics {\"StartTime\": 1681738420.68429, \"EndTime\": 1681738420.6843061, \"Dimensions\": {\"Algorithm\": \"Linear Learner\", \"Host\": \"algo-1\", \"Operation\": \"training\", \"epoch\": 7, \"model\": 20}, \"Metrics\": {\"train_absolute_loss_objective\": {\"sum\": 0.27457012176513673, \"count\": 1, \"min\": 0.27457012176513673, \"max\": 0.27457012176513673}}}\u001b[0m\n",
      "\u001b[34m#metrics {\"StartTime\": 1681738420.6843553, \"EndTime\": 1681738420.6843705, \"Dimensions\": {\"Algorithm\": \"Linear Learner\", \"Host\": \"algo-1\", \"Operation\": \"training\", \"epoch\": 7, \"model\": 21}, \"Metrics\": {\"train_absolute_loss_objective\": {\"sum\": 0.25192655563354494, \"count\": 1, \"min\": 0.25192655563354494, \"max\": 0.25192655563354494}}}\u001b[0m\n",
      "\u001b[34m#metrics {\"StartTime\": 1681738420.6844194, \"EndTime\": 1681738420.6844347, \"Dimensions\": {\"Algorithm\": \"Linear Learner\", \"Host\": \"algo-1\", \"Operation\": \"training\", \"epoch\": 7, \"model\": 22}, \"Metrics\": {\"train_absolute_loss_objective\": {\"sum\": 0.3782732629776001, \"count\": 1, \"min\": 0.3782732629776001, \"max\": 0.3782732629776001}}}\u001b[0m\n",
      "\u001b[34m#metrics {\"StartTime\": 1681738420.6844873, \"EndTime\": 1681738420.6845033, \"Dimensions\": {\"Algorithm\": \"Linear Learner\", \"Host\": \"algo-1\", \"Operation\": \"training\", \"epoch\": 7, \"model\": 23}, \"Metrics\": {\"train_absolute_loss_objective\": {\"sum\": 0.3469935369491577, \"count\": 1, \"min\": 0.3469935369491577, \"max\": 0.3469935369491577}}}\u001b[0m\n",
      "\u001b[34m#metrics {\"StartTime\": 1681738420.6845512, \"EndTime\": 1681738420.6845667, \"Dimensions\": {\"Algorithm\": \"Linear Learner\", \"Host\": \"algo-1\", \"Operation\": \"training\", \"epoch\": 7, \"model\": 24}, \"Metrics\": {\"train_absolute_loss_objective\": {\"sum\": 0.867144365310669, \"count\": 1, \"min\": 0.867144365310669, \"max\": 0.867144365310669}}}\u001b[0m\n",
      "\u001b[34m#metrics {\"StartTime\": 1681738420.6846142, \"EndTime\": 1681738420.6846302, \"Dimensions\": {\"Algorithm\": \"Linear Learner\", \"Host\": \"algo-1\", \"Operation\": \"training\", \"epoch\": 7, \"model\": 25}, \"Metrics\": {\"train_absolute_loss_objective\": {\"sum\": 0.8728112411499024, \"count\": 1, \"min\": 0.8728112411499024, \"max\": 0.8728112411499024}}}\u001b[0m\n",
      "\u001b[34m#metrics {\"StartTime\": 1681738420.6846793, \"EndTime\": 1681738420.6846943, \"Dimensions\": {\"Algorithm\": \"Linear Learner\", \"Host\": \"algo-1\", \"Operation\": \"training\", \"epoch\": 7, \"model\": 26}, \"Metrics\": {\"train_absolute_loss_objective\": {\"sum\": 0.8669412422180176, \"count\": 1, \"min\": 0.8669412422180176, \"max\": 0.8669412422180176}}}\u001b[0m\n",
      "\u001b[34m#metrics {\"StartTime\": 1681738420.684748, \"EndTime\": 1681738420.6847637, \"Dimensions\": {\"Algorithm\": \"Linear Learner\", \"Host\": \"algo-1\", \"Operation\": \"training\", \"epoch\": 7, \"model\": 27}, \"Metrics\": {\"train_absolute_loss_objective\": {\"sum\": 0.8689906024932861, \"count\": 1, \"min\": 0.8689906024932861, \"max\": 0.8689906024932861}}}\u001b[0m\n",
      "\u001b[34m#metrics {\"StartTime\": 1681738420.684812, \"EndTime\": 1681738420.6848273, \"Dimensions\": {\"Algorithm\": \"Linear Learner\", \"Host\": \"algo-1\", \"Operation\": \"training\", \"epoch\": 7, \"model\": 28}, \"Metrics\": {\"train_absolute_loss_objective\": {\"sum\": 0.9565028572082519, \"count\": 1, \"min\": 0.9565028572082519, \"max\": 0.9565028572082519}}}\u001b[0m\n",
      "\u001b[34m#metrics {\"StartTime\": 1681738420.684891, \"EndTime\": 1681738420.6849084, \"Dimensions\": {\"Algorithm\": \"Linear Learner\", \"Host\": \"algo-1\", \"Operation\": \"training\", \"epoch\": 7, \"model\": 29}, \"Metrics\": {\"train_absolute_loss_objective\": {\"sum\": 0.9627402591705322, \"count\": 1, \"min\": 0.9627402591705322, \"max\": 0.9627402591705322}}}\u001b[0m\n",
      "\u001b[34m#metrics {\"StartTime\": 1681738420.6849709, \"EndTime\": 1681738420.6849895, \"Dimensions\": {\"Algorithm\": \"Linear Learner\", \"Host\": \"algo-1\", \"Operation\": \"training\", \"epoch\": 7, \"model\": 30}, \"Metrics\": {\"train_absolute_loss_objective\": {\"sum\": 0.9000450325012207, \"count\": 1, \"min\": 0.9000450325012207, \"max\": 0.9000450325012207}}}\u001b[0m\n",
      "\u001b[34m#metrics {\"StartTime\": 1681738420.685051, \"EndTime\": 1681738420.6850688, \"Dimensions\": {\"Algorithm\": \"Linear Learner\", \"Host\": \"algo-1\", \"Operation\": \"training\", \"epoch\": 7, \"model\": 31}, \"Metrics\": {\"train_absolute_loss_objective\": {\"sum\": 0.9568615627288818, \"count\": 1, \"min\": 0.9568615627288818, \"max\": 0.9568615627288818}}}\u001b[0m\n",
      "\u001b[34m[04/17/2023 13:33:40 INFO 139915702728512] #quality_metric: host=algo-1, epoch=7, train absolute_loss_objective <loss>=0.7135795974731445\u001b[0m\n",
      "\u001b[34m[04/17/2023 13:33:40 INFO 139915702728512] #early_stopping_criteria_metric: host=algo-1, epoch=7, criteria=absolute_loss_objective, value=0.174128919839859\u001b[0m\n",
      "\u001b[34m[04/17/2023 13:33:40 INFO 139915702728512] Epoch 7: Loss improved. Updating best model\u001b[0m\n",
      "\u001b[34m[04/17/2023 13:33:40 INFO 139915702728512] Saving model for epoch: 7\u001b[0m\n",
      "\u001b[34m[04/17/2023 13:33:40 INFO 139915702728512] Saved checkpoint to \"/tmp/tmpdum9w_lc/mx-mod-0000.params\"\u001b[0m\n",
      "\u001b[34m[04/17/2023 13:33:40 INFO 139915702728512] #progress_metric: host=algo-1, completed 16.0 % of epochs\u001b[0m\n",
      "\u001b[34m#metrics {\"StartTime\": 1681738420.578245, \"EndTime\": 1681738420.693767, \"Dimensions\": {\"Algorithm\": \"Linear Learner\", \"Host\": \"algo-1\", \"Operation\": \"training\", \"epoch\": 7, \"Meta\": \"training_data_iter\"}, \"Metrics\": {\"Total Records Seen\": {\"sum\": 239.0, \"count\": 1, \"min\": 239, \"max\": 239}, \"Total Batches Seen\": {\"sum\": 55.0, \"count\": 1, \"min\": 55, \"max\": 55}, \"Max Records Seen Between Resets\": {\"sum\": 26.0, \"count\": 1, \"min\": 26, \"max\": 26}, \"Max Batches Seen Between Resets\": {\"sum\": 6.0, \"count\": 1, \"min\": 6, \"max\": 6}, \"Reset Count\": {\"sum\": 10.0, \"count\": 1, \"min\": 10, \"max\": 10}, \"Number of Records Since Last Reset\": {\"sum\": 26.0, \"count\": 1, \"min\": 26, \"max\": 26}, \"Number of Batches Since Last Reset\": {\"sum\": 6.0, \"count\": 1, \"min\": 6, \"max\": 6}}}\u001b[0m\n",
      "\u001b[34m[04/17/2023 13:33:40 INFO 139915702728512] #throughput_metric: host=algo-1, train throughput=224.8247181235865 records/second\u001b[0m\n",
      "\u001b[34m[2023-04-17 13:33:40.792] [tensorio] [info] epoch_stats={\"data_pipeline\": \"/opt/ml/input/data/train\", \"epoch\": 20, \"duration\": 97, \"num_examples\": 6, \"num_bytes\": 1248}\u001b[0m\n",
      "\u001b[34m#metrics {\"StartTime\": 1681738420.7920794, \"EndTime\": 1681738420.7921507, \"Dimensions\": {\"Algorithm\": \"Linear Learner\", \"Host\": \"algo-1\", \"Operation\": \"training\", \"epoch\": 8, \"model\": 0}, \"Metrics\": {\"train_absolute_loss_objective\": {\"sum\": 0.6921645641326905, \"count\": 1, \"min\": 0.6921645641326905, \"max\": 0.6921645641326905}}}\u001b[0m\n",
      "\u001b[34m#metrics {\"StartTime\": 1681738420.7922237, \"EndTime\": 1681738420.7922401, \"Dimensions\": {\"Algorithm\": \"Linear Learner\", \"Host\": \"algo-1\", \"Operation\": \"training\", \"epoch\": 8, \"model\": 1}, \"Metrics\": {\"train_absolute_loss_objective\": {\"sum\": 0.7093199634552002, \"count\": 1, \"min\": 0.7093199634552002, \"max\": 0.7093199634552002}}}\u001b[0m\n",
      "\u001b[34m#metrics {\"StartTime\": 1681738420.7922945, \"EndTime\": 1681738420.792311, \"Dimensions\": {\"Algorithm\": \"Linear Learner\", \"Host\": \"algo-1\", \"Operation\": \"training\", \"epoch\": 8, \"model\": 2}, \"Metrics\": {\"train_absolute_loss_objective\": {\"sum\": 0.6945941066741943, \"count\": 1, \"min\": 0.6945941066741943, \"max\": 0.6945941066741943}}}\u001b[0m\n",
      "\u001b[34m#metrics {\"StartTime\": 1681738420.7923753, \"EndTime\": 1681738420.7923925, \"Dimensions\": {\"Algorithm\": \"Linear Learner\", \"Host\": \"algo-1\", \"Operation\": \"training\", \"epoch\": 8, \"model\": 3}, \"Metrics\": {\"train_absolute_loss_objective\": {\"sum\": 0.7082950115203858, \"count\": 1, \"min\": 0.7082950115203858, \"max\": 0.7082950115203858}}}\u001b[0m\n",
      "\u001b[34m#metrics {\"StartTime\": 1681738420.7924564, \"EndTime\": 1681738420.7924736, \"Dimensions\": {\"Algorithm\": \"Linear Learner\", \"Host\": \"algo-1\", \"Operation\": \"training\", \"epoch\": 8, \"model\": 4}, \"Metrics\": {\"train_absolute_loss_objective\": {\"sum\": 0.1741144275665283, \"count\": 1, \"min\": 0.1741144275665283, \"max\": 0.1741144275665283}}}\u001b[0m\n",
      "\u001b[34m#metrics {\"StartTime\": 1681738420.7925255, \"EndTime\": 1681738420.7925415, \"Dimensions\": {\"Algorithm\": \"Linear Learner\", \"Host\": \"algo-1\", \"Operation\": \"training\", \"epoch\": 8, \"model\": 5}, \"Metrics\": {\"train_absolute_loss_objective\": {\"sum\": 0.1484750461578369, \"count\": 1, \"min\": 0.1484750461578369, \"max\": 0.1484750461578369}}}\u001b[0m\n",
      "\u001b[34m#metrics {\"StartTime\": 1681738420.7925909, \"EndTime\": 1681738420.7926044, \"Dimensions\": {\"Algorithm\": \"Linear Learner\", \"Host\": \"algo-1\", \"Operation\": \"training\", \"epoch\": 8, \"model\": 6}, \"Metrics\": {\"train_absolute_loss_objective\": {\"sum\": 0.2520935034751892, \"count\": 1, \"min\": 0.2520935034751892, \"max\": 0.2520935034751892}}}\u001b[0m\n",
      "\u001b[34m#metrics {\"StartTime\": 1681738420.7926555, \"EndTime\": 1681738420.792671, \"Dimensions\": {\"Algorithm\": \"Linear Learner\", \"Host\": \"algo-1\", \"Operation\": \"training\", \"epoch\": 8, \"model\": 7}, \"Metrics\": {\"train_absolute_loss_objective\": {\"sum\": 0.18675451040267943, \"count\": 1, \"min\": 0.18675451040267943, \"max\": 0.18675451040267943}}}\u001b[0m\n",
      "\u001b[34m#metrics {\"StartTime\": 1681738420.7927222, \"EndTime\": 1681738420.7927394, \"Dimensions\": {\"Algorithm\": \"Linear Learner\", \"Host\": \"algo-1\", \"Operation\": \"training\", \"epoch\": 8, \"model\": 8}, \"Metrics\": {\"train_absolute_loss_objective\": {\"sum\": 0.7486563301086426, \"count\": 1, \"min\": 0.7486563301086426, \"max\": 0.7486563301086426}}}\u001b[0m\n",
      "\u001b[34m#metrics {\"StartTime\": 1681738420.7927885, \"EndTime\": 1681738420.792804, \"Dimensions\": {\"Algorithm\": \"Linear Learner\", \"Host\": \"algo-1\", \"Operation\": \"training\", \"epoch\": 8, \"model\": 9}, \"Metrics\": {\"train_absolute_loss_objective\": {\"sum\": 0.6771940898895263, \"count\": 1, \"min\": 0.6771940898895263, \"max\": 0.6771940898895263}}}\u001b[0m\n",
      "\u001b[34m#metrics {\"StartTime\": 1681738420.7928576, \"EndTime\": 1681738420.792875, \"Dimensions\": {\"Algorithm\": \"Linear Learner\", \"Host\": \"algo-1\", \"Operation\": \"training\", \"epoch\": 8, \"model\": 10}, \"Metrics\": {\"train_absolute_loss_objective\": {\"sum\": 0.6868412780761719, \"count\": 1, \"min\": 0.6868412780761719, \"max\": 0.6868412780761719}}}\u001b[0m\n",
      "\u001b[34m#metrics {\"StartTime\": 1681738420.7929354, \"EndTime\": 1681738420.7929523, \"Dimensions\": {\"Algorithm\": \"Linear Learner\", \"Host\": \"algo-1\", \"Operation\": \"training\", \"epoch\": 8, \"model\": 11}, \"Metrics\": {\"train_absolute_loss_objective\": {\"sum\": 0.6690202522277832, \"count\": 1, \"min\": 0.6690202522277832, \"max\": 0.6690202522277832}}}\u001b[0m\n",
      "\u001b[34m#metrics {\"StartTime\": 1681738420.7930045, \"EndTime\": 1681738420.7930193, \"Dimensions\": {\"Algorithm\": \"Linear Learner\", \"Host\": \"algo-1\", \"Operation\": \"training\", \"epoch\": 8, \"model\": 12}, \"Metrics\": {\"train_absolute_loss_objective\": {\"sum\": 0.27742380142211914, \"count\": 1, \"min\": 0.27742380142211914, \"max\": 0.27742380142211914}}}\u001b[0m\n",
      "\u001b[34m#metrics {\"StartTime\": 1681738420.7930734, \"EndTime\": 1681738420.7930896, \"Dimensions\": {\"Algorithm\": \"Linear Learner\", \"Host\": \"algo-1\", \"Operation\": \"training\", \"epoch\": 8, \"model\": 13}, \"Metrics\": {\"train_absolute_loss_objective\": {\"sum\": 0.23872049331665038, \"count\": 1, \"min\": 0.23872049331665038, \"max\": 0.23872049331665038}}}\u001b[0m\n",
      "\u001b[34m#metrics {\"StartTime\": 1681738420.7931435, \"EndTime\": 1681738420.7931595, \"Dimensions\": {\"Algorithm\": \"Linear Learner\", \"Host\": \"algo-1\", \"Operation\": \"training\", \"epoch\": 8, \"model\": 14}, \"Metrics\": {\"train_absolute_loss_objective\": {\"sum\": 0.2769968175888062, \"count\": 1, \"min\": 0.2769968175888062, \"max\": 0.2769968175888062}}}\u001b[0m\n",
      "\u001b[34m#metrics {\"StartTime\": 1681738420.7932098, \"EndTime\": 1681738420.7932255, \"Dimensions\": {\"Algorithm\": \"Linear Learner\", \"Host\": \"algo-1\", \"Operation\": \"training\", \"epoch\": 8, \"model\": 15}, \"Metrics\": {\"train_absolute_loss_objective\": {\"sum\": 0.22307743549346923, \"count\": 1, \"min\": 0.22307743549346923, \"max\": 0.22307743549346923}}}\u001b[0m\n",
      "\u001b[34m#metrics {\"StartTime\": 1681738420.7932873, \"EndTime\": 1681738420.7933037, \"Dimensions\": {\"Algorithm\": \"Linear Learner\", \"Host\": \"algo-1\", \"Operation\": \"training\", \"epoch\": 8, \"model\": 16}, \"Metrics\": {\"train_absolute_loss_objective\": {\"sum\": 0.6616023826599121, \"count\": 1, \"min\": 0.6616023826599121, \"max\": 0.6616023826599121}}}\u001b[0m\n",
      "\u001b[34m#metrics {\"StartTime\": 1681738420.793364, \"EndTime\": 1681738420.7933805, \"Dimensions\": {\"Algorithm\": \"Linear Learner\", \"Host\": \"algo-1\", \"Operation\": \"training\", \"epoch\": 8, \"model\": 17}, \"Metrics\": {\"train_absolute_loss_objective\": {\"sum\": 0.7098043823242187, \"count\": 1, \"min\": 0.7098043823242187, \"max\": 0.7098043823242187}}}\u001b[0m\n",
      "\u001b[34m#metrics {\"StartTime\": 1681738420.793431, \"EndTime\": 1681738420.7934463, \"Dimensions\": {\"Algorithm\": \"Linear Learner\", \"Host\": \"algo-1\", \"Operation\": \"training\", \"epoch\": 8, \"model\": 18}, \"Metrics\": {\"train_absolute_loss_objective\": {\"sum\": 0.6884658908843995, \"count\": 1, \"min\": 0.6884658908843995, \"max\": 0.6884658908843995}}}\u001b[0m\n",
      "\u001b[34m#metrics {\"StartTime\": 1681738420.7935123, \"EndTime\": 1681738420.7935288, \"Dimensions\": {\"Algorithm\": \"Linear Learner\", \"Host\": \"algo-1\", \"Operation\": \"training\", \"epoch\": 8, \"model\": 19}, \"Metrics\": {\"train_absolute_loss_objective\": {\"sum\": 0.683092041015625, \"count\": 1, \"min\": 0.683092041015625, \"max\": 0.683092041015625}}}\u001b[0m\n",
      "\u001b[34m#metrics {\"StartTime\": 1681738420.7935898, \"EndTime\": 1681738420.793607, \"Dimensions\": {\"Algorithm\": \"Linear Learner\", \"Host\": \"algo-1\", \"Operation\": \"training\", \"epoch\": 8, \"model\": 20}, \"Metrics\": {\"train_absolute_loss_objective\": {\"sum\": 0.2412022614479065, \"count\": 1, \"min\": 0.2412022614479065, \"max\": 0.2412022614479065}}}\u001b[0m\n",
      "\u001b[34m#metrics {\"StartTime\": 1681738420.7937112, \"EndTime\": 1681738420.7937305, \"Dimensions\": {\"Algorithm\": \"Linear Learner\", \"Host\": \"algo-1\", \"Operation\": \"training\", \"epoch\": 8, \"model\": 21}, \"Metrics\": {\"train_absolute_loss_objective\": {\"sum\": 0.3157155728340149, \"count\": 1, \"min\": 0.3157155728340149, \"max\": 0.3157155728340149}}}\u001b[0m\n",
      "\u001b[34m#metrics {\"StartTime\": 1681738420.7938218, \"EndTime\": 1681738420.79384, \"Dimensions\": {\"Algorithm\": \"Linear Learner\", \"Host\": \"algo-1\", \"Operation\": \"training\", \"epoch\": 8, \"model\": 22}, \"Metrics\": {\"train_absolute_loss_objective\": {\"sum\": 0.33909902095794675, \"count\": 1, \"min\": 0.33909902095794675, \"max\": 0.33909902095794675}}}\u001b[0m\n",
      "\u001b[34m#metrics {\"StartTime\": 1681738420.7939425, \"EndTime\": 1681738420.793961, \"Dimensions\": {\"Algorithm\": \"Linear Learner\", \"Host\": \"algo-1\", \"Operation\": \"training\", \"epoch\": 8, \"model\": 23}, \"Metrics\": {\"train_absolute_loss_objective\": {\"sum\": 0.3740809297561645, \"count\": 1, \"min\": 0.3740809297561645, \"max\": 0.3740809297561645}}}\u001b[0m\n",
      "\u001b[34m#metrics {\"StartTime\": 1681738420.794024, \"EndTime\": 1681738420.794036, \"Dimensions\": {\"Algorithm\": \"Linear Learner\", \"Host\": \"algo-1\", \"Operation\": \"training\", \"epoch\": 8, \"model\": 24}, \"Metrics\": {\"train_absolute_loss_objective\": {\"sum\": 0.864333848953247, \"count\": 1, \"min\": 0.864333848953247, \"max\": 0.864333848953247}}}\u001b[0m\n",
      "\u001b[34m#metrics {\"StartTime\": 1681738420.794088, \"EndTime\": 1681738420.7941039, \"Dimensions\": {\"Algorithm\": \"Linear Learner\", \"Host\": \"algo-1\", \"Operation\": \"training\", \"epoch\": 8, \"model\": 25}, \"Metrics\": {\"train_absolute_loss_objective\": {\"sum\": 0.8690267753601074, \"count\": 1, \"min\": 0.8690267753601074, \"max\": 0.8690267753601074}}}\u001b[0m\n",
      "\u001b[34m#metrics {\"StartTime\": 1681738420.7941601, \"EndTime\": 1681738420.7941756, \"Dimensions\": {\"Algorithm\": \"Linear Learner\", \"Host\": \"algo-1\", \"Operation\": \"training\", \"epoch\": 8, \"model\": 26}, \"Metrics\": {\"train_absolute_loss_objective\": {\"sum\": 0.8675426197052002, \"count\": 1, \"min\": 0.8675426197052002, \"max\": 0.8675426197052002}}}\u001b[0m\n",
      "\u001b[34m#metrics {\"StartTime\": 1681738420.794226, \"EndTime\": 1681738420.7942414, \"Dimensions\": {\"Algorithm\": \"Linear Learner\", \"Host\": \"algo-1\", \"Operation\": \"training\", \"epoch\": 8, \"model\": 27}, \"Metrics\": {\"train_absolute_loss_objective\": {\"sum\": 0.867799768447876, \"count\": 1, \"min\": 0.867799768447876, \"max\": 0.867799768447876}}}\u001b[0m\n",
      "\u001b[34m#metrics {\"StartTime\": 1681738420.7942967, \"EndTime\": 1681738420.7943132, \"Dimensions\": {\"Algorithm\": \"Linear Learner\", \"Host\": \"algo-1\", \"Operation\": \"training\", \"epoch\": 8, \"model\": 28}, \"Metrics\": {\"train_absolute_loss_objective\": {\"sum\": 0.8962229251861572, \"count\": 1, \"min\": 0.8962229251861572, \"max\": 0.8962229251861572}}}\u001b[0m\n",
      "\u001b[34m#metrics {\"StartTime\": 1681738420.79437, \"EndTime\": 1681738420.7943864, \"Dimensions\": {\"Algorithm\": \"Linear Learner\", \"Host\": \"algo-1\", \"Operation\": \"training\", \"epoch\": 8, \"model\": 29}, \"Metrics\": {\"train_absolute_loss_objective\": {\"sum\": 0.9012501907348632, \"count\": 1, \"min\": 0.9012501907348632, \"max\": 0.9012501907348632}}}\u001b[0m\n",
      "\u001b[34m#metrics {\"StartTime\": 1681738420.794436, \"EndTime\": 1681738420.794452, \"Dimensions\": {\"Algorithm\": \"Linear Learner\", \"Host\": \"algo-1\", \"Operation\": \"training\", \"epoch\": 8, \"model\": 30}, \"Metrics\": {\"train_absolute_loss_objective\": {\"sum\": 0.9047474288940429, \"count\": 1, \"min\": 0.9047474288940429, \"max\": 0.9047474288940429}}}\u001b[0m\n",
      "\u001b[34m#metrics {\"StartTime\": 1681738420.7945051, \"EndTime\": 1681738420.7945209, \"Dimensions\": {\"Algorithm\": \"Linear Learner\", \"Host\": \"algo-1\", \"Operation\": \"training\", \"epoch\": 8, \"model\": 31}, \"Metrics\": {\"train_absolute_loss_objective\": {\"sum\": 0.9053397941589355, \"count\": 1, \"min\": 0.9053397941589355, \"max\": 0.9053397941589355}}}\u001b[0m\n",
      "\u001b[34m[04/17/2023 13:33:40 INFO 139915702728512] #quality_metric: host=algo-1, epoch=8, train absolute_loss_objective <loss>=0.6921645641326905\u001b[0m\n",
      "\u001b[34m[04/17/2023 13:33:40 INFO 139915702728512] #early_stopping_criteria_metric: host=algo-1, epoch=8, criteria=absolute_loss_objective, value=0.1484750461578369\u001b[0m\n",
      "\u001b[34m[04/17/2023 13:33:40 INFO 139915702728512] Epoch 8: Loss improved. Updating best model\u001b[0m\n",
      "\u001b[34m[04/17/2023 13:33:40 INFO 139915702728512] Saving model for epoch: 8\u001b[0m\n",
      "\u001b[34m[04/17/2023 13:33:40 INFO 139915702728512] Saved checkpoint to \"/tmp/tmpugvn0bk9/mx-mod-0000.params\"\u001b[0m\n",
      "\u001b[34m[04/17/2023 13:33:40 INFO 139915702728512] #progress_metric: host=algo-1, completed 18.0 % of epochs\u001b[0m\n",
      "\u001b[34m#metrics {\"StartTime\": 1681738420.6940641, \"EndTime\": 1681738420.8020463, \"Dimensions\": {\"Algorithm\": \"Linear Learner\", \"Host\": \"algo-1\", \"Operation\": \"training\", \"epoch\": 8, \"Meta\": \"training_data_iter\"}, \"Metrics\": {\"Total Records Seen\": {\"sum\": 265.0, \"count\": 1, \"min\": 265, \"max\": 265}, \"Total Batches Seen\": {\"sum\": 61.0, \"count\": 1, \"min\": 61, \"max\": 61}, \"Max Records Seen Between Resets\": {\"sum\": 26.0, \"count\": 1, \"min\": 26, \"max\": 26}, \"Max Batches Seen Between Resets\": {\"sum\": 6.0, \"count\": 1, \"min\": 6, \"max\": 6}, \"Reset Count\": {\"sum\": 11.0, \"count\": 1, \"min\": 11, \"max\": 11}, \"Number of Records Since Last Reset\": {\"sum\": 26.0, \"count\": 1, \"min\": 26, \"max\": 26}, \"Number of Batches Since Last Reset\": {\"sum\": 6.0, \"count\": 1, \"min\": 6, \"max\": 6}}}\u001b[0m\n",
      "\u001b[34m[04/17/2023 13:33:40 INFO 139915702728512] #throughput_metric: host=algo-1, train throughput=240.50067374298965 records/second\u001b[0m\n",
      "\u001b[34m[2023-04-17 13:33:40.887] [tensorio] [info] epoch_stats={\"data_pipeline\": \"/opt/ml/input/data/train\", \"epoch\": 22, \"duration\": 84, \"num_examples\": 6, \"num_bytes\": 1248}\u001b[0m\n",
      "\u001b[34m#metrics {\"StartTime\": 1681738420.887361, \"EndTime\": 1681738420.8874261, \"Dimensions\": {\"Algorithm\": \"Linear Learner\", \"Host\": \"algo-1\", \"Operation\": \"training\", \"epoch\": 9, \"model\": 0}, \"Metrics\": {\"train_absolute_loss_objective\": {\"sum\": 0.67223464012146, \"count\": 1, \"min\": 0.67223464012146, \"max\": 0.67223464012146}}}\u001b[0m\n",
      "\u001b[34m#metrics {\"StartTime\": 1681738420.8874998, \"EndTime\": 1681738420.8875191, \"Dimensions\": {\"Algorithm\": \"Linear Learner\", \"Host\": \"algo-1\", \"Operation\": \"training\", \"epoch\": 9, \"model\": 1}, \"Metrics\": {\"train_absolute_loss_objective\": {\"sum\": 0.6886153030395508, \"count\": 1, \"min\": 0.6886153030395508, \"max\": 0.6886153030395508}}}\u001b[0m\n",
      "\u001b[34m#metrics {\"StartTime\": 1681738420.887586, \"EndTime\": 1681738420.8876038, \"Dimensions\": {\"Algorithm\": \"Linear Learner\", \"Host\": \"algo-1\", \"Operation\": \"training\", \"epoch\": 9, \"model\": 2}, \"Metrics\": {\"train_absolute_loss_objective\": {\"sum\": 0.674658784866333, \"count\": 1, \"min\": 0.674658784866333, \"max\": 0.674658784866333}}}\u001b[0m\n",
      "\u001b[34m#metrics {\"StartTime\": 1681738420.887668, \"EndTime\": 1681738420.8876855, \"Dimensions\": {\"Algorithm\": \"Linear Learner\", \"Host\": \"algo-1\", \"Operation\": \"training\", \"epoch\": 9, \"model\": 3}, \"Metrics\": {\"train_absolute_loss_objective\": {\"sum\": 0.6875926494598389, \"count\": 1, \"min\": 0.6875926494598389, \"max\": 0.6875926494598389}}}\u001b[0m\n",
      "\u001b[34m#metrics {\"StartTime\": 1681738420.887748, \"EndTime\": 1681738420.8877666, \"Dimensions\": {\"Algorithm\": \"Linear Learner\", \"Host\": \"algo-1\", \"Operation\": \"training\", \"epoch\": 9, \"model\": 4}, \"Metrics\": {\"train_absolute_loss_objective\": {\"sum\": 0.19032488346099855, \"count\": 1, \"min\": 0.19032488346099855, \"max\": 0.19032488346099855}}}\u001b[0m\n",
      "\u001b[34m#metrics {\"StartTime\": 1681738420.8878236, \"EndTime\": 1681738420.8878393, \"Dimensions\": {\"Algorithm\": \"Linear Learner\", \"Host\": \"algo-1\", \"Operation\": \"training\", \"epoch\": 9, \"model\": 5}, \"Metrics\": {\"train_absolute_loss_objective\": {\"sum\": 0.1706223499774933, \"count\": 1, \"min\": 0.1706223499774933, \"max\": 0.1706223499774933}}}\u001b[0m\n",
      "\u001b[34m#metrics {\"StartTime\": 1681738420.8878899, \"EndTime\": 1681738420.887907, \"Dimensions\": {\"Algorithm\": \"Linear Learner\", \"Host\": \"algo-1\", \"Operation\": \"training\", \"epoch\": 9, \"model\": 6}, \"Metrics\": {\"train_absolute_loss_objective\": {\"sum\": 0.20674951553344725, \"count\": 1, \"min\": 0.20674951553344725, \"max\": 0.20674951553344725}}}\u001b[0m\n",
      "\u001b[34m#metrics {\"StartTime\": 1681738420.8879576, \"EndTime\": 1681738420.887971, \"Dimensions\": {\"Algorithm\": \"Linear Learner\", \"Host\": \"algo-1\", \"Operation\": \"training\", \"epoch\": 9, \"model\": 7}, \"Metrics\": {\"train_absolute_loss_objective\": {\"sum\": 0.20339187145233154, \"count\": 1, \"min\": 0.20339187145233154, \"max\": 0.20339187145233154}}}\u001b[0m\n",
      "\u001b[34m#metrics {\"StartTime\": 1681738420.8880186, \"EndTime\": 1681738420.8880339, \"Dimensions\": {\"Algorithm\": \"Linear Learner\", \"Host\": \"algo-1\", \"Operation\": \"training\", \"epoch\": 9, \"model\": 8}, \"Metrics\": {\"train_absolute_loss_objective\": {\"sum\": 0.7276613235473632, \"count\": 1, \"min\": 0.7276613235473632, \"max\": 0.7276613235473632}}}\u001b[0m\n",
      "\u001b[34m#metrics {\"StartTime\": 1681738420.8880873, \"EndTime\": 1681738420.8881035, \"Dimensions\": {\"Algorithm\": \"Linear Learner\", \"Host\": \"algo-1\", \"Operation\": \"training\", \"epoch\": 9, \"model\": 9}, \"Metrics\": {\"train_absolute_loss_objective\": {\"sum\": 0.6565775012969971, \"count\": 1, \"min\": 0.6565775012969971, \"max\": 0.6565775012969971}}}\u001b[0m\n",
      "\u001b[34m#metrics {\"StartTime\": 1681738420.8881414, \"EndTime\": 1681738420.8881562, \"Dimensions\": {\"Algorithm\": \"Linear Learner\", \"Host\": \"algo-1\", \"Operation\": \"training\", \"epoch\": 9, \"model\": 10}, \"Metrics\": {\"train_absolute_loss_objective\": {\"sum\": 0.6669389629364013, \"count\": 1, \"min\": 0.6669389629364013, \"max\": 0.6669389629364013}}}\u001b[0m\n",
      "\u001b[34m#metrics {\"StartTime\": 1681738420.8882077, \"EndTime\": 1681738420.888223, \"Dimensions\": {\"Algorithm\": \"Linear Learner\", \"Host\": \"algo-1\", \"Operation\": \"training\", \"epoch\": 9, \"model\": 11}, \"Metrics\": {\"train_absolute_loss_objective\": {\"sum\": 0.6484219264984131, \"count\": 1, \"min\": 0.6484219264984131, \"max\": 0.6484219264984131}}}\u001b[0m\n",
      "\u001b[34m#metrics {\"StartTime\": 1681738420.88827, \"EndTime\": 1681738420.8882847, \"Dimensions\": {\"Algorithm\": \"Linear Learner\", \"Host\": \"algo-1\", \"Operation\": \"training\", \"epoch\": 9, \"model\": 12}, \"Metrics\": {\"train_absolute_loss_objective\": {\"sum\": 0.25760890245437623, \"count\": 1, \"min\": 0.25760890245437623, \"max\": 0.25760890245437623}}}\u001b[0m\n",
      "\u001b[34m#metrics {\"StartTime\": 1681738420.8883348, \"EndTime\": 1681738420.88835, \"Dimensions\": {\"Algorithm\": \"Linear Learner\", \"Host\": \"algo-1\", \"Operation\": \"training\", \"epoch\": 9, \"model\": 13}, \"Metrics\": {\"train_absolute_loss_objective\": {\"sum\": 0.2268003988265991, \"count\": 1, \"min\": 0.2268003988265991, \"max\": 0.2268003988265991}}}\u001b[0m\n",
      "\u001b[34m#metrics {\"StartTime\": 1681738420.8884063, \"EndTime\": 1681738420.888423, \"Dimensions\": {\"Algorithm\": \"Linear Learner\", \"Host\": \"algo-1\", \"Operation\": \"training\", \"epoch\": 9, \"model\": 14}, \"Metrics\": {\"train_absolute_loss_objective\": {\"sum\": 0.2574964952468872, \"count\": 1, \"min\": 0.2574964952468872, \"max\": 0.2574964952468872}}}\u001b[0m\n",
      "\u001b[34m#metrics {\"StartTime\": 1681738420.8884642, \"EndTime\": 1681738420.8884797, \"Dimensions\": {\"Algorithm\": \"Linear Learner\", \"Host\": \"algo-1\", \"Operation\": \"training\", \"epoch\": 9, \"model\": 15}, \"Metrics\": {\"train_absolute_loss_objective\": {\"sum\": 0.23608736038208009, \"count\": 1, \"min\": 0.23608736038208009, \"max\": 0.23608736038208009}}}\u001b[0m\n",
      "\u001b[34m#metrics {\"StartTime\": 1681738420.8885286, \"EndTime\": 1681738420.888543, \"Dimensions\": {\"Algorithm\": \"Linear Learner\", \"Host\": \"algo-1\", \"Operation\": \"training\", \"epoch\": 9, \"model\": 16}, \"Metrics\": {\"train_absolute_loss_objective\": {\"sum\": 0.6436978816986084, \"count\": 1, \"min\": 0.6436978816986084, \"max\": 0.6436978816986084}}}\u001b[0m\n",
      "\u001b[34m#metrics {\"StartTime\": 1681738420.88859, \"EndTime\": 1681738420.8886056, \"Dimensions\": {\"Algorithm\": \"Linear Learner\", \"Host\": \"algo-1\", \"Operation\": \"training\", \"epoch\": 9, \"model\": 17}, \"Metrics\": {\"train_absolute_loss_objective\": {\"sum\": 0.6909773063659668, \"count\": 1, \"min\": 0.6909773063659668, \"max\": 0.6909773063659668}}}\u001b[0m\n",
      "\u001b[34m#metrics {\"StartTime\": 1681738420.8886435, \"EndTime\": 1681738420.8886578, \"Dimensions\": {\"Algorithm\": \"Linear Learner\", \"Host\": \"algo-1\", \"Operation\": \"training\", \"epoch\": 9, \"model\": 18}, \"Metrics\": {\"train_absolute_loss_objective\": {\"sum\": 0.670397253036499, \"count\": 1, \"min\": 0.670397253036499, \"max\": 0.670397253036499}}}\u001b[0m\n",
      "\u001b[34m#metrics {\"StartTime\": 1681738420.8887048, \"EndTime\": 1681738420.888719, \"Dimensions\": {\"Algorithm\": \"Linear Learner\", \"Host\": \"algo-1\", \"Operation\": \"training\", \"epoch\": 9, \"model\": 19}, \"Metrics\": {\"train_absolute_loss_objective\": {\"sum\": 0.6644256973266601, \"count\": 1, \"min\": 0.6644256973266601, \"max\": 0.6644256973266601}}}\u001b[0m\n",
      "\u001b[34m#metrics {\"StartTime\": 1681738420.888768, \"EndTime\": 1681738420.8887835, \"Dimensions\": {\"Algorithm\": \"Linear Learner\", \"Host\": \"algo-1\", \"Operation\": \"training\", \"epoch\": 9, \"model\": 20}, \"Metrics\": {\"train_absolute_loss_objective\": {\"sum\": 0.263829140663147, \"count\": 1, \"min\": 0.263829140663147, \"max\": 0.263829140663147}}}\u001b[0m\n",
      "\u001b[34m#metrics {\"StartTime\": 1681738420.8888364, \"EndTime\": 1681738420.8888526, \"Dimensions\": {\"Algorithm\": \"Linear Learner\", \"Host\": \"algo-1\", \"Operation\": \"training\", \"epoch\": 9, \"model\": 21}, \"Metrics\": {\"train_absolute_loss_objective\": {\"sum\": 0.36032560348510745, \"count\": 1, \"min\": 0.36032560348510745, \"max\": 0.36032560348510745}}}\u001b[0m\n",
      "\u001b[34m#metrics {\"StartTime\": 1681738420.8889124, \"EndTime\": 1681738420.8889294, \"Dimensions\": {\"Algorithm\": \"Linear Learner\", \"Host\": \"algo-1\", \"Operation\": \"training\", \"epoch\": 9, \"model\": 22}, \"Metrics\": {\"train_absolute_loss_objective\": {\"sum\": 0.27775246143341065, \"count\": 1, \"min\": 0.27775246143341065, \"max\": 0.27775246143341065}}}\u001b[0m\n",
      "\u001b[34m#metrics {\"StartTime\": 1681738420.8890336, \"EndTime\": 1681738420.8890514, \"Dimensions\": {\"Algorithm\": \"Linear Learner\", \"Host\": \"algo-1\", \"Operation\": \"training\", \"epoch\": 9, \"model\": 23}, \"Metrics\": {\"train_absolute_loss_objective\": {\"sum\": 0.3323066854476929, \"count\": 1, \"min\": 0.3323066854476929, \"max\": 0.3323066854476929}}}\u001b[0m\n",
      "\u001b[34m#metrics {\"StartTime\": 1681738420.8891125, \"EndTime\": 1681738420.889125, \"Dimensions\": {\"Algorithm\": \"Linear Learner\", \"Host\": \"algo-1\", \"Operation\": \"training\", \"epoch\": 9, \"model\": 24}, \"Metrics\": {\"train_absolute_loss_objective\": {\"sum\": 0.8649582481384277, \"count\": 1, \"min\": 0.8649582481384277, \"max\": 0.8649582481384277}}}\u001b[0m\n",
      "\u001b[34m#metrics {\"StartTime\": 1681738420.889161, \"EndTime\": 1681738420.889176, \"Dimensions\": {\"Algorithm\": \"Linear Learner\", \"Host\": \"algo-1\", \"Operation\": \"training\", \"epoch\": 9, \"model\": 25}, \"Metrics\": {\"train_absolute_loss_objective\": {\"sum\": 0.8665215682983398, \"count\": 1, \"min\": 0.8665215682983398, \"max\": 0.8665215682983398}}}\u001b[0m\n",
      "\u001b[34m#metrics {\"StartTime\": 1681738420.8892329, \"EndTime\": 1681738420.8892486, \"Dimensions\": {\"Algorithm\": \"Linear Learner\", \"Host\": \"algo-1\", \"Operation\": \"training\", \"epoch\": 9, \"model\": 26}, \"Metrics\": {\"train_absolute_loss_objective\": {\"sum\": 0.8691738700866699, \"count\": 1, \"min\": 0.8691738700866699, \"max\": 0.8691738700866699}}}\u001b[0m\n",
      "\u001b[34m#metrics {\"StartTime\": 1681738420.889297, \"EndTime\": 1681738420.889313, \"Dimensions\": {\"Algorithm\": \"Linear Learner\", \"Host\": \"algo-1\", \"Operation\": \"training\", \"epoch\": 9, \"model\": 27}, \"Metrics\": {\"train_absolute_loss_objective\": {\"sum\": 0.8686432933807373, \"count\": 1, \"min\": 0.8686432933807373, \"max\": 0.8686432933807373}}}\u001b[0m\n",
      "\u001b[34m#metrics {\"StartTime\": 1681738420.8893561, \"EndTime\": 1681738420.8893692, \"Dimensions\": {\"Algorithm\": \"Linear Learner\", \"Host\": \"algo-1\", \"Operation\": \"training\", \"epoch\": 9, \"model\": 28}, \"Metrics\": {\"train_absolute_loss_objective\": {\"sum\": 0.9698831748962402, \"count\": 1, \"min\": 0.9698831748962402, \"max\": 0.9698831748962402}}}\u001b[0m\n",
      "\u001b[34m#metrics {\"StartTime\": 1681738420.889418, \"EndTime\": 1681738420.8894331, \"Dimensions\": {\"Algorithm\": \"Linear Learner\", \"Host\": \"algo-1\", \"Operation\": \"training\", \"epoch\": 9, \"model\": 29}, \"Metrics\": {\"train_absolute_loss_objective\": {\"sum\": 0.9749885845184326, \"count\": 1, \"min\": 0.9749885845184326, \"max\": 0.9749885845184326}}}\u001b[0m\n",
      "\u001b[34m#metrics {\"StartTime\": 1681738420.889493, \"EndTime\": 1681738420.8895104, \"Dimensions\": {\"Algorithm\": \"Linear Learner\", \"Host\": \"algo-1\", \"Operation\": \"training\", \"epoch\": 9, \"model\": 30}, \"Metrics\": {\"train_absolute_loss_objective\": {\"sum\": 0.9276444435119628, \"count\": 1, \"min\": 0.9276444435119628, \"max\": 0.9276444435119628}}}\u001b[0m\n",
      "\u001b[34m#metrics {\"StartTime\": 1681738420.8895614, \"EndTime\": 1681738420.8895783, \"Dimensions\": {\"Algorithm\": \"Linear Learner\", \"Host\": \"algo-1\", \"Operation\": \"training\", \"epoch\": 9, \"model\": 31}, \"Metrics\": {\"train_absolute_loss_objective\": {\"sum\": 0.9715300941467285, \"count\": 1, \"min\": 0.9715300941467285, \"max\": 0.9715300941467285}}}\u001b[0m\n",
      "\u001b[34m[04/17/2023 13:33:40 INFO 139915702728512] #quality_metric: host=algo-1, epoch=9, train absolute_loss_objective <loss>=0.67223464012146\u001b[0m\n",
      "\u001b[34m[04/17/2023 13:33:40 INFO 139915702728512] #early_stopping_criteria_metric: host=algo-1, epoch=9, criteria=absolute_loss_objective, value=0.1706223499774933\u001b[0m\n",
      "\u001b[34m[04/17/2023 13:33:40 INFO 139915702728512] Saving model for epoch: 9\u001b[0m\n",
      "\u001b[34m[04/17/2023 13:33:40 INFO 139915702728512] Saved checkpoint to \"/tmp/tmpf9w1akzo/mx-mod-0000.params\"\u001b[0m\n",
      "\u001b[34m[04/17/2023 13:33:40 INFO 139915702728512] #progress_metric: host=algo-1, completed 20.0 % of epochs\u001b[0m\n",
      "\u001b[34m#metrics {\"StartTime\": 1681738420.8023188, \"EndTime\": 1681738420.8969948, \"Dimensions\": {\"Algorithm\": \"Linear Learner\", \"Host\": \"algo-1\", \"Operation\": \"training\", \"epoch\": 9, \"Meta\": \"training_data_iter\"}, \"Metrics\": {\"Total Records Seen\": {\"sum\": 291.0, \"count\": 1, \"min\": 291, \"max\": 291}, \"Total Batches Seen\": {\"sum\": 67.0, \"count\": 1, \"min\": 67, \"max\": 67}, \"Max Records Seen Between Resets\": {\"sum\": 26.0, \"count\": 1, \"min\": 26, \"max\": 26}, \"Max Batches Seen Between Resets\": {\"sum\": 6.0, \"count\": 1, \"min\": 6, \"max\": 6}, \"Reset Count\": {\"sum\": 12.0, \"count\": 1, \"min\": 12, \"max\": 12}, \"Number of Records Since Last Reset\": {\"sum\": 26.0, \"count\": 1, \"min\": 26, \"max\": 26}, \"Number of Batches Since Last Reset\": {\"sum\": 6.0, \"count\": 1, \"min\": 6, \"max\": 6}}}\u001b[0m\n",
      "\u001b[34m[04/17/2023 13:33:40 INFO 139915702728512] #throughput_metric: host=algo-1, train throughput=274.3078382001897 records/second\u001b[0m\n",
      "\u001b[34m[2023-04-17 13:33:40.984] [tensorio] [info] epoch_stats={\"data_pipeline\": \"/opt/ml/input/data/train\", \"epoch\": 24, \"duration\": 87, \"num_examples\": 6, \"num_bytes\": 1248}\u001b[0m\n",
      "\u001b[34m#metrics {\"StartTime\": 1681738420.9846919, \"EndTime\": 1681738420.9847643, \"Dimensions\": {\"Algorithm\": \"Linear Learner\", \"Host\": \"algo-1\", \"Operation\": \"training\", \"epoch\": 10, \"model\": 0}, \"Metrics\": {\"train_absolute_loss_objective\": {\"sum\": 0.6510060024261475, \"count\": 1, \"min\": 0.6510060024261475, \"max\": 0.6510060024261475}}}\u001b[0m\n",
      "\u001b[34m#metrics {\"StartTime\": 1681738420.9848416, \"EndTime\": 1681738420.9848597, \"Dimensions\": {\"Algorithm\": \"Linear Learner\", \"Host\": \"algo-1\", \"Operation\": \"training\", \"epoch\": 10, \"model\": 1}, \"Metrics\": {\"train_absolute_loss_objective\": {\"sum\": 0.6663945579528808, \"count\": 1, \"min\": 0.6663945579528808, \"max\": 0.6663945579528808}}}\u001b[0m\n",
      "\u001b[34m#metrics {\"StartTime\": 1681738420.9849133, \"EndTime\": 1681738420.9849305, \"Dimensions\": {\"Algorithm\": \"Linear Learner\", \"Host\": \"algo-1\", \"Operation\": \"training\", \"epoch\": 10, \"model\": 2}, \"Metrics\": {\"train_absolute_loss_objective\": {\"sum\": 0.6534355640411377, \"count\": 1, \"min\": 0.6534355640411377, \"max\": 0.6534355640411377}}}\u001b[0m\n",
      "\u001b[34m#metrics {\"StartTime\": 1681738420.984988, \"EndTime\": 1681738420.985005, \"Dimensions\": {\"Algorithm\": \"Linear Learner\", \"Host\": \"algo-1\", \"Operation\": \"training\", \"epoch\": 10, \"model\": 3}, \"Metrics\": {\"train_absolute_loss_objective\": {\"sum\": 0.6653696346282959, \"count\": 1, \"min\": 0.6653696346282959, \"max\": 0.6653696346282959}}}\u001b[0m\n",
      "\u001b[34m#metrics {\"StartTime\": 1681738420.9850674, \"EndTime\": 1681738420.9850852, \"Dimensions\": {\"Algorithm\": \"Linear Learner\", \"Host\": \"algo-1\", \"Operation\": \"training\", \"epoch\": 10, \"model\": 4}, \"Metrics\": {\"train_absolute_loss_objective\": {\"sum\": 0.1805670976638794, \"count\": 1, \"min\": 0.1805670976638794, \"max\": 0.1805670976638794}}}\u001b[0m\n",
      "\u001b[34m#metrics {\"StartTime\": 1681738420.985144, \"EndTime\": 1681738420.9851613, \"Dimensions\": {\"Algorithm\": \"Linear Learner\", \"Host\": \"algo-1\", \"Operation\": \"training\", \"epoch\": 10, \"model\": 5}, \"Metrics\": {\"train_absolute_loss_objective\": {\"sum\": 0.19603512525558472, \"count\": 1, \"min\": 0.19603512525558472, \"max\": 0.19603512525558472}}}\u001b[0m\n",
      "\u001b[34m#metrics {\"StartTime\": 1681738420.9852169, \"EndTime\": 1681738420.9852324, \"Dimensions\": {\"Algorithm\": \"Linear Learner\", \"Host\": \"algo-1\", \"Operation\": \"training\", \"epoch\": 10, \"model\": 6}, \"Metrics\": {\"train_absolute_loss_objective\": {\"sum\": 0.22226127624511718, \"count\": 1, \"min\": 0.22226127624511718, \"max\": 0.22226127624511718}}}\u001b[0m\n",
      "\u001b[34m#metrics {\"StartTime\": 1681738420.9852862, \"EndTime\": 1681738420.985303, \"Dimensions\": {\"Algorithm\": \"Linear Learner\", \"Host\": \"algo-1\", \"Operation\": \"training\", \"epoch\": 10, \"model\": 7}, \"Metrics\": {\"train_absolute_loss_objective\": {\"sum\": 0.20311029195785524, \"count\": 1, \"min\": 0.20311029195785524, \"max\": 0.20311029195785524}}}\u001b[0m\n",
      "\u001b[34m#metrics {\"StartTime\": 1681738420.9853623, \"EndTime\": 1681738420.9853802, \"Dimensions\": {\"Algorithm\": \"Linear Learner\", \"Host\": \"algo-1\", \"Operation\": \"training\", \"epoch\": 10, \"model\": 8}, \"Metrics\": {\"train_absolute_loss_objective\": {\"sum\": 0.7077539634704589, \"count\": 1, \"min\": 0.7077539634704589, \"max\": 0.7077539634704589}}}\u001b[0m\n",
      "\u001b[34m#metrics {\"StartTime\": 1681738420.9854395, \"EndTime\": 1681738420.985456, \"Dimensions\": {\"Algorithm\": \"Linear Learner\", \"Host\": \"algo-1\", \"Operation\": \"training\", \"epoch\": 10, \"model\": 9}, \"Metrics\": {\"train_absolute_loss_objective\": {\"sum\": 0.6344838380813599, \"count\": 1, \"min\": 0.6344838380813599, \"max\": 0.6344838380813599}}}\u001b[0m\n",
      "\u001b[34m#metrics {\"StartTime\": 1681738420.9855096, \"EndTime\": 1681738420.9855266, \"Dimensions\": {\"Algorithm\": \"Linear Learner\", \"Host\": \"algo-1\", \"Operation\": \"training\", \"epoch\": 10, \"model\": 10}, \"Metrics\": {\"train_absolute_loss_objective\": {\"sum\": 0.64571702003479, \"count\": 1, \"min\": 0.64571702003479, \"max\": 0.64571702003479}}}\u001b[0m\n",
      "\u001b[34m#metrics {\"StartTime\": 1681738420.9855874, \"EndTime\": 1681738420.9856048, \"Dimensions\": {\"Algorithm\": \"Linear Learner\", \"Host\": \"algo-1\", \"Operation\": \"training\", \"epoch\": 10, \"model\": 11}, \"Metrics\": {\"train_absolute_loss_objective\": {\"sum\": 0.6263282871246338, \"count\": 1, \"min\": 0.6263282871246338, \"max\": 0.6263282871246338}}}\u001b[0m\n",
      "\u001b[34m#metrics {\"StartTime\": 1681738420.9856603, \"EndTime\": 1681738420.9856768, \"Dimensions\": {\"Algorithm\": \"Linear Learner\", \"Host\": \"algo-1\", \"Operation\": \"training\", \"epoch\": 10, \"model\": 12}, \"Metrics\": {\"train_absolute_loss_objective\": {\"sum\": 0.2677694082260132, \"count\": 1, \"min\": 0.2677694082260132, \"max\": 0.2677694082260132}}}\u001b[0m\n",
      "\u001b[34m#metrics {\"StartTime\": 1681738420.98573, \"EndTime\": 1681738420.985746, \"Dimensions\": {\"Algorithm\": \"Linear Learner\", \"Host\": \"algo-1\", \"Operation\": \"training\", \"epoch\": 10, \"model\": 13}, \"Metrics\": {\"train_absolute_loss_objective\": {\"sum\": 0.16380371332168578, \"count\": 1, \"min\": 0.16380371332168578, \"max\": 0.16380371332168578}}}\u001b[0m\n",
      "\u001b[34m#metrics {\"StartTime\": 1681738420.985806, \"EndTime\": 1681738420.985823, \"Dimensions\": {\"Algorithm\": \"Linear Learner\", \"Host\": \"algo-1\", \"Operation\": \"training\", \"epoch\": 10, \"model\": 14}, \"Metrics\": {\"train_absolute_loss_objective\": {\"sum\": 0.2677757978439331, \"count\": 1, \"min\": 0.2677757978439331, \"max\": 0.2677757978439331}}}\u001b[0m\n",
      "\u001b[34m#metrics {\"StartTime\": 1681738420.9858778, \"EndTime\": 1681738420.9858937, \"Dimensions\": {\"Algorithm\": \"Linear Learner\", \"Host\": \"algo-1\", \"Operation\": \"training\", \"epoch\": 10, \"model\": 15}, \"Metrics\": {\"train_absolute_loss_objective\": {\"sum\": 0.19919326782226562, \"count\": 1, \"min\": 0.19919326782226562, \"max\": 0.19919326782226562}}}\u001b[0m\n",
      "\u001b[34m#metrics {\"StartTime\": 1681738420.9859478, \"EndTime\": 1681738420.9859633, \"Dimensions\": {\"Algorithm\": \"Linear Learner\", \"Host\": \"algo-1\", \"Operation\": \"training\", \"epoch\": 10, \"model\": 16}, \"Metrics\": {\"train_absolute_loss_objective\": {\"sum\": 0.6247054147720337, \"count\": 1, \"min\": 0.6247054147720337, \"max\": 0.6247054147720337}}}\u001b[0m\n",
      "\u001b[34m#metrics {\"StartTime\": 1681738420.9860165, \"EndTime\": 1681738420.9860327, \"Dimensions\": {\"Algorithm\": \"Linear Learner\", \"Host\": \"algo-1\", \"Operation\": \"training\", \"epoch\": 10, \"model\": 17}, \"Metrics\": {\"train_absolute_loss_objective\": {\"sum\": 0.6709920310974121, \"count\": 1, \"min\": 0.6709920310974121, \"max\": 0.6709920310974121}}}\u001b[0m\n",
      "\u001b[34m#metrics {\"StartTime\": 1681738420.986089, \"EndTime\": 1681738420.986106, \"Dimensions\": {\"Algorithm\": \"Linear Learner\", \"Host\": \"algo-1\", \"Operation\": \"training\", \"epoch\": 10, \"model\": 18}, \"Metrics\": {\"train_absolute_loss_objective\": {\"sum\": 0.6513447380065918, \"count\": 1, \"min\": 0.6513447380065918, \"max\": 0.6513447380065918}}}\u001b[0m\n",
      "\u001b[34m#metrics {\"StartTime\": 1681738420.98616, \"EndTime\": 1681738420.986176, \"Dimensions\": {\"Algorithm\": \"Linear Learner\", \"Host\": \"algo-1\", \"Operation\": \"training\", \"epoch\": 10, \"model\": 19}, \"Metrics\": {\"train_absolute_loss_objective\": {\"sum\": 0.6444983386993408, \"count\": 1, \"min\": 0.6444983386993408, \"max\": 0.6444983386993408}}}\u001b[0m\n",
      "\u001b[34m#metrics {\"StartTime\": 1681738420.9862287, \"EndTime\": 1681738420.9862442, \"Dimensions\": {\"Algorithm\": \"Linear Learner\", \"Host\": \"algo-1\", \"Operation\": \"training\", \"epoch\": 10, \"model\": 20}, \"Metrics\": {\"train_absolute_loss_objective\": {\"sum\": 0.2948219108581543, \"count\": 1, \"min\": 0.2948219108581543, \"max\": 0.2948219108581543}}}\u001b[0m\n",
      "\u001b[34m#metrics {\"StartTime\": 1681738420.9862974, \"EndTime\": 1681738420.9863126, \"Dimensions\": {\"Algorithm\": \"Linear Learner\", \"Host\": \"algo-1\", \"Operation\": \"training\", \"epoch\": 10, \"model\": 21}, \"Metrics\": {\"train_absolute_loss_objective\": {\"sum\": 0.33891881704330445, \"count\": 1, \"min\": 0.33891881704330445, \"max\": 0.33891881704330445}}}\u001b[0m\n",
      "\u001b[34m#metrics {\"StartTime\": 1681738420.9863648, \"EndTime\": 1681738420.9863803, \"Dimensions\": {\"Algorithm\": \"Linear Learner\", \"Host\": \"algo-1\", \"Operation\": \"training\", \"epoch\": 10, \"model\": 22}, \"Metrics\": {\"train_absolute_loss_objective\": {\"sum\": 0.23444027185440064, \"count\": 1, \"min\": 0.23444027185440064, \"max\": 0.23444027185440064}}}\u001b[0m\n",
      "\u001b[34m#metrics {\"StartTime\": 1681738420.986418, \"EndTime\": 1681738420.986432, \"Dimensions\": {\"Algorithm\": \"Linear Learner\", \"Host\": \"algo-1\", \"Operation\": \"training\", \"epoch\": 10, \"model\": 23}, \"Metrics\": {\"train_absolute_loss_objective\": {\"sum\": 0.31934735298156736, \"count\": 1, \"min\": 0.31934735298156736, \"max\": 0.31934735298156736}}}\u001b[0m\n",
      "\u001b[34m#metrics {\"StartTime\": 1681738420.986526, \"EndTime\": 1681738420.9865444, \"Dimensions\": {\"Algorithm\": \"Linear Learner\", \"Host\": \"algo-1\", \"Operation\": \"training\", \"epoch\": 10, \"model\": 24}, \"Metrics\": {\"train_absolute_loss_objective\": {\"sum\": 0.8677054691314697, \"count\": 1, \"min\": 0.8677054691314697, \"max\": 0.8677054691314697}}}\u001b[0m\n",
      "\u001b[34m#metrics {\"StartTime\": 1681738420.9865992, \"EndTime\": 1681738420.9866319, \"Dimensions\": {\"Algorithm\": \"Linear Learner\", \"Host\": \"algo-1\", \"Operation\": \"training\", \"epoch\": 10, \"model\": 25}, \"Metrics\": {\"train_absolute_loss_objective\": {\"sum\": 0.8670629024505615, \"count\": 1, \"min\": 0.8670629024505615, \"max\": 0.8670629024505615}}}\u001b[0m\n",
      "\u001b[34m#metrics {\"StartTime\": 1681738420.9866889, \"EndTime\": 1681738420.9867048, \"Dimensions\": {\"Algorithm\": \"Linear Learner\", \"Host\": \"algo-1\", \"Operation\": \"training\", \"epoch\": 10, \"model\": 26}, \"Metrics\": {\"train_absolute_loss_objective\": {\"sum\": 0.8696164512634277, \"count\": 1, \"min\": 0.8696164512634277, \"max\": 0.8696164512634277}}}\u001b[0m\n",
      "\u001b[34m#metrics {\"StartTime\": 1681738420.9867673, \"EndTime\": 1681738420.986785, \"Dimensions\": {\"Algorithm\": \"Linear Learner\", \"Host\": \"algo-1\", \"Operation\": \"training\", \"epoch\": 10, \"model\": 27}, \"Metrics\": {\"train_absolute_loss_objective\": {\"sum\": 0.8689067459106445, \"count\": 1, \"min\": 0.8689067459106445, \"max\": 0.8689067459106445}}}\u001b[0m\n",
      "\u001b[34m#metrics {\"StartTime\": 1681738420.9868417, \"EndTime\": 1681738420.9868522, \"Dimensions\": {\"Algorithm\": \"Linear Learner\", \"Host\": \"algo-1\", \"Operation\": \"training\", \"epoch\": 10, \"model\": 28}, \"Metrics\": {\"train_absolute_loss_objective\": {\"sum\": 0.923967514038086, \"count\": 1, \"min\": 0.923967514038086, \"max\": 0.923967514038086}}}\u001b[0m\n",
      "\u001b[34m#metrics {\"StartTime\": 1681738420.9869106, \"EndTime\": 1681738420.986926, \"Dimensions\": {\"Algorithm\": \"Linear Learner\", \"Host\": \"algo-1\", \"Operation\": \"training\", \"epoch\": 10, \"model\": 29}, \"Metrics\": {\"train_absolute_loss_objective\": {\"sum\": 0.9263940334320069, \"count\": 1, \"min\": 0.9263940334320069, \"max\": 0.9263940334320069}}}\u001b[0m\n",
      "\u001b[34m#metrics {\"StartTime\": 1681738420.986979, \"EndTime\": 1681738420.9869945, \"Dimensions\": {\"Algorithm\": \"Linear Learner\", \"Host\": \"algo-1\", \"Operation\": \"training\", \"epoch\": 10, \"model\": 30}, \"Metrics\": {\"train_absolute_loss_objective\": {\"sum\": 0.8896031761169434, \"count\": 1, \"min\": 0.8896031761169434, \"max\": 0.8896031761169434}}}\u001b[0m\n",
      "\u001b[34m#metrics {\"StartTime\": 1681738420.9870543, \"EndTime\": 1681738420.9870715, \"Dimensions\": {\"Algorithm\": \"Linear Learner\", \"Host\": \"algo-1\", \"Operation\": \"training\", \"epoch\": 10, \"model\": 31}, \"Metrics\": {\"train_absolute_loss_objective\": {\"sum\": 0.9308791923522949, \"count\": 1, \"min\": 0.9308791923522949, \"max\": 0.9308791923522949}}}\u001b[0m\n",
      "\u001b[34m[04/17/2023 13:33:40 INFO 139915702728512] #quality_metric: host=algo-1, epoch=10, train absolute_loss_objective <loss>=0.6510060024261475\u001b[0m\n",
      "\u001b[34m[04/17/2023 13:33:40 INFO 139915702728512] #early_stopping_criteria_metric: host=algo-1, epoch=10, criteria=absolute_loss_objective, value=0.16380371332168578\u001b[0m\n",
      "\u001b[34m[04/17/2023 13:33:40 INFO 139915702728512] Saving model for epoch: 10\u001b[0m\n",
      "\u001b[34m[04/17/2023 13:33:40 INFO 139915702728512] Saved checkpoint to \"/tmp/tmp9i4euaee/mx-mod-0000.params\"\u001b[0m\n",
      "\u001b[34m[04/17/2023 13:33:40 INFO 139915702728512] #progress_metric: host=algo-1, completed 22.0 % of epochs\u001b[0m\n",
      "\u001b[34m#metrics {\"StartTime\": 1681738420.8972485, \"EndTime\": 1681738420.9939303, \"Dimensions\": {\"Algorithm\": \"Linear Learner\", \"Host\": \"algo-1\", \"Operation\": \"training\", \"epoch\": 10, \"Meta\": \"training_data_iter\"}, \"Metrics\": {\"Total Records Seen\": {\"sum\": 317.0, \"count\": 1, \"min\": 317, \"max\": 317}, \"Total Batches Seen\": {\"sum\": 73.0, \"count\": 1, \"min\": 73, \"max\": 73}, \"Max Records Seen Between Resets\": {\"sum\": 26.0, \"count\": 1, \"min\": 26, \"max\": 26}, \"Max Batches Seen Between Resets\": {\"sum\": 6.0, \"count\": 1, \"min\": 6, \"max\": 6}, \"Reset Count\": {\"sum\": 13.0, \"count\": 1, \"min\": 13, \"max\": 13}, \"Number of Records Since Last Reset\": {\"sum\": 26.0, \"count\": 1, \"min\": 26, \"max\": 26}, \"Number of Batches Since Last Reset\": {\"sum\": 6.0, \"count\": 1, \"min\": 6, \"max\": 6}}}\u001b[0m\n",
      "\u001b[34m[04/17/2023 13:33:40 INFO 139915702728512] #throughput_metric: host=algo-1, train throughput=268.54717162339534 records/second\u001b[0m\n",
      "\u001b[34m[2023-04-17 13:33:41.084] [tensorio] [info] epoch_stats={\"data_pipeline\": \"/opt/ml/input/data/train\", \"epoch\": 26, \"duration\": 90, \"num_examples\": 6, \"num_bytes\": 1248}\u001b[0m\n",
      "\u001b[34m#metrics {\"StartTime\": 1681738421.084764, \"EndTime\": 1681738421.0848353, \"Dimensions\": {\"Algorithm\": \"Linear Learner\", \"Host\": \"algo-1\", \"Operation\": \"training\", \"epoch\": 11, \"model\": 0}, \"Metrics\": {\"train_absolute_loss_objective\": {\"sum\": 0.6313330554962158, \"count\": 1, \"min\": 0.6313330554962158, \"max\": 0.6313330554962158}}}\u001b[0m\n",
      "\u001b[34m#metrics {\"StartTime\": 1681738421.0849109, \"EndTime\": 1681738421.0849307, \"Dimensions\": {\"Algorithm\": \"Linear Learner\", \"Host\": \"algo-1\", \"Operation\": \"training\", \"epoch\": 11, \"model\": 1}, \"Metrics\": {\"train_absolute_loss_objective\": {\"sum\": 0.6457551288604736, \"count\": 1, \"min\": 0.6457551288604736, \"max\": 0.6457551288604736}}}\u001b[0m\n",
      "\u001b[34m#metrics {\"StartTime\": 1681738421.0849853, \"EndTime\": 1681738421.0850024, \"Dimensions\": {\"Algorithm\": \"Linear Learner\", \"Host\": \"algo-1\", \"Operation\": \"training\", \"epoch\": 11, \"model\": 2}, \"Metrics\": {\"train_absolute_loss_objective\": {\"sum\": 0.6337572288513184, \"count\": 1, \"min\": 0.6337572288513184, \"max\": 0.6337572288513184}}}\u001b[0m\n",
      "\u001b[34m#metrics {\"StartTime\": 1681738421.0850596, \"EndTime\": 1681738421.085077, \"Dimensions\": {\"Algorithm\": \"Linear Learner\", \"Host\": \"algo-1\", \"Operation\": \"training\", \"epoch\": 11, \"model\": 3}, \"Metrics\": {\"train_absolute_loss_objective\": {\"sum\": 0.6447324657440185, \"count\": 1, \"min\": 0.6447324657440185, \"max\": 0.6447324657440185}}}\u001b[0m\n",
      "\u001b[34m#metrics {\"StartTime\": 1681738421.0851283, \"EndTime\": 1681738421.0851443, \"Dimensions\": {\"Algorithm\": \"Linear Learner\", \"Host\": \"algo-1\", \"Operation\": \"training\", \"epoch\": 11, \"model\": 4}, \"Metrics\": {\"train_absolute_loss_objective\": {\"sum\": 0.15670674920082092, \"count\": 1, \"min\": 0.15670674920082092, \"max\": 0.15670674920082092}}}\u001b[0m\n",
      "\u001b[34m#metrics {\"StartTime\": 1681738421.0852067, \"EndTime\": 1681738421.0852234, \"Dimensions\": {\"Algorithm\": \"Linear Learner\", \"Host\": \"algo-1\", \"Operation\": \"training\", \"epoch\": 11, \"model\": 5}, \"Metrics\": {\"train_absolute_loss_objective\": {\"sum\": 0.20318011522293092, \"count\": 1, \"min\": 0.20318011522293092, \"max\": 0.20318011522293092}}}\u001b[0m\n",
      "\u001b[34m#metrics {\"StartTime\": 1681738421.0852742, \"EndTime\": 1681738421.0852904, \"Dimensions\": {\"Algorithm\": \"Linear Learner\", \"Host\": \"algo-1\", \"Operation\": \"training\", \"epoch\": 11, \"model\": 6}, \"Metrics\": {\"train_absolute_loss_objective\": {\"sum\": 0.24998585939407347, \"count\": 1, \"min\": 0.24998585939407347, \"max\": 0.24998585939407347}}}\u001b[0m\n",
      "\u001b[34m#metrics {\"StartTime\": 1681738421.0853548, \"EndTime\": 1681738421.0853708, \"Dimensions\": {\"Algorithm\": \"Linear Learner\", \"Host\": \"algo-1\", \"Operation\": \"training\", \"epoch\": 11, \"model\": 7}, \"Metrics\": {\"train_absolute_loss_objective\": {\"sum\": 0.1565451717376709, \"count\": 1, \"min\": 0.1565451717376709, \"max\": 0.1565451717376709}}}\u001b[0m\n",
      "\u001b[34m#metrics {\"StartTime\": 1681738421.0854254, \"EndTime\": 1681738421.0854433, \"Dimensions\": {\"Algorithm\": \"Linear Learner\", \"Host\": \"algo-1\", \"Operation\": \"training\", \"epoch\": 11, \"model\": 8}, \"Metrics\": {\"train_absolute_loss_objective\": {\"sum\": 0.6876915264129638, \"count\": 1, \"min\": 0.6876915264129638, \"max\": 0.6876915264129638}}}\u001b[0m\n",
      "\u001b[34m#metrics {\"StartTime\": 1681738421.085499, \"EndTime\": 1681738421.085516, \"Dimensions\": {\"Algorithm\": \"Linear Learner\", \"Host\": \"algo-1\", \"Operation\": \"training\", \"epoch\": 11, \"model\": 9}, \"Metrics\": {\"train_absolute_loss_objective\": {\"sum\": 0.6131160879135131, \"count\": 1, \"min\": 0.6131160879135131, \"max\": 0.6131160879135131}}}\u001b[0m\n",
      "\u001b[34m#metrics {\"StartTime\": 1681738421.0855703, \"EndTime\": 1681738421.0855877, \"Dimensions\": {\"Algorithm\": \"Linear Learner\", \"Host\": \"algo-1\", \"Operation\": \"training\", \"epoch\": 11, \"model\": 10}, \"Metrics\": {\"train_absolute_loss_objective\": {\"sum\": 0.6260767745971679, \"count\": 1, \"min\": 0.6260767745971679, \"max\": 0.6260767745971679}}}\u001b[0m\n",
      "\u001b[34m#metrics {\"StartTime\": 1681738421.0856423, \"EndTime\": 1681738421.0856583, \"Dimensions\": {\"Algorithm\": \"Linear Learner\", \"Host\": \"algo-1\", \"Operation\": \"training\", \"epoch\": 11, \"model\": 11}, \"Metrics\": {\"train_absolute_loss_objective\": {\"sum\": 0.6049425172805786, \"count\": 1, \"min\": 0.6049425172805786, \"max\": 0.6049425172805786}}}\u001b[0m\n",
      "\u001b[34m#metrics {\"StartTime\": 1681738421.0857081, \"EndTime\": 1681738421.0857232, \"Dimensions\": {\"Algorithm\": \"Linear Learner\", \"Host\": \"algo-1\", \"Operation\": \"training\", \"epoch\": 11, \"model\": 12}, \"Metrics\": {\"train_absolute_loss_objective\": {\"sum\": 0.27214534997940065, \"count\": 1, \"min\": 0.27214534997940065, \"max\": 0.27214534997940065}}}\u001b[0m\n",
      "\u001b[34m#metrics {\"StartTime\": 1681738421.0857744, \"EndTime\": 1681738421.08579, \"Dimensions\": {\"Algorithm\": \"Linear Learner\", \"Host\": \"algo-1\", \"Operation\": \"training\", \"epoch\": 11, \"model\": 13}, \"Metrics\": {\"train_absolute_loss_objective\": {\"sum\": 0.1758111047744751, \"count\": 1, \"min\": 0.1758111047744751, \"max\": 0.1758111047744751}}}\u001b[0m\n",
      "\u001b[34m#metrics {\"StartTime\": 1681738421.0858438, \"EndTime\": 1681738421.0858605, \"Dimensions\": {\"Algorithm\": \"Linear Learner\", \"Host\": \"algo-1\", \"Operation\": \"training\", \"epoch\": 11, \"model\": 14}, \"Metrics\": {\"train_absolute_loss_objective\": {\"sum\": 0.2722543525695801, \"count\": 1, \"min\": 0.2722543525695801, \"max\": 0.2722543525695801}}}\u001b[0m\n",
      "\u001b[34m#metrics {\"StartTime\": 1681738421.0859187, \"EndTime\": 1681738421.0859365, \"Dimensions\": {\"Algorithm\": \"Linear Learner\", \"Host\": \"algo-1\", \"Operation\": \"training\", \"epoch\": 11, \"model\": 15}, \"Metrics\": {\"train_absolute_loss_objective\": {\"sum\": 0.15839758157730102, \"count\": 1, \"min\": 0.15839758157730102, \"max\": 0.15839758157730102}}}\u001b[0m\n",
      "\u001b[34m#metrics {\"StartTime\": 1681738421.0859916, \"EndTime\": 1681738421.0860074, \"Dimensions\": {\"Algorithm\": \"Linear Learner\", \"Host\": \"algo-1\", \"Operation\": \"training\", \"epoch\": 11, \"model\": 16}, \"Metrics\": {\"train_absolute_loss_objective\": {\"sum\": 0.6077168273925782, \"count\": 1, \"min\": 0.6077168273925782, \"max\": 0.6077168273925782}}}\u001b[0m\n",
      "\u001b[34m#metrics {\"StartTime\": 1681738421.0860596, \"EndTime\": 1681738421.0860744, \"Dimensions\": {\"Algorithm\": \"Linear Learner\", \"Host\": \"algo-1\", \"Operation\": \"training\", \"epoch\": 11, \"model\": 17}, \"Metrics\": {\"train_absolute_loss_objective\": {\"sum\": 0.6529188537597657, \"count\": 1, \"min\": 0.6529188537597657, \"max\": 0.6529188537597657}}}\u001b[0m\n",
      "\u001b[34m#metrics {\"StartTime\": 1681738421.0861342, \"EndTime\": 1681738421.086151, \"Dimensions\": {\"Algorithm\": \"Linear Learner\", \"Host\": \"algo-1\", \"Operation\": \"training\", \"epoch\": 11, \"model\": 18}, \"Metrics\": {\"train_absolute_loss_objective\": {\"sum\": 0.6341641569137573, \"count\": 1, \"min\": 0.6341641569137573, \"max\": 0.6341641569137573}}}\u001b[0m\n",
      "\u001b[34m#metrics {\"StartTime\": 1681738421.086264, \"EndTime\": 1681738421.0862834, \"Dimensions\": {\"Algorithm\": \"Linear Learner\", \"Host\": \"algo-1\", \"Operation\": \"training\", \"epoch\": 11, \"model\": 19}, \"Metrics\": {\"train_absolute_loss_objective\": {\"sum\": 0.6266153001785278, \"count\": 1, \"min\": 0.6266153001785278, \"max\": 0.6266153001785278}}}\u001b[0m\n",
      "\u001b[34m#metrics {\"StartTime\": 1681738421.0863583, \"EndTime\": 1681738421.0863786, \"Dimensions\": {\"Algorithm\": \"Linear Learner\", \"Host\": \"algo-1\", \"Operation\": \"training\", \"epoch\": 11, \"model\": 20}, \"Metrics\": {\"train_absolute_loss_objective\": {\"sum\": 0.28777687072753905, \"count\": 1, \"min\": 0.28777687072753905, \"max\": 0.28777687072753905}}}\u001b[0m\n",
      "\u001b[34m#metrics {\"StartTime\": 1681738421.0864232, \"EndTime\": 1681738421.0864384, \"Dimensions\": {\"Algorithm\": \"Linear Learner\", \"Host\": \"algo-1\", \"Operation\": \"training\", \"epoch\": 11, \"model\": 21}, \"Metrics\": {\"train_absolute_loss_objective\": {\"sum\": 0.3203076982498169, \"count\": 1, \"min\": 0.3203076982498169, \"max\": 0.3203076982498169}}}\u001b[0m\n",
      "\u001b[34m#metrics {\"StartTime\": 1681738421.0864983, \"EndTime\": 1681738421.086515, \"Dimensions\": {\"Algorithm\": \"Linear Learner\", \"Host\": \"algo-1\", \"Operation\": \"training\", \"epoch\": 11, \"model\": 22}, \"Metrics\": {\"train_absolute_loss_objective\": {\"sum\": 0.22046895503997802, \"count\": 1, \"min\": 0.22046895503997802, \"max\": 0.22046895503997802}}}\u001b[0m\n",
      "\u001b[34m#metrics {\"StartTime\": 1681738421.0865736, \"EndTime\": 1681738421.0865905, \"Dimensions\": {\"Algorithm\": \"Linear Learner\", \"Host\": \"algo-1\", \"Operation\": \"training\", \"epoch\": 11, \"model\": 23}, \"Metrics\": {\"train_absolute_loss_objective\": {\"sum\": 0.27383079290390017, \"count\": 1, \"min\": 0.27383079290390017, \"max\": 0.27383079290390017}}}\u001b[0m\n",
      "\u001b[34m#metrics {\"StartTime\": 1681738421.0866647, \"EndTime\": 1681738421.0866828, \"Dimensions\": {\"Algorithm\": \"Linear Learner\", \"Host\": \"algo-1\", \"Operation\": \"training\", \"epoch\": 11, \"model\": 24}, \"Metrics\": {\"train_absolute_loss_objective\": {\"sum\": 0.8695987987518311, \"count\": 1, \"min\": 0.8695987987518311, \"max\": 0.8695987987518311}}}\u001b[0m\n",
      "\u001b[34m#metrics {\"StartTime\": 1681738421.0867438, \"EndTime\": 1681738421.0867584, \"Dimensions\": {\"Algorithm\": \"Linear Learner\", \"Host\": \"algo-1\", \"Operation\": \"training\", \"epoch\": 11, \"model\": 25}, \"Metrics\": {\"train_absolute_loss_objective\": {\"sum\": 0.8684595775604248, \"count\": 1, \"min\": 0.8684595775604248, \"max\": 0.8684595775604248}}}\u001b[0m\n",
      "\u001b[34m#metrics {\"StartTime\": 1681738421.086815, \"EndTime\": 1681738421.0868335, \"Dimensions\": {\"Algorithm\": \"Linear Learner\", \"Host\": \"algo-1\", \"Operation\": \"training\", \"epoch\": 11, \"model\": 26}, \"Metrics\": {\"train_absolute_loss_objective\": {\"sum\": 0.8684646606445312, \"count\": 1, \"min\": 0.8684646606445312, \"max\": 0.8684646606445312}}}\u001b[0m\n",
      "\u001b[34m#metrics {\"StartTime\": 1681738421.0868924, \"EndTime\": 1681738421.0869093, \"Dimensions\": {\"Algorithm\": \"Linear Learner\", \"Host\": \"algo-1\", \"Operation\": \"training\", \"epoch\": 11, \"model\": 27}, \"Metrics\": {\"train_absolute_loss_objective\": {\"sum\": 0.86852952003479, \"count\": 1, \"min\": 0.86852952003479, \"max\": 0.86852952003479}}}\u001b[0m\n",
      "\u001b[34m#metrics {\"StartTime\": 1681738421.0869656, \"EndTime\": 1681738421.0869818, \"Dimensions\": {\"Algorithm\": \"Linear Learner\", \"Host\": \"algo-1\", \"Operation\": \"training\", \"epoch\": 11, \"model\": 28}, \"Metrics\": {\"train_absolute_loss_objective\": {\"sum\": 0.9170697402954101, \"count\": 1, \"min\": 0.9170697402954101, \"max\": 0.9170697402954101}}}\u001b[0m\n",
      "\u001b[34m#metrics {\"StartTime\": 1681738421.0870364, \"EndTime\": 1681738421.087053, \"Dimensions\": {\"Algorithm\": \"Linear Learner\", \"Host\": \"algo-1\", \"Operation\": \"training\", \"epoch\": 11, \"model\": 29}, \"Metrics\": {\"train_absolute_loss_objective\": {\"sum\": 0.8956636905670166, \"count\": 1, \"min\": 0.8956636905670166, \"max\": 0.8956636905670166}}}\u001b[0m\n",
      "\u001b[34m#metrics {\"StartTime\": 1681738421.087171, \"EndTime\": 1681738421.0871882, \"Dimensions\": {\"Algorithm\": \"Linear Learner\", \"Host\": \"algo-1\", \"Operation\": \"training\", \"epoch\": 11, \"model\": 30}, \"Metrics\": {\"train_absolute_loss_objective\": {\"sum\": 0.8934962844848633, \"count\": 1, \"min\": 0.8934962844848633, \"max\": 0.8934962844848633}}}\u001b[0m\n",
      "\u001b[34m#metrics {\"StartTime\": 1681738421.0872402, \"EndTime\": 1681738421.0872571, \"Dimensions\": {\"Algorithm\": \"Linear Learner\", \"Host\": \"algo-1\", \"Operation\": \"training\", \"epoch\": 11, \"model\": 31}, \"Metrics\": {\"train_absolute_loss_objective\": {\"sum\": 0.8910789108276367, \"count\": 1, \"min\": 0.8910789108276367, \"max\": 0.8910789108276367}}}\u001b[0m\n",
      "\u001b[34m[04/17/2023 13:33:41 INFO 139915702728512] #quality_metric: host=algo-1, epoch=11, train absolute_loss_objective <loss>=0.6313330554962158\u001b[0m\n",
      "\u001b[34m[04/17/2023 13:33:41 INFO 139915702728512] #early_stopping_criteria_metric: host=algo-1, epoch=11, criteria=absolute_loss_objective, value=0.1565451717376709\u001b[0m\n",
      "\u001b[34m[04/17/2023 13:33:41 INFO 139915702728512] Saving model for epoch: 11\u001b[0m\n",
      "\u001b[34m[04/17/2023 13:33:41 INFO 139915702728512] Saved checkpoint to \"/tmp/tmpxu2dt5jb/mx-mod-0000.params\"\u001b[0m\n",
      "\u001b[34m[04/17/2023 13:33:41 INFO 139915702728512] #progress_metric: host=algo-1, completed 24.0 % of epochs\u001b[0m\n",
      "\u001b[34m#metrics {\"StartTime\": 1681738420.9942327, \"EndTime\": 1681738421.09408, \"Dimensions\": {\"Algorithm\": \"Linear Learner\", \"Host\": \"algo-1\", \"Operation\": \"training\", \"epoch\": 11, \"Meta\": \"training_data_iter\"}, \"Metrics\": {\"Total Records Seen\": {\"sum\": 343.0, \"count\": 1, \"min\": 343, \"max\": 343}, \"Total Batches Seen\": {\"sum\": 79.0, \"count\": 1, \"min\": 79, \"max\": 79}, \"Max Records Seen Between Resets\": {\"sum\": 26.0, \"count\": 1, \"min\": 26, \"max\": 26}, \"Max Batches Seen Between Resets\": {\"sum\": 6.0, \"count\": 1, \"min\": 6, \"max\": 6}, \"Reset Count\": {\"sum\": 14.0, \"count\": 1, \"min\": 14, \"max\": 14}, \"Number of Records Since Last Reset\": {\"sum\": 26.0, \"count\": 1, \"min\": 26, \"max\": 26}, \"Number of Batches Since Last Reset\": {\"sum\": 6.0, \"count\": 1, \"min\": 6, \"max\": 6}}}\u001b[0m\n",
      "\u001b[34m[04/17/2023 13:33:41 INFO 139915702728512] #throughput_metric: host=algo-1, train throughput=260.05915079828776 records/second\u001b[0m\n",
      "\u001b[34m[2023-04-17 13:33:41.191] [tensorio] [info] epoch_stats={\"data_pipeline\": \"/opt/ml/input/data/train\", \"epoch\": 28, \"duration\": 97, \"num_examples\": 6, \"num_bytes\": 1248}\u001b[0m\n",
      "\u001b[34m#metrics {\"StartTime\": 1681738421.191936, \"EndTime\": 1681738421.192003, \"Dimensions\": {\"Algorithm\": \"Linear Learner\", \"Host\": \"algo-1\", \"Operation\": \"training\", \"epoch\": 12, \"model\": 0}, \"Metrics\": {\"train_absolute_loss_objective\": {\"sum\": 0.6102481985092163, \"count\": 1, \"min\": 0.6102481985092163, \"max\": 0.6102481985092163}}}\u001b[0m\n",
      "\u001b[34m#metrics {\"StartTime\": 1681738421.1920636, \"EndTime\": 1681738421.1920812, \"Dimensions\": {\"Algorithm\": \"Linear Learner\", \"Host\": \"algo-1\", \"Operation\": \"training\", \"epoch\": 12, \"model\": 1}, \"Metrics\": {\"train_absolute_loss_objective\": {\"sum\": 0.623655595779419, \"count\": 1, \"min\": 0.623655595779419, \"max\": 0.623655595779419}}}\u001b[0m\n",
      "\u001b[34m#metrics {\"StartTime\": 1681738421.192213, \"EndTime\": 1681738421.192229, \"Dimensions\": {\"Algorithm\": \"Linear Learner\", \"Host\": \"algo-1\", \"Operation\": \"training\", \"epoch\": 12, \"model\": 2}, \"Metrics\": {\"train_absolute_loss_objective\": {\"sum\": 0.6126777410507203, \"count\": 1, \"min\": 0.6126777410507203, \"max\": 0.6126777410507203}}}\u001b[0m\n",
      "\u001b[34m#metrics {\"StartTime\": 1681738421.1922913, \"EndTime\": 1681738421.1923084, \"Dimensions\": {\"Algorithm\": \"Linear Learner\", \"Host\": \"algo-1\", \"Operation\": \"training\", \"epoch\": 12, \"model\": 3}, \"Metrics\": {\"train_absolute_loss_objective\": {\"sum\": 0.6226329374313354, \"count\": 1, \"min\": 0.6226329374313354, \"max\": 0.6226329374313354}}}\u001b[0m\n",
      "\u001b[34m#metrics {\"StartTime\": 1681738421.192357, \"EndTime\": 1681738421.1923747, \"Dimensions\": {\"Algorithm\": \"Linear Learner\", \"Host\": \"algo-1\", \"Operation\": \"training\", \"epoch\": 12, \"model\": 4}, \"Metrics\": {\"train_absolute_loss_objective\": {\"sum\": 0.17108617067337037, \"count\": 1, \"min\": 0.17108617067337037, \"max\": 0.17108617067337037}}}\u001b[0m\n",
      "\u001b[34m#metrics {\"StartTime\": 1681738421.1924279, \"EndTime\": 1681738421.192444, \"Dimensions\": {\"Algorithm\": \"Linear Learner\", \"Host\": \"algo-1\", \"Operation\": \"training\", \"epoch\": 12, \"model\": 5}, \"Metrics\": {\"train_absolute_loss_objective\": {\"sum\": 0.1872415018081665, \"count\": 1, \"min\": 0.1872415018081665, \"max\": 0.1872415018081665}}}\u001b[0m\n",
      "\u001b[34m#metrics {\"StartTime\": 1681738421.1924949, \"EndTime\": 1681738421.1925116, \"Dimensions\": {\"Algorithm\": \"Linear Learner\", \"Host\": \"algo-1\", \"Operation\": \"training\", \"epoch\": 12, \"model\": 6}, \"Metrics\": {\"train_absolute_loss_objective\": {\"sum\": 0.3199090766906738, \"count\": 1, \"min\": 0.3199090766906738, \"max\": 0.3199090766906738}}}\u001b[0m\n",
      "\u001b[34m#metrics {\"StartTime\": 1681738421.1925657, \"EndTime\": 1681738421.1925817, \"Dimensions\": {\"Algorithm\": \"Linear Learner\", \"Host\": \"algo-1\", \"Operation\": \"training\", \"epoch\": 12, \"model\": 7}, \"Metrics\": {\"train_absolute_loss_objective\": {\"sum\": 0.1589922058582306, \"count\": 1, \"min\": 0.1589922058582306, \"max\": 0.1589922058582306}}}\u001b[0m\n",
      "\u001b[34m#metrics {\"StartTime\": 1681738421.1926239, \"EndTime\": 1681738421.1926389, \"Dimensions\": {\"Algorithm\": \"Linear Learner\", \"Host\": \"algo-1\", \"Operation\": \"training\", \"epoch\": 12, \"model\": 8}, \"Metrics\": {\"train_absolute_loss_objective\": {\"sum\": 0.6667320537567138, \"count\": 1, \"min\": 0.6667320537567138, \"max\": 0.6667320537567138}}}\u001b[0m\n",
      "\u001b[34m#metrics {\"StartTime\": 1681738421.192697, \"EndTime\": 1681738421.1927145, \"Dimensions\": {\"Algorithm\": \"Linear Learner\", \"Host\": \"algo-1\", \"Operation\": \"training\", \"epoch\": 12, \"model\": 9}, \"Metrics\": {\"train_absolute_loss_objective\": {\"sum\": 0.5921465396881104, \"count\": 1, \"min\": 0.5921465396881104, \"max\": 0.5921465396881104}}}\u001b[0m\n",
      "\u001b[34m#metrics {\"StartTime\": 1681738421.1927657, \"EndTime\": 1681738421.1927817, \"Dimensions\": {\"Algorithm\": \"Linear Learner\", \"Host\": \"algo-1\", \"Operation\": \"training\", \"epoch\": 12, \"model\": 10}, \"Metrics\": {\"train_absolute_loss_objective\": {\"sum\": 0.6050038385391235, \"count\": 1, \"min\": 0.6050038385391235, \"max\": 0.6050038385391235}}}\u001b[0m\n",
      "\u001b[34m#metrics {\"StartTime\": 1681738421.1928318, \"EndTime\": 1681738421.192848, \"Dimensions\": {\"Algorithm\": \"Linear Learner\", \"Host\": \"algo-1\", \"Operation\": \"training\", \"epoch\": 12, \"model\": 11}, \"Metrics\": {\"train_absolute_loss_objective\": {\"sum\": 0.5839730215072632, \"count\": 1, \"min\": 0.5839730215072632, \"max\": 0.5839730215072632}}}\u001b[0m\n",
      "\u001b[34m#metrics {\"StartTime\": 1681738421.192904, \"EndTime\": 1681738421.19292, \"Dimensions\": {\"Algorithm\": \"Linear Learner\", \"Host\": \"algo-1\", \"Operation\": \"training\", \"epoch\": 12, \"model\": 12}, \"Metrics\": {\"train_absolute_loss_objective\": {\"sum\": 0.3424938654899597, \"count\": 1, \"min\": 0.3424938654899597, \"max\": 0.3424938654899597}}}\u001b[0m\n",
      "\u001b[34m#metrics {\"StartTime\": 1681738421.1929688, \"EndTime\": 1681738421.1929846, \"Dimensions\": {\"Algorithm\": \"Linear Learner\", \"Host\": \"algo-1\", \"Operation\": \"training\", \"epoch\": 12, \"model\": 13}, \"Metrics\": {\"train_absolute_loss_objective\": {\"sum\": 0.1683586597442627, \"count\": 1, \"min\": 0.1683586597442627, \"max\": 0.1683586597442627}}}\u001b[0m\n",
      "\u001b[34m#metrics {\"StartTime\": 1681738421.1930418, \"EndTime\": 1681738421.1930578, \"Dimensions\": {\"Algorithm\": \"Linear Learner\", \"Host\": \"algo-1\", \"Operation\": \"training\", \"epoch\": 12, \"model\": 14}, \"Metrics\": {\"train_absolute_loss_objective\": {\"sum\": 0.3424955272674561, \"count\": 1, \"min\": 0.3424955272674561, \"max\": 0.3424955272674561}}}\u001b[0m\n",
      "\u001b[34m#metrics {\"StartTime\": 1681738421.1931052, \"EndTime\": 1681738421.1931214, \"Dimensions\": {\"Algorithm\": \"Linear Learner\", \"Host\": \"algo-1\", \"Operation\": \"training\", \"epoch\": 12, \"model\": 15}, \"Metrics\": {\"train_absolute_loss_objective\": {\"sum\": 0.17426874876022339, \"count\": 1, \"min\": 0.17426874876022339, \"max\": 0.17426874876022339}}}\u001b[0m\n",
      "\u001b[34m#metrics {\"StartTime\": 1681738421.1931725, \"EndTime\": 1681738421.1931882, \"Dimensions\": {\"Algorithm\": \"Linear Learner\", \"Host\": \"algo-1\", \"Operation\": \"training\", \"epoch\": 12, \"model\": 16}, \"Metrics\": {\"train_absolute_loss_objective\": {\"sum\": 0.5897400951385499, \"count\": 1, \"min\": 0.5897400951385499, \"max\": 0.5897400951385499}}}\u001b[0m\n",
      "\u001b[34m#metrics {\"StartTime\": 1681738421.1932378, \"EndTime\": 1681738421.193252, \"Dimensions\": {\"Algorithm\": \"Linear Learner\", \"Host\": \"algo-1\", \"Operation\": \"training\", \"epoch\": 12, \"model\": 17}, \"Metrics\": {\"train_absolute_loss_objective\": {\"sum\": 0.6335858154296875, \"count\": 1, \"min\": 0.6335858154296875, \"max\": 0.6335858154296875}}}\u001b[0m\n",
      "\u001b[34m#metrics {\"StartTime\": 1681738421.1933007, \"EndTime\": 1681738421.1933165, \"Dimensions\": {\"Algorithm\": \"Linear Learner\", \"Host\": \"algo-1\", \"Operation\": \"training\", \"epoch\": 12, \"model\": 18}, \"Metrics\": {\"train_absolute_loss_objective\": {\"sum\": 0.6159149026870727, \"count\": 1, \"min\": 0.6159149026870727, \"max\": 0.6159149026870727}}}\u001b[0m\n",
      "\u001b[34m#metrics {\"StartTime\": 1681738421.1933644, \"EndTime\": 1681738421.193381, \"Dimensions\": {\"Algorithm\": \"Linear Learner\", \"Host\": \"algo-1\", \"Operation\": \"training\", \"epoch\": 12, \"model\": 19}, \"Metrics\": {\"train_absolute_loss_objective\": {\"sum\": 0.6076038646697998, \"count\": 1, \"min\": 0.6076038646697998, \"max\": 0.6076038646697998}}}\u001b[0m\n",
      "\u001b[34m#metrics {\"StartTime\": 1681738421.193432, \"EndTime\": 1681738421.1934476, \"Dimensions\": {\"Algorithm\": \"Linear Learner\", \"Host\": \"algo-1\", \"Operation\": \"training\", \"epoch\": 12, \"model\": 20}, \"Metrics\": {\"train_absolute_loss_objective\": {\"sum\": 0.3091797685623169, \"count\": 1, \"min\": 0.3091797685623169, \"max\": 0.3091797685623169}}}\u001b[0m\n",
      "\u001b[34m#metrics {\"StartTime\": 1681738421.1935065, \"EndTime\": 1681738421.1935236, \"Dimensions\": {\"Algorithm\": \"Linear Learner\", \"Host\": \"algo-1\", \"Operation\": \"training\", \"epoch\": 12, \"model\": 21}, \"Metrics\": {\"train_absolute_loss_objective\": {\"sum\": 0.36061336517333986, \"count\": 1, \"min\": 0.36061336517333986, \"max\": 0.36061336517333986}}}\u001b[0m\n",
      "\u001b[34m#metrics {\"StartTime\": 1681738421.1935844, \"EndTime\": 1681738421.1936011, \"Dimensions\": {\"Algorithm\": \"Linear Learner\", \"Host\": \"algo-1\", \"Operation\": \"training\", \"epoch\": 12, \"model\": 22}, \"Metrics\": {\"train_absolute_loss_objective\": {\"sum\": 0.24061508417129518, \"count\": 1, \"min\": 0.24061508417129518, \"max\": 0.24061508417129518}}}\u001b[0m\n",
      "\u001b[34m#metrics {\"StartTime\": 1681738421.193664, \"EndTime\": 1681738421.1936817, \"Dimensions\": {\"Algorithm\": \"Linear Learner\", \"Host\": \"algo-1\", \"Operation\": \"training\", \"epoch\": 12, \"model\": 23}, \"Metrics\": {\"train_absolute_loss_objective\": {\"sum\": 0.23690083980560303, \"count\": 1, \"min\": 0.23690083980560303, \"max\": 0.23690083980560303}}}\u001b[0m\n",
      "\u001b[34m#metrics {\"StartTime\": 1681738421.1937356, \"EndTime\": 1681738421.1937528, \"Dimensions\": {\"Algorithm\": \"Linear Learner\", \"Host\": \"algo-1\", \"Operation\": \"training\", \"epoch\": 12, \"model\": 24}, \"Metrics\": {\"train_absolute_loss_objective\": {\"sum\": 0.8709521293640137, \"count\": 1, \"min\": 0.8709521293640137, \"max\": 0.8709521293640137}}}\u001b[0m\n",
      "\u001b[34m#metrics {\"StartTime\": 1681738421.1938736, \"EndTime\": 1681738421.193894, \"Dimensions\": {\"Algorithm\": \"Linear Learner\", \"Host\": \"algo-1\", \"Operation\": \"training\", \"epoch\": 12, \"model\": 25}, \"Metrics\": {\"train_absolute_loss_objective\": {\"sum\": 0.8704208087921143, \"count\": 1, \"min\": 0.8704208087921143, \"max\": 0.8704208087921143}}}\u001b[0m\n",
      "\u001b[34m#metrics {\"StartTime\": 1681738421.193961, \"EndTime\": 1681738421.1939728, \"Dimensions\": {\"Algorithm\": \"Linear Learner\", \"Host\": \"algo-1\", \"Operation\": \"training\", \"epoch\": 12, \"model\": 26}, \"Metrics\": {\"train_absolute_loss_objective\": {\"sum\": 0.8688580513000488, \"count\": 1, \"min\": 0.8688580513000488, \"max\": 0.8688580513000488}}}\u001b[0m\n",
      "\u001b[34m#metrics {\"StartTime\": 1681738421.1940303, \"EndTime\": 1681738421.1940467, \"Dimensions\": {\"Algorithm\": \"Linear Learner\", \"Host\": \"algo-1\", \"Operation\": \"training\", \"epoch\": 12, \"model\": 27}, \"Metrics\": {\"train_absolute_loss_objective\": {\"sum\": 0.8698218822479248, \"count\": 1, \"min\": 0.8698218822479248, \"max\": 0.8698218822479248}}}\u001b[0m\n",
      "\u001b[34m#metrics {\"StartTime\": 1681738421.1941063, \"EndTime\": 1681738421.1941226, \"Dimensions\": {\"Algorithm\": \"Linear Learner\", \"Host\": \"algo-1\", \"Operation\": \"training\", \"epoch\": 12, \"model\": 28}, \"Metrics\": {\"train_absolute_loss_objective\": {\"sum\": 0.8905511951446533, \"count\": 1, \"min\": 0.8905511951446533, \"max\": 0.8905511951446533}}}\u001b[0m\n",
      "\u001b[34m#metrics {\"StartTime\": 1681738421.1941812, \"EndTime\": 1681738421.1941986, \"Dimensions\": {\"Algorithm\": \"Linear Learner\", \"Host\": \"algo-1\", \"Operation\": \"training\", \"epoch\": 12, \"model\": 29}, \"Metrics\": {\"train_absolute_loss_objective\": {\"sum\": 0.8849475860595704, \"count\": 1, \"min\": 0.8849475860595704, \"max\": 0.8849475860595704}}}\u001b[0m\n",
      "\u001b[34m#metrics {\"StartTime\": 1681738421.1942556, \"EndTime\": 1681738421.1942723, \"Dimensions\": {\"Algorithm\": \"Linear Learner\", \"Host\": \"algo-1\", \"Operation\": \"training\", \"epoch\": 12, \"model\": 30}, \"Metrics\": {\"train_absolute_loss_objective\": {\"sum\": 0.9079700565338135, \"count\": 1, \"min\": 0.9079700565338135, \"max\": 0.9079700565338135}}}\u001b[0m\n",
      "\u001b[34m#metrics {\"StartTime\": 1681738421.1943336, \"EndTime\": 1681738421.1943495, \"Dimensions\": {\"Algorithm\": \"Linear Learner\", \"Host\": \"algo-1\", \"Operation\": \"training\", \"epoch\": 12, \"model\": 31}, \"Metrics\": {\"train_absolute_loss_objective\": {\"sum\": 0.8878507137298584, \"count\": 1, \"min\": 0.8878507137298584, \"max\": 0.8878507137298584}}}\u001b[0m\n",
      "\u001b[34m[04/17/2023 13:33:41 INFO 139915702728512] #quality_metric: host=algo-1, epoch=12, train absolute_loss_objective <loss>=0.6102481985092163\u001b[0m\n",
      "\u001b[34m[04/17/2023 13:33:41 INFO 139915702728512] #early_stopping_criteria_metric: host=algo-1, epoch=12, criteria=absolute_loss_objective, value=0.1589922058582306\u001b[0m\n",
      "\u001b[34m[04/17/2023 13:33:41 INFO 139915702728512] Saving model for epoch: 12\u001b[0m\n",
      "\u001b[34m[04/17/2023 13:33:41 INFO 139915702728512] Saved checkpoint to \"/tmp/tmpfb11o32t/mx-mod-0000.params\"\u001b[0m\n",
      "\u001b[34m[04/17/2023 13:33:41 INFO 139915702728512] Early stop condition met. Stopping training.\u001b[0m\n",
      "\u001b[34m[04/17/2023 13:33:41 INFO 139915702728512] #progress_metric: host=algo-1, completed 100 % epochs\u001b[0m\n",
      "\u001b[34m#metrics {\"StartTime\": 1681738421.0943544, \"EndTime\": 1681738421.2015965, \"Dimensions\": {\"Algorithm\": \"Linear Learner\", \"Host\": \"algo-1\", \"Operation\": \"training\", \"epoch\": 12, \"Meta\": \"training_data_iter\"}, \"Metrics\": {\"Total Records Seen\": {\"sum\": 369.0, \"count\": 1, \"min\": 369, \"max\": 369}, \"Total Batches Seen\": {\"sum\": 85.0, \"count\": 1, \"min\": 85, \"max\": 85}, \"Max Records Seen Between Resets\": {\"sum\": 26.0, \"count\": 1, \"min\": 26, \"max\": 26}, \"Max Batches Seen Between Resets\": {\"sum\": 6.0, \"count\": 1, \"min\": 6, \"max\": 6}, \"Reset Count\": {\"sum\": 15.0, \"count\": 1, \"min\": 15, \"max\": 15}, \"Number of Records Since Last Reset\": {\"sum\": 26.0, \"count\": 1, \"min\": 26, \"max\": 26}, \"Number of Batches Since Last Reset\": {\"sum\": 6.0, \"count\": 1, \"min\": 6, \"max\": 6}}}\u001b[0m\n",
      "\u001b[34m[04/17/2023 13:33:41 INFO 139915702728512] #throughput_metric: host=algo-1, train throughput=242.14976384981426 records/second\u001b[0m\n",
      "\u001b[34m[04/17/2023 13:33:41 WARNING 139915702728512] wait_for_all_workers will not sync workers since the kv store is not running distributed\u001b[0m\n",
      "\u001b[34m[04/17/2023 13:33:41 WARNING 139915702728512] wait_for_all_workers will not sync workers since the kv store is not running distributed\u001b[0m\n",
      "\u001b[34m[2023-04-17 13:33:41.202] [tensorio] [info] epoch_stats={\"data_pipeline\": \"/opt/ml/input/data/train\", \"epoch\": 30, \"duration\": 0, \"num_examples\": 1, \"num_bytes\": 240}\u001b[0m\n",
      "\u001b[34m[2023-04-17 13:33:41.214] [tensorio] [info] epoch_stats={\"data_pipeline\": \"/opt/ml/input/data/train\", \"epoch\": 32, \"duration\": 9, \"num_examples\": 6, \"num_bytes\": 1248}\u001b[0m\n",
      "\u001b[34m[04/17/2023 13:33:41 INFO 139915702728512] #train_score (algo-1) : ('absolute_loss_objective', 4743.144381009615)\u001b[0m\n",
      "\u001b[34m[04/17/2023 13:33:41 INFO 139915702728512] #train_score (algo-1) : ('mse', 33125973.384615384)\u001b[0m\n",
      "\u001b[34m[04/17/2023 13:33:41 INFO 139915702728512] #train_score (algo-1) : ('absolute_loss', 4743.144381009615)\u001b[0m\n",
      "\u001b[34m[04/17/2023 13:33:41 INFO 139915702728512] #train_score (algo-1) : ('rmse', 5755.51677824115)\u001b[0m\n",
      "\u001b[34m[04/17/2023 13:33:41 INFO 139915702728512] #train_score (algo-1) : ('r2', 0.9681040239590735)\u001b[0m\n",
      "\u001b[34m[04/17/2023 13:33:41 INFO 139915702728512] #train_score (algo-1) : ('mae', 4743.144381009615)\u001b[0m\n",
      "\u001b[34m[04/17/2023 13:33:41 INFO 139915702728512] #quality_metric: host=algo-1, train absolute_loss_objective <loss>=4743.144381009615\u001b[0m\n",
      "\u001b[34m[04/17/2023 13:33:41 INFO 139915702728512] #quality_metric: host=algo-1, train mse <loss>=33125973.384615384\u001b[0m\n",
      "\u001b[34m[04/17/2023 13:33:41 INFO 139915702728512] #quality_metric: host=algo-1, train absolute_loss <loss>=4743.144381009615\u001b[0m\n",
      "\u001b[34m[04/17/2023 13:33:41 INFO 139915702728512] #quality_metric: host=algo-1, train rmse <loss>=5755.51677824115\u001b[0m\n",
      "\u001b[34m[04/17/2023 13:33:41 INFO 139915702728512] #quality_metric: host=algo-1, train r2 <loss>=0.9681040239590735\u001b[0m\n",
      "\u001b[34m[04/17/2023 13:33:41 INFO 139915702728512] #quality_metric: host=algo-1, train mae <loss>=4743.144381009615\u001b[0m\n",
      "\u001b[34m[04/17/2023 13:33:41 INFO 139915702728512] Best model found for hyperparameters: {\"optimizer\": \"adam\", \"learning_rate\": 0.1, \"wd\": 0.0001, \"l1\": 0.0, \"lr_scheduler_step\": 100, \"lr_scheduler_factor\": 0.99, \"lr_scheduler_minimum_lr\": 1e-05}\u001b[0m\n",
      "\u001b[34m[04/17/2023 13:33:41 INFO 139915702728512] Saved checkpoint to \"/tmp/tmpyoa5mlaq/mx-mod-0000.params\"\u001b[0m\n",
      "\u001b[34m[04/17/2023 13:33:41 INFO 139915702728512] Test data is not provided.\u001b[0m\n",
      "\u001b[34m#metrics {\"StartTime\": 1681738419.632399, \"EndTime\": 1681738421.2213123, \"Dimensions\": {\"Algorithm\": \"Linear Learner\", \"Host\": \"algo-1\", \"Operation\": \"training\"}, \"Metrics\": {\"initialize.time\": {\"sum\": 162.16206550598145, \"count\": 1, \"min\": 162.16206550598145, \"max\": 162.16206550598145}, \"epochs\": {\"sum\": 50.0, \"count\": 1, \"min\": 50, \"max\": 50}, \"check_early_stopping.time\": {\"sum\": 10.428190231323242, \"count\": 13, \"min\": 0.18453598022460938, \"max\": 1.2924671173095703}, \"update.time\": {\"sum\": 1366.9602870941162, \"count\": 13, \"min\": 91.77136421203613, \"max\": 116.97793006896973}, \"finalize.time\": {\"sum\": 14.601707458496094, \"count\": 1, \"min\": 14.601707458496094, \"max\": 14.601707458496094}, \"setuptime\": {\"sum\": 2.179384231567383, \"count\": 1, \"min\": 2.179384231567383, \"max\": 2.179384231567383}, \"totaltime\": {\"sum\": 1696.232795715332, \"count\": 1, \"min\": 1696.232795715332, \"max\": 1696.232795715332}}}\u001b[0m\n",
      "\n",
      "2023-04-17 13:34:01 Completed - Training job completed\n",
      "Training seconds: 138\n",
      "Billable seconds: 98\n",
      "Managed Spot Training savings: 29.0%\n"
     ]
    }
   ],
   "source": [
    "# We have pass in the container, the type of instance that we would like to use for training \n",
    "# output path and sagemaker session into the Estimator. \n",
    "# We can also specify how many instances we would like to use for training\n",
    "# sagemaker_session = sagemaker.Session()\n",
    "\n",
    "linear = sagemaker.estimator.Estimator(container,\n",
    "                                       role, \n",
    "                                       instance_count = 1, \n",
    "                                       instance_type = 'ml.c4.xlarge',\n",
    "                                       output_path = output_location,\n",
    "                                       sagemaker_session = sagemaker_session,\n",
    "                                       use_spot_instances = True, # spot instances - unused instances that are easy to use and available for a lower price than regular on-demand instances\n",
    "                                       max_run = 300,                   # timeout in seconds for training\n",
    "                                       max_wait = 600)                 # time allowed (s) to wait for spot instance. after this time, will give up and use other resources\n",
    "\n",
    "\n",
    "# We can tune parameters like the number of features \n",
    "# that we are passing in, type of predictor like 'regressor' or 'classifier', mini batch size, epochs\n",
    "# Train 32 different versions of the model and will get the best out of them (built-in parameters optimization!)\n",
    "\n",
    "linear.set_hyperparameters(feature_dim = 1,\n",
    "                           predictor_type = 'regressor',\n",
    "                           mini_batch_size = 5,\n",
    "                           epochs = 50,\n",
    "                           num_models = 35,\n",
    "                           loss = 'absolute_loss')\n",
    "\n",
    "# Now we are ready to pass in the training data from S3 to train the linear learner model\n",
    "\n",
    "linear.fit({'train': s3_train_data})\n",
    "\n",
    "# Let's see the progress using cloudwatch logs"
   ]
  },
  {
   "cell_type": "markdown",
   "metadata": {},
   "source": [
    "# TASK #8: DEPLOY AND TEST THE TRAINED LINEAR LEARNER MODEL "
   ]
  },
  {
   "cell_type": "code",
   "execution_count": 75,
   "metadata": {
    "tags": []
   },
   "outputs": [
    {
     "name": "stderr",
     "output_type": "stream",
     "text": [
      "INFO:sagemaker:Creating model with name: linear-learner-2023-04-17-13-50-39-784\n",
      "INFO:sagemaker:Creating endpoint-config with name linear-learner-2023-04-17-13-50-39-784\n",
      "INFO:sagemaker:Creating endpoint with name linear-learner-2023-04-17-13-50-39-784\n"
     ]
    },
    {
     "name": "stdout",
     "output_type": "stream",
     "text": [
      "---------!"
     ]
    }
   ],
   "source": [
    "# Deploying the model to perform inference \n",
    "\n",
    "linear_regressor = linear.deploy(initial_instance_count = 1,\n",
    "                                          instance_type = 'ml.m4.xlarge')"
   ]
  },
  {
   "cell_type": "code",
   "execution_count": 87,
   "metadata": {},
   "outputs": [],
   "source": [
    "# from sagemaker.predictor import csv_serializer, json_deserializer\n",
    "from sagemaker.serializers import CSVSerializer\n",
    "from sagemaker.deserializers import JSONDeserializer\n",
    "\n",
    "# Content type overrides the data that will be passed to the deployed model, since the deployed model expects data in text/csv format.\n",
    "\n",
    "# Serializer accepts a single argument, the input data, and returns a sequence of bytes in the specified content type\n",
    "\n",
    "# Deserializer accepts two arguments, the result data and the response content type, and return a sequence of bytes in the specified content type.\n",
    "\n",
    "# Reference: https://sagemaker.readthedocs.io/en/stable/predictors.html\n",
    "\n",
    "# linear_regressor.content_type = 'text/csv'\n",
    "linear_regressor.serializer = CSVSerializer()\n",
    "linear_regressor.deserializer = JSONDeserializer()"
   ]
  },
  {
   "cell_type": "code",
   "execution_count": 88,
   "metadata": {},
   "outputs": [],
   "source": [
    "# making prediction on the test data\n",
    "\n",
    "result = linear_regressor.predict(X_test)"
   ]
  },
  {
   "cell_type": "code",
   "execution_count": 89,
   "metadata": {},
   "outputs": [
    {
     "data": {
      "text/plain": [
       "{'predictions': [{'score': 66571.1875},\n",
       "  {'score': 50435.8046875},\n",
       "  {'score': 76761.96875},\n",
       "  {'score': 64872.73046875},\n",
       "  {'score': 69968.1171875},\n",
       "  {'score': 73365.046875},\n",
       "  {'score': 113278.90625},\n",
       "  {'score': 48737.33984375},\n",
       "  {'score': 65721.9609375}]}"
      ]
     },
     "execution_count": 89,
     "metadata": {},
     "output_type": "execute_result"
    }
   ],
   "source": [
    "result # results are in Json format"
   ]
  },
  {
   "cell_type": "code",
   "execution_count": 90,
   "metadata": {},
   "outputs": [],
   "source": [
    "# Since the result is in json format, we access the scores by iterating through the scores in the predictions\n",
    "\n",
    "predictions = np.array([r['score'] for r in result['predictions']])"
   ]
  },
  {
   "cell_type": "code",
   "execution_count": 91,
   "metadata": {},
   "outputs": [
    {
     "data": {
      "text/plain": [
       "array([ 66571.1875    ,  50435.8046875 ,  76761.96875   ,  64872.73046875,\n",
       "        69968.1171875 ,  73365.046875  , 113278.90625   ,  48737.33984375,\n",
       "        65721.9609375 ])"
      ]
     },
     "execution_count": 91,
     "metadata": {},
     "output_type": "execute_result"
    }
   ],
   "source": [
    "predictions"
   ]
  },
  {
   "cell_type": "code",
   "execution_count": 92,
   "metadata": {
    "scrolled": true
   },
   "outputs": [
    {
     "data": {
      "text/plain": [
       "(9,)"
      ]
     },
     "execution_count": 92,
     "metadata": {},
     "output_type": "execute_result"
    }
   ],
   "source": [
    "predictions.shape"
   ]
  },
  {
   "cell_type": "code",
   "execution_count": 93,
   "metadata": {},
   "outputs": [
    {
     "data": {
      "text/plain": [
       "Text(0.5, 1.0, 'Salary vs. Years of Experience')"
      ]
     },
     "execution_count": 93,
     "metadata": {},
     "output_type": "execute_result"
    },
    {
     "data": {
      "image/png": "[encoded data removed]",
      "text/plain": [
       "<Figure size 640x480 with 1 Axes>"
      ]
     },
     "metadata": {},
     "output_type": "display_data"
    }
   ],
   "source": [
    "# VISUALIZE TEST SET RESULTS\n",
    "plt.scatter(X_test, y_test, color = 'gray')\n",
    "plt.plot(X_test, predictions, color = 'red')\n",
    "plt.xlabel('Years of Experience (Testing Dataset)')\n",
    "plt.ylabel('salary')\n",
    "plt.title('Salary vs. Years of Experience')"
   ]
  },
  {
   "cell_type": "code",
   "execution_count": 94,
   "metadata": {
    "tags": []
   },
   "outputs": [
    {
     "name": "stderr",
     "output_type": "stream",
     "text": [
      "INFO:sagemaker:Deleting endpoint configuration with name: linear-learner-2023-04-17-13-50-39-784\n",
      "INFO:sagemaker:Deleting endpoint with name: linear-learner-2023-04-17-13-50-39-784\n"
     ]
    }
   ],
   "source": [
    "# Delete the end-point\n",
    "\n",
    "linear_regressor.delete_endpoint()"
   ]
  }
 ],
 "metadata": {
  "availableInstances": [
   {
    "_defaultOrder": 0,
    "_isFastLaunch": true,
    "category": "General purpose",
    "gpuNum": 0,
    "hideHardwareSpecs": false,
    "memoryGiB": 4,
    "name": "ml.t3.medium",
    "vcpuNum": 2
   },
   {
    "_defaultOrder": 1,
    "_isFastLaunch": false,
    "category": "General purpose",
    "gpuNum": 0,
    "hideHardwareSpecs": false,
    "memoryGiB": 8,
    "name": "ml.t3.large",
    "vcpuNum": 2
   },
   {
    "_defaultOrder": 2,
    "_isFastLaunch": false,
    "category": "General purpose",
    "gpuNum": 0,
    "hideHardwareSpecs": false,
    "memoryGiB": 16,
    "name": "ml.t3.xlarge",
    "vcpuNum": 4
   },
   {
    "_defaultOrder": 3,
    "_isFastLaunch": false,
    "category": "General purpose",
    "gpuNum": 0,
    "hideHardwareSpecs": false,
    "memoryGiB": 32,
    "name": "ml.t3.2xlarge",
    "vcpuNum": 8
   },
   {
    "_defaultOrder": 4,
    "_isFastLaunch": true,
    "category": "General purpose",
    "gpuNum": 0,
    "hideHardwareSpecs": false,
    "memoryGiB": 8,
    "name": "ml.m5.large",
    "vcpuNum": 2
   },
   {
    "_defaultOrder": 5,
    "_isFastLaunch": false,
    "category": "General purpose",
    "gpuNum": 0,
    "hideHardwareSpecs": false,
    "memoryGiB": 16,
    "name": "ml.m5.xlarge",
    "vcpuNum": 4
   },
   {
    "_defaultOrder": 6,
    "_isFastLaunch": false,
    "category": "General purpose",
    "gpuNum": 0,
    "hideHardwareSpecs": false,
    "memoryGiB": 32,
    "name": "ml.m5.2xlarge",
    "vcpuNum": 8
   },
   {
    "_defaultOrder": 7,
    "_isFastLaunch": false,
    "category": "General purpose",
    "gpuNum": 0,
    "hideHardwareSpecs": false,
    "memoryGiB": 64,
    "name": "ml.m5.4xlarge",
    "vcpuNum": 16
   },
   {
    "_defaultOrder": 8,
    "_isFastLaunch": false,
    "category": "General purpose",
    "gpuNum": 0,
    "hideHardwareSpecs": false,
    "memoryGiB": 128,
    "name": "ml.m5.8xlarge",
    "vcpuNum": 32
   },
   {
    "_defaultOrder": 9,
    "_isFastLaunch": false,
    "category": "General purpose",
    "gpuNum": 0,
    "hideHardwareSpecs": false,
    "memoryGiB": 192,
    "name": "ml.m5.12xlarge",
    "vcpuNum": 48
   },
   {
    "_defaultOrder": 10,
    "_isFastLaunch": false,
    "category": "General purpose",
    "gpuNum": 0,
    "hideHardwareSpecs": false,
    "memoryGiB": 256,
    "name": "ml.m5.16xlarge",
    "vcpuNum": 64
   },
   {
    "_defaultOrder": 11,
    "_isFastLaunch": false,
    "category": "General purpose",
    "gpuNum": 0,
    "hideHardwareSpecs": false,
    "memoryGiB": 384,
    "name": "ml.m5.24xlarge",
    "vcpuNum": 96
   },
   {
    "_defaultOrder": 12,
    "_isFastLaunch": false,
    "category": "General purpose",
    "gpuNum": 0,
    "hideHardwareSpecs": false,
    "memoryGiB": 8,
    "name": "ml.m5d.large",
    "vcpuNum": 2
   },
   {
    "_defaultOrder": 13,
    "_isFastLaunch": false,
    "category": "General purpose",
    "gpuNum": 0,
    "hideHardwareSpecs": false,
    "memoryGiB": 16,
    "name": "ml.m5d.xlarge",
    "vcpuNum": 4
   },
   {
    "_defaultOrder": 14,
    "_isFastLaunch": false,
    "category": "General purpose",
    "gpuNum": 0,
    "hideHardwareSpecs": false,
    "memoryGiB": 32,
    "name": "ml.m5d.2xlarge",
    "vcpuNum": 8
   },
   {
    "_defaultOrder": 15,
    "_isFastLaunch": false,
    "category": "General purpose",
    "gpuNum": 0,
    "hideHardwareSpecs": false,
    "memoryGiB": 64,
    "name": "ml.m5d.4xlarge",
    "vcpuNum": 16
   },
   {
    "_defaultOrder": 16,
    "_isFastLaunch": false,
    "category": "General purpose",
    "gpuNum": 0,
    "hideHardwareSpecs": false,
    "memoryGiB": 128,
    "name": "ml.m5d.8xlarge",
    "vcpuNum": 32
   },
   {
    "_defaultOrder": 17,
    "_isFastLaunch": false,
    "category": "General purpose",
    "gpuNum": 0,
    "hideHardwareSpecs": false,
    "memoryGiB": 192,
    "name": "ml.m5d.12xlarge",
    "vcpuNum": 48
   },
   {
    "_defaultOrder": 18,
    "_isFastLaunch": false,
    "category": "General purpose",
    "gpuNum": 0,
    "hideHardwareSpecs": false,
    "memoryGiB": 256,
    "name": "ml.m5d.16xlarge",
    "vcpuNum": 64
   },
   {
    "_defaultOrder": 19,
    "_isFastLaunch": false,
    "category": "General purpose",
    "gpuNum": 0,
    "hideHardwareSpecs": false,
    "memoryGiB": 384,
    "name": "ml.m5d.24xlarge",
    "vcpuNum": 96
   },
   {
    "_defaultOrder": 20,
    "_isFastLaunch": false,
    "category": "General purpose",
    "gpuNum": 0,
    "hideHardwareSpecs": true,
    "memoryGiB": 0,
    "name": "ml.geospatial.interactive",
    "supportedImageNames": [
     "sagemaker-geospatial-v1-0"
    ],
    "vcpuNum": 0
   },
   {
    "_defaultOrder": 21,
    "_isFastLaunch": true,
    "category": "Compute optimized",
    "gpuNum": 0,
    "hideHardwareSpecs": false,
    "memoryGiB": 4,
    "name": "ml.c5.large",
    "vcpuNum": 2
   },
   {
    "_defaultOrder": 22,
    "_isFastLaunch": false,
    "category": "Compute optimized",
    "gpuNum": 0,
    "hideHardwareSpecs": false,
    "memoryGiB": 8,
    "name": "ml.c5.xlarge",
    "vcpuNum": 4
   },
   {
    "_defaultOrder": 23,
    "_isFastLaunch": false,
    "category": "Compute optimized",
    "gpuNum": 0,
    "hideHardwareSpecs": false,
    "memoryGiB": 16,
    "name": "ml.c5.2xlarge",
    "vcpuNum": 8
   },
   {
    "_defaultOrder": 24,
    "_isFastLaunch": false,
    "category": "Compute optimized",
    "gpuNum": 0,
    "hideHardwareSpecs": false,
    "memoryGiB": 32,
    "name": "ml.c5.4xlarge",
    "vcpuNum": 16
   },
   {
    "_defaultOrder": 25,
    "_isFastLaunch": false,
    "category": "Compute optimized",
    "gpuNum": 0,
    "hideHardwareSpecs": false,
    "memoryGiB": 72,
    "name": "ml.c5.9xlarge",
    "vcpuNum": 36
   },
   {
    "_defaultOrder": 26,
    "_isFastLaunch": false,
    "category": "Compute optimized",
    "gpuNum": 0,
    "hideHardwareSpecs": false,
    "memoryGiB": 96,
    "name": "ml.c5.12xlarge",
    "vcpuNum": 48
   },
   {
    "_defaultOrder": 27,
    "_isFastLaunch": false,
    "category": "Compute optimized",
    "gpuNum": 0,
    "hideHardwareSpecs": false,
    "memoryGiB": 144,
    "name": "ml.c5.18xlarge",
    "vcpuNum": 72
   },
   {
    "_defaultOrder": 28,
    "_isFastLaunch": false,
    "category": "Compute optimized",
    "gpuNum": 0,
    "hideHardwareSpecs": false,
    "memoryGiB": 192,
    "name": "ml.c5.24xlarge",
    "vcpuNum": 96
   },
   {
    "_defaultOrder": 29,
    "_isFastLaunch": true,
    "category": "Accelerated computing",
    "gpuNum": 1,
    "hideHardwareSpecs": false,
    "memoryGiB": 16,
    "name": "ml.g4dn.xlarge",
    "vcpuNum": 4
   },
   {
    "_defaultOrder": 30,
    "_isFastLaunch": false,
    "category": "Accelerated computing",
    "gpuNum": 1,
    "hideHardwareSpecs": false,
    "memoryGiB": 32,
    "name": "ml.g4dn.2xlarge",
    "vcpuNum": 8
   },
   {
    "_defaultOrder": 31,
    "_isFastLaunch": false,
    "category": "Accelerated computing",
    "gpuNum": 1,
    "hideHardwareSpecs": false,
    "memoryGiB": 64,
    "name": "ml.g4dn.4xlarge",
    "vcpuNum": 16
   },
   {
    "_defaultOrder": 32,
    "_isFastLaunch": false,
    "category": "Accelerated computing",
    "gpuNum": 1,
    "hideHardwareSpecs": false,
    "memoryGiB": 128,
    "name": "ml.g4dn.8xlarge",
    "vcpuNum": 32
   },
   {
    "_defaultOrder": 33,
    "_isFastLaunch": false,
    "category": "Accelerated computing",
    "gpuNum": 4,
    "hideHardwareSpecs": false,
    "memoryGiB": 192,
    "name": "ml.g4dn.12xlarge",
    "vcpuNum": 48
   },
   {
    "_defaultOrder": 34,
    "_isFastLaunch": false,
    "category": "Accelerated computing",
    "gpuNum": 1,
    "hideHardwareSpecs": false,
    "memoryGiB": 256,
    "name": "ml.g4dn.16xlarge",
    "vcpuNum": 64
   },
   {
    "_defaultOrder": 35,
    "_isFastLaunch": false,
    "category": "Accelerated computing",
    "gpuNum": 1,
    "hideHardwareSpecs": false,
    "memoryGiB": 61,
    "name": "ml.p3.2xlarge",
    "vcpuNum": 8
   },
   {
    "_defaultOrder": 36,
    "_isFastLaunch": false,
    "category": "Accelerated computing",
    "gpuNum": 4,
    "hideHardwareSpecs": false,
    "memoryGiB": 244,
    "name": "ml.p3.8xlarge",
    "vcpuNum": 32
   },
   {
    "_defaultOrder": 37,
    "_isFastLaunch": false,
    "category": "Accelerated computing",
    "gpuNum": 8,
    "hideHardwareSpecs": false,
    "memoryGiB": 488,
    "name": "ml.p3.16xlarge",
    "vcpuNum": 64
   },
   {
    "_defaultOrder": 38,
    "_isFastLaunch": false,
    "category": "Accelerated computing",
    "gpuNum": 8,
    "hideHardwareSpecs": false,
    "memoryGiB": 768,
    "name": "ml.p3dn.24xlarge",
    "vcpuNum": 96
   },
   {
    "_defaultOrder": 39,
    "_isFastLaunch": false,
    "category": "Memory Optimized",
    "gpuNum": 0,
    "hideHardwareSpecs": false,
    "memoryGiB": 16,
    "name": "ml.r5.large",
    "vcpuNum": 2
   },
   {
    "_defaultOrder": 40,
    "_isFastLaunch": false,
    "category": "Memory Optimized",
    "gpuNum": 0,
    "hideHardwareSpecs": false,
    "memoryGiB": 32,
    "name": "ml.r5.xlarge",
    "vcpuNum": 4
   },
   {
    "_defaultOrder": 41,
    "_isFastLaunch": false,
    "category": "Memory Optimized",
    "gpuNum": 0,
    "hideHardwareSpecs": false,
    "memoryGiB": 64,
    "name": "ml.r5.2xlarge",
    "vcpuNum": 8
   },
   {
    "_defaultOrder": 42,
    "_isFastLaunch": false,
    "category": "Memory Optimized",
    "gpuNum": 0,
    "hideHardwareSpecs": false,
    "memoryGiB": 128,
    "name": "ml.r5.4xlarge",
    "vcpuNum": 16
   },
   {
    "_defaultOrder": 43,
    "_isFastLaunch": false,
    "category": "Memory Optimized",
    "gpuNum": 0,
    "hideHardwareSpecs": false,
    "memoryGiB": 256,
    "name": "ml.r5.8xlarge",
    "vcpuNum": 32
   },
   {
    "_defaultOrder": 44,
    "_isFastLaunch": false,
    "category": "Memory Optimized",
    "gpuNum": 0,
    "hideHardwareSpecs": false,
    "memoryGiB": 384,
    "name": "ml.r5.12xlarge",
    "vcpuNum": 48
   },
   {
    "_defaultOrder": 45,
    "_isFastLaunch": false,
    "category": "Memory Optimized",
    "gpuNum": 0,
    "hideHardwareSpecs": false,
    "memoryGiB": 512,
    "name": "ml.r5.16xlarge",
    "vcpuNum": 64
   },
   {
    "_defaultOrder": 46,
    "_isFastLaunch": false,
    "category": "Memory Optimized",
    "gpuNum": 0,
    "hideHardwareSpecs": false,
    "memoryGiB": 768,
    "name": "ml.r5.24xlarge",
    "vcpuNum": 96
   },
   {
    "_defaultOrder": 47,
    "_isFastLaunch": false,
    "category": "Accelerated computing",
    "gpuNum": 1,
    "hideHardwareSpecs": false,
    "memoryGiB": 16,
    "name": "ml.g5.xlarge",
    "vcpuNum": 4
   },
   {
    "_defaultOrder": 48,
    "_isFastLaunch": false,
    "category": "Accelerated computing",
    "gpuNum": 1,
    "hideHardwareSpecs": false,
    "memoryGiB": 32,
    "name": "ml.g5.2xlarge",
    "vcpuNum": 8
   },
   {
    "_defaultOrder": 49,
    "_isFastLaunch": false,
    "category": "Accelerated computing",
    "gpuNum": 1,
    "hideHardwareSpecs": false,
    "memoryGiB": 64,
    "name": "ml.g5.4xlarge",
    "vcpuNum": 16
   },
   {
    "_defaultOrder": 50,
    "_isFastLaunch": false,
    "category": "Accelerated computing",
    "gpuNum": 1,
    "hideHardwareSpecs": false,
    "memoryGiB": 128,
    "name": "ml.g5.8xlarge",
    "vcpuNum": 32
   },
   {
    "_defaultOrder": 51,
    "_isFastLaunch": false,
    "category": "Accelerated computing",
    "gpuNum": 1,
    "hideHardwareSpecs": false,
    "memoryGiB": 256,
    "name": "ml.g5.16xlarge",
    "vcpuNum": 64
   },
   {
    "_defaultOrder": 52,
    "_isFastLaunch": false,
    "category": "Accelerated computing",
    "gpuNum": 4,
    "hideHardwareSpecs": false,
    "memoryGiB": 192,
    "name": "ml.g5.12xlarge",
    "vcpuNum": 48
   },
   {
    "_defaultOrder": 53,
    "_isFastLaunch": false,
    "category": "Accelerated computing",
    "gpuNum": 4,
    "hideHardwareSpecs": false,
    "memoryGiB": 384,
    "name": "ml.g5.24xlarge",
    "vcpuNum": 96
   },
   {
    "_defaultOrder": 54,
    "_isFastLaunch": false,
    "category": "Accelerated computing",
    "gpuNum": 8,
    "hideHardwareSpecs": false,
    "memoryGiB": 768,
    "name": "ml.g5.48xlarge",
    "vcpuNum": 192
   }
  ],
  "colab": {
   "collapsed_sections": [],
   "name": "Graduate_Admission_Prediction.ipynb",
   "provenance": [],
   "toc_visible": true
  },
  "instance_type": "ml.t3.medium",
  "kernelspec": {
   "display_name": "Python 3 (Base Python 3.0)",
   "language": "python",
   "name": "python3__SAGEMAKER_INTERNAL__arn:aws:sagemaker:us-east-1:081325390199:image/sagemaker-base-python-310-v1"
  },
  "language_info": {
   "codemirror_mode": {
    "name": "ipython",
    "version": 3
   },
   "file_extension": ".py",
   "mimetype": "text/x-python",
   "name": "python",
   "nbconvert_exporter": "python",
   "pygments_lexer": "ipython3",
   "version": "3.10.8"
  }
 },
 "nbformat": 4,
 "nbformat_minor": 4
}
