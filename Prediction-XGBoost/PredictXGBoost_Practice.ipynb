{
 "cells": [
  {
   "cell_type": "markdown",
   "id": "85983057-b783-400a-b43f-b647ee41092b",
   "metadata": {},
   "source": [
    "## Predict E-Commerce Order Cancellations with XGBoost and Jupyter Notebooks"
   ]
  },
  {
   "cell_type": "code",
   "execution_count": 2,
   "id": "186d548f-03ee-4a17-9576-8268878d690e",
   "metadata": {},
   "outputs": [],
   "source": [
    "import pandas as pd\n",
    "import numpy as np\n",
    "import xgboost as xgb"
   ]
  },
  {
   "cell_type": "markdown",
   "id": "a52edb44-aed9-4552-8ed4-9a20ce614956",
   "metadata": {},
   "source": [
    "#### Read and preview data"
   ]
  },
  {
   "cell_type": "code",
   "execution_count": 3,
   "id": "306455ac-183b-4cb3-bc6c-6cb54040f26a",
   "metadata": {},
   "outputs": [],
   "source": [
    "order_data = pd.read_csv('OnlineRetail-clean.csv')"
   ]
  },
  {
   "cell_type": "code",
   "execution_count": 4,
   "id": "ac2713bb-556d-433d-948c-7462c0b40373",
   "metadata": {},
   "outputs": [
    {
     "data": {
      "text/html": [
       "<div>\n",
       "<style scoped>\n",
       "    .dataframe tbody tr th:only-of-type {\n",
       "        vertical-align: middle;\n",
       "    }\n",
       "\n",
       "    .dataframe tbody tr th {\n",
       "        vertical-align: top;\n",
       "    }\n",
       "\n",
       "    .dataframe thead th {\n",
       "        text-align: right;\n",
       "    }\n",
       "</style>\n",
       "<table border=\"1\" class=\"dataframe\">\n",
       "  <thead>\n",
       "    <tr style=\"text-align: right;\">\n",
       "      <th></th>\n",
       "      <th>InvoiceNo</th>\n",
       "      <th>StockCode</th>\n",
       "      <th>Description</th>\n",
       "      <th>Quantity</th>\n",
       "      <th>InvoiceDate</th>\n",
       "      <th>UnitPrice</th>\n",
       "      <th>CustomerID</th>\n",
       "      <th>ImputedCustomerID</th>\n",
       "      <th>Country</th>\n",
       "    </tr>\n",
       "  </thead>\n",
       "  <tbody>\n",
       "    <tr>\n",
       "      <th>0</th>\n",
       "      <td>536365</td>\n",
       "      <td>85123A</td>\n",
       "      <td>WHITE HANGING HEART T-LIGHT HOLDER</td>\n",
       "      <td>6</td>\n",
       "      <td>2010-12-01 08:26:00</td>\n",
       "      <td>2.55</td>\n",
       "      <td>17850.0</td>\n",
       "      <td>17850</td>\n",
       "      <td>United Kingdom</td>\n",
       "    </tr>\n",
       "    <tr>\n",
       "      <th>1</th>\n",
       "      <td>536365</td>\n",
       "      <td>71053</td>\n",
       "      <td>WHITE METAL LANTERN</td>\n",
       "      <td>6</td>\n",
       "      <td>2010-12-01 08:26:00</td>\n",
       "      <td>3.39</td>\n",
       "      <td>17850.0</td>\n",
       "      <td>17850</td>\n",
       "      <td>United Kingdom</td>\n",
       "    </tr>\n",
       "    <tr>\n",
       "      <th>2</th>\n",
       "      <td>536365</td>\n",
       "      <td>84406B</td>\n",
       "      <td>CREAM CUPID HEARTS COAT HANGER</td>\n",
       "      <td>8</td>\n",
       "      <td>2010-12-01 08:26:00</td>\n",
       "      <td>2.75</td>\n",
       "      <td>17850.0</td>\n",
       "      <td>17850</td>\n",
       "      <td>United Kingdom</td>\n",
       "    </tr>\n",
       "    <tr>\n",
       "      <th>3</th>\n",
       "      <td>536365</td>\n",
       "      <td>84029G</td>\n",
       "      <td>KNITTED UNION FLAG HOT WATER BOTTLE</td>\n",
       "      <td>6</td>\n",
       "      <td>2010-12-01 08:26:00</td>\n",
       "      <td>3.39</td>\n",
       "      <td>17850.0</td>\n",
       "      <td>17850</td>\n",
       "      <td>United Kingdom</td>\n",
       "    </tr>\n",
       "    <tr>\n",
       "      <th>4</th>\n",
       "      <td>536365</td>\n",
       "      <td>84029E</td>\n",
       "      <td>RED WOOLLY HOTTIE WHITE HEART.</td>\n",
       "      <td>6</td>\n",
       "      <td>2010-12-01 08:26:00</td>\n",
       "      <td>3.39</td>\n",
       "      <td>17850.0</td>\n",
       "      <td>17850</td>\n",
       "      <td>United Kingdom</td>\n",
       "    </tr>\n",
       "  </tbody>\n",
       "</table>\n",
       "</div>"
      ],
      "text/plain": [
       "  InvoiceNo StockCode                          Description  Quantity  \\\n",
       "0    536365    85123A   WHITE HANGING HEART T-LIGHT HOLDER         6   \n",
       "1    536365     71053                  WHITE METAL LANTERN         6   \n",
       "2    536365    84406B       CREAM CUPID HEARTS COAT HANGER         8   \n",
       "3    536365    84029G  KNITTED UNION FLAG HOT WATER BOTTLE         6   \n",
       "4    536365    84029E       RED WOOLLY HOTTIE WHITE HEART.         6   \n",
       "\n",
       "           InvoiceDate  UnitPrice  CustomerID  ImputedCustomerID  \\\n",
       "0  2010-12-01 08:26:00       2.55     17850.0              17850   \n",
       "1  2010-12-01 08:26:00       3.39     17850.0              17850   \n",
       "2  2010-12-01 08:26:00       2.75     17850.0              17850   \n",
       "3  2010-12-01 08:26:00       3.39     17850.0              17850   \n",
       "4  2010-12-01 08:26:00       3.39     17850.0              17850   \n",
       "\n",
       "          Country  \n",
       "0  United Kingdom  \n",
       "1  United Kingdom  \n",
       "2  United Kingdom  \n",
       "3  United Kingdom  \n",
       "4  United Kingdom  "
      ]
     },
     "execution_count": 4,
     "metadata": {},
     "output_type": "execute_result"
    }
   ],
   "source": [
    "order_data.head()"
   ]
  },
  {
   "cell_type": "markdown",
   "id": "1ce6b00b-658f-4085-9aea-28ab98ac6a56",
   "metadata": {},
   "source": [
    "### Preprocessing"
   ]
  },
  {
   "cell_type": "markdown",
   "id": "38b42f3d-4b15-4d9e-b78c-f46c233458b4",
   "metadata": {},
   "source": [
    "#### Creat target dependent variable 'IsCancellation'"
   ]
  },
  {
   "cell_type": "code",
   "execution_count": 6,
   "id": "9fbd1ddd-a582-443d-a457-f13a60beb182",
   "metadata": {},
   "outputs": [],
   "source": [
    "order_data['isCancellation'] = order_data['InvoiceNo'].str.startswith('C')"
   ]
  },
  {
   "cell_type": "code",
   "execution_count": 19,
   "id": "3d15c512-81a9-478e-ba87-f68a9cf6e2df",
   "metadata": {},
   "outputs": [
    {
     "data": {
      "text/html": [
       "<div>\n",
       "<style scoped>\n",
       "    .dataframe tbody tr th:only-of-type {\n",
       "        vertical-align: middle;\n",
       "    }\n",
       "\n",
       "    .dataframe tbody tr th {\n",
       "        vertical-align: top;\n",
       "    }\n",
       "\n",
       "    .dataframe thead th {\n",
       "        text-align: right;\n",
       "    }\n",
       "</style>\n",
       "<table border=\"1\" class=\"dataframe\">\n",
       "  <thead>\n",
       "    <tr style=\"text-align: right;\">\n",
       "      <th></th>\n",
       "      <th>InvoiceNo</th>\n",
       "      <th>StockCode</th>\n",
       "      <th>Description</th>\n",
       "      <th>Quantity</th>\n",
       "      <th>InvoiceDate</th>\n",
       "      <th>UnitPrice</th>\n",
       "      <th>CustomerID</th>\n",
       "      <th>ImputedCustomerID</th>\n",
       "      <th>Country</th>\n",
       "      <th>isCancellation</th>\n",
       "    </tr>\n",
       "  </thead>\n",
       "  <tbody>\n",
       "    <tr>\n",
       "      <th>0</th>\n",
       "      <td>536365</td>\n",
       "      <td>85123A</td>\n",
       "      <td>WHITE HANGING HEART T-LIGHT HOLDER</td>\n",
       "      <td>6</td>\n",
       "      <td>2010-12-01 08:26:00</td>\n",
       "      <td>2.55</td>\n",
       "      <td>17850.0</td>\n",
       "      <td>17850</td>\n",
       "      <td>United Kingdom</td>\n",
       "      <td>False</td>\n",
       "    </tr>\n",
       "    <tr>\n",
       "      <th>1</th>\n",
       "      <td>536365</td>\n",
       "      <td>71053</td>\n",
       "      <td>WHITE METAL LANTERN</td>\n",
       "      <td>6</td>\n",
       "      <td>2010-12-01 08:26:00</td>\n",
       "      <td>3.39</td>\n",
       "      <td>17850.0</td>\n",
       "      <td>17850</td>\n",
       "      <td>United Kingdom</td>\n",
       "      <td>False</td>\n",
       "    </tr>\n",
       "    <tr>\n",
       "      <th>2</th>\n",
       "      <td>536365</td>\n",
       "      <td>84406B</td>\n",
       "      <td>CREAM CUPID HEARTS COAT HANGER</td>\n",
       "      <td>8</td>\n",
       "      <td>2010-12-01 08:26:00</td>\n",
       "      <td>2.75</td>\n",
       "      <td>17850.0</td>\n",
       "      <td>17850</td>\n",
       "      <td>United Kingdom</td>\n",
       "      <td>False</td>\n",
       "    </tr>\n",
       "    <tr>\n",
       "      <th>3</th>\n",
       "      <td>536365</td>\n",
       "      <td>84029G</td>\n",
       "      <td>KNITTED UNION FLAG HOT WATER BOTTLE</td>\n",
       "      <td>6</td>\n",
       "      <td>2010-12-01 08:26:00</td>\n",
       "      <td>3.39</td>\n",
       "      <td>17850.0</td>\n",
       "      <td>17850</td>\n",
       "      <td>United Kingdom</td>\n",
       "      <td>False</td>\n",
       "    </tr>\n",
       "    <tr>\n",
       "      <th>4</th>\n",
       "      <td>536365</td>\n",
       "      <td>84029E</td>\n",
       "      <td>RED WOOLLY HOTTIE WHITE HEART.</td>\n",
       "      <td>6</td>\n",
       "      <td>2010-12-01 08:26:00</td>\n",
       "      <td>3.39</td>\n",
       "      <td>17850.0</td>\n",
       "      <td>17850</td>\n",
       "      <td>United Kingdom</td>\n",
       "      <td>False</td>\n",
       "    </tr>\n",
       "  </tbody>\n",
       "</table>\n",
       "</div>"
      ],
      "text/plain": [
       "  InvoiceNo StockCode                          Description  Quantity  \\\n",
       "0    536365    85123A   WHITE HANGING HEART T-LIGHT HOLDER         6   \n",
       "1    536365     71053                  WHITE METAL LANTERN         6   \n",
       "2    536365    84406B       CREAM CUPID HEARTS COAT HANGER         8   \n",
       "3    536365    84029G  KNITTED UNION FLAG HOT WATER BOTTLE         6   \n",
       "4    536365    84029E       RED WOOLLY HOTTIE WHITE HEART.         6   \n",
       "\n",
       "           InvoiceDate  UnitPrice  CustomerID  ImputedCustomerID  \\\n",
       "0  2010-12-01 08:26:00       2.55     17850.0              17850   \n",
       "1  2010-12-01 08:26:00       3.39     17850.0              17850   \n",
       "2  2010-12-01 08:26:00       2.75     17850.0              17850   \n",
       "3  2010-12-01 08:26:00       3.39     17850.0              17850   \n",
       "4  2010-12-01 08:26:00       3.39     17850.0              17850   \n",
       "\n",
       "          Country  isCancellation  \n",
       "0  United Kingdom           False  \n",
       "1  United Kingdom           False  \n",
       "2  United Kingdom           False  \n",
       "3  United Kingdom           False  \n",
       "4  United Kingdom           False  "
      ]
     },
     "execution_count": 19,
     "metadata": {},
     "output_type": "execute_result"
    }
   ],
   "source": [
    "order_data.head()"
   ]
  },
  {
   "cell_type": "markdown",
   "id": "7f3efabc-b0a7-47f4-beba-de13ad531876",
   "metadata": {},
   "source": [
    "#### Resample and Balance Data\n",
    "\n",
    "Need to make sure that data is not imbalanced and introducing bias to the ML model. \n",
    "We will look at distribution of the target variable and resample and balance as needed. We are aiming to have 10,000 instances or less."
   ]
  },
  {
   "cell_type": "code",
   "execution_count": 9,
   "id": "890c0ed5-a048-4467-8b1f-86321e1fae0c",
   "metadata": {},
   "outputs": [
    {
     "data": {
      "text/plain": [
       "False    527793\n",
       "True       8704\n",
       "Name: isCancellation, dtype: int64"
      ]
     },
     "execution_count": 9,
     "metadata": {},
     "output_type": "execute_result"
    }
   ],
   "source": [
    "order_data['isCancellation'].value_counts()"
   ]
  },
  {
   "cell_type": "markdown",
   "id": "54b1a5f0-850e-40b5-a1ef-55ee5f9b2227",
   "metadata": {},
   "source": [
    "We see that there is an imbalance in values. There are more orders than cancellations. In order to balance the number of samples for cancelled and not cancelled orders, we will resample the data to 50/50 after separating the two instances."
   ]
  },
  {
   "cell_type": "code",
   "execution_count": 20,
   "id": "3f4f7c52-045d-449a-90b3-d54c6de7f59d",
   "metadata": {},
   "outputs": [],
   "source": [
    "orders = order_data[~order_data['isCancellation']]\n",
    "cancels = order_data[order_data['isCancellation']]"
   ]
  },
  {
   "cell_type": "markdown",
   "id": "cec7fbdb-b866-4c43-8275-d1a0af1eedb9",
   "metadata": {},
   "source": [
    "We will under-sample the larger dataset (orders) to match the length of the smaller dataset (cancels)"
   ]
  },
  {
   "cell_type": "code",
   "execution_count": 22,
   "id": "a2aee180-8f6f-42e6-b097-dd6b1495ef8c",
   "metadata": {},
   "outputs": [],
   "source": [
    "orders = orders.sample(n=len(cancels), random_state=12345)"
   ]
  },
  {
   "cell_type": "markdown",
   "id": "358f8c41-8fdb-4a03-b585-a42f30d3363b",
   "metadata": {},
   "source": [
    "We will then combine the two datasets again and reevaluate the instances"
   ]
  },
  {
   "cell_type": "code",
   "execution_count": 23,
   "id": "af97d579-9e56-417d-9291-475e1dfc2110",
   "metadata": {},
   "outputs": [],
   "source": [
    "order_data = pd.concat([orders, cancels], axis=0)"
   ]
  },
  {
   "cell_type": "code",
   "execution_count": 24,
   "id": "c82ec6bc-6eaa-487c-a476-e6683027944d",
   "metadata": {},
   "outputs": [
    {
     "data": {
      "text/plain": [
       "17408"
      ]
     },
     "execution_count": 24,
     "metadata": {},
     "output_type": "execute_result"
    }
   ],
   "source": [
    "len(order_data)"
   ]
  },
  {
   "cell_type": "markdown",
   "id": "7af2e026-3121-4997-880a-48c34b076072",
   "metadata": {},
   "source": [
    "We have more than 10,000 rows of data. We will then reduce the data by 50% through random sampling"
   ]
  },
  {
   "cell_type": "code",
   "execution_count": 26,
   "id": "c10949ca-86d0-42e3-aca8-091e3ea0f1d9",
   "metadata": {},
   "outputs": [],
   "source": [
    "order_data = order_data.sample(frac=0.5, random_state=12345)"
   ]
  },
  {
   "cell_type": "code",
   "execution_count": 27,
   "id": "3a4ea85e-dccc-42a6-b9cd-db8859ed1ed9",
   "metadata": {},
   "outputs": [
    {
     "data": {
      "text/plain": [
       "8704"
      ]
     },
     "execution_count": 27,
     "metadata": {},
     "output_type": "execute_result"
    }
   ],
   "source": [
    "len(order_data)"
   ]
  },
  {
   "cell_type": "code",
   "execution_count": 30,
   "id": "fd91f490-ddd9-459d-b771-c9a5571b5d9c",
   "metadata": {},
   "outputs": [
    {
     "data": {
      "text/plain": [
       "True     4404\n",
       "False    4300\n",
       "Name: isCancellation, dtype: int64"
      ]
     },
     "execution_count": 30,
     "metadata": {},
     "output_type": "execute_result"
    }
   ],
   "source": [
    "order_data['isCancellation'].value_counts()"
   ]
  },
  {
   "cell_type": "markdown",
   "id": "5c268e37-d75b-4192-ad90-2a40fb36485e",
   "metadata": {},
   "source": [
    "Checking our new dataset, we see that there is a fairly even distribution in the target variable and the dataset is below 10,000."
   ]
  },
  {
   "cell_type": "markdown",
   "id": "f916edaf-bb80-4154-a188-140a423ba54c",
   "metadata": {},
   "source": [
    "#### Drop Features that Aren't Useful for our Model"
   ]
  },
  {
   "cell_type": "markdown",
   "id": "1778d695-83d0-4199-9e82-db7627727bcf",
   "metadata": {},
   "source": [
    "Now we will evaluate the features in our dataset for usability and relevance to our ML model. We will drop any variables that are not useful."
   ]
  },
  {
   "cell_type": "code",
   "execution_count": 33,
   "id": "d3e77f3c-53cb-4f01-9b08-78b88434e9aa",
   "metadata": {},
   "outputs": [
    {
     "data": {
      "text/plain": [
       "Index(['StockCode', 'InvoiceDate', 'UnitPrice', 'CustomerID', 'Country',\n",
       "       'isCancellation'],\n",
       "      dtype='object')"
      ]
     },
     "execution_count": 33,
     "metadata": {},
     "output_type": "execute_result"
    }
   ],
   "source": [
    "order_data.columns"
   ]
  },
  {
   "cell_type": "markdown",
   "id": "f8b5a530-2ad1-4447-9e5b-1ac0dfc1546d",
   "metadata": {},
   "source": [
    "InvoiceNo, Description, Quantity, ImputedCustomerID will be removed from the dataset. \n",
    "\n",
    "InvoiceNo is unique for each order and therefore will not provide any meaningful insights into whether an order will be cancelled or not.\n",
    "Description is the text correspondent of the StockCode and will therefore not provide extra value. \n",
    "Quantity varies for each order and contains some bias. Orders may be partial returns and will have a negative number. There is no way to differentiate new orders from partial returns. Therefore, we will drop it.\n",
    "ImputedCustomerID is the same as the CustomerID so do not add value to the dataset. \n"
   ]
  },
  {
   "cell_type": "code",
   "execution_count": 32,
   "id": "1bb16024-ca7e-455a-b9c0-dcb550d8520a",
   "metadata": {},
   "outputs": [],
   "source": [
    "order_data.drop(['InvoiceNo', 'Description', 'Quantity', 'ImputedCustomerID'], axis=1, inplace=True)"
   ]
  },
  {
   "cell_type": "code",
   "execution_count": 34,
   "id": "095994ab-889e-4c2a-826e-08a4386ae0aa",
   "metadata": {},
   "outputs": [
    {
     "data": {
      "text/plain": [
       "Index(['StockCode', 'InvoiceDate', 'UnitPrice', 'CustomerID', 'Country',\n",
       "       'isCancellation'],\n",
       "      dtype='object')"
      ]
     },
     "execution_count": 34,
     "metadata": {},
     "output_type": "execute_result"
    }
   ],
   "source": [
    "order_data.columns"
   ]
  },
  {
   "cell_type": "markdown",
   "id": "811c08de-72e7-4bc0-8e4e-bb81cd353d82",
   "metadata": {},
   "source": [
    "#### Separate Data into Features and Labels\n",
    "\n",
    "We will keep all independent variables/features that are not IsCancelled in the X df\n",
    "We will keep only the target/dependent variable IsCancelled in the y df"
   ]
  },
  {
   "cell_type": "code",
   "execution_count": 35,
   "id": "6ff57dd8-d8f1-4ef7-8eb3-64e762dca56f",
   "metadata": {},
   "outputs": [],
   "source": [
    "X,y = order_data.iloc[:, :-1], order_data.iloc[:, -1]"
   ]
  },
  {
   "cell_type": "code",
   "execution_count": 36,
   "id": "eb39db06-4fd9-4868-b4c7-bbf5c2d97f84",
   "metadata": {},
   "outputs": [
    {
     "data": {
      "text/html": [
       "<div>\n",
       "<style scoped>\n",
       "    .dataframe tbody tr th:only-of-type {\n",
       "        vertical-align: middle;\n",
       "    }\n",
       "\n",
       "    .dataframe tbody tr th {\n",
       "        vertical-align: top;\n",
       "    }\n",
       "\n",
       "    .dataframe thead th {\n",
       "        text-align: right;\n",
       "    }\n",
       "</style>\n",
       "<table border=\"1\" class=\"dataframe\">\n",
       "  <thead>\n",
       "    <tr style=\"text-align: right;\">\n",
       "      <th></th>\n",
       "      <th>StockCode</th>\n",
       "      <th>InvoiceDate</th>\n",
       "      <th>UnitPrice</th>\n",
       "      <th>CustomerID</th>\n",
       "      <th>Country</th>\n",
       "    </tr>\n",
       "  </thead>\n",
       "  <tbody>\n",
       "    <tr>\n",
       "      <th>52732</th>\n",
       "      <td>22617</td>\n",
       "      <td>2011-02-07 10:44:00</td>\n",
       "      <td>4.95</td>\n",
       "      <td>16686.0</td>\n",
       "      <td>United Kingdom</td>\n",
       "    </tr>\n",
       "    <tr>\n",
       "      <th>301657</th>\n",
       "      <td>23370</td>\n",
       "      <td>2011-10-19 13:23:00</td>\n",
       "      <td>1.06</td>\n",
       "      <td>14306.0</td>\n",
       "      <td>United Kingdom</td>\n",
       "    </tr>\n",
       "    <tr>\n",
       "      <th>73782</th>\n",
       "      <td>21843</td>\n",
       "      <td>2011-03-07 12:06:00</td>\n",
       "      <td>10.95</td>\n",
       "      <td>17139.0</td>\n",
       "      <td>United Kingdom</td>\n",
       "    </tr>\n",
       "    <tr>\n",
       "      <th>352619</th>\n",
       "      <td>22739</td>\n",
       "      <td>2011-11-15 14:48:00</td>\n",
       "      <td>1.65</td>\n",
       "      <td>15720.0</td>\n",
       "      <td>United Kingdom</td>\n",
       "    </tr>\n",
       "    <tr>\n",
       "      <th>135427</th>\n",
       "      <td>23172</td>\n",
       "      <td>2011-05-17 11:47:00</td>\n",
       "      <td>1.65</td>\n",
       "      <td>17677.0</td>\n",
       "      <td>United Kingdom</td>\n",
       "    </tr>\n",
       "  </tbody>\n",
       "</table>\n",
       "</div>"
      ],
      "text/plain": [
       "       StockCode          InvoiceDate  UnitPrice  CustomerID         Country\n",
       "52732      22617  2011-02-07 10:44:00       4.95     16686.0  United Kingdom\n",
       "301657     23370  2011-10-19 13:23:00       1.06     14306.0  United Kingdom\n",
       "73782      21843  2011-03-07 12:06:00      10.95     17139.0  United Kingdom\n",
       "352619     22739  2011-11-15 14:48:00       1.65     15720.0  United Kingdom\n",
       "135427     23172  2011-05-17 11:47:00       1.65     17677.0  United Kingdom"
      ]
     },
     "execution_count": 36,
     "metadata": {},
     "output_type": "execute_result"
    }
   ],
   "source": [
    "X.head()"
   ]
  },
  {
   "cell_type": "code",
   "execution_count": 37,
   "id": "81e4d3c7-e5a5-41fe-9566-0ca9a5895c5c",
   "metadata": {},
   "outputs": [
    {
     "data": {
      "text/plain": [
       "52732      True\n",
       "301657    False\n",
       "73782      True\n",
       "352619    False\n",
       "135427     True\n",
       "Name: isCancellation, dtype: bool"
      ]
     },
     "execution_count": 37,
     "metadata": {},
     "output_type": "execute_result"
    }
   ],
   "source": [
    "y.head()"
   ]
  },
  {
   "cell_type": "markdown",
   "id": "d7ce6430-0d06-4c4f-b9a6-77a22a9f011f",
   "metadata": {},
   "source": [
    "#### Convert the InvoiceDate Feature to Month, Day, and Hour Features"
   ]
  },
  {
   "cell_type": "markdown",
   "id": "a064c57b-6a78-4199-b18a-6f3ff851eb29",
   "metadata": {},
   "source": [
    "When we look at the InvoiceDate variable, we see that is a string type object. We would like to separate this variable into Month, Day, and Hour variables for the model to use."
   ]
  },
  {
   "cell_type": "code",
   "execution_count": 38,
   "id": "da47a989-e495-4311-9afa-e64d85943248",
   "metadata": {},
   "outputs": [
    {
     "name": "stdout",
     "output_type": "stream",
     "text": [
      "<class 'pandas.core.series.Series'>\n",
      "Int64Index: 8704 entries, 52732 to 308688\n",
      "Series name: InvoiceDate\n",
      "Non-Null Count  Dtype \n",
      "--------------  ----- \n",
      "8704 non-null   object\n",
      "dtypes: object(1)\n",
      "memory usage: 136.0+ KB\n"
     ]
    }
   ],
   "source": [
    "X['InvoiceDate'].info()"
   ]
  },
  {
   "cell_type": "markdown",
   "id": "648d72c8-bc97-489b-adb1-5990dba68fc3",
   "metadata": {},
   "source": [
    "We will first convert the string type to a datetime type in order to extract the other fields from the variable."
   ]
  },
  {
   "cell_type": "code",
   "execution_count": 39,
   "id": "1bb8f962-8e18-4913-87d8-f72d8bc92d10",
   "metadata": {},
   "outputs": [],
   "source": [
    "X['InvoiceDate'] = pd.to_datetime(X['InvoiceDate'], format='%Y-%m-%d %H:%M:%S')"
   ]
  },
  {
   "cell_type": "markdown",
   "id": "480552f7-bc57-49e9-a8b0-daae575b4d49",
   "metadata": {},
   "source": [
    "Next, we will create Month, Day, Hour fields in the X dataframe, populate the appropriate fields by pulling from the InvoiceDate field, and drop the InvoiceDate field. "
   ]
  },
  {
   "cell_type": "code",
   "execution_count": 40,
   "id": "fbb7a0a1-9615-4685-8246-237118b1efd4",
   "metadata": {},
   "outputs": [],
   "source": [
    "X['Month'] = X['InvoiceDate'].dt.month\n",
    "X['Day'] = X['InvoiceDate'].dt.day\n",
    "X['Hour'] = X['InvoiceDate'].dt.hour "
   ]
  },
  {
   "cell_type": "code",
   "execution_count": 41,
   "id": "6cfb9912-cde6-4db3-9f32-dd950d6d8589",
   "metadata": {},
   "outputs": [],
   "source": [
    "X.drop('InvoiceDate', axis=1, inplace=True)"
   ]
  },
  {
   "cell_type": "code",
   "execution_count": 42,
   "id": "5e6b5bfe-dd2a-4d5f-ba0a-f9e2cfbe9a2b",
   "metadata": {},
   "outputs": [
    {
     "data": {
      "text/html": [
       "<div>\n",
       "<style scoped>\n",
       "    .dataframe tbody tr th:only-of-type {\n",
       "        vertical-align: middle;\n",
       "    }\n",
       "\n",
       "    .dataframe tbody tr th {\n",
       "        vertical-align: top;\n",
       "    }\n",
       "\n",
       "    .dataframe thead th {\n",
       "        text-align: right;\n",
       "    }\n",
       "</style>\n",
       "<table border=\"1\" class=\"dataframe\">\n",
       "  <thead>\n",
       "    <tr style=\"text-align: right;\">\n",
       "      <th></th>\n",
       "      <th>StockCode</th>\n",
       "      <th>UnitPrice</th>\n",
       "      <th>CustomerID</th>\n",
       "      <th>Country</th>\n",
       "      <th>Month</th>\n",
       "      <th>Day</th>\n",
       "      <th>Hour</th>\n",
       "    </tr>\n",
       "  </thead>\n",
       "  <tbody>\n",
       "    <tr>\n",
       "      <th>52732</th>\n",
       "      <td>22617</td>\n",
       "      <td>4.95</td>\n",
       "      <td>16686.0</td>\n",
       "      <td>United Kingdom</td>\n",
       "      <td>2</td>\n",
       "      <td>7</td>\n",
       "      <td>10</td>\n",
       "    </tr>\n",
       "    <tr>\n",
       "      <th>301657</th>\n",
       "      <td>23370</td>\n",
       "      <td>1.06</td>\n",
       "      <td>14306.0</td>\n",
       "      <td>United Kingdom</td>\n",
       "      <td>10</td>\n",
       "      <td>19</td>\n",
       "      <td>13</td>\n",
       "    </tr>\n",
       "    <tr>\n",
       "      <th>73782</th>\n",
       "      <td>21843</td>\n",
       "      <td>10.95</td>\n",
       "      <td>17139.0</td>\n",
       "      <td>United Kingdom</td>\n",
       "      <td>3</td>\n",
       "      <td>7</td>\n",
       "      <td>12</td>\n",
       "    </tr>\n",
       "    <tr>\n",
       "      <th>352619</th>\n",
       "      <td>22739</td>\n",
       "      <td>1.65</td>\n",
       "      <td>15720.0</td>\n",
       "      <td>United Kingdom</td>\n",
       "      <td>11</td>\n",
       "      <td>15</td>\n",
       "      <td>14</td>\n",
       "    </tr>\n",
       "    <tr>\n",
       "      <th>135427</th>\n",
       "      <td>23172</td>\n",
       "      <td>1.65</td>\n",
       "      <td>17677.0</td>\n",
       "      <td>United Kingdom</td>\n",
       "      <td>5</td>\n",
       "      <td>17</td>\n",
       "      <td>11</td>\n",
       "    </tr>\n",
       "  </tbody>\n",
       "</table>\n",
       "</div>"
      ],
      "text/plain": [
       "       StockCode  UnitPrice  CustomerID         Country  Month  Day  Hour\n",
       "52732      22617       4.95     16686.0  United Kingdom      2    7    10\n",
       "301657     23370       1.06     14306.0  United Kingdom     10   19    13\n",
       "73782      21843      10.95     17139.0  United Kingdom      3    7    12\n",
       "352619     22739       1.65     15720.0  United Kingdom     11   15    14\n",
       "135427     23172       1.65     17677.0  United Kingdom      5   17    11"
      ]
     },
     "execution_count": 42,
     "metadata": {},
     "output_type": "execute_result"
    }
   ],
   "source": [
    "X.head()"
   ]
  },
  {
   "cell_type": "markdown",
   "id": "b767fc17-733e-46d2-a607-e53be9b54aae",
   "metadata": {},
   "source": [
    "#### One-Hot Encode the Country and StockCode Features"
   ]
  },
  {
   "cell_type": "markdown",
   "id": "97cc6a89-6147-4591-9f0c-a0211a9be009",
   "metadata": {},
   "source": [
    "The Machine Learning model that we want to use to predict cancellations can only utilize numerical features. "
   ]
  },
  {
   "cell_type": "markdown",
   "id": "2240b3b5-4ffa-47e6-9f21-998bd5d1cc10",
   "metadata": {},
   "source": [
    "##### Country Variable\n",
    "The Country variable is a text feature with various countries. \n",
    "In order to use these values, we will one-hot encode it so that every country has a column where its value is 1 to indicate the country associated with the order."
   ]
  },
  {
   "cell_type": "code",
   "execution_count": 43,
   "id": "30013cf6-0243-479b-a75e-ab8ca813504a",
   "metadata": {},
   "outputs": [
    {
     "data": {
      "text/plain": [
       "United Kingdom     7639\n",
       "Germany             309\n",
       "EIRE                212\n",
       "France              146\n",
       "USA                  57\n",
       "Australia            48\n",
       "Spain                37\n",
       "Switzerland          34\n",
       "Belgium              29\n",
       "Italy                27\n",
       "Japan                23\n",
       "Portugal             20\n",
       "Netherlands          17\n",
       "Norway               13\n",
       "Poland               13\n",
       "Finland               9\n",
       "Channel Islands       9\n",
       "Malta                 8\n",
       "Sweden                8\n",
       "Austria               8\n",
       "Cyprus                8\n",
       "Denmark               6\n",
       "Israel                5\n",
       "Hong Kong             4\n",
       "Unspecified           3\n",
       "Canada                3\n",
       "Singapore             3\n",
       "Lebanon               1\n",
       "Iceland               1\n",
       "Lithuania             1\n",
       "Bahrain               1\n",
       "Czech Republic        1\n",
       "Greece                1\n",
       "Name: Country, dtype: int64"
      ]
     },
     "execution_count": 43,
     "metadata": {},
     "output_type": "execute_result"
    }
   ],
   "source": [
    "X['Country'].value_counts()"
   ]
  },
  {
   "cell_type": "code",
   "execution_count": 45,
   "id": "17fd811f-3294-4761-8b15-d62bf2898dad",
   "metadata": {},
   "outputs": [],
   "source": [
    "# One hot encode Country and drop the Country column after\n",
    "\n",
    "dummies = pd.get_dummies(X['Country'])"
   ]
  },
  {
   "cell_type": "code",
   "execution_count": 47,
   "id": "ab2b381e-805b-4feb-96bf-790b39dd0997",
   "metadata": {},
   "outputs": [
    {
     "data": {
      "text/html": [
       "<div>\n",
       "<style scoped>\n",
       "    .dataframe tbody tr th:only-of-type {\n",
       "        vertical-align: middle;\n",
       "    }\n",
       "\n",
       "    .dataframe tbody tr th {\n",
       "        vertical-align: top;\n",
       "    }\n",
       "\n",
       "    .dataframe thead th {\n",
       "        text-align: right;\n",
       "    }\n",
       "</style>\n",
       "<table border=\"1\" class=\"dataframe\">\n",
       "  <thead>\n",
       "    <tr style=\"text-align: right;\">\n",
       "      <th></th>\n",
       "      <th>Australia</th>\n",
       "      <th>Austria</th>\n",
       "      <th>Bahrain</th>\n",
       "      <th>Belgium</th>\n",
       "      <th>Canada</th>\n",
       "      <th>Channel Islands</th>\n",
       "      <th>Cyprus</th>\n",
       "      <th>Czech Republic</th>\n",
       "      <th>Denmark</th>\n",
       "      <th>EIRE</th>\n",
       "      <th>...</th>\n",
       "      <th>Norway</th>\n",
       "      <th>Poland</th>\n",
       "      <th>Portugal</th>\n",
       "      <th>Singapore</th>\n",
       "      <th>Spain</th>\n",
       "      <th>Sweden</th>\n",
       "      <th>Switzerland</th>\n",
       "      <th>USA</th>\n",
       "      <th>United Kingdom</th>\n",
       "      <th>Unspecified</th>\n",
       "    </tr>\n",
       "  </thead>\n",
       "  <tbody>\n",
       "    <tr>\n",
       "      <th>52732</th>\n",
       "      <td>0</td>\n",
       "      <td>0</td>\n",
       "      <td>0</td>\n",
       "      <td>0</td>\n",
       "      <td>0</td>\n",
       "      <td>0</td>\n",
       "      <td>0</td>\n",
       "      <td>0</td>\n",
       "      <td>0</td>\n",
       "      <td>0</td>\n",
       "      <td>...</td>\n",
       "      <td>0</td>\n",
       "      <td>0</td>\n",
       "      <td>0</td>\n",
       "      <td>0</td>\n",
       "      <td>0</td>\n",
       "      <td>0</td>\n",
       "      <td>0</td>\n",
       "      <td>0</td>\n",
       "      <td>1</td>\n",
       "      <td>0</td>\n",
       "    </tr>\n",
       "    <tr>\n",
       "      <th>301657</th>\n",
       "      <td>0</td>\n",
       "      <td>0</td>\n",
       "      <td>0</td>\n",
       "      <td>0</td>\n",
       "      <td>0</td>\n",
       "      <td>0</td>\n",
       "      <td>0</td>\n",
       "      <td>0</td>\n",
       "      <td>0</td>\n",
       "      <td>0</td>\n",
       "      <td>...</td>\n",
       "      <td>0</td>\n",
       "      <td>0</td>\n",
       "      <td>0</td>\n",
       "      <td>0</td>\n",
       "      <td>0</td>\n",
       "      <td>0</td>\n",
       "      <td>0</td>\n",
       "      <td>0</td>\n",
       "      <td>1</td>\n",
       "      <td>0</td>\n",
       "    </tr>\n",
       "    <tr>\n",
       "      <th>73782</th>\n",
       "      <td>0</td>\n",
       "      <td>0</td>\n",
       "      <td>0</td>\n",
       "      <td>0</td>\n",
       "      <td>0</td>\n",
       "      <td>0</td>\n",
       "      <td>0</td>\n",
       "      <td>0</td>\n",
       "      <td>0</td>\n",
       "      <td>0</td>\n",
       "      <td>...</td>\n",
       "      <td>0</td>\n",
       "      <td>0</td>\n",
       "      <td>0</td>\n",
       "      <td>0</td>\n",
       "      <td>0</td>\n",
       "      <td>0</td>\n",
       "      <td>0</td>\n",
       "      <td>0</td>\n",
       "      <td>1</td>\n",
       "      <td>0</td>\n",
       "    </tr>\n",
       "    <tr>\n",
       "      <th>352619</th>\n",
       "      <td>0</td>\n",
       "      <td>0</td>\n",
       "      <td>0</td>\n",
       "      <td>0</td>\n",
       "      <td>0</td>\n",
       "      <td>0</td>\n",
       "      <td>0</td>\n",
       "      <td>0</td>\n",
       "      <td>0</td>\n",
       "      <td>0</td>\n",
       "      <td>...</td>\n",
       "      <td>0</td>\n",
       "      <td>0</td>\n",
       "      <td>0</td>\n",
       "      <td>0</td>\n",
       "      <td>0</td>\n",
       "      <td>0</td>\n",
       "      <td>0</td>\n",
       "      <td>0</td>\n",
       "      <td>1</td>\n",
       "      <td>0</td>\n",
       "    </tr>\n",
       "    <tr>\n",
       "      <th>135427</th>\n",
       "      <td>0</td>\n",
       "      <td>0</td>\n",
       "      <td>0</td>\n",
       "      <td>0</td>\n",
       "      <td>0</td>\n",
       "      <td>0</td>\n",
       "      <td>0</td>\n",
       "      <td>0</td>\n",
       "      <td>0</td>\n",
       "      <td>0</td>\n",
       "      <td>...</td>\n",
       "      <td>0</td>\n",
       "      <td>0</td>\n",
       "      <td>0</td>\n",
       "      <td>0</td>\n",
       "      <td>0</td>\n",
       "      <td>0</td>\n",
       "      <td>0</td>\n",
       "      <td>0</td>\n",
       "      <td>1</td>\n",
       "      <td>0</td>\n",
       "    </tr>\n",
       "  </tbody>\n",
       "</table>\n",
       "<p>5 rows × 33 columns</p>\n",
       "</div>"
      ],
      "text/plain": [
       "        Australia  Austria  Bahrain  Belgium  Canada  Channel Islands  Cyprus  \\\n",
       "52732           0        0        0        0       0                0       0   \n",
       "301657          0        0        0        0       0                0       0   \n",
       "73782           0        0        0        0       0                0       0   \n",
       "352619          0        0        0        0       0                0       0   \n",
       "135427          0        0        0        0       0                0       0   \n",
       "\n",
       "        Czech Republic  Denmark  EIRE  ...  Norway  Poland  Portugal  \\\n",
       "52732                0        0     0  ...       0       0         0   \n",
       "301657               0        0     0  ...       0       0         0   \n",
       "73782                0        0     0  ...       0       0         0   \n",
       "352619               0        0     0  ...       0       0         0   \n",
       "135427               0        0     0  ...       0       0         0   \n",
       "\n",
       "        Singapore  Spain  Sweden  Switzerland  USA  United Kingdom  \\\n",
       "52732           0      0       0            0    0               1   \n",
       "301657          0      0       0            0    0               1   \n",
       "73782           0      0       0            0    0               1   \n",
       "352619          0      0       0            0    0               1   \n",
       "135427          0      0       0            0    0               1   \n",
       "\n",
       "        Unspecified  \n",
       "52732             0  \n",
       "301657            0  \n",
       "73782             0  \n",
       "352619            0  \n",
       "135427            0  \n",
       "\n",
       "[5 rows x 33 columns]"
      ]
     },
     "execution_count": 47,
     "metadata": {},
     "output_type": "execute_result"
    }
   ],
   "source": [
    "dummies.head()"
   ]
  },
  {
   "cell_type": "code",
   "execution_count": 48,
   "id": "7b83bbe9-7201-4f5d-a06a-3122c3b32bd8",
   "metadata": {},
   "outputs": [],
   "source": [
    "# merge X and dummies dataframes and drop the country feature\n",
    "\n",
    "X = pd.concat([X, dummies], axis=1).drop('Country', axis=1)"
   ]
  },
  {
   "cell_type": "code",
   "execution_count": 49,
   "id": "df91019b-adb7-4ce7-b4a6-855bdbbae192",
   "metadata": {},
   "outputs": [
    {
     "data": {
      "text/html": [
       "<div>\n",
       "<style scoped>\n",
       "    .dataframe tbody tr th:only-of-type {\n",
       "        vertical-align: middle;\n",
       "    }\n",
       "\n",
       "    .dataframe tbody tr th {\n",
       "        vertical-align: top;\n",
       "    }\n",
       "\n",
       "    .dataframe thead th {\n",
       "        text-align: right;\n",
       "    }\n",
       "</style>\n",
       "<table border=\"1\" class=\"dataframe\">\n",
       "  <thead>\n",
       "    <tr style=\"text-align: right;\">\n",
       "      <th></th>\n",
       "      <th>StockCode</th>\n",
       "      <th>UnitPrice</th>\n",
       "      <th>CustomerID</th>\n",
       "      <th>Month</th>\n",
       "      <th>Day</th>\n",
       "      <th>Hour</th>\n",
       "      <th>Australia</th>\n",
       "      <th>Austria</th>\n",
       "      <th>Bahrain</th>\n",
       "      <th>Belgium</th>\n",
       "      <th>...</th>\n",
       "      <th>Norway</th>\n",
       "      <th>Poland</th>\n",
       "      <th>Portugal</th>\n",
       "      <th>Singapore</th>\n",
       "      <th>Spain</th>\n",
       "      <th>Sweden</th>\n",
       "      <th>Switzerland</th>\n",
       "      <th>USA</th>\n",
       "      <th>United Kingdom</th>\n",
       "      <th>Unspecified</th>\n",
       "    </tr>\n",
       "  </thead>\n",
       "  <tbody>\n",
       "    <tr>\n",
       "      <th>52732</th>\n",
       "      <td>22617</td>\n",
       "      <td>4.95</td>\n",
       "      <td>16686.0</td>\n",
       "      <td>2</td>\n",
       "      <td>7</td>\n",
       "      <td>10</td>\n",
       "      <td>0</td>\n",
       "      <td>0</td>\n",
       "      <td>0</td>\n",
       "      <td>0</td>\n",
       "      <td>...</td>\n",
       "      <td>0</td>\n",
       "      <td>0</td>\n",
       "      <td>0</td>\n",
       "      <td>0</td>\n",
       "      <td>0</td>\n",
       "      <td>0</td>\n",
       "      <td>0</td>\n",
       "      <td>0</td>\n",
       "      <td>1</td>\n",
       "      <td>0</td>\n",
       "    </tr>\n",
       "    <tr>\n",
       "      <th>301657</th>\n",
       "      <td>23370</td>\n",
       "      <td>1.06</td>\n",
       "      <td>14306.0</td>\n",
       "      <td>10</td>\n",
       "      <td>19</td>\n",
       "      <td>13</td>\n",
       "      <td>0</td>\n",
       "      <td>0</td>\n",
       "      <td>0</td>\n",
       "      <td>0</td>\n",
       "      <td>...</td>\n",
       "      <td>0</td>\n",
       "      <td>0</td>\n",
       "      <td>0</td>\n",
       "      <td>0</td>\n",
       "      <td>0</td>\n",
       "      <td>0</td>\n",
       "      <td>0</td>\n",
       "      <td>0</td>\n",
       "      <td>1</td>\n",
       "      <td>0</td>\n",
       "    </tr>\n",
       "    <tr>\n",
       "      <th>73782</th>\n",
       "      <td>21843</td>\n",
       "      <td>10.95</td>\n",
       "      <td>17139.0</td>\n",
       "      <td>3</td>\n",
       "      <td>7</td>\n",
       "      <td>12</td>\n",
       "      <td>0</td>\n",
       "      <td>0</td>\n",
       "      <td>0</td>\n",
       "      <td>0</td>\n",
       "      <td>...</td>\n",
       "      <td>0</td>\n",
       "      <td>0</td>\n",
       "      <td>0</td>\n",
       "      <td>0</td>\n",
       "      <td>0</td>\n",
       "      <td>0</td>\n",
       "      <td>0</td>\n",
       "      <td>0</td>\n",
       "      <td>1</td>\n",
       "      <td>0</td>\n",
       "    </tr>\n",
       "    <tr>\n",
       "      <th>352619</th>\n",
       "      <td>22739</td>\n",
       "      <td>1.65</td>\n",
       "      <td>15720.0</td>\n",
       "      <td>11</td>\n",
       "      <td>15</td>\n",
       "      <td>14</td>\n",
       "      <td>0</td>\n",
       "      <td>0</td>\n",
       "      <td>0</td>\n",
       "      <td>0</td>\n",
       "      <td>...</td>\n",
       "      <td>0</td>\n",
       "      <td>0</td>\n",
       "      <td>0</td>\n",
       "      <td>0</td>\n",
       "      <td>0</td>\n",
       "      <td>0</td>\n",
       "      <td>0</td>\n",
       "      <td>0</td>\n",
       "      <td>1</td>\n",
       "      <td>0</td>\n",
       "    </tr>\n",
       "    <tr>\n",
       "      <th>135427</th>\n",
       "      <td>23172</td>\n",
       "      <td>1.65</td>\n",
       "      <td>17677.0</td>\n",
       "      <td>5</td>\n",
       "      <td>17</td>\n",
       "      <td>11</td>\n",
       "      <td>0</td>\n",
       "      <td>0</td>\n",
       "      <td>0</td>\n",
       "      <td>0</td>\n",
       "      <td>...</td>\n",
       "      <td>0</td>\n",
       "      <td>0</td>\n",
       "      <td>0</td>\n",
       "      <td>0</td>\n",
       "      <td>0</td>\n",
       "      <td>0</td>\n",
       "      <td>0</td>\n",
       "      <td>0</td>\n",
       "      <td>1</td>\n",
       "      <td>0</td>\n",
       "    </tr>\n",
       "  </tbody>\n",
       "</table>\n",
       "<p>5 rows × 39 columns</p>\n",
       "</div>"
      ],
      "text/plain": [
       "       StockCode  UnitPrice  CustomerID  Month  Day  Hour  Australia  Austria  \\\n",
       "52732      22617       4.95     16686.0      2    7    10          0        0   \n",
       "301657     23370       1.06     14306.0     10   19    13          0        0   \n",
       "73782      21843      10.95     17139.0      3    7    12          0        0   \n",
       "352619     22739       1.65     15720.0     11   15    14          0        0   \n",
       "135427     23172       1.65     17677.0      5   17    11          0        0   \n",
       "\n",
       "        Bahrain  Belgium  ...  Norway  Poland  Portugal  Singapore  Spain  \\\n",
       "52732         0        0  ...       0       0         0          0      0   \n",
       "301657        0        0  ...       0       0         0          0      0   \n",
       "73782         0        0  ...       0       0         0          0      0   \n",
       "352619        0        0  ...       0       0         0          0      0   \n",
       "135427        0        0  ...       0       0         0          0      0   \n",
       "\n",
       "        Sweden  Switzerland  USA  United Kingdom  Unspecified  \n",
       "52732        0            0    0               1            0  \n",
       "301657       0            0    0               1            0  \n",
       "73782        0            0    0               1            0  \n",
       "352619       0            0    0               1            0  \n",
       "135427       0            0    0               1            0  \n",
       "\n",
       "[5 rows x 39 columns]"
      ]
     },
     "execution_count": 49,
     "metadata": {},
     "output_type": "execute_result"
    }
   ],
   "source": [
    "X.head()"
   ]
  },
  {
   "cell_type": "markdown",
   "id": "9b48cbac-c809-448f-88c2-1dddcd5c7efa",
   "metadata": {},
   "source": [
    "##### StockCode\n",
    "\n",
    "Similarly, while StockCode is in numerical form, the feature indicates a particular product and is therefore a categorical variable. We will make it more useable by converting it into one-hot encoded variables. "
   ]
  },
  {
   "cell_type": "code",
   "execution_count": 51,
   "id": "2ddb9d0e-1143-4d14-80a8-57945bfe0847",
   "metadata": {},
   "outputs": [],
   "source": [
    "dummy = pd.get_dummies(X['StockCode'])"
   ]
  },
  {
   "cell_type": "code",
   "execution_count": 52,
   "id": "9597b574-ca2a-4517-9afe-ed2dfcca179e",
   "metadata": {},
   "outputs": [
    {
     "data": {
      "text/html": [
       "<div>\n",
       "<style scoped>\n",
       "    .dataframe tbody tr th:only-of-type {\n",
       "        vertical-align: middle;\n",
       "    }\n",
       "\n",
       "    .dataframe tbody tr th {\n",
       "        vertical-align: top;\n",
       "    }\n",
       "\n",
       "    .dataframe thead th {\n",
       "        text-align: right;\n",
       "    }\n",
       "</style>\n",
       "<table border=\"1\" class=\"dataframe\">\n",
       "  <thead>\n",
       "    <tr style=\"text-align: right;\">\n",
       "      <th></th>\n",
       "      <th>10002</th>\n",
       "      <th>10125</th>\n",
       "      <th>10133</th>\n",
       "      <th>10135</th>\n",
       "      <th>11001</th>\n",
       "      <th>15034</th>\n",
       "      <th>15036</th>\n",
       "      <th>15039</th>\n",
       "      <th>15044A</th>\n",
       "      <th>15044B</th>\n",
       "      <th>...</th>\n",
       "      <th>90206C</th>\n",
       "      <th>90208</th>\n",
       "      <th>90209B</th>\n",
       "      <th>90209C</th>\n",
       "      <th>90210A</th>\n",
       "      <th>90211B</th>\n",
       "      <th>90214A</th>\n",
       "      <th>90214L</th>\n",
       "      <th>DCGS0004</th>\n",
       "      <th>DCGS0076</th>\n",
       "    </tr>\n",
       "  </thead>\n",
       "  <tbody>\n",
       "    <tr>\n",
       "      <th>52732</th>\n",
       "      <td>0</td>\n",
       "      <td>0</td>\n",
       "      <td>0</td>\n",
       "      <td>0</td>\n",
       "      <td>0</td>\n",
       "      <td>0</td>\n",
       "      <td>0</td>\n",
       "      <td>0</td>\n",
       "      <td>0</td>\n",
       "      <td>0</td>\n",
       "      <td>...</td>\n",
       "      <td>0</td>\n",
       "      <td>0</td>\n",
       "      <td>0</td>\n",
       "      <td>0</td>\n",
       "      <td>0</td>\n",
       "      <td>0</td>\n",
       "      <td>0</td>\n",
       "      <td>0</td>\n",
       "      <td>0</td>\n",
       "      <td>0</td>\n",
       "    </tr>\n",
       "    <tr>\n",
       "      <th>301657</th>\n",
       "      <td>0</td>\n",
       "      <td>0</td>\n",
       "      <td>0</td>\n",
       "      <td>0</td>\n",
       "      <td>0</td>\n",
       "      <td>0</td>\n",
       "      <td>0</td>\n",
       "      <td>0</td>\n",
       "      <td>0</td>\n",
       "      <td>0</td>\n",
       "      <td>...</td>\n",
       "      <td>0</td>\n",
       "      <td>0</td>\n",
       "      <td>0</td>\n",
       "      <td>0</td>\n",
       "      <td>0</td>\n",
       "      <td>0</td>\n",
       "      <td>0</td>\n",
       "      <td>0</td>\n",
       "      <td>0</td>\n",
       "      <td>0</td>\n",
       "    </tr>\n",
       "    <tr>\n",
       "      <th>73782</th>\n",
       "      <td>0</td>\n",
       "      <td>0</td>\n",
       "      <td>0</td>\n",
       "      <td>0</td>\n",
       "      <td>0</td>\n",
       "      <td>0</td>\n",
       "      <td>0</td>\n",
       "      <td>0</td>\n",
       "      <td>0</td>\n",
       "      <td>0</td>\n",
       "      <td>...</td>\n",
       "      <td>0</td>\n",
       "      <td>0</td>\n",
       "      <td>0</td>\n",
       "      <td>0</td>\n",
       "      <td>0</td>\n",
       "      <td>0</td>\n",
       "      <td>0</td>\n",
       "      <td>0</td>\n",
       "      <td>0</td>\n",
       "      <td>0</td>\n",
       "    </tr>\n",
       "    <tr>\n",
       "      <th>352619</th>\n",
       "      <td>0</td>\n",
       "      <td>0</td>\n",
       "      <td>0</td>\n",
       "      <td>0</td>\n",
       "      <td>0</td>\n",
       "      <td>0</td>\n",
       "      <td>0</td>\n",
       "      <td>0</td>\n",
       "      <td>0</td>\n",
       "      <td>0</td>\n",
       "      <td>...</td>\n",
       "      <td>0</td>\n",
       "      <td>0</td>\n",
       "      <td>0</td>\n",
       "      <td>0</td>\n",
       "      <td>0</td>\n",
       "      <td>0</td>\n",
       "      <td>0</td>\n",
       "      <td>0</td>\n",
       "      <td>0</td>\n",
       "      <td>0</td>\n",
       "    </tr>\n",
       "    <tr>\n",
       "      <th>135427</th>\n",
       "      <td>0</td>\n",
       "      <td>0</td>\n",
       "      <td>0</td>\n",
       "      <td>0</td>\n",
       "      <td>0</td>\n",
       "      <td>0</td>\n",
       "      <td>0</td>\n",
       "      <td>0</td>\n",
       "      <td>0</td>\n",
       "      <td>0</td>\n",
       "      <td>...</td>\n",
       "      <td>0</td>\n",
       "      <td>0</td>\n",
       "      <td>0</td>\n",
       "      <td>0</td>\n",
       "      <td>0</td>\n",
       "      <td>0</td>\n",
       "      <td>0</td>\n",
       "      <td>0</td>\n",
       "      <td>0</td>\n",
       "      <td>0</td>\n",
       "    </tr>\n",
       "  </tbody>\n",
       "</table>\n",
       "<p>5 rows × 2234 columns</p>\n",
       "</div>"
      ],
      "text/plain": [
       "        10002  10125  10133  10135  11001  15034  15036  15039  15044A  \\\n",
       "52732       0      0      0      0      0      0      0      0       0   \n",
       "301657      0      0      0      0      0      0      0      0       0   \n",
       "73782       0      0      0      0      0      0      0      0       0   \n",
       "352619      0      0      0      0      0      0      0      0       0   \n",
       "135427      0      0      0      0      0      0      0      0       0   \n",
       "\n",
       "        15044B  ...  90206C  90208  90209B  90209C  90210A  90211B  90214A  \\\n",
       "52732        0  ...       0      0       0       0       0       0       0   \n",
       "301657       0  ...       0      0       0       0       0       0       0   \n",
       "73782        0  ...       0      0       0       0       0       0       0   \n",
       "352619       0  ...       0      0       0       0       0       0       0   \n",
       "135427       0  ...       0      0       0       0       0       0       0   \n",
       "\n",
       "        90214L  DCGS0004  DCGS0076  \n",
       "52732        0         0         0  \n",
       "301657       0         0         0  \n",
       "73782        0         0         0  \n",
       "352619       0         0         0  \n",
       "135427       0         0         0  \n",
       "\n",
       "[5 rows x 2234 columns]"
      ]
     },
     "execution_count": 52,
     "metadata": {},
     "output_type": "execute_result"
    }
   ],
   "source": [
    "dummy.head()"
   ]
  },
  {
   "cell_type": "markdown",
   "id": "4bb62d18-3089-4cb9-9fd3-b1067c1d5761",
   "metadata": {},
   "source": [
    "We will add these columns to the X dataframe and drop the original StockCode column"
   ]
  },
  {
   "cell_type": "code",
   "execution_count": 53,
   "id": "ea8458a9-545c-40e7-b29a-7fa1fe0d7b57",
   "metadata": {},
   "outputs": [],
   "source": [
    "X = pd.concat([X, dummy], axis=1).drop('StockCode', axis=1)"
   ]
  },
  {
   "cell_type": "code",
   "execution_count": 55,
   "id": "6421f5a5-f9e3-4108-a7f9-8459b381c8f2",
   "metadata": {},
   "outputs": [
    {
     "data": {
      "text/html": [
       "<div>\n",
       "<style scoped>\n",
       "    .dataframe tbody tr th:only-of-type {\n",
       "        vertical-align: middle;\n",
       "    }\n",
       "\n",
       "    .dataframe tbody tr th {\n",
       "        vertical-align: top;\n",
       "    }\n",
       "\n",
       "    .dataframe thead th {\n",
       "        text-align: right;\n",
       "    }\n",
       "</style>\n",
       "<table border=\"1\" class=\"dataframe\">\n",
       "  <thead>\n",
       "    <tr style=\"text-align: right;\">\n",
       "      <th></th>\n",
       "      <th>UnitPrice</th>\n",
       "      <th>CustomerID</th>\n",
       "      <th>Month</th>\n",
       "      <th>Day</th>\n",
       "      <th>Hour</th>\n",
       "      <th>Australia</th>\n",
       "      <th>Austria</th>\n",
       "      <th>Bahrain</th>\n",
       "      <th>Belgium</th>\n",
       "      <th>Canada</th>\n",
       "      <th>...</th>\n",
       "      <th>90206C</th>\n",
       "      <th>90208</th>\n",
       "      <th>90209B</th>\n",
       "      <th>90209C</th>\n",
       "      <th>90210A</th>\n",
       "      <th>90211B</th>\n",
       "      <th>90214A</th>\n",
       "      <th>90214L</th>\n",
       "      <th>DCGS0004</th>\n",
       "      <th>DCGS0076</th>\n",
       "    </tr>\n",
       "  </thead>\n",
       "  <tbody>\n",
       "    <tr>\n",
       "      <th>52732</th>\n",
       "      <td>4.95</td>\n",
       "      <td>16686.0</td>\n",
       "      <td>2</td>\n",
       "      <td>7</td>\n",
       "      <td>10</td>\n",
       "      <td>0</td>\n",
       "      <td>0</td>\n",
       "      <td>0</td>\n",
       "      <td>0</td>\n",
       "      <td>0</td>\n",
       "      <td>...</td>\n",
       "      <td>0</td>\n",
       "      <td>0</td>\n",
       "      <td>0</td>\n",
       "      <td>0</td>\n",
       "      <td>0</td>\n",
       "      <td>0</td>\n",
       "      <td>0</td>\n",
       "      <td>0</td>\n",
       "      <td>0</td>\n",
       "      <td>0</td>\n",
       "    </tr>\n",
       "    <tr>\n",
       "      <th>301657</th>\n",
       "      <td>1.06</td>\n",
       "      <td>14306.0</td>\n",
       "      <td>10</td>\n",
       "      <td>19</td>\n",
       "      <td>13</td>\n",
       "      <td>0</td>\n",
       "      <td>0</td>\n",
       "      <td>0</td>\n",
       "      <td>0</td>\n",
       "      <td>0</td>\n",
       "      <td>...</td>\n",
       "      <td>0</td>\n",
       "      <td>0</td>\n",
       "      <td>0</td>\n",
       "      <td>0</td>\n",
       "      <td>0</td>\n",
       "      <td>0</td>\n",
       "      <td>0</td>\n",
       "      <td>0</td>\n",
       "      <td>0</td>\n",
       "      <td>0</td>\n",
       "    </tr>\n",
       "    <tr>\n",
       "      <th>73782</th>\n",
       "      <td>10.95</td>\n",
       "      <td>17139.0</td>\n",
       "      <td>3</td>\n",
       "      <td>7</td>\n",
       "      <td>12</td>\n",
       "      <td>0</td>\n",
       "      <td>0</td>\n",
       "      <td>0</td>\n",
       "      <td>0</td>\n",
       "      <td>0</td>\n",
       "      <td>...</td>\n",
       "      <td>0</td>\n",
       "      <td>0</td>\n",
       "      <td>0</td>\n",
       "      <td>0</td>\n",
       "      <td>0</td>\n",
       "      <td>0</td>\n",
       "      <td>0</td>\n",
       "      <td>0</td>\n",
       "      <td>0</td>\n",
       "      <td>0</td>\n",
       "    </tr>\n",
       "    <tr>\n",
       "      <th>352619</th>\n",
       "      <td>1.65</td>\n",
       "      <td>15720.0</td>\n",
       "      <td>11</td>\n",
       "      <td>15</td>\n",
       "      <td>14</td>\n",
       "      <td>0</td>\n",
       "      <td>0</td>\n",
       "      <td>0</td>\n",
       "      <td>0</td>\n",
       "      <td>0</td>\n",
       "      <td>...</td>\n",
       "      <td>0</td>\n",
       "      <td>0</td>\n",
       "      <td>0</td>\n",
       "      <td>0</td>\n",
       "      <td>0</td>\n",
       "      <td>0</td>\n",
       "      <td>0</td>\n",
       "      <td>0</td>\n",
       "      <td>0</td>\n",
       "      <td>0</td>\n",
       "    </tr>\n",
       "    <tr>\n",
       "      <th>135427</th>\n",
       "      <td>1.65</td>\n",
       "      <td>17677.0</td>\n",
       "      <td>5</td>\n",
       "      <td>17</td>\n",
       "      <td>11</td>\n",
       "      <td>0</td>\n",
       "      <td>0</td>\n",
       "      <td>0</td>\n",
       "      <td>0</td>\n",
       "      <td>0</td>\n",
       "      <td>...</td>\n",
       "      <td>0</td>\n",
       "      <td>0</td>\n",
       "      <td>0</td>\n",
       "      <td>0</td>\n",
       "      <td>0</td>\n",
       "      <td>0</td>\n",
       "      <td>0</td>\n",
       "      <td>0</td>\n",
       "      <td>0</td>\n",
       "      <td>0</td>\n",
       "    </tr>\n",
       "  </tbody>\n",
       "</table>\n",
       "<p>5 rows × 2272 columns</p>\n",
       "</div>"
      ],
      "text/plain": [
       "        UnitPrice  CustomerID  Month  Day  Hour  Australia  Austria  Bahrain  \\\n",
       "52732        4.95     16686.0      2    7    10          0        0        0   \n",
       "301657       1.06     14306.0     10   19    13          0        0        0   \n",
       "73782       10.95     17139.0      3    7    12          0        0        0   \n",
       "352619       1.65     15720.0     11   15    14          0        0        0   \n",
       "135427       1.65     17677.0      5   17    11          0        0        0   \n",
       "\n",
       "        Belgium  Canada  ...  90206C  90208  90209B  90209C  90210A  90211B  \\\n",
       "52732         0       0  ...       0      0       0       0       0       0   \n",
       "301657        0       0  ...       0      0       0       0       0       0   \n",
       "73782         0       0  ...       0      0       0       0       0       0   \n",
       "352619        0       0  ...       0      0       0       0       0       0   \n",
       "135427        0       0  ...       0      0       0       0       0       0   \n",
       "\n",
       "        90214A  90214L  DCGS0004  DCGS0076  \n",
       "52732        0       0         0         0  \n",
       "301657       0       0         0         0  \n",
       "73782        0       0         0         0  \n",
       "352619       0       0         0         0  \n",
       "135427       0       0         0         0  \n",
       "\n",
       "[5 rows x 2272 columns]"
      ]
     },
     "execution_count": 55,
     "metadata": {},
     "output_type": "execute_result"
    }
   ],
   "source": [
    "X.head()"
   ]
  },
  {
   "cell_type": "markdown",
   "id": "3f038e76-458e-4b29-8188-c80793aba14a",
   "metadata": {},
   "source": [
    "### Model Training and Validation"
   ]
  },
  {
   "cell_type": "markdown",
   "id": "55d0d71d-caa7-445b-a10d-2fd494f665f8",
   "metadata": {},
   "source": [
    "The data is now ready to be fed into a machine learning model to train and validate. We will first create a DMatrix from the features (X) and labels (y), define model parameters and hyperparamters, and then train the model."
   ]
  },
  {
   "cell_type": "code",
   "execution_count": 56,
   "id": "bdfdd48f-c39c-4170-b36a-051502687379",
   "metadata": {},
   "outputs": [],
   "source": [
    "orders_dmatrix = xgb.DMatrix(data=X, label=y)"
   ]
  },
  {
   "cell_type": "code",
   "execution_count": 57,
   "id": "90f4feb0-ba4a-497c-b950-41714f51d48f",
   "metadata": {},
   "outputs": [],
   "source": [
    "# Parameters for the XGBoost model\n",
    "params = {'objective': \"binary:logistic\", \"max_depth\":3}"
   ]
  },
  {
   "cell_type": "code",
   "execution_count": 58,
   "id": "b3fa982d-0029-45ad-87ea-beafa8368582",
   "metadata": {},
   "outputs": [],
   "source": [
    "# Use cv function in xgb to train the model and perform k-fold cross validation on its predictions.\n",
    "\n",
    "cv_result = xgb.cv(dtrain=orders_dmatrix, params=params, nfold=3, num_boost_round=5, metrics=\"error\", as_pandas=True, seed=12345)"
   ]
  },
  {
   "cell_type": "markdown",
   "id": "6cfcb811-edf7-4f98-9673-9ef9558c6aa8",
   "metadata": {},
   "source": [
    "### Model Performance and Accuracy"
   ]
  },
  {
   "cell_type": "markdown",
   "id": "2c76b27b-4287-4704-960d-e5061ca29872",
   "metadata": {},
   "source": [
    "Now that the model has been trained and cross-validated, we want to see how accurate it was at predicting. \n",
    "We will extract the test set's mean error from XGBoost's cross-validation results then compute the accuracy of the model as (1-error). "
   ]
  },
  {
   "cell_type": "code",
   "execution_count": 59,
   "id": "6b5f429d-b964-4ad5-9bb5-5bc46ea8297d",
   "metadata": {},
   "outputs": [
    {
     "name": "stdout",
     "output_type": "stream",
     "text": [
      "   train-error-mean  train-error-std  test-error-mean  test-error-std\n",
      "0          0.344439         0.003394         0.344785        0.006774\n",
      "1          0.338235         0.002051         0.344785        0.007525\n",
      "2          0.329906         0.002056         0.330538        0.001542\n",
      "3          0.330997         0.005908         0.338007        0.011880\n",
      "4          0.326517         0.000358         0.332836        0.002855\n"
     ]
    }
   ],
   "source": [
    "print(cv_result)"
   ]
  },
  {
   "cell_type": "code",
   "execution_count": 63,
   "id": "fe8e14a1-449a-42f1-8d4e-583a3a879deb",
   "metadata": {},
   "outputs": [
    {
     "name": "stdout",
     "output_type": "stream",
     "text": [
      "Accuracy:\n",
      "0.6671642097162562\n"
     ]
    }
   ],
   "source": [
    "print(\"Accuracy:\")\n",
    "print(((1-cv_result['test-error-mean']).iloc[-1]))"
   ]
  },
  {
   "cell_type": "markdown",
   "id": "4e096c9c-0e90-40b2-b46b-623364323511",
   "metadata": {},
   "source": [
    "The model is able to accurately predict whether an order will be cancelled or not 66.7% of the time. This is only slightly better than randomly guessing (50% accuracy). We may want to tune our model to get a better predictor score. "
   ]
  }
 ],
 "metadata": {
  "kernelspec": {
   "display_name": "Python 3 (ipykernel)",
   "language": "python",
   "name": "python3"
  },
  "language_info": {
   "codemirror_mode": {
    "name": "ipython",
    "version": 3
   },
   "file_extension": ".py",
   "mimetype": "text/x-python",
   "name": "python",
   "nbconvert_exporter": "python",
   "pygments_lexer": "ipython3",
   "version": "3.8.10"
  }
 },
 "nbformat": 4,
 "nbformat_minor": 5
}
